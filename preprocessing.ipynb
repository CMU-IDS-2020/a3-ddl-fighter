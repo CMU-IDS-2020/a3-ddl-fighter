{
 "cells": [
  {
   "cell_type": "code",
   "execution_count": 1,
   "metadata": {},
   "outputs": [],
   "source": [
    "import pandas as pd"
   ]
  },
  {
   "cell_type": "code",
   "execution_count": 60,
   "metadata": {},
   "outputs": [],
   "source": [
    "import numpy as np"
   ]
  },
  {
   "cell_type": "code",
   "execution_count": 111,
   "metadata": {},
   "outputs": [],
   "source": [
    "df_business = pd.read_json(\"yelp_dataset/yelp_academic_dataset_business.json\", lines=True)"
   ]
  },
  {
   "cell_type": "code",
   "execution_count": 112,
   "metadata": {},
   "outputs": [],
   "source": [
    "df_covid= pd.read_json(\"yelp_dataset/yelp_academic_dataset_covid_features.json\", lines=True)"
   ]
  },
  {
   "cell_type": "code",
   "execution_count": 113,
   "metadata": {},
   "outputs": [
    {
     "data": {
      "text/plain": [
       "(209393,)"
      ]
     },
     "execution_count": 113,
     "metadata": {},
     "output_type": "execute_result"
    }
   ],
   "source": [
    "df_business['business_id'].unique().shape"
   ]
  },
  {
   "cell_type": "code",
   "execution_count": 114,
   "metadata": {},
   "outputs": [
    {
     "data": {
      "text/plain": [
       "(209393,)"
      ]
     },
     "execution_count": 114,
     "metadata": {},
     "output_type": "execute_result"
    }
   ],
   "source": [
    "df_covid['business_id'].unique().shape"
   ]
  },
  {
   "cell_type": "code",
   "execution_count": 115,
   "metadata": {},
   "outputs": [
    {
     "data": {
      "text/html": [
       "<div>\n",
       "<style scoped>\n",
       "    .dataframe tbody tr th:only-of-type {\n",
       "        vertical-align: middle;\n",
       "    }\n",
       "\n",
       "    .dataframe tbody tr th {\n",
       "        vertical-align: top;\n",
       "    }\n",
       "\n",
       "    .dataframe thead th {\n",
       "        text-align: right;\n",
       "    }\n",
       "</style>\n",
       "<table border=\"1\" class=\"dataframe\">\n",
       "  <thead>\n",
       "    <tr style=\"text-align: right;\">\n",
       "      <th></th>\n",
       "      <th>business_id</th>\n",
       "      <th>highlights</th>\n",
       "      <th>delivery or takeout</th>\n",
       "      <th>Grubhub enabled</th>\n",
       "      <th>Call To Action enabled</th>\n",
       "      <th>Request a Quote Enabled</th>\n",
       "      <th>Covid Banner</th>\n",
       "      <th>Temporary Closed Until</th>\n",
       "      <th>Virtual Services Offered</th>\n",
       "    </tr>\n",
       "  </thead>\n",
       "  <tbody>\n",
       "    <tr>\n",
       "      <td>0</td>\n",
       "      <td>9kXRUIkwdDtnAPO6tVo51g</td>\n",
       "      <td>FALSE</td>\n",
       "      <td>FALSE</td>\n",
       "      <td>FALSE</td>\n",
       "      <td>FALSE</td>\n",
       "      <td>FALSE</td>\n",
       "      <td>FALSE</td>\n",
       "      <td>FALSE</td>\n",
       "      <td>FALSE</td>\n",
       "    </tr>\n",
       "    <tr>\n",
       "      <td>1</td>\n",
       "      <td>H6D5HOTfMjrZt7r1EObZ1g</td>\n",
       "      <td>FALSE</td>\n",
       "      <td>FALSE</td>\n",
       "      <td>FALSE</td>\n",
       "      <td>FALSE</td>\n",
       "      <td>FALSE</td>\n",
       "      <td>FALSE</td>\n",
       "      <td>FALSE</td>\n",
       "      <td>FALSE</td>\n",
       "    </tr>\n",
       "    <tr>\n",
       "      <td>2</td>\n",
       "      <td>FYddq7fUtzobZcw4jOJgVA</td>\n",
       "      <td>FALSE</td>\n",
       "      <td>FALSE</td>\n",
       "      <td>FALSE</td>\n",
       "      <td>FALSE</td>\n",
       "      <td>FALSE</td>\n",
       "      <td>FALSE</td>\n",
       "      <td>FALSE</td>\n",
       "      <td>FALSE</td>\n",
       "    </tr>\n",
       "    <tr>\n",
       "      <td>3</td>\n",
       "      <td>c75jLTjlgA9q3gImLEGT6w</td>\n",
       "      <td>FALSE</td>\n",
       "      <td>FALSE</td>\n",
       "      <td>FALSE</td>\n",
       "      <td>FALSE</td>\n",
       "      <td>FALSE</td>\n",
       "      <td>FALSE</td>\n",
       "      <td>FALSE</td>\n",
       "      <td>FALSE</td>\n",
       "    </tr>\n",
       "    <tr>\n",
       "      <td>4</td>\n",
       "      <td>YfzPiY50h_10Sjlg3mnNWQ</td>\n",
       "      <td>FALSE</td>\n",
       "      <td>FALSE</td>\n",
       "      <td>FALSE</td>\n",
       "      <td>FALSE</td>\n",
       "      <td>FALSE</td>\n",
       "      <td>FALSE</td>\n",
       "      <td>FALSE</td>\n",
       "      <td>FALSE</td>\n",
       "    </tr>\n",
       "  </tbody>\n",
       "</table>\n",
       "</div>"
      ],
      "text/plain": [
       "              business_id highlights delivery or takeout Grubhub enabled  \\\n",
       "0  9kXRUIkwdDtnAPO6tVo51g      FALSE               FALSE           FALSE   \n",
       "1  H6D5HOTfMjrZt7r1EObZ1g      FALSE               FALSE           FALSE   \n",
       "2  FYddq7fUtzobZcw4jOJgVA      FALSE               FALSE           FALSE   \n",
       "3  c75jLTjlgA9q3gImLEGT6w      FALSE               FALSE           FALSE   \n",
       "4  YfzPiY50h_10Sjlg3mnNWQ      FALSE               FALSE           FALSE   \n",
       "\n",
       "  Call To Action enabled Request a Quote Enabled Covid Banner  \\\n",
       "0                  FALSE                   FALSE        FALSE   \n",
       "1                  FALSE                   FALSE        FALSE   \n",
       "2                  FALSE                   FALSE        FALSE   \n",
       "3                  FALSE                   FALSE        FALSE   \n",
       "4                  FALSE                   FALSE        FALSE   \n",
       "\n",
       "  Temporary Closed Until Virtual Services Offered  \n",
       "0                  FALSE                    FALSE  \n",
       "1                  FALSE                    FALSE  \n",
       "2                  FALSE                    FALSE  \n",
       "3                  FALSE                    FALSE  \n",
       "4                  FALSE                    FALSE  "
      ]
     },
     "execution_count": 115,
     "metadata": {},
     "output_type": "execute_result"
    }
   ],
   "source": [
    "df_covid.head()"
   ]
  },
  {
   "cell_type": "code",
   "execution_count": 116,
   "metadata": {},
   "outputs": [
    {
     "data": {
      "text/plain": [
       "(209795, 9)"
      ]
     },
     "execution_count": 116,
     "metadata": {},
     "output_type": "execute_result"
    }
   ],
   "source": [
    "df_covid.shape"
   ]
  },
  {
   "cell_type": "code",
   "execution_count": 117,
   "metadata": {},
   "outputs": [],
   "source": [
    "df_covid_reduce = df_covid.drop_duplicates(subset=['business_id'], keep='first')"
   ]
  },
  {
   "cell_type": "code",
   "execution_count": 119,
   "metadata": {},
   "outputs": [],
   "source": [
    "df_join = pd.merge(df_covid_reduce, df_business)"
   ]
  },
  {
   "cell_type": "code",
   "execution_count": 120,
   "metadata": {},
   "outputs": [],
   "source": [
    "df_open_business = df_join[df_join['is_open'] == 1]"
   ]
  },
  {
   "cell_type": "code",
   "execution_count": 121,
   "metadata": {},
   "outputs": [
    {
     "name": "stderr",
     "output_type": "stream",
     "text": [
      "/Users/zhangweiyi/opt/anaconda3/lib/python3.7/site-packages/ipykernel_launcher.py:1: SettingWithCopyWarning: \n",
      "A value is trying to be set on a copy of a slice from a DataFrame\n",
      "\n",
      "See the caveats in the documentation: http://pandas.pydata.org/pandas-docs/stable/user_guide/indexing.html#returning-a-view-versus-a-copy\n",
      "  \"\"\"Entry point for launching an IPython kernel.\n",
      "/Users/zhangweiyi/opt/anaconda3/lib/python3.7/site-packages/pandas/core/generic.py:9114: SettingWithCopyWarning: \n",
      "A value is trying to be set on a copy of a slice from a DataFrame\n",
      "\n",
      "See the caveats in the documentation: http://pandas.pydata.org/pandas-docs/stable/user_guide/indexing.html#returning-a-view-versus-a-copy\n",
      "  self._update_inplace(new_data)\n",
      "/Users/zhangweiyi/opt/anaconda3/lib/python3.7/site-packages/IPython/core/interactiveshell.py:3326: SettingWithCopyWarning: \n",
      "A value is trying to be set on a copy of a slice from a DataFrame\n",
      "\n",
      "See the caveats in the documentation: http://pandas.pydata.org/pandas-docs/stable/user_guide/indexing.html#returning-a-view-versus-a-copy\n",
      "  exec(code_obj, self.user_global_ns, self.user_ns)\n"
     ]
    }
   ],
   "source": [
    "df_open_business['Covid Banner'][df_open_business['Covid Banner'] != 'FALSE'] = 'TRUE'"
   ]
  },
  {
   "cell_type": "code",
   "execution_count": 122,
   "metadata": {},
   "outputs": [
    {
     "data": {
      "text/plain": [
       "array(['FALSE', 'TRUE'], dtype=object)"
      ]
     },
     "execution_count": 122,
     "metadata": {},
     "output_type": "execute_result"
    }
   ],
   "source": [
    "df_open_business['Covid Banner'].unique()"
   ]
  },
  {
   "cell_type": "code",
   "execution_count": 123,
   "metadata": {},
   "outputs": [
    {
     "name": "stderr",
     "output_type": "stream",
     "text": [
      "/Users/zhangweiyi/opt/anaconda3/lib/python3.7/site-packages/ipykernel_launcher.py:1: SettingWithCopyWarning: \n",
      "A value is trying to be set on a copy of a slice from a DataFrame\n",
      "\n",
      "See the caveats in the documentation: http://pandas.pydata.org/pandas-docs/stable/user_guide/indexing.html#returning-a-view-versus-a-copy\n",
      "  \"\"\"Entry point for launching an IPython kernel.\n"
     ]
    }
   ],
   "source": [
    "df_open_business['highlights'][df_open_business['highlights'] != 'FALSE'] = 'TRUE'"
   ]
  },
  {
   "cell_type": "code",
   "execution_count": 124,
   "metadata": {},
   "outputs": [
    {
     "data": {
      "text/plain": [
       "array(['FALSE', 'TRUE'], dtype=object)"
      ]
     },
     "execution_count": 124,
     "metadata": {},
     "output_type": "execute_result"
    }
   ],
   "source": [
    "df_open_business['highlights'].unique()"
   ]
  },
  {
   "cell_type": "code",
   "execution_count": 126,
   "metadata": {},
   "outputs": [
    {
     "name": "stderr",
     "output_type": "stream",
     "text": [
      "/Users/zhangweiyi/opt/anaconda3/lib/python3.7/site-packages/ipykernel_launcher.py:1: SettingWithCopyWarning: \n",
      "A value is trying to be set on a copy of a slice from a DataFrame\n",
      "\n",
      "See the caveats in the documentation: http://pandas.pydata.org/pandas-docs/stable/user_guide/indexing.html#returning-a-view-versus-a-copy\n",
      "  \"\"\"Entry point for launching an IPython kernel.\n",
      "/Users/zhangweiyi/opt/anaconda3/lib/python3.7/site-packages/pandas/core/generic.py:9114: SettingWithCopyWarning: \n",
      "A value is trying to be set on a copy of a slice from a DataFrame\n",
      "\n",
      "See the caveats in the documentation: http://pandas.pydata.org/pandas-docs/stable/user_guide/indexing.html#returning-a-view-versus-a-copy\n",
      "  self._update_inplace(new_data)\n",
      "/Users/zhangweiyi/opt/anaconda3/lib/python3.7/site-packages/IPython/core/interactiveshell.py:3326: SettingWithCopyWarning: \n",
      "A value is trying to be set on a copy of a slice from a DataFrame\n",
      "\n",
      "See the caveats in the documentation: http://pandas.pydata.org/pandas-docs/stable/user_guide/indexing.html#returning-a-view-versus-a-copy\n",
      "  exec(code_obj, self.user_global_ns, self.user_ns)\n"
     ]
    }
   ],
   "source": [
    "df_open_business['Temporary Closed Until'][df_open_business['Temporary Closed Until'] != 'FALSE'] = 'TRUE'"
   ]
  },
  {
   "cell_type": "code",
   "execution_count": 127,
   "metadata": {},
   "outputs": [],
   "source": [
    "df_open_business.to_csv(\"open_business.csv\", index=None)"
   ]
  },
  {
   "cell_type": "code",
   "execution_count": 128,
   "metadata": {},
   "outputs": [
    {
     "data": {
      "text/plain": [
       "business_id                     0\n",
       "highlights                      0\n",
       "delivery or takeout             0\n",
       "Grubhub enabled                 0\n",
       "Call To Action enabled          0\n",
       "Request a Quote Enabled         0\n",
       "Covid Banner                    0\n",
       "Temporary Closed Until          0\n",
       "Virtual Services Offered        0\n",
       "name                            0\n",
       "address                         0\n",
       "city                            0\n",
       "state                           0\n",
       "postal_code                     0\n",
       "latitude                        0\n",
       "longitude                       0\n",
       "stars                           0\n",
       "review_count                    0\n",
       "is_open                         0\n",
       "attributes                  25433\n",
       "categories                    502\n",
       "hours                       31401\n",
       "dtype: int64"
      ]
     },
     "execution_count": 128,
     "metadata": {},
     "output_type": "execute_result"
    }
   ],
   "source": [
    "np.sum(df_open_business.isnull())"
   ]
  },
  {
   "cell_type": "code",
   "execution_count": 39,
   "metadata": {},
   "outputs": [],
   "source": [
    "df_covid_reduce.to_csv(\"business_covid.csv\", index=None)"
   ]
  },
  {
   "cell_type": "code",
   "execution_count": 37,
   "metadata": {},
   "outputs": [
    {
     "data": {
      "text/plain": [
       "array(['FALSE',\n",
       "       \"We are closely monitoring COVID-19 and adjusting how we do business. Please see important information below regarding COVID-19 and how it is impacting the way we do business. We Are Just a Phone Call Away! The CDC's social distancing guidelines have temporarily forced the physical closing of many Leasing Offices across the country. Most of our communities have switched to a non-contact office - but we are still here for you by phone & email. Visit our business information. I am in the market for a new home, can I tour your community with a team member? We are currently utilizing multiple, virtual tour options for prospect. In addition to placing pre-recorded, virtual tours on our websites, many of our communities are also offering 1:1 scheduled tours via video chat, social media, etc. Please contact us directly for more information. For more information on our community updates, or for additional rental resources visit our website: https://www.community-covid-19-updates.com/\",\n",
       "       'As Nevada eases restrictions on small businesses, the health and safety of our customers, employees and guests has remained our highest priority. We have resumed our normal business operation with social distancing guidelines in mind. Thank you for your understanding as we work though these circumstantial times. We look forward to serving you soon.',\n",
       "       ...,\n",
       "       'We are open for take-out during our normal business hours. Thank you!',\n",
       "       \"We are offering free shipping for online orders with code 'freeship'.\\n\\nCurbside pickup can be arranged.\\n\\nTake out is available through third-party delivery.\",\n",
       "       \"Chelsea's Kitchen is excited to be welcoming back our loyal guests on Monday, May 11th, 2020.  To ensure our environments are safe for all, while practicing 6ft distancing, we recommend reservations for ALL party sizes 10 people or less now thru May 25, 2020.\\n\\nPlease see our adjusted hours of operation that are applicable thru May 25, 2020:\\n\\nCurbside Takeout Available:\\nSunday - Thursday 11:00am - 9:00pm\\nFriday & Saturday 11:00am - 10:00pm\\n\\nDine With Us:\\nMonday - Thursday 4:00pm*  - 9:00pm\\nFriday 4:00pm* - 10:00pm\\nSaturday 11:00am - 10:00pm\\nSunday 10:00am - 9:00pm\\n*The bar is open for drinks starting at 3:00pm\"],\n",
       "      dtype=object)"
      ]
     },
     "execution_count": 37,
     "metadata": {},
     "output_type": "execute_result"
    }
   ],
   "source": [
    "df_covid_reduce['Covid Banner'].unique()"
   ]
  },
  {
   "cell_type": "code",
   "execution_count": 34,
   "metadata": {},
   "outputs": [
    {
     "data": {
      "text/plain": [
       "array(['FALSE', 'offers_virtual_tours', 'offers_virtual_consultations',\n",
       "       'offers_virtual_classes', 'offers_virtual_tasting_sessions',\n",
       "       'offers_virtual_performances', 'offers_virtual_experiences',\n",
       "       'offers_virtual_office_space'], dtype=object)"
      ]
     },
     "execution_count": 34,
     "metadata": {},
     "output_type": "execute_result"
    }
   ],
   "source": [
    "df_covid_reduce['Virtual Services Offered'].unique()"
   ]
  },
  {
   "cell_type": "code",
   "execution_count": 35,
   "metadata": {},
   "outputs": [
    {
     "data": {
      "text/plain": [
       "array(['FALSE', '2020-09-01T00:00:00.000Z', '2020-06-30T00:00:00.000Z',\n",
       "       '2020-06-15T00:00:00.000Z', '2020-07-01T00:00:00.000Z',\n",
       "       '2021-01-01T00:00:00.000Z', '2020-07-31T00:00:00.000Z',\n",
       "       '2020-12-31T00:00:00.000Z', '2020-06-16T00:00:00.000Z',\n",
       "       '2020-06-19T00:00:00.000Z', '2020-06-29T00:00:00.000Z',\n",
       "       '2020-07-02T00:00:00.000Z', '2020-08-01T00:00:00.000Z',\n",
       "       '2020-06-12T00:00:00.000Z', '2020-06-18T00:00:00.000Z',\n",
       "       '2020-11-30T00:00:00.000Z', '2020-07-15T00:00:00.000Z',\n",
       "       '2020-06-20T00:00:00.000Z', '2020-10-01T00:00:00.000Z',\n",
       "       '2021-01-04T00:00:00.000Z', '2020-07-30T00:00:00.000Z',\n",
       "       '2020-07-25T00:00:00.000Z', '2020-07-07T00:00:00.000Z',\n",
       "       '2020-06-28T00:00:00.000Z', '2021-02-28T00:00:00.000Z',\n",
       "       '2020-07-09T00:00:00.000Z', '2020-08-21T00:00:00.000Z',\n",
       "       '2020-12-13T00:00:00.000Z', '2020-07-20T00:00:00.000Z',\n",
       "       '2020-07-04T00:00:00.000Z', '2020-06-13T00:00:00.000Z',\n",
       "       '2020-07-10T00:00:00.000Z', '2020-06-11T00:00:00.000Z',\n",
       "       '2020-06-22T00:00:00.000Z', '2021-05-31T00:00:00.000Z',\n",
       "       '2020-07-05T00:00:00.000Z', '2020-08-31T00:00:00.000Z',\n",
       "       '2020-06-23T00:00:00.000Z', '2020-07-03T00:00:00.000Z',\n",
       "       '2020-07-22T00:00:00.000Z', '2020-09-14T00:00:00.000Z',\n",
       "       '2020-07-08T00:00:00.000Z', '2020-07-06T00:00:00.000Z',\n",
       "       '2020-09-30T00:00:00.000Z', '2020-08-15T00:00:00.000Z',\n",
       "       '2020-08-03T00:00:00.000Z', '2020-08-17T00:00:00.000Z',\n",
       "       '2020-08-08T00:00:00.000Z', '2020-06-14T00:00:00.000Z',\n",
       "       '2020-06-27T00:00:00.000Z', '2020-06-26T00:00:00.000Z',\n",
       "       '2020-11-27T00:00:00.000Z', '2021-02-01T00:00:00.000Z',\n",
       "       '2020-09-18T00:00:00.000Z', '2020-12-28T00:00:00.000Z',\n",
       "       '2020-06-17T00:00:00.000Z', '2020-09-08T00:00:00.000Z',\n",
       "       '2020-06-24T00:00:00.000Z', '2020-11-14T00:00:00.000Z',\n",
       "       '2020-12-01T00:00:00.000Z', '2021-06-30T00:00:00.000Z',\n",
       "       '2020-12-18T00:00:00.000Z', '2020-07-13T00:00:00.000Z',\n",
       "       '2021-05-27T00:00:00.000Z', '2021-03-19T00:00:00.000Z',\n",
       "       '2021-04-01T00:00:00.000Z', '2020-11-16T00:00:00.000Z',\n",
       "       '2020-11-01T00:00:00.000Z', '2020-08-26T00:00:00.000Z',\n",
       "       '2021-01-15T00:00:00.000Z', '2020-08-27T00:00:00.000Z',\n",
       "       '2020-10-31T00:00:00.000Z', '2021-06-01T00:00:00.000Z',\n",
       "       '2020-12-12T00:00:00.000Z', '2020-07-11T00:00:00.000Z',\n",
       "       '2021-03-10T00:00:00.000Z', '2020-09-05T00:00:00.000Z',\n",
       "       '2022-09-21T00:00:00.000Z', '2020-08-10T00:00:00.000Z',\n",
       "       '2021-04-29T00:00:00.000Z', '2020-08-04T00:00:00.000Z',\n",
       "       '2020-08-05T00:00:00.000Z', '2020-09-03T00:00:00.000Z',\n",
       "       '2021-06-22T00:00:00.000Z', '2020-08-02T00:00:00.000Z',\n",
       "       '2024-06-14T00:00:00.000Z', '2021-03-05T00:00:00.000Z',\n",
       "       '2030-04-01T00:00:00.000Z', '2021-12-31T00:00:00.000Z'],\n",
       "      dtype=object)"
      ]
     },
     "execution_count": 35,
     "metadata": {},
     "output_type": "execute_result"
    }
   ],
   "source": [
    "df_covid_reduce['Temporary Closed Until'].unique()"
   ]
  },
  {
   "cell_type": "code",
   "execution_count": 8,
   "metadata": {},
   "outputs": [
    {
     "data": {
      "text/html": [
       "<div>\n",
       "<style scoped>\n",
       "    .dataframe tbody tr th:only-of-type {\n",
       "        vertical-align: middle;\n",
       "    }\n",
       "\n",
       "    .dataframe tbody tr th {\n",
       "        vertical-align: top;\n",
       "    }\n",
       "\n",
       "    .dataframe thead th {\n",
       "        text-align: right;\n",
       "    }\n",
       "</style>\n",
       "<table border=\"1\" class=\"dataframe\">\n",
       "  <thead>\n",
       "    <tr style=\"text-align: right;\">\n",
       "      <th></th>\n",
       "      <th>business_id</th>\n",
       "      <th>highlights</th>\n",
       "      <th>delivery or takeout</th>\n",
       "      <th>Grubhub enabled</th>\n",
       "      <th>Call To Action enabled</th>\n",
       "      <th>Request a Quote Enabled</th>\n",
       "      <th>Covid Banner</th>\n",
       "      <th>Temporary Closed Until</th>\n",
       "      <th>Virtual Services Offered</th>\n",
       "    </tr>\n",
       "  </thead>\n",
       "  <tbody>\n",
       "    <tr>\n",
       "      <td>0</td>\n",
       "      <td>9kXRUIkwdDtnAPO6tVo51g</td>\n",
       "      <td>FALSE</td>\n",
       "      <td>FALSE</td>\n",
       "      <td>FALSE</td>\n",
       "      <td>FALSE</td>\n",
       "      <td>FALSE</td>\n",
       "      <td>FALSE</td>\n",
       "      <td>FALSE</td>\n",
       "      <td>FALSE</td>\n",
       "    </tr>\n",
       "    <tr>\n",
       "      <td>1</td>\n",
       "      <td>H6D5HOTfMjrZt7r1EObZ1g</td>\n",
       "      <td>FALSE</td>\n",
       "      <td>FALSE</td>\n",
       "      <td>FALSE</td>\n",
       "      <td>FALSE</td>\n",
       "      <td>FALSE</td>\n",
       "      <td>FALSE</td>\n",
       "      <td>FALSE</td>\n",
       "      <td>FALSE</td>\n",
       "    </tr>\n",
       "    <tr>\n",
       "      <td>2</td>\n",
       "      <td>FYddq7fUtzobZcw4jOJgVA</td>\n",
       "      <td>FALSE</td>\n",
       "      <td>FALSE</td>\n",
       "      <td>FALSE</td>\n",
       "      <td>FALSE</td>\n",
       "      <td>FALSE</td>\n",
       "      <td>FALSE</td>\n",
       "      <td>FALSE</td>\n",
       "      <td>FALSE</td>\n",
       "    </tr>\n",
       "    <tr>\n",
       "      <td>3</td>\n",
       "      <td>c75jLTjlgA9q3gImLEGT6w</td>\n",
       "      <td>FALSE</td>\n",
       "      <td>FALSE</td>\n",
       "      <td>FALSE</td>\n",
       "      <td>FALSE</td>\n",
       "      <td>FALSE</td>\n",
       "      <td>FALSE</td>\n",
       "      <td>FALSE</td>\n",
       "      <td>FALSE</td>\n",
       "    </tr>\n",
       "    <tr>\n",
       "      <td>4</td>\n",
       "      <td>YfzPiY50h_10Sjlg3mnNWQ</td>\n",
       "      <td>FALSE</td>\n",
       "      <td>FALSE</td>\n",
       "      <td>FALSE</td>\n",
       "      <td>FALSE</td>\n",
       "      <td>FALSE</td>\n",
       "      <td>FALSE</td>\n",
       "      <td>FALSE</td>\n",
       "      <td>FALSE</td>\n",
       "    </tr>\n",
       "  </tbody>\n",
       "</table>\n",
       "</div>"
      ],
      "text/plain": [
       "              business_id highlights delivery or takeout Grubhub enabled  \\\n",
       "0  9kXRUIkwdDtnAPO6tVo51g      FALSE               FALSE           FALSE   \n",
       "1  H6D5HOTfMjrZt7r1EObZ1g      FALSE               FALSE           FALSE   \n",
       "2  FYddq7fUtzobZcw4jOJgVA      FALSE               FALSE           FALSE   \n",
       "3  c75jLTjlgA9q3gImLEGT6w      FALSE               FALSE           FALSE   \n",
       "4  YfzPiY50h_10Sjlg3mnNWQ      FALSE               FALSE           FALSE   \n",
       "\n",
       "  Call To Action enabled Request a Quote Enabled Covid Banner  \\\n",
       "0                  FALSE                   FALSE        FALSE   \n",
       "1                  FALSE                   FALSE        FALSE   \n",
       "2                  FALSE                   FALSE        FALSE   \n",
       "3                  FALSE                   FALSE        FALSE   \n",
       "4                  FALSE                   FALSE        FALSE   \n",
       "\n",
       "  Temporary Closed Until Virtual Services Offered  \n",
       "0                  FALSE                    FALSE  \n",
       "1                  FALSE                    FALSE  \n",
       "2                  FALSE                    FALSE  \n",
       "3                  FALSE                    FALSE  \n",
       "4                  FALSE                    FALSE  "
      ]
     },
     "execution_count": 8,
     "metadata": {},
     "output_type": "execute_result"
    }
   ],
   "source": [
    "df_covid.head()"
   ]
  },
  {
   "cell_type": "code",
   "execution_count": 63,
   "metadata": {},
   "outputs": [
    {
     "data": {
      "text/plain": [
       "array(['SC', 'NV', 'AZ', 'PA', 'AB', 'IL', 'ON', 'NC', 'QC', 'OH', 'WI',\n",
       "       'CA', 'HPL', 'BC', 'NY', 'VT', 'VA', 'AL', 'WA', 'CT', 'TX', 'YT',\n",
       "       'FL', 'DOW', 'MI', 'NE', 'UT', 'OR', 'GA', 'DUR', 'MB', 'HI', 'MO',\n",
       "       'CO'], dtype=object)"
      ]
     },
     "execution_count": 63,
     "metadata": {},
     "output_type": "execute_result"
    }
   ],
   "source": [
    "df_open_business['state'].unique()"
   ]
  },
  {
   "cell_type": "code",
   "execution_count": 65,
   "metadata": {},
   "outputs": [
    {
     "data": {
      "text/plain": [
       "array(['Calgary', 'Rockyview', 'Chestermere', 'Airdrie',\n",
       "       'Rocky View County', 'Dorval', 'Evergreen', 'Medicine Hat',\n",
       "       'Rocky View', 'Rocky View No. 44', '', 'Highland Park',\n",
       "       'Southeast Calgary', 'Northwest Calgary', 'Midnapore', 'Balzac',\n",
       "       'Symons Valley', 'calgary', 'Northeast Calgary', 'Downtown',\n",
       "       'North York', 'Sage Hill', 'SW Calgary', 'Edmonton',\n",
       "       'East Calgary', 'Rockyview County', 'Rockey View', 'Delacour',\n",
       "       'Division No. 6', 'CALGARY', 'Sainte-Adèle', 'Beltline'],\n",
       "      dtype=object)"
      ]
     },
     "execution_count": 65,
     "metadata": {},
     "output_type": "execute_result"
    }
   ],
   "source": [
    "df_open_business['city'][df_open_business['state'] == 'AB'].unique()"
   ]
  },
  {
   "cell_type": "code",
   "execution_count": 66,
   "metadata": {},
   "outputs": [
    {
     "data": {
      "text/plain": [
       "array(['Markham', 'Richmond Hill'], dtype=object)"
      ]
     },
     "execution_count": 66,
     "metadata": {},
     "output_type": "execute_result"
    }
   ],
   "source": [
    "df_open_business['city'][df_open_business['state'] == 'BC'].unique()"
   ]
  },
  {
   "cell_type": "code",
   "execution_count": 67,
   "metadata": {},
   "outputs": [
    {
     "data": {
      "text/plain": [
       "array(['Down'], dtype=object)"
      ]
     },
     "execution_count": 67,
     "metadata": {},
     "output_type": "execute_result"
    }
   ],
   "source": [
    "df_open_business['city'][df_open_business['state'] == 'DOW'].unique()"
   ]
  },
  {
   "cell_type": "code",
   "execution_count": 69,
   "metadata": {},
   "outputs": [
    {
     "data": {
      "text/plain": [
       "array(['Thornhill'], dtype=object)"
      ]
     },
     "execution_count": 69,
     "metadata": {},
     "output_type": "execute_result"
    }
   ],
   "source": [
    "df_open_business['city'][df_open_business['state'] == 'DUR'].unique()"
   ]
  },
  {
   "cell_type": "code",
   "execution_count": 70,
   "metadata": {},
   "outputs": [
    {
     "data": {
      "text/plain": [
       "array(['Hartlepool'], dtype=object)"
      ]
     },
     "execution_count": 70,
     "metadata": {},
     "output_type": "execute_result"
    }
   ],
   "source": [
    "df_open_business['city'][df_open_business['state'] == 'HPL'].unique() # England"
   ]
  },
  {
   "cell_type": "code",
   "execution_count": 71,
   "metadata": {},
   "outputs": [
    {
     "data": {
      "text/plain": [
       "array(['Calgary'], dtype=object)"
      ]
     },
     "execution_count": 71,
     "metadata": {},
     "output_type": "execute_result"
    }
   ],
   "source": [
    "df_open_business['city'][df_open_business['state'] == 'MB'].unique()"
   ]
  },
  {
   "cell_type": "code",
   "execution_count": 72,
   "metadata": {},
   "outputs": [
    {
     "data": {
      "text/plain": [
       "array(['Toronto', 'Concord', 'Newmarket', 'Richmond Hill', 'Mississauga',\n",
       "       'Scarborough', 'Markham', 'North York', 'Brampton', 'Vaughan',\n",
       "       'Halton Hills', 'Etobicoke', 'Aurora', 'Pickering', 'Thornhill',\n",
       "       'Woodbridge', 'Hamilton', 'York', 'Unionville', 'East York',\n",
       "       'Whitchurch-Stouffville', 'Whitby', 'Oakville', 'Ajax', 'Gormley',\n",
       "       'Port Credit', 'Stouffville', 'King City', 'Caledon', 'Oak Ridges',\n",
       "       'King', 'Bolton', 'Georgetown', 'Schomberg', 'Milton', 'Tottenham',\n",
       "       'Kettleby', 'Bradford West Gwillimbury', 'Maple', 'Nobleton',\n",
       "       'West Toronto', 'Bradford', 'Beeton', 'Caledon East', 'Uxbridge',\n",
       "       'Downtown Toronto', 'Malton', 'Rexdale', 'Mississuaga',\n",
       "       'Inglewood', 'Missisauga', 'Leaside', 'Zephyr', 'Markham, ON',\n",
       "       'East Gwillimbury', 'Bond Head', 'River Drive Park', 'Clarkson',\n",
       "       'Cooksville', 'Woodbridge (Vaughan)', 'Downsview', 'markham',\n",
       "       'Brooklin', 'East Mississauga', 'Don Mills',\n",
       "       'York Regional Municipality', 'TORONTO - FRONT ST (OT)',\n",
       "       'Holland Landing', 'North Toronto', 'Sharon', 'Streetsville',\n",
       "       'toronto', 'Richmond Hil', 'Woodbrigde', 'TORONTO - DANFORTH (OT)',\n",
       "       'Thornhil', 'TORONTO', 'East Gwillimburry', 'Ansnorveldt',\n",
       "       'North york', 'NEWMARKET (OT)', 'Etobicoke,',\n",
       "       'Durham Regional Municipality', 'Centre Island', 'ETOBICOKE',\n",
       "       'Toronto-North York', 'Tornto', 'NORTH YORK', 'Norval', 'Yorkdale',\n",
       "       'Etobiicoke', 'Willowdale', 'Weston', 'Queensville',\n",
       "       'Toronto Division', 'Kleinburg', 'Goodwood', 'Toronto-Etobicoke',\n",
       "       'Mississaugua', 'Scarobrough', 'Thorncliffe Park',\n",
       "       'Pickering Ajax Whitby', 'Scarbrough', 'Glen Williams',\n",
       "       'Mount Albert', 'Ashburn', 'NEWMARKET', 'Leslieville', 'NorthYork',\n",
       "       'Claremont', 'Ontario', 'Agincourt', 'North  York',\n",
       "       'East Gwilimbury', 'Waterloo', 'oakville', 'Northyork',\n",
       "       'Richmonhill', 'Brampton FKA Bramalea', 'Oakvile', 'Yorkville',\n",
       "       'Whtiby', 'Etobocoke', 'Toronto-West', 'Queen West', 'East Credit',\n",
       "       'Etibicoke', 'Scarborough W', 'etobicoke', 'Oakridges',\n",
       "       'Burlington', 'OAKVILLE', 'East Hawkesbury'], dtype=object)"
      ]
     },
     "execution_count": 72,
     "metadata": {},
     "output_type": "execute_result"
    }
   ],
   "source": [
    "df_open_business['city'][df_open_business['state'] == 'ON'].unique()"
   ]
  },
  {
   "cell_type": "code",
   "execution_count": 73,
   "metadata": {},
   "outputs": [
    {
     "data": {
      "text/plain": [
       "array(['Saint-Jean-sur-Richelieu', 'Pointe-Claire', 'Montréal', 'Dorval',\n",
       "       'Saint-Sauveur', 'Saint-Lambert', 'Verdun', 'Dollard-des-Ormeaux',\n",
       "       'Rosemere', 'Sainte-Anne-de-Bellevue', 'Westmount', 'Laval',\n",
       "       'Lasalle', 'Kirkland', 'Blainville', 'Lachine', 'Terrebonne',\n",
       "       'Mont-Saint-Hilaire', 'Saint-Leonard', 'Montreal', 'Saint-Hubert',\n",
       "       \"L'Assomption\", 'Outremont', 'Lacolle', 'Pierrefonds',\n",
       "       'Dollard-des Ormeaux', 'Saint-Bernard-de-Lacolle', 'Pont-Viau',\n",
       "       'Île-des-Soeurs', 'Saint-Lazare', 'Vaudreuil-Dorion', 'Longueuil',\n",
       "       'Brossard', 'Saint-Léonard', 'Saint-Laurent', 'LaSalle', 'Lachute',\n",
       "       'Sainte-Julie', 'Chambly', 'Oka', 'Saint-Charles-Borromée',\n",
       "       'Salaberry-de-Valleyfield', 'Saint-Jérôme', 'Rigaud', 'Farnham',\n",
       "       'Boisbriand', 'Saint-Eustache', 'Pointe-Calumet', 'Saint-laurent',\n",
       "       'Dollard-Des-Ormeaux', 'Anjou', \"L'Île-Perrot\", 'Sainte-Adèle',\n",
       "       'Mont-Royal', 'Boucherville', 'Vaudreuil', 'La Prairie',\n",
       "       'Repentigny', 'Sainte-Marguerite-Esterel', 'Greenfield Park',\n",
       "       'Rosemère', 'Châteauguay', 'La Salle', 'St-Leonard',\n",
       "       'St-Bruno-de-Montarville', 'Sainte-Thérèse', 'Mont-Saint-Grégoire',\n",
       "       'Saint-Hyacinthe', 'Beaconsfield', 'Montréal-Nord',\n",
       "       'Sainte-Catherine', 'Fabreville', 'Saint-Basile-le-Grand',\n",
       "       'Cote Saint-Luc', 'Joliette', 'Sainte-Anne-des-Plaines',\n",
       "       'Sainte-Anne-De-Bellevue', 'Point-Claire', 'Sainte-Genevieve',\n",
       "       'Morin-Heights', 'Saint-Bruno', 'Montréal-Ouest', 'Vimont',\n",
       "       'Sainte-Adele', 'Ange-Gardien', 'Beloeil', 'Les Coteaux',\n",
       "       'Lavaltrie', 'Saint Leonard', 'Napierville', 'Saint - Hyacinthe',\n",
       "       'Sainte-Madeleine', 'Saint-Bruno-de-Montarville', 'Hudson',\n",
       "       'Roxboro', 'Saint-Joseph-Du-Lac', \"Notre-Dame-de-l'Ile-Perrot\",\n",
       "       'Ville Saint Laurent', 'Pointe-Aux-Trembles', 'Ormstown',\n",
       "       'Chateauguay', 'Mirabel', 'Saint-Hippolyte', 'Bois-des-Filion',\n",
       "       'Ville Saint-Laurent', 'McMasterville', 'St-Jerome',\n",
       "       'Saint-Jerome', 'Saint-Joseph-du-Lac', 'Kahnawake', 'Varennes',\n",
       "       'Montral', 'Hampstead', 'St Leonard', 'Saint-Sauveur-Des-Monts',\n",
       "       'St-Jean-sur-Richelieu', 'Dollard-Des Ormeaux', 'Charlemagne',\n",
       "       'Hemmingford', 'Venise-en-Québec', 'Duvernay', 'Île-Perrot',\n",
       "       'Saint-Sauveur-des-Monts', 'Deux-Montagnes', 'Les Cèdres', 'Noyan',\n",
       "       'Ste-Dorothée', 'Salaberry-De-Valleyfield', 'Mount Royal',\n",
       "       'Bedford', \"L'Île-des-Sœurs\", 'Sainte-Therese', 'Lachenaie',\n",
       "       \"De l'Eglise\", 'Montreal-Ouest', 'Coteau-du-Lac', 'Saint Laurent',\n",
       "       'Sainte-Marguerite-du-lac-Masson', 'Delson',\n",
       "       \"Notre-Dame-De-L'ile-Perrot\", 'Prévost', \"L'assomption\", 'Candiac',\n",
       "       'Côte-Saint-Luc', 'Côte Saint-Luc', 'Cote-Saint-Luc',\n",
       "       'Saint-Marc-sur-Richelieu', 'Marieville', 'Saint Hubert',\n",
       "       'Mascouche', 'Chatauguay', 'Quartier des Spectacles',\n",
       "       \"Saint-Roch-de-l'Achigan\", 'Montreal-Nord', 'Rawdon',\n",
       "       'Saint-Jean-Sur-Richelieu', 'Piedmont', 'St-Lazare', 'RŽpentigny',\n",
       "       'Sainte-Geneviève', 'Estérel', 'Rougemont', \"L'ile-Perrot\",\n",
       "       'Maple Grove', 'Saint-Henri', 'Communauté-Urbaine-de-Montréal',\n",
       "       'Mont St-Hilaire', 'Saint-Charles-Borromee', 'Montreal-West',\n",
       "       'Chertsey', 'Godmanchester', 'Pointe Claire', \"L'Île-Bizard\",\n",
       "       'St-Clet', 'Sainte-Marthe', \"L'ile-Bizard\", 'Greenfield-Park',\n",
       "       'Saint-Liboire', 'St-Jean Sur Richelieu', 'Mercier', 'Beauharnois',\n",
       "       'Saint-Esprit', 'Otterburn Park', 'Saint-Basile-Le-Grand',\n",
       "       'Saint-Pierre-de-Véronne-à-Pike-River', 'St. Jean Sur Richelieu',\n",
       "       'Saint-Constant', 'Old Port of Montreal', 'Val-Morin', 'Ste-Rose',\n",
       "       'Sainte-Marguerite-du-Lac-Masson', 'Montrèal', 'Saint-Philippe',\n",
       "       'Le Sud-Ouest', 'Québec', 'Pincourt', 'West Montréal', 'Belœil',\n",
       "       'Pointe-aux-Trembles', 'Sainte-thérèse', 'St-Sauveur',\n",
       "       'Laval, Pont Viau', 'Kirlkland',\n",
       "       'Deux-Montagnes Regional County Municipality', 'Coteau-Du-Lac',\n",
       "       'St. Léonard', 'Henryville', 'Montréal (Québec)', 'Ville-Marie',\n",
       "       \"Baie-d'Urfé\", 'Sainte-Thérèse-de-Blainville', 'Ville Mont-Royal',\n",
       "       'Huntingdon', 'Valleyfield', 'Montreal-Est', 'Havelock',\n",
       "       'montreal', 'Iberville', 'Saintt-Bruno-de-Montarville',\n",
       "       'Saint-Isidore-de-Laprairie', 'Sainte- Adele'], dtype=object)"
      ]
     },
     "execution_count": 73,
     "metadata": {},
     "output_type": "execute_result"
    }
   ],
   "source": [
    "df_open_business['city'][df_open_business['state'] == 'QC'].unique()"
   ]
  },
  {
   "cell_type": "code",
   "execution_count": 74,
   "metadata": {},
   "outputs": [
    {
     "data": {
      "text/plain": [
       "array(['Toronto'], dtype=object)"
      ]
     },
     "execution_count": 74,
     "metadata": {},
     "output_type": "execute_result"
    }
   ],
   "source": [
    "df_open_business['city'][df_open_business['state'] == 'YT'].unique()"
   ]
  },
  {
   "cell_type": "code",
   "execution_count": 76,
   "metadata": {},
   "outputs": [
    {
     "data": {
      "text/plain": [
       "34"
      ]
     },
     "execution_count": 76,
     "metadata": {},
     "output_type": "execute_result"
    }
   ],
   "source": [
    "df_open_business['state'].unique().shape[0]"
   ]
  },
  {
   "cell_type": "code",
   "execution_count": 79,
   "metadata": {},
   "outputs": [
    {
     "data": {
      "text/plain": [
       "37"
      ]
     },
     "execution_count": 79,
     "metadata": {},
     "output_type": "execute_result"
    }
   ],
   "source": [
    "df_business['state'].unique().shape[0]"
   ]
  },
  {
   "cell_type": "code",
   "execution_count": 80,
   "metadata": {},
   "outputs": [
    {
     "data": {
      "text/html": [
       "<div>\n",
       "<style scoped>\n",
       "    .dataframe tbody tr th:only-of-type {\n",
       "        vertical-align: middle;\n",
       "    }\n",
       "\n",
       "    .dataframe tbody tr th {\n",
       "        vertical-align: top;\n",
       "    }\n",
       "\n",
       "    .dataframe thead th {\n",
       "        text-align: right;\n",
       "    }\n",
       "</style>\n",
       "<table border=\"1\" class=\"dataframe\">\n",
       "  <thead>\n",
       "    <tr style=\"text-align: right;\">\n",
       "      <th></th>\n",
       "      <th>business_id</th>\n",
       "      <th>name</th>\n",
       "      <th>address</th>\n",
       "      <th>city</th>\n",
       "      <th>state</th>\n",
       "      <th>postal_code</th>\n",
       "      <th>latitude</th>\n",
       "      <th>longitude</th>\n",
       "      <th>stars</th>\n",
       "      <th>review_count</th>\n",
       "      <th>is_open</th>\n",
       "      <th>attributes</th>\n",
       "      <th>categories</th>\n",
       "      <th>hours</th>\n",
       "    </tr>\n",
       "  </thead>\n",
       "  <tbody>\n",
       "    <tr>\n",
       "      <td>3</td>\n",
       "      <td>6OAZjbxqM5ol29BuHsil3w</td>\n",
       "      <td>Nevada House of Hose</td>\n",
       "      <td>1015 Sharp Cir</td>\n",
       "      <td>North Las Vegas</td>\n",
       "      <td>NV</td>\n",
       "      <td>89030</td>\n",
       "      <td>36.219728</td>\n",
       "      <td>-115.127725</td>\n",
       "      <td>2.5</td>\n",
       "      <td>3</td>\n",
       "      <td>0</td>\n",
       "      <td>{'BusinessAcceptsCreditCards': 'True', 'ByAppo...</td>\n",
       "      <td>Hardware Stores, Home Services, Building Suppl...</td>\n",
       "      <td>{'Monday': '7:0-16:0', 'Tuesday': '7:0-16:0', ...</td>\n",
       "    </tr>\n",
       "    <tr>\n",
       "      <td>14</td>\n",
       "      <td>kOICO53wbOiOJcKuCgOQ3A</td>\n",
       "      <td>Tan Las Vegas</td>\n",
       "      <td>5465 Simmons St</td>\n",
       "      <td>North Las Vegas</td>\n",
       "      <td>NV</td>\n",
       "      <td>89031</td>\n",
       "      <td>36.263362</td>\n",
       "      <td>-115.179839</td>\n",
       "      <td>3.5</td>\n",
       "      <td>5</td>\n",
       "      <td>0</td>\n",
       "      <td>{'BusinessAcceptsCreditCards': 'True', 'Restau...</td>\n",
       "      <td>Beauty &amp; Spas, Tanning</td>\n",
       "      <td>{'Monday': '8:0-21:0', 'Tuesday': '8:0-21:0', ...</td>\n",
       "    </tr>\n",
       "    <tr>\n",
       "      <td>15</td>\n",
       "      <td>rqcOZePlVvJP9EtzldIz0w</td>\n",
       "      <td>Desert Storage</td>\n",
       "      <td>2402 Atchley Dr</td>\n",
       "      <td>Henderson</td>\n",
       "      <td>NV</td>\n",
       "      <td>89052</td>\n",
       "      <td>35.952046</td>\n",
       "      <td>-115.093483</td>\n",
       "      <td>5.0</td>\n",
       "      <td>5</td>\n",
       "      <td>0</td>\n",
       "      <td>{'BusinessAcceptsCreditCards': 'True'}</td>\n",
       "      <td>Local Services, Self Storage</td>\n",
       "      <td>{'Monday': '8:0-18:0', 'Tuesday': '8:0-18:0', ...</td>\n",
       "    </tr>\n",
       "    <tr>\n",
       "      <td>16</td>\n",
       "      <td>uZuh51lXu7tsrC8RAwkg1A</td>\n",
       "      <td>Manolo Blahnik</td>\n",
       "      <td>3131 Las Vegas Blvd</td>\n",
       "      <td>Las Vegas</td>\n",
       "      <td>NV</td>\n",
       "      <td>89109</td>\n",
       "      <td>36.125732</td>\n",
       "      <td>-115.167608</td>\n",
       "      <td>4.5</td>\n",
       "      <td>32</td>\n",
       "      <td>0</td>\n",
       "      <td>{'BusinessParking': '{'garage': True, 'street'...</td>\n",
       "      <td>Shopping, Shoe Stores, Fashion</td>\n",
       "      <td>None</td>\n",
       "    </tr>\n",
       "    <tr>\n",
       "      <td>20</td>\n",
       "      <td>CsLQLiRoafpJPJSkNX2h5Q</td>\n",
       "      <td>Middle East Deli</td>\n",
       "      <td>4508 E Independence Blvd</td>\n",
       "      <td>Charlotte</td>\n",
       "      <td>NC</td>\n",
       "      <td>28205</td>\n",
       "      <td>35.194894</td>\n",
       "      <td>-80.767442</td>\n",
       "      <td>3.0</td>\n",
       "      <td>5</td>\n",
       "      <td>0</td>\n",
       "      <td>{'RestaurantsGoodForGroups': 'True', 'OutdoorS...</td>\n",
       "      <td>Food, Restaurants, Grocery, Middle Eastern</td>\n",
       "      <td>None</td>\n",
       "    </tr>\n",
       "    <tr>\n",
       "      <td>...</td>\n",
       "      <td>...</td>\n",
       "      <td>...</td>\n",
       "      <td>...</td>\n",
       "      <td>...</td>\n",
       "      <td>...</td>\n",
       "      <td>...</td>\n",
       "      <td>...</td>\n",
       "      <td>...</td>\n",
       "      <td>...</td>\n",
       "      <td>...</td>\n",
       "      <td>...</td>\n",
       "      <td>...</td>\n",
       "      <td>...</td>\n",
       "      <td>...</td>\n",
       "    </tr>\n",
       "    <tr>\n",
       "      <td>209372</td>\n",
       "      <td>wjZ12shpUWAy4Boy0G5z1g</td>\n",
       "      <td>Island Buffet</td>\n",
       "      <td>Tropicana Resort and Casino, 3801 Las Vegas Bl...</td>\n",
       "      <td>Las Vegas</td>\n",
       "      <td>NV</td>\n",
       "      <td>89109</td>\n",
       "      <td>36.099378</td>\n",
       "      <td>-115.171029</td>\n",
       "      <td>1.5</td>\n",
       "      <td>9</td>\n",
       "      <td>0</td>\n",
       "      <td>{'BusinessAcceptsCreditCards': 'True', 'Restau...</td>\n",
       "      <td>Restaurants, Buffets</td>\n",
       "      <td>None</td>\n",
       "    </tr>\n",
       "    <tr>\n",
       "      <td>209381</td>\n",
       "      <td>xVpE01l6ZXdEtVf5PkRpDg</td>\n",
       "      <td>Julep</td>\n",
       "      <td>829 E Washington Ave</td>\n",
       "      <td>Madison</td>\n",
       "      <td>WI</td>\n",
       "      <td>53703</td>\n",
       "      <td>43.081022</td>\n",
       "      <td>-89.374006</td>\n",
       "      <td>4.0</td>\n",
       "      <td>95</td>\n",
       "      <td>0</td>\n",
       "      <td>{'NoiseLevel': 'u'average'', 'BikeParking': 'T...</td>\n",
       "      <td>Nightlife, Diners, Bars, Southern, Restaurants</td>\n",
       "      <td>{'Monday': '16:0-22:0', 'Tuesday': '16:0-22:0'...</td>\n",
       "    </tr>\n",
       "    <tr>\n",
       "      <td>209383</td>\n",
       "      <td>BAVuLTDmpSzDCk37A5HjtQ</td>\n",
       "      <td>Bruegger's Bagels</td>\n",
       "      <td>27045 Lorain Rd</td>\n",
       "      <td>North Olmsted</td>\n",
       "      <td>OH</td>\n",
       "      <td>44070</td>\n",
       "      <td>41.416568</td>\n",
       "      <td>-81.921396</td>\n",
       "      <td>3.0</td>\n",
       "      <td>13</td>\n",
       "      <td>0</td>\n",
       "      <td>{'NoiseLevel': 'u'average'', 'BikeParking': 'F...</td>\n",
       "      <td>Restaurants, Sandwiches, Food, Breakfast &amp; Bru...</td>\n",
       "      <td>{'Monday': '5:30-15:0', 'Tuesday': '5:30-15:0'...</td>\n",
       "    </tr>\n",
       "    <tr>\n",
       "      <td>209388</td>\n",
       "      <td>9Q0fPWAjUweoFDk0kafuzQ</td>\n",
       "      <td>Nishi Sushi</td>\n",
       "      <td>9750 Weston Road</td>\n",
       "      <td>Vaughan</td>\n",
       "      <td>ON</td>\n",
       "      <td>L4H 2P2</td>\n",
       "      <td>43.838555</td>\n",
       "      <td>-79.559823</td>\n",
       "      <td>4.0</td>\n",
       "      <td>5</td>\n",
       "      <td>0</td>\n",
       "      <td>{'Ambience': '{'romantic': False, 'intimate': ...</td>\n",
       "      <td>Japanese, Sushi Bars, Restaurants</td>\n",
       "      <td>{'Monday': '11:0-22:0', 'Tuesday': '11:0-22:0'...</td>\n",
       "    </tr>\n",
       "    <tr>\n",
       "      <td>209389</td>\n",
       "      <td>PotiAhtDMYMNsJCzV0oLAw</td>\n",
       "      <td>Walmart</td>\n",
       "      <td>3240 Wilkinson Blvd</td>\n",
       "      <td>Charlotte</td>\n",
       "      <td>NC</td>\n",
       "      <td>28208</td>\n",
       "      <td>35.226307</td>\n",
       "      <td>-80.893539</td>\n",
       "      <td>2.0</td>\n",
       "      <td>13</td>\n",
       "      <td>0</td>\n",
       "      <td>{'RestaurantsPriceRange2': '1', 'BusinessParki...</td>\n",
       "      <td>Department Stores, Food, Mobile Phones, Fashio...</td>\n",
       "      <td>None</td>\n",
       "    </tr>\n",
       "  </tbody>\n",
       "</table>\n",
       "<p>40490 rows × 14 columns</p>\n",
       "</div>"
      ],
      "text/plain": [
       "                   business_id                  name  \\\n",
       "3       6OAZjbxqM5ol29BuHsil3w  Nevada House of Hose   \n",
       "14      kOICO53wbOiOJcKuCgOQ3A         Tan Las Vegas   \n",
       "15      rqcOZePlVvJP9EtzldIz0w        Desert Storage   \n",
       "16      uZuh51lXu7tsrC8RAwkg1A        Manolo Blahnik   \n",
       "20      CsLQLiRoafpJPJSkNX2h5Q      Middle East Deli   \n",
       "...                        ...                   ...   \n",
       "209372  wjZ12shpUWAy4Boy0G5z1g         Island Buffet   \n",
       "209381  xVpE01l6ZXdEtVf5PkRpDg                 Julep   \n",
       "209383  BAVuLTDmpSzDCk37A5HjtQ     Bruegger's Bagels   \n",
       "209388  9Q0fPWAjUweoFDk0kafuzQ           Nishi Sushi   \n",
       "209389  PotiAhtDMYMNsJCzV0oLAw               Walmart   \n",
       "\n",
       "                                                  address             city  \\\n",
       "3                                          1015 Sharp Cir  North Las Vegas   \n",
       "14                                        5465 Simmons St  North Las Vegas   \n",
       "15                                        2402 Atchley Dr        Henderson   \n",
       "16                                    3131 Las Vegas Blvd        Las Vegas   \n",
       "20                               4508 E Independence Blvd        Charlotte   \n",
       "...                                                   ...              ...   \n",
       "209372  Tropicana Resort and Casino, 3801 Las Vegas Bl...        Las Vegas   \n",
       "209381                               829 E Washington Ave          Madison   \n",
       "209383                                    27045 Lorain Rd    North Olmsted   \n",
       "209388                                   9750 Weston Road          Vaughan   \n",
       "209389                                3240 Wilkinson Blvd        Charlotte   \n",
       "\n",
       "       state postal_code   latitude   longitude  stars  review_count  is_open  \\\n",
       "3         NV       89030  36.219728 -115.127725    2.5             3        0   \n",
       "14        NV       89031  36.263362 -115.179839    3.5             5        0   \n",
       "15        NV       89052  35.952046 -115.093483    5.0             5        0   \n",
       "16        NV       89109  36.125732 -115.167608    4.5            32        0   \n",
       "20        NC       28205  35.194894  -80.767442    3.0             5        0   \n",
       "...      ...         ...        ...         ...    ...           ...      ...   \n",
       "209372    NV       89109  36.099378 -115.171029    1.5             9        0   \n",
       "209381    WI       53703  43.081022  -89.374006    4.0            95        0   \n",
       "209383    OH       44070  41.416568  -81.921396    3.0            13        0   \n",
       "209388    ON     L4H 2P2  43.838555  -79.559823    4.0             5        0   \n",
       "209389    NC       28208  35.226307  -80.893539    2.0            13        0   \n",
       "\n",
       "                                               attributes  \\\n",
       "3       {'BusinessAcceptsCreditCards': 'True', 'ByAppo...   \n",
       "14      {'BusinessAcceptsCreditCards': 'True', 'Restau...   \n",
       "15                 {'BusinessAcceptsCreditCards': 'True'}   \n",
       "16      {'BusinessParking': '{'garage': True, 'street'...   \n",
       "20      {'RestaurantsGoodForGroups': 'True', 'OutdoorS...   \n",
       "...                                                   ...   \n",
       "209372  {'BusinessAcceptsCreditCards': 'True', 'Restau...   \n",
       "209381  {'NoiseLevel': 'u'average'', 'BikeParking': 'T...   \n",
       "209383  {'NoiseLevel': 'u'average'', 'BikeParking': 'F...   \n",
       "209388  {'Ambience': '{'romantic': False, 'intimate': ...   \n",
       "209389  {'RestaurantsPriceRange2': '1', 'BusinessParki...   \n",
       "\n",
       "                                               categories  \\\n",
       "3       Hardware Stores, Home Services, Building Suppl...   \n",
       "14                                 Beauty & Spas, Tanning   \n",
       "15                           Local Services, Self Storage   \n",
       "16                         Shopping, Shoe Stores, Fashion   \n",
       "20             Food, Restaurants, Grocery, Middle Eastern   \n",
       "...                                                   ...   \n",
       "209372                               Restaurants, Buffets   \n",
       "209381     Nightlife, Diners, Bars, Southern, Restaurants   \n",
       "209383  Restaurants, Sandwiches, Food, Breakfast & Bru...   \n",
       "209388                  Japanese, Sushi Bars, Restaurants   \n",
       "209389  Department Stores, Food, Mobile Phones, Fashio...   \n",
       "\n",
       "                                                    hours  \n",
       "3       {'Monday': '7:0-16:0', 'Tuesday': '7:0-16:0', ...  \n",
       "14      {'Monday': '8:0-21:0', 'Tuesday': '8:0-21:0', ...  \n",
       "15      {'Monday': '8:0-18:0', 'Tuesday': '8:0-18:0', ...  \n",
       "16                                                   None  \n",
       "20                                                   None  \n",
       "...                                                   ...  \n",
       "209372                                               None  \n",
       "209381  {'Monday': '16:0-22:0', 'Tuesday': '16:0-22:0'...  \n",
       "209383  {'Monday': '5:30-15:0', 'Tuesday': '5:30-15:0'...  \n",
       "209388  {'Monday': '11:0-22:0', 'Tuesday': '11:0-22:0'...  \n",
       "209389                                               None  \n",
       "\n",
       "[40490 rows x 14 columns]"
      ]
     },
     "execution_count": 80,
     "metadata": {},
     "output_type": "execute_result"
    }
   ],
   "source": [
    "df_business[df_business['is_open'] == 0]"
   ]
  },
  {
   "cell_type": "code",
   "execution_count": 81,
   "metadata": {},
   "outputs": [
    {
     "data": {
      "text/plain": [
       "(209393, 22)"
      ]
     },
     "execution_count": 81,
     "metadata": {},
     "output_type": "execute_result"
    }
   ],
   "source": [
    "df_join.shape"
   ]
  },
  {
   "cell_type": "code",
   "execution_count": 85,
   "metadata": {},
   "outputs": [
    {
     "data": {
      "text/plain": [
       "array(['FALSE', 'offers_virtual_consultations', 'offers_virtual_classes'],\n",
       "      dtype=object)"
      ]
     },
     "execution_count": 85,
     "metadata": {},
     "output_type": "execute_result"
    }
   ],
   "source": [
    "df_join[df_join['is_open'] == 0]['Virtual Services Offered'].unique()"
   ]
  },
  {
   "cell_type": "code",
   "execution_count": 86,
   "metadata": {},
   "outputs": [
    {
     "data": {
      "text/plain": [
       "Index(['business_id', 'highlights', 'delivery or takeout', 'Grubhub enabled',\n",
       "       'Call To Action enabled', 'Request a Quote Enabled', 'Covid Banner',\n",
       "       'Temporary Closed Until', 'Virtual Services Offered', 'name', 'address',\n",
       "       'city', 'state', 'postal_code', 'latitude', 'longitude', 'stars',\n",
       "       'review_count', 'is_open', 'attributes', 'categories', 'hours'],\n",
       "      dtype='object')"
      ]
     },
     "execution_count": 86,
     "metadata": {},
     "output_type": "execute_result"
    }
   ],
   "source": [
    "df_join.columns"
   ]
  },
  {
   "cell_type": "code",
   "execution_count": 91,
   "metadata": {},
   "outputs": [
    {
     "data": {
      "text/plain": [
       "array(['FALSE',\n",
       "       'During this time of Social Distancing, we will not be taking any new Face-to-Face appointments. We will be asking all current and new clients to upload their documents to our secure online portal. If you are not set up yet, please give us a call.',\n",
       "       'We will be closed on Saturdays until further notice due to COVID-19',\n",
       "       'Hello wonderful clients! During this time, Rvyve will be open for our Naturopathic Doctor’s Services. Please visit our booking link to check us out! We will also be open from 10am-4pm for product pick up! Please feel free to contact us with any questions!',\n",
       "       'Our team is committed to providing you with easy and safer access to the home-style meals you love. We are continuously updating our safety procedures across all 4,000+ of our U.S. restaurants and ensuring that once the chicken leaves our fryers, the only hands to touch it are yours. To learn more about the actions KFC is taking in response to COVID-19, visitÊkfc.com/coronavirusÊfor more information.',\n",
       "       '*Please contact us directly for updated store hours and availability. We welcome phone orders for pick-up!*',\n",
       "       'Due to Covid-19 Marie Callender’s Catering will be temporary closed until the quarantine has been lifted for the safety and health of everyone. At this time M.C stores on sahara & Cimarron and rainbow & Cheyenne are providing takeout and pickup order services only. At this time the staff wishes everyone a safe and healthy time at home with family.\\nStay safe & home for nevada, Vegas Stronger.',\n",
       "       \"Pizza Hut is Open for Carryout, Curbside Pickup & Contactless DeliveryWhen ordering, call and ask a team member for contactless carryout or curbside pickup, or click 'leave my order at the door when choosing delivery.Your food will be set in a food safe liner and either placed on your car for curbside pickup, your doorstep for delivery, or our constantly cleaned counter for carryout. For an even more contactless experience, pre-pay and tip using your credit or debit card online. The health and well-being of our customers and team members is our #1 priority.Some locations do not offer curbside pickup. Our team members do their best to accommodate contactless and other instructions, but availability may vary, and is not guaranteed.\",\n",
       "       \"Due to high demand of my services, I am operating only via scheduled drop-offs and on-spot appointments. This is to keep the quality of work high, and to serve my customers fairly. Phone calls won't be answered - please use the contact form on the website and I'll get right back to you!\\nhttps://adnanmachado.wixsite.com/bikerepair/contact\\nRegards,\\nAd\",\n",
       "       'We are still open during these difficult times. Call us to discuss options on how we can help you with cleaning and disinfecting around your home or business . ',\n",
       "       'This salon is operating with a new safe salon commitment. Stylists are required to wear masks and we ask you do the same.* Learn more about our safe salon commitment by going to https://www.supercuts.com/about-supercuts/safe-salon-commitment.html *Per CDC/PHAC, cloth face coverings should not be placed on young children under age 2 or anyone who has trouble breathing.',\n",
       "       'Reopening with new ownership on May 6th!'], dtype=object)"
      ]
     },
     "execution_count": 91,
     "metadata": {},
     "output_type": "execute_result"
    }
   ],
   "source": [
    "df_join[df_join['is_open'] == 0]['Covid Banner'].unique()"
   ]
  },
  {
   "cell_type": "code",
   "execution_count": 92,
   "metadata": {},
   "outputs": [],
   "source": [
    "df_join.to_csv(\"whole_business.csv\", index=None)"
   ]
  },
  {
   "cell_type": "code",
   "execution_count": 93,
   "metadata": {},
   "outputs": [
    {
     "name": "stderr",
     "output_type": "stream",
     "text": [
      "/Users/zhangweiyi/opt/anaconda3/lib/python3.7/site-packages/ipykernel_launcher.py:1: SettingWithCopyWarning: \n",
      "A value is trying to be set on a copy of a slice from a DataFrame.\n",
      "Try using .loc[row_indexer,col_indexer] = value instead\n",
      "\n",
      "See the caveats in the documentation: http://pandas.pydata.org/pandas-docs/stable/user_guide/indexing.html#returning-a-view-versus-a-copy\n",
      "  \"\"\"Entry point for launching an IPython kernel.\n"
     ]
    }
   ],
   "source": [
    "df_join[df_join['Covid Banner'] != 'FALSE']['Covid Banner'] = 'TRUE'"
   ]
  },
  {
   "cell_type": "code",
   "execution_count": 94,
   "metadata": {},
   "outputs": [
    {
     "name": "stderr",
     "output_type": "stream",
     "text": [
      "/Users/zhangweiyi/opt/anaconda3/lib/python3.7/site-packages/ipykernel_launcher.py:1: SettingWithCopyWarning: \n",
      "A value is trying to be set on a copy of a slice from a DataFrame.\n",
      "Try using .loc[row_indexer,col_indexer] = value instead\n",
      "\n",
      "See the caveats in the documentation: http://pandas.pydata.org/pandas-docs/stable/user_guide/indexing.html#returning-a-view-versus-a-copy\n",
      "  \"\"\"Entry point for launching an IPython kernel.\n"
     ]
    }
   ],
   "source": [
    "df_join[df_join['Covid Banner'] != 'FALSE']['Covid Banner'] = 'TRUE'"
   ]
  },
  {
   "cell_type": "code",
   "execution_count": 98,
   "metadata": {},
   "outputs": [],
   "source": [
    "df_join[df_join['Temporary Closed Until'] != 'FAlSE']['Temporary Closed Until'] = 'TRUE'"
   ]
  },
  {
   "cell_type": "code",
   "execution_count": 100,
   "metadata": {},
   "outputs": [
    {
     "data": {
      "text/plain": [
       "array(['FALSE',\n",
       "       \"We are closely monitoring COVID-19 and adjusting how we do business. Please see important information below regarding COVID-19 and how it is impacting the way we do business. We Are Just a Phone Call Away! The CDC's social distancing guidelines have temporarily forced the physical closing of many Leasing Offices across the country. Most of our communities have switched to a non-contact office - but we are still here for you by phone & email. Visit our business information. I am in the market for a new home, can I tour your community with a team member? We are currently utilizing multiple, virtual tour options for prospect. In addition to placing pre-recorded, virtual tours on our websites, many of our communities are also offering 1:1 scheduled tours via video chat, social media, etc. Please contact us directly for more information. For more information on our community updates, or for additional rental resources visit our website: https://www.community-covid-19-updates.com/\",\n",
       "       'As Nevada eases restrictions on small businesses, the health and safety of our customers, employees and guests has remained our highest priority. We have resumed our normal business operation with social distancing guidelines in mind. Thank you for your understanding as we work though these circumstantial times. We look forward to serving you soon.',\n",
       "       ...,\n",
       "       'We are open for take-out during our normal business hours. Thank you!',\n",
       "       \"We are offering free shipping for online orders with code 'freeship'.\\n\\nCurbside pickup can be arranged.\\n\\nTake out is available through third-party delivery.\",\n",
       "       \"Chelsea's Kitchen is excited to be welcoming back our loyal guests on Monday, May 11th, 2020.  To ensure our environments are safe for all, while practicing 6ft distancing, we recommend reservations for ALL party sizes 10 people or less now thru May 25, 2020.\\n\\nPlease see our adjusted hours of operation that are applicable thru May 25, 2020:\\n\\nCurbside Takeout Available:\\nSunday - Thursday 11:00am - 9:00pm\\nFriday & Saturday 11:00am - 10:00pm\\n\\nDine With Us:\\nMonday - Thursday 4:00pm*  - 9:00pm\\nFriday 4:00pm* - 10:00pm\\nSaturday 11:00am - 10:00pm\\nSunday 10:00am - 9:00pm\\n*The bar is open for drinks starting at 3:00pm\"],\n",
       "      dtype=object)"
      ]
     },
     "execution_count": 100,
     "metadata": {},
     "output_type": "execute_result"
    }
   ],
   "source": [
    "df_join['Covid Banner'].unique()"
   ]
  },
  {
   "cell_type": "code",
   "execution_count": 131,
   "metadata": {},
   "outputs": [],
   "source": [
    "df_join_cpy = df_join.copy()"
   ]
  },
  {
   "cell_type": "code",
   "execution_count": 132,
   "metadata": {},
   "outputs": [
    {
     "name": "stderr",
     "output_type": "stream",
     "text": [
      "/Users/zhangweiyi/opt/anaconda3/lib/python3.7/site-packages/ipykernel_launcher.py:1: SettingWithCopyWarning: \n",
      "A value is trying to be set on a copy of a slice from a DataFrame\n",
      "\n",
      "See the caveats in the documentation: http://pandas.pydata.org/pandas-docs/stable/user_guide/indexing.html#returning-a-view-versus-a-copy\n",
      "  \"\"\"Entry point for launching an IPython kernel.\n"
     ]
    }
   ],
   "source": [
    "df_join_cpy['Temporary Closed Until'][df_join['Temporary Closed Until']!= 'FALSE'] = 'TRUE'"
   ]
  },
  {
   "cell_type": "code",
   "execution_count": 133,
   "metadata": {},
   "outputs": [
    {
     "name": "stderr",
     "output_type": "stream",
     "text": [
      "/Users/zhangweiyi/opt/anaconda3/lib/python3.7/site-packages/ipykernel_launcher.py:1: SettingWithCopyWarning: \n",
      "A value is trying to be set on a copy of a slice from a DataFrame\n",
      "\n",
      "See the caveats in the documentation: http://pandas.pydata.org/pandas-docs/stable/user_guide/indexing.html#returning-a-view-versus-a-copy\n",
      "  \"\"\"Entry point for launching an IPython kernel.\n"
     ]
    }
   ],
   "source": [
    "df_join_cpy['Covid Banner'][df_join['Covid Banner'] != 'FALSE'] = 'TRUE'"
   ]
  },
  {
   "cell_type": "code",
   "execution_count": 134,
   "metadata": {},
   "outputs": [
    {
     "name": "stderr",
     "output_type": "stream",
     "text": [
      "/Users/zhangweiyi/opt/anaconda3/lib/python3.7/site-packages/ipykernel_launcher.py:1: SettingWithCopyWarning: \n",
      "A value is trying to be set on a copy of a slice from a DataFrame\n",
      "\n",
      "See the caveats in the documentation: http://pandas.pydata.org/pandas-docs/stable/user_guide/indexing.html#returning-a-view-versus-a-copy\n",
      "  \"\"\"Entry point for launching an IPython kernel.\n"
     ]
    }
   ],
   "source": [
    "df_join_cpy['highlights'][df_join['highlights'] != 'FALSE'] = 'TRUE'"
   ]
  },
  {
   "cell_type": "code",
   "execution_count": 135,
   "metadata": {},
   "outputs": [
    {
     "data": {
      "text/plain": [
       "array(['FALSE', 'TRUE'], dtype=object)"
      ]
     },
     "execution_count": 135,
     "metadata": {},
     "output_type": "execute_result"
    }
   ],
   "source": [
    "df_join_cpy['highlights'].unique()"
   ]
  },
  {
   "cell_type": "code",
   "execution_count": 140,
   "metadata": {},
   "outputs": [],
   "source": [
    "df_join_cpy.to_csv(\"whole_business_bool.csv\", index=None)"
   ]
  },
  {
   "cell_type": "code",
   "execution_count": 139,
   "metadata": {},
   "outputs": [
    {
     "data": {
      "text/html": [
       "<div>\n",
       "<style scoped>\n",
       "    .dataframe tbody tr th:only-of-type {\n",
       "        vertical-align: middle;\n",
       "    }\n",
       "\n",
       "    .dataframe tbody tr th {\n",
       "        vertical-align: top;\n",
       "    }\n",
       "\n",
       "    .dataframe thead th {\n",
       "        text-align: right;\n",
       "    }\n",
       "</style>\n",
       "<table border=\"1\" class=\"dataframe\">\n",
       "  <thead>\n",
       "    <tr style=\"text-align: right;\">\n",
       "      <th></th>\n",
       "      <th>business_id</th>\n",
       "      <th>highlights</th>\n",
       "      <th>delivery or takeout</th>\n",
       "      <th>Grubhub enabled</th>\n",
       "      <th>Call To Action enabled</th>\n",
       "      <th>Request a Quote Enabled</th>\n",
       "      <th>Covid Banner</th>\n",
       "      <th>Temporary Closed Until</th>\n",
       "      <th>Virtual Services Offered</th>\n",
       "      <th>name</th>\n",
       "      <th>...</th>\n",
       "      <th>state</th>\n",
       "      <th>postal_code</th>\n",
       "      <th>latitude</th>\n",
       "      <th>longitude</th>\n",
       "      <th>stars</th>\n",
       "      <th>review_count</th>\n",
       "      <th>is_open</th>\n",
       "      <th>attributes</th>\n",
       "      <th>categories</th>\n",
       "      <th>hours</th>\n",
       "    </tr>\n",
       "  </thead>\n",
       "  <tbody>\n",
       "  </tbody>\n",
       "</table>\n",
       "<p>0 rows × 22 columns</p>\n",
       "</div>"
      ],
      "text/plain": [
       "Empty DataFrame\n",
       "Columns: [business_id, highlights, delivery or takeout, Grubhub enabled, Call To Action enabled, Request a Quote Enabled, Covid Banner, Temporary Closed Until, Virtual Services Offered, name, address, city, state, postal_code, latitude, longitude, stars, review_count, is_open, attributes, categories, hours]\n",
       "Index: []\n",
       "\n",
       "[0 rows x 22 columns]"
      ]
     },
     "execution_count": 139,
     "metadata": {},
     "output_type": "execute_result"
    }
   ],
   "source": [
    "df_join_cpy[df_join_cpy['business_id'] == 'TRUE']"
   ]
  },
  {
   "cell_type": "code",
   "execution_count": 110,
   "metadata": {},
   "outputs": [
    {
     "data": {
      "text/html": [
       "<div>\n",
       "<style scoped>\n",
       "    .dataframe tbody tr th:only-of-type {\n",
       "        vertical-align: middle;\n",
       "    }\n",
       "\n",
       "    .dataframe tbody tr th {\n",
       "        vertical-align: top;\n",
       "    }\n",
       "\n",
       "    .dataframe thead th {\n",
       "        text-align: right;\n",
       "    }\n",
       "</style>\n",
       "<table border=\"1\" class=\"dataframe\">\n",
       "  <thead>\n",
       "    <tr style=\"text-align: right;\">\n",
       "      <th></th>\n",
       "      <th>business_id</th>\n",
       "      <th>highlights</th>\n",
       "      <th>delivery or takeout</th>\n",
       "      <th>Grubhub enabled</th>\n",
       "      <th>Call To Action enabled</th>\n",
       "      <th>Request a Quote Enabled</th>\n",
       "      <th>Covid Banner</th>\n",
       "      <th>Temporary Closed Until</th>\n",
       "      <th>Virtual Services Offered</th>\n",
       "    </tr>\n",
       "  </thead>\n",
       "  <tbody>\n",
       "  </tbody>\n",
       "</table>\n",
       "</div>"
      ],
      "text/plain": [
       "Empty DataFrame\n",
       "Columns: [business_id, highlights, delivery or takeout, Grubhub enabled, Call To Action enabled, Request a Quote Enabled, Covid Banner, Temporary Closed Until, Virtual Services Offered]\n",
       "Index: []"
      ]
     },
     "execution_count": 110,
     "metadata": {},
     "output_type": "execute_result"
    }
   ],
   "source": [
    "df_covid[df_covid['business_id'] == 'TRUE']"
   ]
  },
  {
   "cell_type": "code",
   "execution_count": 141,
   "metadata": {},
   "outputs": [],
   "source": [
    "state_stat = pd.DataFrame()"
   ]
  },
  {
   "cell_type": "code",
   "execution_count": 142,
   "metadata": {},
   "outputs": [],
   "source": [
    "states = df_join_cpy['state'].unique()"
   ]
  },
  {
   "cell_type": "code",
   "execution_count": 144,
   "metadata": {},
   "outputs": [
    {
     "data": {
      "text/plain": [
       "Index(['business_id', 'highlights', 'delivery or takeout', 'Grubhub enabled',\n",
       "       'Call To Action enabled', 'Request a Quote Enabled', 'Covid Banner',\n",
       "       'Temporary Closed Until', 'Virtual Services Offered', 'name', 'address',\n",
       "       'city', 'state', 'postal_code', 'latitude', 'longitude', 'stars',\n",
       "       'review_count', 'is_open', 'attributes', 'categories', 'hours'],\n",
       "      dtype='object')"
      ]
     },
     "execution_count": 144,
     "metadata": {},
     "output_type": "execute_result"
    }
   ],
   "source": [
    "df_join_cpy.columns"
   ]
  },
  {
   "cell_type": "code",
   "execution_count": 151,
   "metadata": {},
   "outputs": [],
   "source": [
    "state_total = []\n",
    "state_quote = []\n",
    "state_highlight = []\n",
    "state_covid_banner = []\n",
    "state_delivery = []\n",
    "state_grubhub = []\n",
    "state_call_to_action = []\n",
    "for state in states:\n",
    "    sub_df = df_join_cpy[df_join_cpy['state'] == state]\n",
    "    state_total.append(sub_df.shape[0])\n",
    "    state_quote.append(sub_df[sub_df['Request a Quote Enabled'] == 'TRUE'].shape[0])\n",
    "    state_highlight.append(sub_df[sub_df['highlights'] == 'TRUE'].shape[0])\n",
    "    state_delivery.append(sub_df[sub_df['delivery or takeout'] == 'TRUE'].shape[0])\n",
    "    state_grubhub.append(sub_df[sub_df['Grubhub enabled'] == 'TRUE'].shape[0])\n",
    "    state_covid_banner.append(sub_df[sub_df['Covid Banner'] == 'TRUE'].shape[0])\n",
    "    state_call_to_action.append(sub_df[sub_df['Call To Action enabled'] == 'TRUE'].shape[0])"
   ]
  },
  {
   "cell_type": "code",
   "execution_count": 156,
   "metadata": {},
   "outputs": [],
   "source": [
    "state_total = np.array(state_total)\n",
    "state_quote = np.array(state_quote)\n",
    "state_highlight = np.array(state_highlight)\n",
    "state_covid_banner = np.array(state_covid_banner)\n",
    "state_delivery = np.array(state_delivery)\n",
    "state_grubhub = np.array(state_grubhub)\n",
    "state_call_to_action = np.array(state_call_to_action)"
   ]
  },
  {
   "cell_type": "code",
   "execution_count": 157,
   "metadata": {},
   "outputs": [],
   "source": [
    "state_stat['state'] = states\n",
    "state_stat['Request a Quote Enabled'] = state_quote\n",
    "state_stat['Request a Quote Enabled %'] = state_quote/state_total\n",
    "state_stat['highlights'] = state_highlight\n",
    "state_stat['highlights %'] = state_highlight/state_total\n",
    "state_stat['delivery or takeout'] = state_delivery\n",
    "state_stat['delivery or takeout %'] = state_delivery/state_total\n",
    "state_stat['Grubhub'] = state_grubhub\n",
    "state_stat['Grubhub %'] = state_grubhub/state_total\n",
    "state_stat['Covid Banner'] = state_covid_banner\n",
    "state_stat['Covid Banner %'] = state_covid_banner/state_total\n",
    "state_stat['Call To Action enabled'] = state_call_to_action\n",
    "state_stat['Call To Action enabled %'] = state_call_to_action/state_total"
   ]
  },
  {
   "cell_type": "code",
   "execution_count": 158,
   "metadata": {},
   "outputs": [],
   "source": [
    "state_stat['total'] = state_total"
   ]
  },
  {
   "cell_type": "code",
   "execution_count": 159,
   "metadata": {},
   "outputs": [],
   "source": [
    "state_stat.to_csv(\"state_business_meta.csv\", index=None)"
   ]
  },
  {
   "cell_type": "code",
   "execution_count": 162,
   "metadata": {},
   "outputs": [],
   "source": [
    "highlights = list(df_join['highlights'].unique())"
   ]
  },
  {
   "cell_type": "code",
   "execution_count": 163,
   "metadata": {},
   "outputs": [
    {
     "data": {
      "text/plain": [
       "['FALSE',\n",
       " '[{\"identifier\":\"remote_services_during_covid_19\",\"params\":{},\"type\":\"covid\"},{\"identifier\":\"24_7_availability\",\"params\":{},\"type\":\"availability\"},{\"identifier\":\"available_by_appointment\",\"params\":{},\"type\":\"availability\"},{\"identifier\":\"wheelchair_accessible\",\"params\":{},\"type\":\"amenities\"}]',\n",
       " '[{\"identifier\":\"remote_services_during_covid_19\",\"params\":{},\"type\":\"covid\"},{\"identifier\":\"luxury\",\"params\":{},\"type\":\"features\"}]',\n",
       " '[{\"identifier\":\"online_classes_during_covid_19\",\"params\":{},\"type\":\"covid\"},{\"identifier\":\"discounts_available\",\"params\":{},\"type\":\"pricing\"}]',\n",
       " '[{\"identifier\":\"gift_cards_during_covid_19\",\"params\":{},\"type\":\"covid\"},{\"identifier\":\"shipping_during_covid_19\",\"params\":{},\"type\":\"covid\"},{\"identifier\":\"eco_friendly\",\"params\":{},\"type\":\"features\"}]',\n",
       " '[{\"identifier\":\"virtual_estimates_during_covid_19\",\"params\":{},\"type\":\"covid\"},{\"identifier\":\"curbside_drop_off_during_covid_19\",\"params\":{},\"type\":\"covid\"},{\"identifier\":\"certified_professionals\",\"params\":{},\"type\":\"features\"},{\"identifier\":\"free_estimates\",\"params\":{},\"type\":\"estimates\"},{\"identifier\":\"years_in_business\",\"params\":{\"year\":\"44\"},\"type\":\"features\"}]',\n",
       " '[{\"identifier\":\"remote_services_during_covid_19\",\"params\":{},\"type\":\"covid\"},{\"identifier\":\"certified_professionals\",\"params\":{},\"type\":\"features\"}]',\n",
       " '[{\"identifier\":\"delivery_during_covid_19\",\"params\":{},\"type\":\"covid\"},{\"identifier\":\"takeout_during_covid_19\",\"params\":{},\"type\":\"covid\"}]',\n",
       " '[{\"identifier\":\"online_classes_during_covid_19\",\"params\":{},\"type\":\"covid\"},{\"identifier\":\"remote_services_during_covid_19\",\"params\":{},\"type\":\"covid\"}]',\n",
       " '[{\"identifier\":\"delivery_during_covid_19\",\"params\":{},\"type\":\"covid\"},{\"identifier\":\"drive_thru_during_covid_19\",\"params\":{},\"type\":\"covid\"},{\"identifier\":\"curbside_pickup_during_covid_19\",\"params\":{},\"type\":\"covid\"},{\"identifier\":\"takeout_during_covid_19\",\"params\":{},\"type\":\"covid\"},{\"identifier\":\"gift_cards_during_covid_19\",\"params\":{},\"type\":\"covid\"}]',\n",
       " '[{\"identifier\":\"gift_cards_during_covid_19\",\"params\":{},\"type\":\"covid\"},{\"identifier\":\"delivery_during_covid_19\",\"params\":{},\"type\":\"covid\"},{\"identifier\":\"takeout_during_covid_19\",\"params\":{},\"type\":\"covid\"}]',\n",
       " '[{\"identifier\":\"online_classes_during_covid_19\",\"params\":{},\"type\":\"covid\"},{\"identifier\":\"gift_cards_during_covid_19\",\"params\":{},\"type\":\"covid\"}]',\n",
       " '[{\"identifier\":\"discounts_available\",\"params\":{},\"type\":\"pricing\"},{\"identifier\":\"curbside_pickup_during_covid_19\",\"params\":{},\"type\":\"covid\"}]',\n",
       " '[{\"identifier\":\"curbside_pickup_during_covid_19\",\"params\":{},\"type\":\"covid\"},{\"identifier\":\"years_in_business\",\"params\":{\"year\":\"57\"},\"type\":\"features\"}]',\n",
       " '[{\"identifier\":\"curbside_drop_off_during_covid_19\",\"params\":{},\"type\":\"covid\"},{\"identifier\":\"shipping_during_covid_19\",\"params\":{},\"type\":\"covid\"}]',\n",
       " '[{\"identifier\":\"takeout_during_covid_19\",\"params\":{},\"type\":\"covid\"},{\"identifier\":\"discounts_available\",\"params\":{},\"type\":\"pricing\"}]',\n",
       " '[{\"identifier\":\"curbside_pickup_during_covid_19\",\"params\":{},\"type\":\"covid\"},{\"identifier\":\"shipping_during_covid_19\",\"params\":{},\"type\":\"covid\"}]',\n",
       " '[{\"identifier\":\"takeout_during_covid_19\",\"params\":{},\"type\":\"covid\"},{\"identifier\":\"drive_thru_during_covid_19\",\"params\":{},\"type\":\"covid\"}]',\n",
       " '[{\"identifier\":\"delivery_during_covid_19\",\"params\":{},\"type\":\"covid\"},{\"identifier\":\"drive_thru_during_covid_19\",\"params\":{},\"type\":\"covid\"}]',\n",
       " '[{\"identifier\":\"drive_thru\",\"params\":{},\"type\":\"amenities\"},{\"identifier\":\"takeout_during_covid_19\",\"params\":{},\"type\":\"covid\"},{\"identifier\":\"delivery_during_covid_19\",\"params\":{},\"type\":\"covid\"},{\"identifier\":\"gift_cards_during_covid_19\",\"params\":{},\"type\":\"covid\"},{\"identifier\":\"healthy_dining\",\"params\":{},\"type\":\"dining_options\"},{\"identifier\":\"kid_friendly\",\"params\":{},\"type\":\"crowd\"}]',\n",
       " '[{\"identifier\":\"curbside_pickup_during_covid_19\",\"params\":{},\"type\":\"covid\"},{\"identifier\":\"shipping_during_covid_19\",\"params\":{},\"type\":\"covid\"},{\"identifier\":\"available_by_appointment\",\"params\":{},\"type\":\"availability\"}]',\n",
       " '[{\"identifier\":\"delivery_during_covid_19\",\"params\":{},\"type\":\"covid\"},{\"identifier\":\"curbside_pickup_during_covid_19\",\"params\":{},\"type\":\"covid\"},{\"identifier\":\"vegetarian_friendly\",\"params\":{},\"type\":\"dining_options\"},{\"identifier\":\"takeout_during_covid_19\",\"params\":{},\"type\":\"covid\"},{\"identifier\":\"gluten_free_friendly\",\"params\":{},\"type\":\"dining_options\"},{\"identifier\":\"healthy_dining\",\"params\":{},\"type\":\"dining_options\"}]',\n",
       " '[{\"identifier\":\"delivery_during_covid_19\",\"params\":{},\"type\":\"covid\"},{\"identifier\":\"takeout_during_covid_19\",\"params\":{},\"type\":\"covid\"},{\"identifier\":\"curbside_pickup_during_covid_19\",\"params\":{},\"type\":\"covid\"}]',\n",
       " '[{\"identifier\":\"delivery_during_covid_19\",\"params\":{},\"type\":\"covid\"},{\"identifier\":\"curbside_pickup_during_covid_19\",\"params\":{},\"type\":\"covid\"}]',\n",
       " '[{\"identifier\":\"curbside_pickup_during_covid_19\",\"params\":{},\"type\":\"covid\"},{\"identifier\":\"gift_cards_during_covid_19\",\"params\":{},\"type\":\"covid\"},{\"identifier\":\"discounts_available\",\"params\":{},\"type\":\"pricing\"},{\"identifier\":\"shipping_during_covid_19\",\"params\":{},\"type\":\"covid\"}]',\n",
       " '[{\"identifier\":\"gift_cards_during_covid_19\",\"params\":{},\"type\":\"covid\"},{\"identifier\":\"delivery_during_covid_19\",\"params\":{},\"type\":\"covid\"},{\"identifier\":\"curbside_pickup_during_covid_19\",\"params\":{},\"type\":\"covid\"},{\"identifier\":\"takeout_during_covid_19\",\"params\":{},\"type\":\"covid\"}]',\n",
       " '[{\"identifier\":\"delivery_during_covid_19\",\"params\":{},\"type\":\"covid\"},{\"identifier\":\"years_in_business\",\"params\":{\"year\":\"60\"},\"type\":\"features\"}]',\n",
       " '[{\"identifier\":\"curbside_drop_off_during_covid_19\",\"params\":{},\"type\":\"covid\"},{\"identifier\":\"curbside_pickup_during_covid_19\",\"params\":{},\"type\":\"covid\"},{\"identifier\":\"gift_cards_during_covid_19\",\"params\":{},\"type\":\"covid\"},{\"identifier\":\"shipping_during_covid_19\",\"params\":{},\"type\":\"covid\"}]',\n",
       " '[{\"identifier\":\"drive_thru_during_covid_19\",\"params\":{},\"type\":\"covid\"},{\"identifier\":\"takeout_during_covid_19\",\"params\":{},\"type\":\"covid\"},{\"identifier\":\"delivery_during_covid_19\",\"params\":{},\"type\":\"covid\"}]',\n",
       " '[{\"identifier\":\"curbside_pickup_during_covid_19\",\"params\":{},\"type\":\"covid\"},{\"identifier\":\"takeout_during_covid_19\",\"params\":{},\"type\":\"covid\"},{\"identifier\":\"mobile_services_during_covid_19\",\"params\":{},\"type\":\"covid\"},{\"identifier\":\"locally_owned_operated\",\"params\":{},\"type\":\"features\"},{\"identifier\":\"free_parking\",\"params\":{},\"type\":\"amenities\"}]',\n",
       " '[{\"identifier\":\"remote_services_during_covid_19\",\"params\":{},\"type\":\"covid\"},{\"identifier\":\"virtual_estimates_during_covid_19\",\"params\":{},\"type\":\"covid\"}]',\n",
       " '[{\"identifier\":\"curbside_pickup_during_covid_19\",\"params\":{},\"type\":\"covid\"},{\"identifier\":\"offers_commercial_services\",\"params\":{},\"type\":\"features\"}]',\n",
       " '[{\"identifier\":\"takeout_during_covid_19\",\"params\":{},\"type\":\"covid\"},{\"identifier\":\"kid_friendly\",\"params\":{},\"type\":\"crowd\"},{\"identifier\":\"catering_service\",\"params\":{},\"type\":\"dining_options\"},{\"identifier\":\"delivery_during_covid_19\",\"params\":{},\"type\":\"covid\"}]',\n",
       " '[{\"identifier\":\"remote_services_during_covid_19\",\"params\":{},\"type\":\"covid\"},{\"identifier\":\"satisfaction_guaranteed\",\"params\":{},\"type\":\"guarantees\"},{\"identifier\":\"wheelchair_accessible\",\"params\":{},\"type\":\"amenities\"}]',\n",
       " '[{\"identifier\":\"gift_cards_during_covid_19\",\"params\":{},\"type\":\"covid\"},{\"identifier\":\"takeout_during_covid_19\",\"params\":{},\"type\":\"covid\"}]',\n",
       " '[{\"identifier\":\"remote_services_during_covid_19\",\"params\":{},\"type\":\"covid\"},{\"identifier\":\"available_by_appointment\",\"params\":{},\"type\":\"availability\"}]',\n",
       " '[{\"identifier\":\"takeout_during_covid_19\",\"params\":{},\"type\":\"covid\"},{\"identifier\":\"delivery_during_covid_19\",\"params\":{},\"type\":\"covid\"},{\"identifier\":\"gift_cards_during_covid_19\",\"params\":{},\"type\":\"covid\"},{\"identifier\":\"healthy_dining\",\"params\":{},\"type\":\"dining_options\"},{\"identifier\":\"kid_friendly\",\"params\":{},\"type\":\"crowd\"}]',\n",
       " '[{\"identifier\":\"delivery_during_covid_19\",\"params\":{},\"type\":\"covid\"},{\"identifier\":\"shipping_during_covid_19\",\"params\":{},\"type\":\"covid\"},{\"identifier\":\"drive_thru_during_covid_19\",\"params\":{},\"type\":\"covid\"}]',\n",
       " '[{\"identifier\":\"takeout_during_covid_19\",\"params\":{},\"type\":\"covid\"},{\"identifier\":\"women_owned_operated\",\"params\":{},\"type\":\"features\"},{\"identifier\":\"curbside_pickup_during_covid_19\",\"params\":{},\"type\":\"covid\"},{\"identifier\":\"locally_owned_operated\",\"params\":{},\"type\":\"features\"},{\"identifier\":\"casual_dining\",\"params\":{},\"type\":\"ambiance\"},{\"identifier\":\"speaks_mandarin\",\"params\":{},\"type\":\"features\"}]',\n",
       " '[{\"identifier\":\"shipping_during_covid_19\",\"params\":{},\"type\":\"covid\"},{\"identifier\":\"discounts_available\",\"params\":{},\"type\":\"pricing\"}]',\n",
       " '[{\"identifier\":\"shipping_during_covid_19\",\"params\":{},\"type\":\"covid\"},{\"identifier\":\"virtual_estimates_during_covid_19\",\"params\":{},\"type\":\"covid\"},{\"identifier\":\"curbside_pickup_during_covid_19\",\"params\":{},\"type\":\"covid\"}]',\n",
       " '[{\"identifier\":\"curbside_pickup_during_covid_19\",\"params\":{},\"type\":\"covid\"},{\"identifier\":\"takeout_during_covid_19\",\"params\":{},\"type\":\"covid\"}]',\n",
       " '[{\"identifier\":\"takeout_during_covid_19\",\"params\":{},\"type\":\"covid\"},{\"identifier\":\"delivery_during_covid_19\",\"params\":{},\"type\":\"covid\"},{\"identifier\":\"locally_owned_operated\",\"params\":{},\"type\":\"features\"},{\"identifier\":\"vegetarian_friendly\",\"params\":{},\"type\":\"dining_options\"},{\"identifier\":\"years_in_business\",\"params\":{\"year\":\"25\"},\"type\":\"features\"},{\"identifier\":\"free_parking\",\"params\":{},\"type\":\"amenities\"}]',\n",
       " '[{\"identifier\":\"gluten_free_friendly\",\"params\":{},\"type\":\"dining_options\"},{\"identifier\":\"women_owned_operated\",\"params\":{},\"type\":\"features\"},{\"identifier\":\"gift_cards_during_covid_19\",\"params\":{},\"type\":\"covid\"},{\"identifier\":\"takeout_during_covid_19\",\"params\":{},\"type\":\"covid\"},{\"identifier\":\"curbside_pickup_during_covid_19\",\"params\":{},\"type\":\"covid\"},{\"identifier\":\"locally_owned_operated\",\"params\":{},\"type\":\"features\"}]',\n",
       " '[{\"identifier\":\"delivery_during_covid_19\",\"params\":{},\"type\":\"covid\"},{\"identifier\":\"family_owned_operated\",\"params\":{},\"type\":\"features\"},{\"identifier\":\"locally_owned_operated\",\"params\":{},\"type\":\"features\"},{\"identifier\":\"women_owned_operated\",\"params\":{},\"type\":\"features\"},{\"identifier\":\"x_employees\",\"params\":{\"number\":\"6\"},\"type\":\"features\"},{\"identifier\":\"speaks_spanish\",\"params\":{},\"type\":\"features\"}]',\n",
       " '[{\"identifier\":\"remote_services_during_covid_19\",\"params\":{},\"type\":\"covid\"},{\"identifier\":\"satisfaction_guaranteed\",\"params\":{},\"type\":\"guarantees\"},{\"identifier\":\"wheelchair_accessible\",\"params\":{},\"type\":\"amenities\"},{\"identifier\":\"luxury\",\"params\":{},\"type\":\"features\"},{\"identifier\":\"walk_ins_welcome\",\"params\":{},\"type\":\"availability\"}]',\n",
       " '[{\"identifier\":\"virtual_estimates_during_covid_19\",\"params\":{},\"type\":\"covid\"},{\"identifier\":\"curbside_drop_off_during_covid_19\",\"params\":{},\"type\":\"covid\"},{\"identifier\":\"established_in\",\"params\":{\"year\":\"1998\"},\"type\":\"features\"},{\"identifier\":\"certified_professionals\",\"params\":{},\"type\":\"features\"},{\"identifier\":\"free_estimates\",\"params\":{},\"type\":\"estimates\"}]',\n",
       " '[{\"identifier\":\"drive_thru_during_covid_19\",\"params\":{},\"type\":\"covid\"},{\"identifier\":\"established_in\",\"params\":{\"year\":\"1997\"},\"type\":\"features\"}]',\n",
       " '[{\"identifier\":\"curbside_pickup_during_covid_19\",\"params\":{},\"type\":\"covid\"},{\"identifier\":\"gift_cards_during_covid_19\",\"params\":{},\"type\":\"covid\"},{\"identifier\":\"shipping_during_covid_19\",\"params\":{},\"type\":\"covid\"}]',\n",
       " '[{\"identifier\":\"takeout_during_covid_19\",\"params\":{},\"type\":\"covid\"},{\"identifier\":\"delivery_during_covid_19\",\"params\":{},\"type\":\"covid\"},{\"identifier\":\"gift_cards_during_covid_19\",\"params\":{},\"type\":\"covid\"}]',\n",
       " '[{\"identifier\":\"curbside_drop_off_during_covid_19\",\"params\":{},\"type\":\"covid\"},{\"identifier\":\"curbside_pickup_during_covid_19\",\"params\":{},\"type\":\"covid\"}]',\n",
       " '[{\"identifier\":\"shipping_during_covid_19\",\"params\":{},\"type\":\"covid\"},{\"identifier\":\"remote_services_during_covid_19\",\"params\":{},\"type\":\"covid\"}]',\n",
       " '[{\"identifier\":\"gift_cards_during_covid_19\",\"params\":{},\"type\":\"covid\"},{\"identifier\":\"certified_professionals\",\"params\":{},\"type\":\"features\"}]',\n",
       " '[{\"identifier\":\"mobile_services_during_covid_19\",\"params\":{},\"type\":\"covid\"},{\"identifier\":\"certified_professionals\",\"params\":{},\"type\":\"features\"},{\"identifier\":\"locally_owned_operated\",\"params\":{},\"type\":\"features\"},{\"identifier\":\"years_in_business\",\"params\":{\"year\":\"10\"},\"type\":\"features\"}]',\n",
       " '[{\"identifier\":\"mobile_services_during_covid_19\",\"params\":{},\"type\":\"covid\"},{\"identifier\":\"vegan_friendly\",\"params\":{},\"type\":\"dining_options\"},{\"identifier\":\"gluten_free_friendly\",\"params\":{},\"type\":\"dining_options\"},{\"identifier\":\"family_owned_operated\",\"params\":{},\"type\":\"features\"},{\"identifier\":\"drive_thru_during_covid_19\",\"params\":{},\"type\":\"covid\"},{\"identifier\":\"healthy_dining\",\"params\":{},\"type\":\"dining_options\"}]',\n",
       " '[{\"identifier\":\"shipping_during_covid_19\",\"params\":{},\"type\":\"covid\"},{\"identifier\":\"drive_thru_during_covid_19\",\"params\":{},\"type\":\"covid\"}]',\n",
       " '[{\"identifier\":\"veteran_owned_operated\",\"params\":{},\"type\":\"features\"},{\"identifier\":\"curbside_drop_off_during_covid_19\",\"params\":{},\"type\":\"covid\"},{\"identifier\":\"walk_ins_welcome\",\"params\":{},\"type\":\"availability\"},{\"identifier\":\"beat_or_match_prices\",\"params\":{},\"type\":\"pricing\"},{\"identifier\":\"free_estimates\",\"params\":{},\"type\":\"estimates\"},{\"identifier\":\"repairs_guaranteed\",\"params\":{},\"type\":\"guarantees\"}]',\n",
       " '[{\"identifier\":\"curbside_pickup_during_covid_19\",\"params\":{},\"type\":\"covid\"},{\"identifier\":\"gift_cards_during_covid_19\",\"params\":{},\"type\":\"covid\"},{\"identifier\":\"vegan_friendly\",\"params\":{},\"type\":\"dining_options\"},{\"identifier\":\"vegetarian_friendly\",\"params\":{},\"type\":\"dining_options\"},{\"identifier\":\"gluten_free_friendly\",\"params\":{},\"type\":\"dining_options\"},{\"identifier\":\"family_owned_operated\",\"params\":{},\"type\":\"features\"}]',\n",
       " '[{\"identifier\":\"takeout_during_covid_19\",\"params\":{},\"type\":\"covid\"},{\"identifier\":\"delivery_during_covid_19\",\"params\":{},\"type\":\"covid\"},{\"identifier\":\"vegan_friendly\",\"params\":{},\"type\":\"dining_options\"},{\"identifier\":\"gluten_free_friendly\",\"params\":{},\"type\":\"dining_options\"},{\"identifier\":\"locally_owned_operated\",\"params\":{},\"type\":\"features\"},{\"identifier\":\"full_bar\",\"params\":{},\"type\":\"dining_options\"}]',\n",
       " '[{\"identifier\":\"curbside_pickup_during_covid_19\",\"params\":{},\"type\":\"covid\"},{\"identifier\":\"gift_cards_during_covid_19\",\"params\":{},\"type\":\"covid\"},{\"identifier\":\"takeout_during_covid_19\",\"params\":{},\"type\":\"covid\"}]',\n",
       " '[{\"identifier\":\"shipping_during_covid_19\",\"params\":{},\"type\":\"covid\"},{\"identifier\":\"virtual_estimates_during_covid_19\",\"params\":{},\"type\":\"covid\"}]',\n",
       " '[{\"identifier\":\"delivery_during_covid_19\",\"params\":{},\"type\":\"covid\"},{\"identifier\":\"gift_cards_during_covid_19\",\"params\":{},\"type\":\"covid\"},{\"identifier\":\"curbside_pickup_during_covid_19\",\"params\":{},\"type\":\"covid\"}]',\n",
       " '[{\"identifier\":\"mobile_services_during_covid_19\",\"params\":{},\"type\":\"covid\"},{\"identifier\":\"years_in_business\",\"params\":{\"year\":\"20\"},\"type\":\"features\"},{\"identifier\":\"offers_commercial_services\",\"params\":{},\"type\":\"features\"},{\"identifier\":\"speaks_spanish\",\"params\":{},\"type\":\"features\"},{\"identifier\":\"free_estimates\",\"params\":{},\"type\":\"estimates\"},{\"identifier\":\"discounts_available\",\"params\":{},\"type\":\"pricing\"}]',\n",
       " '[{\"identifier\":\"free_consultations\",\"params\":{},\"type\":\"estimates\"},{\"identifier\":\"offers_customized_solutions\",\"params\":{},\"type\":\"features\"},{\"identifier\":\"remote_services_during_covid_19\",\"params\":{},\"type\":\"covid\"},{\"identifier\":\"certified_professionals\",\"params\":{},\"type\":\"features\"}]',\n",
       " '[{\"identifier\":\"remote_services_during_covid_19\",\"params\":{},\"type\":\"covid\"},{\"identifier\":\"24_7_availability\",\"params\":{},\"type\":\"availability\"}]',\n",
       " '[{\"identifier\":\"takeout_during_covid_19\",\"params\":{},\"type\":\"covid\"},{\"identifier\":\"delivery_during_covid_19\",\"params\":{},\"type\":\"covid\"},{\"identifier\":\"curbside_pickup_during_covid_19\",\"params\":{},\"type\":\"covid\"},{\"identifier\":\"gift_cards_during_covid_19\",\"params\":{},\"type\":\"covid\"}]',\n",
       " '[{\"identifier\":\"curbside_pickup_during_covid_19\",\"params\":{},\"type\":\"covid\"},{\"identifier\":\"drive_thru_during_covid_19\",\"params\":{},\"type\":\"covid\"},{\"identifier\":\"healthy_dining\",\"params\":{},\"type\":\"dining_options\"}]',\n",
       " '[{\"identifier\":\"curbside_pickup_during_covid_19\",\"params\":{},\"type\":\"covid\"},{\"identifier\":\"gift_cards_during_covid_19\",\"params\":{},\"type\":\"covid\"},{\"identifier\":\"delivery_during_covid_19\",\"params\":{},\"type\":\"covid\"},{\"identifier\":\"takeout_during_covid_19\",\"params\":{},\"type\":\"covid\"},{\"identifier\":\"grab_and_go\",\"params\":{},\"type\":\"dining_options\"},{\"identifier\":\"vegetarian_friendly\",\"params\":{},\"type\":\"dining_options\"}]',\n",
       " '[{\"identifier\":\"takeout_during_covid_19\",\"params\":{},\"type\":\"covid\"},{\"identifier\":\"gluten_free_friendly\",\"params\":{},\"type\":\"dining_options\"},{\"identifier\":\"vegetarian_friendly\",\"params\":{},\"type\":\"dining_options\"},{\"identifier\":\"family_owned_operated\",\"params\":{},\"type\":\"features\"},{\"identifier\":\"kid_friendly\",\"params\":{},\"type\":\"crowd\"},{\"identifier\":\"vegan_friendly\",\"params\":{},\"type\":\"dining_options\"}]',\n",
       " '[{\"identifier\":\"delivery_during_covid_19\",\"params\":{},\"type\":\"covid\"},{\"identifier\":\"drive_thru_during_covid_19\",\"params\":{},\"type\":\"covid\"},{\"identifier\":\"shipping_during_covid_19\",\"params\":{},\"type\":\"covid\"}]',\n",
       " '[{\"identifier\":\"online_classes_during_covid_19\",\"params\":{},\"type\":\"covid\"},{\"identifier\":\"free_parking\",\"params\":{},\"type\":\"amenities\"}]',\n",
       " '[{\"identifier\":\"delivery_during_covid_19\",\"params\":{},\"type\":\"covid\"},{\"identifier\":\"curbside_pickup_during_covid_19\",\"params\":{},\"type\":\"covid\"},{\"identifier\":\"vegetarian_friendly\",\"params\":{},\"type\":\"dining_options\"},{\"identifier\":\"family_owned_operated\",\"params\":{},\"type\":\"features\"},{\"identifier\":\"established_in\",\"params\":{\"year\":\"2015\"},\"type\":\"features\"}]',\n",
       " '[{\"identifier\":\"shipping_during_covid_19\",\"params\":{},\"type\":\"covid\"},{\"identifier\":\"gift_cards_during_covid_19\",\"params\":{},\"type\":\"covid\"}]',\n",
       " '[{\"identifier\":\"virtual_estimates_during_covid_19\",\"params\":{},\"type\":\"covid\"},{\"identifier\":\"discounts_available\",\"params\":{},\"type\":\"pricing\"}]',\n",
       " '[{\"identifier\":\"curbside_drop_off_during_covid_19\",\"params\":{},\"type\":\"covid\"},{\"identifier\":\"drive_thru_during_covid_19\",\"params\":{},\"type\":\"covid\"},{\"identifier\":\"gift_cards_during_covid_19\",\"params\":{},\"type\":\"covid\"},{\"identifier\":\"takeout_during_covid_19\",\"params\":{},\"type\":\"covid\"}]',\n",
       " '[{\"identifier\":\"takeout_during_covid_19\",\"params\":{},\"type\":\"covid\"},{\"identifier\":\"kid_friendly\",\"params\":{},\"type\":\"crowd\"},{\"identifier\":\"catering_service\",\"params\":{},\"type\":\"dining_options\"}]',\n",
       " '[{\"identifier\":\"women_owned_operated\",\"params\":{},\"type\":\"features\"},{\"identifier\":\"veteran_owned_operated\",\"params\":{},\"type\":\"features\"},{\"identifier\":\"free_wifi\",\"params\":{},\"type\":\"amenities\"},{\"identifier\":\"available_by_appointment\",\"params\":{},\"type\":\"availability\"},{\"identifier\":\"free_consultations\",\"params\":{},\"type\":\"estimates\"},{\"identifier\":\"virtual_estimates_during_covid_19\",\"params\":{},\"type\":\"covid\"}]',\n",
       " '[{\"identifier\":\"takeout_during_covid_19\",\"params\":{},\"type\":\"covid\"},{\"identifier\":\"kid_friendly\",\"params\":{},\"type\":\"crowd\"},{\"identifier\":\"catering_service\",\"params\":{},\"type\":\"dining_options\"},{\"identifier\":\"curbside_pickup_during_covid_19\",\"params\":{},\"type\":\"covid\"},{\"identifier\":\"delivery_during_covid_19\",\"params\":{},\"type\":\"covid\"}]',\n",
       " '[{\"identifier\":\"curbside_pickup_during_covid_19\",\"params\":{},\"type\":\"covid\"},{\"identifier\":\"shipping_during_covid_19\",\"params\":{},\"type\":\"covid\"},{\"identifier\":\"gift_cards_during_covid_19\",\"params\":{},\"type\":\"covid\"}]',\n",
       " '[{\"identifier\":\"delivery_during_covid_19\",\"params\":{},\"type\":\"covid\"},{\"identifier\":\"remote_services_during_covid_19\",\"params\":{},\"type\":\"covid\"}]',\n",
       " '[{\"identifier\":\"drive_thru_during_covid_19\",\"params\":{},\"type\":\"covid\"},{\"identifier\":\"takeout_during_covid_19\",\"params\":{},\"type\":\"covid\"}]',\n",
       " '[{\"identifier\":\"remote_services_during_covid_19\",\"params\":{},\"type\":\"covid\"},{\"identifier\":\"emergency_services\",\"params\":{},\"type\":\"availability\"},{\"identifier\":\"consultations_available\",\"params\":{},\"type\":\"estimates\"},{\"identifier\":\"offers_payment_plans\",\"params\":{},\"type\":\"pricing\"}]',\n",
       " '[{\"identifier\":\"delivery_during_covid_19\",\"params\":{},\"type\":\"covid\"},{\"identifier\":\"takeout_during_covid_19\",\"params\":{},\"type\":\"covid\"},{\"identifier\":\"gift_cards_during_covid_19\",\"params\":{},\"type\":\"covid\"}]',\n",
       " '[{\"identifier\":\"delivery_during_covid_19\",\"params\":{},\"type\":\"covid\"},{\"identifier\":\"takeout_during_covid_19\",\"params\":{},\"type\":\"covid\"},{\"identifier\":\"gift_cards_during_covid_19\",\"params\":{},\"type\":\"covid\"},{\"identifier\":\"curbside_pickup_during_covid_19\",\"params\":{},\"type\":\"covid\"}]',\n",
       " '[{\"identifier\":\"curbside_pickup_during_covid_19\",\"params\":{},\"type\":\"covid\"},{\"identifier\":\"delivery_during_covid_19\",\"params\":{},\"type\":\"covid\"},{\"identifier\":\"takeout_during_covid_19\",\"params\":{},\"type\":\"covid\"}]',\n",
       " '[{\"identifier\":\"virtual_estimates_during_covid_19\",\"params\":{},\"type\":\"covid\"},{\"identifier\":\"remote_services_during_covid_19\",\"params\":{},\"type\":\"covid\"},{\"identifier\":\"offers_customized_solutions\",\"params\":{},\"type\":\"features\"},{\"identifier\":\"available_by_appointment\",\"params\":{},\"type\":\"availability\"}]',\n",
       " '[{\"identifier\":\"gift_cards_during_covid_19\",\"params\":{},\"type\":\"covid\"},{\"identifier\":\"shipping_during_covid_19\",\"params\":{},\"type\":\"covid\"}]',\n",
       " '[{\"identifier\":\"discounts_available\",\"params\":{},\"type\":\"pricing\"},{\"identifier\":\"curbside_pickup_during_covid_19\",\"params\":{},\"type\":\"covid\"},{\"identifier\":\"speaks_spanish\",\"params\":{},\"type\":\"features\"}]',\n",
       " '[{\"identifier\":\"vegan_friendly\",\"params\":{},\"type\":\"dining_options\"},{\"identifier\":\"curbside_pickup_during_covid_19\",\"params\":{},\"type\":\"covid\"},{\"identifier\":\"gift_cards_during_covid_19\",\"params\":{},\"type\":\"covid\"},{\"identifier\":\"takes_reservations\",\"params\":{},\"type\":\"dining_options\"},{\"identifier\":\"casual_dining\",\"params\":{},\"type\":\"ambiance\"}]',\n",
       " '[{\"identifier\":\"women_owned_operated\",\"params\":{},\"type\":\"features\"},{\"identifier\":\"walk_ins_welcome\",\"params\":{},\"type\":\"availability\"},{\"identifier\":\"established_in\",\"params\":{\"year\":\"2018\"},\"type\":\"features\"},{\"identifier\":\"boutique\",\"params\":{},\"type\":\"features\"},{\"identifier\":\"remote_services_during_covid_19\",\"params\":{},\"type\":\"covid\"},{\"identifier\":\"minority_owned_operated\",\"params\":{},\"type\":\"features\"}]',\n",
       " '[{\"identifier\":\"takeout_during_covid_19\",\"params\":{},\"type\":\"covid\"},{\"identifier\":\"curbside_pickup_during_covid_19\",\"params\":{},\"type\":\"covid\"},{\"identifier\":\"grab_and_go\",\"params\":{},\"type\":\"dining_options\"},{\"identifier\":\"casual_dining\",\"params\":{},\"type\":\"ambiance\"},{\"identifier\":\"locally_owned_operated\",\"params\":{},\"type\":\"features\"},{\"identifier\":\"veteran_owned_operated\",\"params\":{},\"type\":\"features\"}]',\n",
       " '[{\"identifier\":\"gift_cards_during_covid_19\",\"params\":{},\"type\":\"covid\"},{\"identifier\":\"online_classes_during_covid_19\",\"params\":{},\"type\":\"covid\"}]',\n",
       " '[{\"identifier\":\"delivery_during_covid_19\",\"params\":{},\"type\":\"covid\"},{\"identifier\":\"budget_friendly\",\"params\":{},\"type\":\"pricing\"}]',\n",
       " '[{\"identifier\":\"takeout_during_covid_19\",\"params\":{},\"type\":\"covid\"},{\"identifier\":\"healthy_dining\",\"params\":{},\"type\":\"dining_options\"},{\"identifier\":\"gluten_free_friendly\",\"params\":{},\"type\":\"dining_options\"}]',\n",
       " '[{\"identifier\":\"remote_services_during_covid_19\",\"params\":{},\"type\":\"covid\"},{\"identifier\":\"locally_owned_operated\",\"params\":{},\"type\":\"features\"}]',\n",
       " '[{\"identifier\":\"free_estimates\",\"params\":{},\"type\":\"estimates\"},{\"identifier\":\"mobile_services_during_covid_19\",\"params\":{},\"type\":\"covid\"},{\"identifier\":\"eco_friendly\",\"params\":{},\"type\":\"features\"},{\"identifier\":\"available_by_appointment\",\"params\":{},\"type\":\"availability\"},{\"identifier\":\"budget_friendly\",\"params\":{},\"type\":\"pricing\"},{\"identifier\":\"satisfaction_guaranteed\",\"params\":{},\"type\":\"guarantees\"}]',\n",
       " '[{\"identifier\":\"takeout_during_covid_19\",\"params\":{},\"type\":\"covid\"},{\"identifier\":\"delivery_during_covid_19\",\"params\":{},\"type\":\"covid\"}]',\n",
       " '[{\"identifier\":\"curbside_pickup_during_covid_19\",\"params\":{},\"type\":\"covid\"},{\"identifier\":\"delivery_during_covid_19\",\"params\":{},\"type\":\"covid\"},{\"identifier\":\"gift_cards_during_covid_19\",\"params\":{},\"type\":\"covid\"},{\"identifier\":\"kid_friendly\",\"params\":{},\"type\":\"crowd\"}]',\n",
       " '[{\"identifier\":\"takeout_during_covid_19\",\"params\":{},\"type\":\"covid\"},{\"identifier\":\"delivery_during_covid_19\",\"params\":{},\"type\":\"covid\"},{\"identifier\":\"vegetarian_friendly\",\"params\":{},\"type\":\"dining_options\"},{\"identifier\":\"gluten_free_friendly\",\"params\":{},\"type\":\"dining_options\"},{\"identifier\":\"grab_and_go\",\"params\":{},\"type\":\"dining_options\"},{\"identifier\":\"locally_owned_operated\",\"params\":{},\"type\":\"features\"}]',\n",
       " '[{\"identifier\":\"remote_services_during_covid_19\",\"params\":{},\"type\":\"covid\"},{\"identifier\":\"available_by_appointment\",\"params\":{},\"type\":\"availability\"},{\"identifier\":\"walk_ins_welcome\",\"params\":{},\"type\":\"availability\"}]',\n",
       " '[{\"identifier\":\"delivery_during_covid_19\",\"params\":{},\"type\":\"covid\"},{\"identifier\":\"takeout_during_covid_19\",\"params\":{},\"type\":\"covid\"},{\"identifier\":\"curbside_drop_off_during_covid_19\",\"params\":{},\"type\":\"covid\"},{\"identifier\":\"gift_cards_during_covid_19\",\"params\":{},\"type\":\"covid\"}]',\n",
       " '[{\"identifier\":\"remote_services_during_covid_19\",\"params\":{},\"type\":\"covid\"},{\"identifier\":\"consultations_available\",\"params\":{},\"type\":\"estimates\"}]',\n",
       " '[{\"identifier\":\"free_estimates\",\"params\":{},\"type\":\"estimates\"},{\"identifier\":\"offers_customized_solutions\",\"params\":{},\"type\":\"features\"},{\"identifier\":\"curbside_drop_off_during_covid_19\",\"params\":{},\"type\":\"covid\"}]',\n",
       " '[{\"identifier\":\"remote_services_during_covid_19\",\"params\":{},\"type\":\"covid\"},{\"identifier\":\"gift_cards_during_covid_19\",\"params\":{},\"type\":\"covid\"},{\"identifier\":\"online_classes_during_covid_19\",\"params\":{},\"type\":\"covid\"},{\"identifier\":\"mobile_services_during_covid_19\",\"params\":{},\"type\":\"covid\"}]',\n",
       " '[{\"identifier\":\"remote_services_during_covid_19\",\"params\":{},\"type\":\"covid\"},{\"identifier\":\"online_classes_during_covid_19\",\"params\":{},\"type\":\"covid\"}]',\n",
       " '[{\"identifier\":\"delivery_during_covid_19\",\"params\":{},\"type\":\"covid\"},{\"identifier\":\"curbside_pickup_during_covid_19\",\"params\":{},\"type\":\"covid\"},{\"identifier\":\"takeout_during_covid_19\",\"params\":{},\"type\":\"covid\"},{\"identifier\":\"gift_cards_during_covid_19\",\"params\":{},\"type\":\"covid\"}]',\n",
       " '[{\"identifier\":\"remote_services_during_covid_19\",\"params\":{},\"type\":\"covid\"},{\"identifier\":\"certified_professionals\",\"params\":{},\"type\":\"features\"},{\"identifier\":\"available_by_appointment\",\"params\":{},\"type\":\"availability\"}]',\n",
       " '[{\"identifier\":\"consultations_available\",\"params\":{},\"type\":\"estimates\"},{\"identifier\":\"remote_services_during_covid_19\",\"params\":{},\"type\":\"covid\"}]',\n",
       " '[{\"identifier\":\"delivery_during_covid_19\",\"params\":{},\"type\":\"covid\"},{\"identifier\":\"shipping_during_covid_19\",\"params\":{},\"type\":\"covid\"}]',\n",
       " '[{\"identifier\":\"speaks_spanish\",\"params\":{},\"type\":\"features\"},{\"identifier\":\"mobile_services_during_covid_19\",\"params\":{},\"type\":\"covid\"}]',\n",
       " '[{\"identifier\":\"available_by_appointment\",\"params\":{},\"type\":\"availability\"},{\"identifier\":\"curbside_drop_off_during_covid_19\",\"params\":{},\"type\":\"covid\"},{\"identifier\":\"certified_professionals\",\"params\":{},\"type\":\"features\"},{\"identifier\":\"virtual_estimates_during_covid_19\",\"params\":{},\"type\":\"covid\"}]',\n",
       " '[{\"identifier\":\"virtual_estimates_during_covid_19\",\"params\":{},\"type\":\"covid\"},{\"identifier\":\"free_estimates\",\"params\":{},\"type\":\"estimates\"},{\"identifier\":\"offers_commercial_services\",\"params\":{},\"type\":\"features\"},{\"identifier\":\"locally_owned_operated\",\"params\":{},\"type\":\"features\"}]',\n",
       " '[{\"identifier\":\"takeout_during_covid_19\",\"params\":{},\"type\":\"covid\"},{\"identifier\":\"curbside_pickup_during_covid_19\",\"params\":{},\"type\":\"covid\"},{\"identifier\":\"gift_cards_during_covid_19\",\"params\":{},\"type\":\"covid\"}]',\n",
       " '[{\"identifier\":\"delivery_during_covid_19\",\"params\":{},\"type\":\"covid\"},{\"identifier\":\"curbside_pickup_during_covid_19\",\"params\":{},\"type\":\"covid\"},{\"identifier\":\"takeout_during_covid_19\",\"params\":{},\"type\":\"covid\"},{\"identifier\":\"kid_friendly\",\"params\":{},\"type\":\"crowd\"},{\"identifier\":\"full_bar\",\"params\":{},\"type\":\"dining_options\"},{\"identifier\":\"gift_cards_during_covid_19\",\"params\":{},\"type\":\"covid\"}]',\n",
       " '[{\"identifier\":\"curbside_pickup_during_covid_19\",\"params\":{},\"type\":\"covid\"},{\"identifier\":\"delivery_during_covid_19\",\"params\":{},\"type\":\"covid\"}]',\n",
       " '[{\"identifier\":\"curbside_pickup_during_covid_19\",\"params\":{},\"type\":\"covid\"},{\"identifier\":\"takeout_during_covid_19\",\"params\":{},\"type\":\"covid\"},{\"identifier\":\"delivery_during_covid_19\",\"params\":{},\"type\":\"covid\"}]',\n",
       " '[{\"identifier\":\"years_in_business\",\"params\":{\"year\":\"70\"},\"type\":\"features\"},{\"identifier\":\"online_classes_during_covid_19\",\"params\":{},\"type\":\"covid\"},{\"identifier\":\"remote_services_during_covid_19\",\"params\":{},\"type\":\"covid\"}]',\n",
       " '[{\"identifier\":\"remote_services_during_covid_19\",\"params\":{},\"type\":\"covid\"},{\"identifier\":\"discounts_available\",\"params\":{},\"type\":\"pricing\"},{\"identifier\":\"satisfaction_guaranteed\",\"params\":{},\"type\":\"guarantees\"}]',\n",
       " '[{\"identifier\":\"mobile_services_during_covid_19\",\"params\":{},\"type\":\"covid\"},{\"identifier\":\"virtual_estimates_during_covid_19\",\"params\":{},\"type\":\"covid\"}]',\n",
       " '[{\"identifier\":\"delivery_during_covid_19\",\"params\":{},\"type\":\"covid\"},{\"identifier\":\"curbside_pickup_during_covid_19\",\"params\":{},\"type\":\"covid\"},{\"identifier\":\"healthy_dining\",\"params\":{},\"type\":\"dining_options\"},{\"identifier\":\"locally_sourced_ingredients\",\"params\":{},\"type\":\"dining_options\"},{\"identifier\":\"budget_friendly\",\"params\":{},\"type\":\"pricing\"},{\"identifier\":\"locally_owned_operated\",\"params\":{},\"type\":\"features\"}]',\n",
       " '[{\"identifier\":\"available_by_appointment\",\"params\":{},\"type\":\"availability\"},{\"identifier\":\"virtual_estimates_during_covid_19\",\"params\":{},\"type\":\"covid\"}]',\n",
       " '[{\"identifier\":\"shipping_during_covid_19\",\"params\":{},\"type\":\"covid\"},{\"identifier\":\"online_classes_during_covid_19\",\"params\":{},\"type\":\"covid\"},{\"identifier\":\"remote_services_during_covid_19\",\"params\":{},\"type\":\"covid\"},{\"identifier\":\"delivery_during_covid_19\",\"params\":{},\"type\":\"covid\"}]',\n",
       " '[{\"identifier\":\"delivery_during_covid_19\",\"params\":{},\"type\":\"covid\"},{\"identifier\":\"curbside_pickup_during_covid_19\",\"params\":{},\"type\":\"covid\"},{\"identifier\":\"takeout_during_covid_19\",\"params\":{},\"type\":\"covid\"},{\"identifier\":\"remote_services_during_covid_19\",\"params\":{},\"type\":\"covid\"},{\"identifier\":\"virtual_estimates_during_covid_19\",\"params\":{},\"type\":\"covid\"},{\"identifier\":\"family_owned_operated\",\"params\":{},\"type\":\"features\"}]',\n",
       " '[{\"identifier\":\"remote_services_during_covid_19\",\"params\":{},\"type\":\"covid\"},{\"identifier\":\"available_by_appointment\",\"params\":{},\"type\":\"availability\"},{\"identifier\":\"satisfaction_guaranteed\",\"params\":{},\"type\":\"guarantees\"}]',\n",
       " '[{\"identifier\":\"discounts_available\",\"params\":{},\"type\":\"pricing\"},{\"identifier\":\"remote_services_during_covid_19\",\"params\":{},\"type\":\"covid\"}]',\n",
       " '[{\"identifier\":\"delivery_during_covid_19\",\"params\":{},\"type\":\"covid\"},{\"identifier\":\"takeout_during_covid_19\",\"params\":{},\"type\":\"covid\"},{\"identifier\":\"curbside_pickup_during_covid_19\",\"params\":{},\"type\":\"covid\"},{\"identifier\":\"free_parking\",\"params\":{},\"type\":\"amenities\"},{\"identifier\":\"kid_friendly\",\"params\":{},\"type\":\"crowd\"},{\"identifier\":\"years_in_business\",\"params\":{\"year\":\"67\"},\"type\":\"features\"}]',\n",
       " '[{\"identifier\":\"takeout_during_covid_19\",\"params\":{},\"type\":\"covid\"},{\"identifier\":\"curbside_pickup_during_covid_19\",\"params\":{},\"type\":\"covid\"},{\"identifier\":\"vegetarian_friendly\",\"params\":{},\"type\":\"dining_options\"},{\"identifier\":\"vegan_friendly\",\"params\":{},\"type\":\"dining_options\"},{\"identifier\":\"gluten_free_friendly\",\"params\":{},\"type\":\"dining_options\"},{\"identifier\":\"healthy_dining\",\"params\":{},\"type\":\"dining_options\"}]',\n",
       " '[{\"identifier\":\"walk_ins_welcome\",\"params\":{},\"type\":\"availability\"},{\"identifier\":\"satisfaction_guaranteed\",\"params\":{},\"type\":\"guarantees\"},{\"identifier\":\"gift_cards_during_covid_19\",\"params\":{},\"type\":\"covid\"}]',\n",
       " '[{\"identifier\":\"curbside_pickup_during_covid_19\",\"params\":{},\"type\":\"covid\"},{\"identifier\":\"delivery_during_covid_19\",\"params\":{},\"type\":\"covid\"},{\"identifier\":\"takeout_during_covid_19\",\"params\":{},\"type\":\"covid\"},{\"identifier\":\"gift_cards_during_covid_19\",\"params\":{},\"type\":\"covid\"}]',\n",
       " '[{\"identifier\":\"online_classes_during_covid_19\",\"params\":{},\"type\":\"covid\"},{\"identifier\":\"gift_cards_during_covid_19\",\"params\":{},\"type\":\"covid\"},{\"identifier\":\"available_by_appointment\",\"params\":{},\"type\":\"availability\"}]',\n",
       " '[{\"identifier\":\"takeout_during_covid_19\",\"params\":{},\"type\":\"covid\"},{\"identifier\":\"delivery_during_covid_19\",\"params\":{},\"type\":\"covid\"},{\"identifier\":\"drive_thru_during_covid_19\",\"params\":{},\"type\":\"covid\"}]',\n",
       " '[{\"identifier\":\"virtual_estimates_during_covid_19\",\"params\":{},\"type\":\"covid\"},{\"identifier\":\"remote_services_during_covid_19\",\"params\":{},\"type\":\"covid\"}]',\n",
       " '[{\"identifier\":\"healthy_dining\",\"params\":{},\"type\":\"dining_options\"},{\"identifier\":\"vegetarian_friendly\",\"params\":{},\"type\":\"dining_options\"},{\"identifier\":\"curbside_pickup_during_covid_19\",\"params\":{},\"type\":\"covid\"},{\"identifier\":\"delivery_during_covid_19\",\"params\":{},\"type\":\"covid\"},{\"identifier\":\"not_for_profit\",\"params\":{},\"type\":\"features\"}]',\n",
       " '[{\"identifier\":\"takeout_during_covid_19\",\"params\":{},\"type\":\"covid\"},{\"identifier\":\"delivery_during_covid_19\",\"params\":{},\"type\":\"covid\"},{\"identifier\":\"curbside_pickup_during_covid_19\",\"params\":{},\"type\":\"covid\"},{\"identifier\":\"catering_service\",\"params\":{},\"type\":\"dining_options\"},{\"identifier\":\"grab_and_go\",\"params\":{},\"type\":\"dining_options\"},{\"identifier\":\"gift_cards_during_covid_19\",\"params\":{},\"type\":\"covid\"}]',\n",
       " '[{\"identifier\":\"free_consultations\",\"params\":{},\"type\":\"estimates\"},{\"identifier\":\"virtual_estimates_during_covid_19\",\"params\":{},\"type\":\"covid\"},{\"identifier\":\"locally_owned_operated\",\"params\":{},\"type\":\"features\"},{\"identifier\":\"established_in\",\"params\":{\"year\":\"1957\"},\"type\":\"features\"},{\"identifier\":\"certified_professionals\",\"params\":{},\"type\":\"features\"},{\"identifier\":\"offers_commercial_services\",\"params\":{},\"type\":\"features\"}]',\n",
       " '[{\"identifier\":\"years_in_business\",\"params\":{\"year\":\"9\"},\"type\":\"features\"},{\"identifier\":\"virtual_estimates_during_covid_19\",\"params\":{},\"type\":\"covid\"},{\"identifier\":\"free_consultations\",\"params\":{},\"type\":\"estimates\"},{\"identifier\":\"gift_cards_during_covid_19\",\"params\":{},\"type\":\"covid\"},{\"identifier\":\"certified_professionals\",\"params\":{},\"type\":\"features\"},{\"identifier\":\"free_wifi\",\"params\":{},\"type\":\"amenities\"}]',\n",
       " '[{\"identifier\":\"24_7_availability\",\"params\":{},\"type\":\"availability\"},{\"identifier\":\"remote_services_during_covid_19\",\"params\":{},\"type\":\"covid\"}]',\n",
       " '[{\"identifier\":\"takeout_during_covid_19\",\"params\":{},\"type\":\"covid\"},{\"identifier\":\"delivery_during_covid_19\",\"params\":{},\"type\":\"covid\"},{\"identifier\":\"curbside_pickup_during_covid_19\",\"params\":{},\"type\":\"covid\"},{\"identifier\":\"curbside_drop_off_during_covid_19\",\"params\":{},\"type\":\"covid\"},{\"identifier\":\"gift_cards_during_covid_19\",\"params\":{},\"type\":\"covid\"}]',\n",
       " '[{\"identifier\":\"takeout_during_covid_19\",\"params\":{},\"type\":\"covid\"},{\"identifier\":\"curbside_pickup_during_covid_19\",\"params\":{},\"type\":\"covid\"},{\"identifier\":\"gift_cards_during_covid_19\",\"params\":{},\"type\":\"covid\"},{\"identifier\":\"grab_and_go\",\"params\":{},\"type\":\"dining_options\"},{\"identifier\":\"family_owned_operated\",\"params\":{},\"type\":\"features\"},{\"identifier\":\"kid_friendly\",\"params\":{},\"type\":\"crowd\"}]',\n",
       " '[{\"identifier\":\"curbside_pickup_during_covid_19\",\"params\":{},\"type\":\"covid\"},{\"identifier\":\"delivery_during_covid_19\",\"params\":{},\"type\":\"covid\"},{\"identifier\":\"shipping_during_covid_19\",\"params\":{},\"type\":\"covid\"}]',\n",
       " '[{\"identifier\":\"delivery_during_covid_19\",\"params\":{},\"type\":\"covid\"},{\"identifier\":\"drive_thru_during_covid_19\",\"params\":{},\"type\":\"covid\"},{\"identifier\":\"takeout_during_covid_19\",\"params\":{},\"type\":\"covid\"}]',\n",
       " '[{\"identifier\":\"available_by_appointment\",\"params\":{},\"type\":\"availability\"},{\"identifier\":\"remote_services_during_covid_19\",\"params\":{},\"type\":\"covid\"}]',\n",
       " '[{\"identifier\":\"family_owned_operated\",\"params\":{},\"type\":\"features\"},{\"identifier\":\"veteran_owned_operated\",\"params\":{},\"type\":\"features\"},{\"identifier\":\"parts_labor_guaranteed\",\"params\":{},\"type\":\"guarantees\"},{\"identifier\":\"emergency_services\",\"params\":{},\"type\":\"availability\"},{\"identifier\":\"established_in\",\"params\":{\"year\":\"1981\"},\"type\":\"features\"},{\"identifier\":\"mobile_services_during_covid_19\",\"params\":{},\"type\":\"covid\"}]',\n",
       " '[{\"identifier\":\"gift_cards_during_covid_19\",\"params\":{},\"type\":\"covid\"},{\"identifier\":\"delivery_during_covid_19\",\"params\":{},\"type\":\"covid\"},{\"identifier\":\"curbside_pickup_during_covid_19\",\"params\":{},\"type\":\"covid\"},{\"identifier\":\"curbside_drop_off_during_covid_19\",\"params\":{},\"type\":\"covid\"},{\"identifier\":\"takeout_during_covid_19\",\"params\":{},\"type\":\"covid\"}]',\n",
       " '[{\"identifier\":\"walk_ins_welcome\",\"params\":{},\"type\":\"availability\"},{\"identifier\":\"available_by_appointment\",\"params\":{},\"type\":\"availability\"},{\"identifier\":\"online_classes_during_covid_19\",\"params\":{},\"type\":\"covid\"},{\"identifier\":\"certified_professionals\",\"params\":{},\"type\":\"features\"},{\"identifier\":\"free_estimates\",\"params\":{},\"type\":\"estimates\"},{\"identifier\":\"free_wifi\",\"params\":{},\"type\":\"amenities\"}]',\n",
       " '[{\"identifier\":\"delivery_during_covid_19\",\"params\":{},\"type\":\"covid\"},{\"identifier\":\"family_owned_operated\",\"params\":{},\"type\":\"features\"},{\"identifier\":\"free_wifi\",\"params\":{},\"type\":\"amenities\"},{\"identifier\":\"parts_labor_guaranteed\",\"params\":{},\"type\":\"guarantees\"},{\"identifier\":\"certified_professionals\",\"params\":{},\"type\":\"features\"},{\"identifier\":\"speaks_spanish\",\"params\":{},\"type\":\"features\"}]',\n",
       " '[{\"identifier\":\"online_classes_during_covid_19\",\"params\":{},\"type\":\"covid\"},{\"identifier\":\"locally_owned_operated\",\"params\":{},\"type\":\"features\"}]',\n",
       " '[{\"identifier\":\"delivery_during_covid_19\",\"params\":{},\"type\":\"covid\"},{\"identifier\":\"gift_cards_during_covid_19\",\"params\":{},\"type\":\"covid\"},{\"identifier\":\"takeout_during_covid_19\",\"params\":{},\"type\":\"covid\"}]',\n",
       " '[{\"identifier\":\"curbside_pickup_during_covid_19\",\"params\":{},\"type\":\"covid\"},{\"identifier\":\"delivery_during_covid_19\",\"params\":{},\"type\":\"covid\"},{\"identifier\":\"gift_cards_during_covid_19\",\"params\":{},\"type\":\"covid\"}]',\n",
       " '[{\"identifier\":\"delivery_during_covid_19\",\"params\":{},\"type\":\"covid\"},{\"identifier\":\"takeout_during_covid_19\",\"params\":{},\"type\":\"covid\"},{\"identifier\":\"locally_sourced_ingredients\",\"params\":{},\"type\":\"dining_options\"},{\"identifier\":\"discounts_available\",\"params\":{},\"type\":\"pricing\"}]',\n",
       " '[{\"identifier\":\"offers_commercial_services\",\"params\":{},\"type\":\"features\"},{\"identifier\":\"family_owned_operated\",\"params\":{},\"type\":\"features\"},{\"identifier\":\"virtual_estimates_during_covid_19\",\"params\":{},\"type\":\"covid\"},{\"identifier\":\"free_estimates\",\"params\":{},\"type\":\"estimates\"},{\"identifier\":\"workmanship_guaranteed\",\"params\":{},\"type\":\"guarantees\"},{\"identifier\":\"beat_or_match_prices\",\"params\":{},\"type\":\"pricing\"}]',\n",
       " '[{\"identifier\":\"delivery_during_covid_19\",\"params\":{},\"type\":\"covid\"},{\"identifier\":\"gift_cards_during_covid_19\",\"params\":{},\"type\":\"covid\"},{\"identifier\":\"shipping_during_covid_19\",\"params\":{},\"type\":\"covid\"}]',\n",
       " '[{\"identifier\":\"curbside_pickup_during_covid_19\",\"params\":{},\"type\":\"covid\"},{\"identifier\":\"takeout_during_covid_19\",\"params\":{},\"type\":\"covid\"},{\"identifier\":\"full_bar\",\"params\":{},\"type\":\"dining_options\"},{\"identifier\":\"grab_and_go\",\"params\":{},\"type\":\"dining_options\"},{\"identifier\":\"locally_owned_operated\",\"params\":{},\"type\":\"features\"},{\"identifier\":\"free_wifi\",\"params\":{},\"type\":\"amenities\"}]',\n",
       " '[{\"identifier\":\"delivery_during_covid_19\",\"params\":{},\"type\":\"covid\"},{\"identifier\":\"remote_services_during_covid_19\",\"params\":{},\"type\":\"covid\"},{\"identifier\":\"gift_cards_during_covid_19\",\"params\":{},\"type\":\"covid\"},{\"identifier\":\"curbside_pickup_during_covid_19\",\"params\":{},\"type\":\"covid\"},{\"identifier\":\"vegetarian_friendly\",\"params\":{},\"type\":\"dining_options\"},{\"identifier\":\"gluten_free_friendly\",\"params\":{},\"type\":\"dining_options\"}]',\n",
       " '[{\"identifier\":\"remote_services_during_covid_19\",\"params\":{},\"type\":\"covid\"},{\"identifier\":\"available_by_appointment\",\"params\":{},\"type\":\"availability\"},{\"identifier\":\"certified_professionals\",\"params\":{},\"type\":\"features\"}]',\n",
       " '[{\"identifier\":\"established_in\",\"params\":{\"year\":\"2007\"},\"type\":\"features\"},{\"identifier\":\"locally_owned_operated\",\"params\":{},\"type\":\"features\"},{\"identifier\":\"women_owned_operated\",\"params\":{},\"type\":\"features\"},{\"identifier\":\"lgbtq_friendly\",\"params\":{},\"type\":\"crowd\"},{\"identifier\":\"delivery_during_covid_19\",\"params\":{},\"type\":\"covid\"},{\"identifier\":\"kid_friendly\",\"params\":{},\"type\":\"crowd\"}]',\n",
       " '[{\"identifier\":\"curbside_pickup_during_covid_19\",\"params\":{},\"type\":\"covid\"},{\"identifier\":\"gift_cards_during_covid_19\",\"params\":{},\"type\":\"covid\"}]',\n",
       " '[{\"identifier\":\"curbside_pickup_during_covid_19\",\"params\":{},\"type\":\"covid\"},{\"identifier\":\"takeout_during_covid_19\",\"params\":{},\"type\":\"covid\"},{\"identifier\":\"catering_service\",\"params\":{},\"type\":\"dining_options\"},{\"identifier\":\"locally_owned_operated\",\"params\":{},\"type\":\"features\"},{\"identifier\":\"family_owned_operated\",\"params\":{},\"type\":\"features\"}]',\n",
       " '[{\"identifier\":\"gift_cards_during_covid_19\",\"params\":{},\"type\":\"covid\"},{\"identifier\":\"delivery_during_covid_19\",\"params\":{},\"type\":\"covid\"},{\"identifier\":\"takeout_during_covid_19\",\"params\":{},\"type\":\"covid\"},{\"identifier\":\"grab_and_go\",\"params\":{},\"type\":\"dining_options\"},{\"identifier\":\"curbside_drop_off_during_covid_19\",\"params\":{},\"type\":\"covid\"},{\"identifier\":\"curbside_pickup_during_covid_19\",\"params\":{},\"type\":\"covid\"}]',\n",
       " '[{\"identifier\":\"delivery_during_covid_19\",\"params\":{},\"type\":\"covid\"},{\"identifier\":\"takeout_during_covid_19\",\"params\":{},\"type\":\"covid\"},{\"identifier\":\"curbside_pickup_during_covid_19\",\"params\":{},\"type\":\"covid\"},{\"identifier\":\"casual_dining\",\"params\":{},\"type\":\"ambiance\"},{\"identifier\":\"gluten_free_friendly\",\"params\":{},\"type\":\"dining_options\"},{\"identifier\":\"kid_friendly\",\"params\":{},\"type\":\"crowd\"}]',\n",
       " '[{\"identifier\":\"gift_cards_during_covid_19\",\"params\":{},\"type\":\"covid\"},{\"identifier\":\"delivery_during_covid_19\",\"params\":{},\"type\":\"covid\"},{\"identifier\":\"curbside_pickup_during_covid_19\",\"params\":{},\"type\":\"covid\"},{\"identifier\":\"takeout_during_covid_19\",\"params\":{},\"type\":\"covid\"},{\"identifier\":\"vegetarian_friendly\",\"params\":{},\"type\":\"dining_options\"},{\"identifier\":\"vegan_friendly\",\"params\":{},\"type\":\"dining_options\"}]',\n",
       " '[{\"identifier\":\"remote_services_during_covid_19\",\"params\":{},\"type\":\"covid\"},{\"identifier\":\"certified_professionals\",\"params\":{},\"type\":\"features\"},{\"identifier\":\"24_7_availability\",\"params\":{},\"type\":\"availability\"},{\"identifier\":\"family_owned_operated\",\"params\":{},\"type\":\"features\"}]',\n",
       " '[{\"identifier\":\"shipping_during_covid_19\",\"params\":{},\"type\":\"covid\"},{\"identifier\":\"delivery_during_covid_19\",\"params\":{},\"type\":\"covid\"},{\"identifier\":\"remote_services_during_covid_19\",\"params\":{},\"type\":\"covid\"}]',\n",
       " '[{\"identifier\":\"gift_cards_during_covid_19\",\"params\":{},\"type\":\"covid\"},{\"identifier\":\"curbside_pickup_during_covid_19\",\"params\":{},\"type\":\"covid\"},{\"identifier\":\"takeout_during_covid_19\",\"params\":{},\"type\":\"covid\"},{\"identifier\":\"vegetarian_friendly\",\"params\":{},\"type\":\"dining_options\"},{\"identifier\":\"grab_and_go\",\"params\":{},\"type\":\"dining_options\"},{\"identifier\":\"delivery_during_covid_19\",\"params\":{},\"type\":\"covid\"}]',\n",
       " '[{\"identifier\":\"curbside_pickup_during_covid_19\",\"params\":{},\"type\":\"covid\"},{\"identifier\":\"gift_cards_during_covid_19\",\"params\":{},\"type\":\"covid\"},{\"identifier\":\"delivery_during_covid_19\",\"params\":{},\"type\":\"covid\"},{\"identifier\":\"remote_services_during_covid_19\",\"params\":{},\"type\":\"covid\"}]',\n",
       " '[{\"identifier\":\"family_owned_operated\",\"params\":{},\"type\":\"features\"},{\"identifier\":\"delivery_during_covid_19\",\"params\":{},\"type\":\"covid\"},{\"identifier\":\"years_in_business\",\"params\":{\"year\":\"13\"},\"type\":\"features\"},{\"identifier\":\"women_owned_operated\",\"params\":{},\"type\":\"features\"}]',\n",
       " '[{\"identifier\":\"takeout_during_covid_19\",\"params\":{},\"type\":\"covid\"},{\"identifier\":\"grab_and_go\",\"params\":{},\"type\":\"dining_options\"}]',\n",
       " '[{\"identifier\":\"takeout_during_covid_19\",\"params\":{},\"type\":\"covid\"},{\"identifier\":\"gift_cards_during_covid_19\",\"params\":{},\"type\":\"covid\"},{\"identifier\":\"curbside_pickup_during_covid_19\",\"params\":{},\"type\":\"covid\"},{\"identifier\":\"delivery_during_covid_19\",\"params\":{},\"type\":\"covid\"}]',\n",
       " '[{\"identifier\":\"delivery_during_covid_19\",\"params\":{},\"type\":\"covid\"},{\"identifier\":\"curbside_pickup_during_covid_19\",\"params\":{},\"type\":\"covid\"},{\"identifier\":\"curbside_drop_off_during_covid_19\",\"params\":{},\"type\":\"covid\"},{\"identifier\":\"takeout_during_covid_19\",\"params\":{},\"type\":\"covid\"},{\"identifier\":\"vegetarian_friendly\",\"params\":{},\"type\":\"dining_options\"},{\"identifier\":\"casual_dining\",\"params\":{},\"type\":\"ambiance\"}]',\n",
       " '[{\"identifier\":\"delivery_during_covid_19\",\"params\":{},\"type\":\"covid\"},{\"identifier\":\"takeout_during_covid_19\",\"params\":{},\"type\":\"covid\"},{\"identifier\":\"curbside_pickup_during_covid_19\",\"params\":{},\"type\":\"covid\"},{\"identifier\":\"locally_owned_operated\",\"params\":{},\"type\":\"features\"},{\"identifier\":\"vegan_friendly\",\"params\":{},\"type\":\"dining_options\"},{\"identifier\":\"lgbtq_friendly\",\"params\":{},\"type\":\"crowd\"}]',\n",
       " '[{\"identifier\":\"takeout_during_covid_19\",\"params\":{},\"type\":\"covid\"},{\"identifier\":\"vegetarian_friendly\",\"params\":{},\"type\":\"dining_options\"},{\"identifier\":\"gluten_free_friendly\",\"params\":{},\"type\":\"dining_options\"},{\"identifier\":\"casual_dining\",\"params\":{},\"type\":\"ambiance\"},{\"identifier\":\"years_in_business\",\"params\":{\"year\":\"15\"},\"type\":\"features\"},{\"identifier\":\"discounts_available\",\"params\":{},\"type\":\"pricing\"}]',\n",
       " '[{\"identifier\":\"locally_owned_operated\",\"params\":{},\"type\":\"features\"},{\"identifier\":\"virtual_estimates_during_covid_19\",\"params\":{},\"type\":\"covid\"},{\"identifier\":\"remote_services_during_covid_19\",\"params\":{},\"type\":\"covid\"},{\"identifier\":\"family_owned_operated\",\"params\":{},\"type\":\"features\"},{\"identifier\":\"24_7_availability\",\"params\":{},\"type\":\"availability\"}]',\n",
       " '[{\"identifier\":\"curbside_drop_off_during_covid_19\",\"params\":{},\"type\":\"covid\"},{\"identifier\":\"curbside_pickup_during_covid_19\",\"params\":{},\"type\":\"covid\"},{\"identifier\":\"virtual_estimates_during_covid_19\",\"params\":{},\"type\":\"covid\"},{\"identifier\":\"available_by_appointment\",\"params\":{},\"type\":\"availability\"}]',\n",
       " '[{\"identifier\":\"years_in_business\",\"params\":{\"year\":\"32\"},\"type\":\"features\"},{\"identifier\":\"free_consultations\",\"params\":{},\"type\":\"estimates\"},{\"identifier\":\"certified_professionals\",\"params\":{},\"type\":\"features\"},{\"identifier\":\"locally_owned_operated\",\"params\":{},\"type\":\"features\"},{\"identifier\":\"remote_services_during_covid_19\",\"params\":{},\"type\":\"covid\"},{\"identifier\":\"offers_customized_solutions\",\"params\":{},\"type\":\"features\"}]',\n",
       " '[{\"identifier\":\"takeout_during_covid_19\",\"params\":{},\"type\":\"covid\"},{\"identifier\":\"delivery_during_covid_19\",\"params\":{},\"type\":\"covid\"},{\"identifier\":\"years_in_business\",\"params\":{\"year\":\"23\"},\"type\":\"features\"},{\"identifier\":\"free_parking\",\"params\":{},\"type\":\"amenities\"}]',\n",
       " '[{\"identifier\":\"gift_cards_during_covid_19\",\"params\":{},\"type\":\"covid\"},{\"identifier\":\"takeout_during_covid_19\",\"params\":{},\"type\":\"covid\"},{\"identifier\":\"curbside_drop_off_during_covid_19\",\"params\":{},\"type\":\"covid\"},{\"identifier\":\"gluten_free_friendly\",\"params\":{},\"type\":\"dining_options\"},{\"identifier\":\"fine_dining\",\"params\":{},\"type\":\"ambiance\"},{\"identifier\":\"years_in_business\",\"params\":{\"year\":\"65\"},\"type\":\"features\"}]',\n",
       " '[{\"identifier\":\"discounts_available\",\"params\":{},\"type\":\"pricing\"},{\"identifier\":\"shipping_during_covid_19\",\"params\":{},\"type\":\"covid\"}]',\n",
       " '[{\"identifier\":\"gift_cards_during_covid_19\",\"params\":{},\"type\":\"covid\"},{\"identifier\":\"family_owned_operated\",\"params\":{},\"type\":\"features\"},{\"identifier\":\"available_by_appointment\",\"params\":{},\"type\":\"availability\"},{\"identifier\":\"free_estimates\",\"params\":{},\"type\":\"estimates\"},{\"identifier\":\"eco_friendly\",\"params\":{},\"type\":\"features\"},{\"identifier\":\"luxury\",\"params\":{},\"type\":\"features\"}]',\n",
       " '[{\"identifier\":\"curbside_pickup_during_covid_19\",\"params\":{},\"type\":\"covid\"},{\"identifier\":\"takeout_during_covid_19\",\"params\":{},\"type\":\"covid\"},{\"identifier\":\"gift_cards_during_covid_19\",\"params\":{},\"type\":\"covid\"},{\"identifier\":\"delivery_during_covid_19\",\"params\":{},\"type\":\"covid\"}]',\n",
       " '[{\"identifier\":\"delivery_during_covid_19\",\"params\":{},\"type\":\"covid\"},{\"identifier\":\"takeout_during_covid_19\",\"params\":{},\"type\":\"covid\"},{\"identifier\":\"delivery_during_covid_19\",\"params\":{},\"type\":\"covid\"},{\"identifier\":\"takeout_during_covid_19\",\"params\":{},\"type\":\"covid\"}]',\n",
       " '[{\"identifier\":\"delivery_during_covid_19\",\"params\":{},\"type\":\"covid\"},{\"identifier\":\"curbside_drop_off_during_covid_19\",\"params\":{},\"type\":\"covid\"},{\"identifier\":\"takeout_during_covid_19\",\"params\":{},\"type\":\"covid\"},{\"identifier\":\"mobile_services_during_covid_19\",\"params\":{},\"type\":\"covid\"},{\"identifier\":\"curbside_pickup_during_covid_19\",\"params\":{},\"type\":\"covid\"},{\"identifier\":\"gift_cards_during_covid_19\",\"params\":{},\"type\":\"covid\"}]',\n",
       " '[{\"identifier\":\"takeout_during_covid_19\",\"params\":{},\"type\":\"covid\"},{\"identifier\":\"vegetarian_friendly\",\"params\":{},\"type\":\"dining_options\"},{\"identifier\":\"gluten_free_friendly\",\"params\":{},\"type\":\"dining_options\"},{\"identifier\":\"casual_dining\",\"params\":{},\"type\":\"ambiance\"},{\"identifier\":\"years_in_business\",\"params\":{\"year\":\"7\"},\"type\":\"features\"},{\"identifier\":\"veteran_owned_operated\",\"params\":{},\"type\":\"features\"}]',\n",
       " '[{\"identifier\":\"takeout_during_covid_19\",\"params\":{},\"type\":\"covid\"},{\"identifier\":\"curbside_pickup_during_covid_19\",\"params\":{},\"type\":\"covid\"},{\"identifier\":\"delivery_during_covid_19\",\"params\":{},\"type\":\"covid\"},{\"identifier\":\"vegetarian_friendly\",\"params\":{},\"type\":\"dining_options\"},{\"identifier\":\"vegan_friendly\",\"params\":{},\"type\":\"dining_options\"},{\"identifier\":\"gluten_free_friendly\",\"params\":{},\"type\":\"dining_options\"}]',\n",
       " '[{\"identifier\":\"takeout_during_covid_19\",\"params\":{},\"type\":\"covid\"},{\"identifier\":\"family_owned_operated\",\"params\":{},\"type\":\"features\"},{\"identifier\":\"years_in_business\",\"params\":{\"year\":\"6\"},\"type\":\"features\"},{\"identifier\":\"locally_owned_operated\",\"params\":{},\"type\":\"features\"},{\"identifier\":\"women_owned_operated\",\"params\":{},\"type\":\"features\"},{\"identifier\":\"outdoor_seating_sponsored\",\"params\":{},\"type\":\"amenities\"}]',\n",
       " '[{\"identifier\":\"delivery_during_covid_19\",\"params\":{},\"type\":\"covid\"},{\"identifier\":\"takeout_during_covid_19\",\"params\":{},\"type\":\"covid\"},{\"identifier\":\"takes_reservations\",\"params\":{},\"type\":\"dining_options\"},{\"identifier\":\"vegan_friendly\",\"params\":{},\"type\":\"dining_options\"},{\"identifier\":\"locally_sourced_ingredients\",\"params\":{},\"type\":\"dining_options\"},{\"identifier\":\"full_bar\",\"params\":{},\"type\":\"dining_options\"}]',\n",
       " '[{\"identifier\":\"grab_and_go\",\"params\":{},\"type\":\"dining_options\"},{\"identifier\":\"drive_thru\",\"params\":{},\"type\":\"amenities\"},{\"identifier\":\"catering_service\",\"params\":{},\"type\":\"dining_options\"},{\"identifier\":\"family_owned_operated\",\"params\":{},\"type\":\"features\"},{\"identifier\":\"private_events\",\"params\":{},\"type\":\"amenities\"},{\"identifier\":\"drive_thru_during_covid_19\",\"params\":{},\"type\":\"covid\"}]',\n",
       " '[{\"identifier\":\"remote_services_during_covid_19\",\"params\":{},\"type\":\"covid\"},{\"identifier\":\"available_by_appointment\",\"params\":{},\"type\":\"availability\"},{\"identifier\":\"virtual_estimates_during_covid_19\",\"params\":{},\"type\":\"covid\"},{\"identifier\":\"consultations_available\",\"params\":{},\"type\":\"estimates\"},{\"identifier\":\"certified_professionals\",\"params\":{},\"type\":\"features\"},{\"identifier\":\"offers_customized_solutions\",\"params\":{},\"type\":\"features\"}]',\n",
       " '[{\"identifier\":\"drive_thru_during_covid_19\",\"params\":{},\"type\":\"covid\"},{\"identifier\":\"takeout_during_covid_19\",\"params\":{},\"type\":\"covid\"},{\"identifier\":\"mobile_services_during_covid_19\",\"params\":{},\"type\":\"covid\"},{\"identifier\":\"speaks_mandarin\",\"params\":{},\"type\":\"features\"},{\"identifier\":\"years_in_business\",\"params\":{\"year\":\"1993\"},\"type\":\"features\"},{\"identifier\":\"drive_thru\",\"params\":{},\"type\":\"amenities\"}]',\n",
       " '[{\"identifier\":\"curbside_pickup_during_covid_19\",\"params\":{},\"type\":\"covid\"},{\"identifier\":\"takeout_during_covid_19\",\"params\":{},\"type\":\"covid\"},{\"identifier\":\"curbside_drop_off_during_covid_19\",\"params\":{},\"type\":\"covid\"},{\"identifier\":\"grab_and_go\",\"params\":{},\"type\":\"dining_options\"},{\"identifier\":\"years_in_business\",\"params\":{\"year\":\"12\"},\"type\":\"features\"}]',\n",
       " '[{\"identifier\":\"curbside_drop_off_during_covid_19\",\"params\":{},\"type\":\"covid\"},{\"identifier\":\"delivery_during_covid_19\",\"params\":{},\"type\":\"covid\"},{\"identifier\":\"grab_and_go\",\"params\":{},\"type\":\"dining_options\"},{\"identifier\":\"casual_dining\",\"params\":{},\"type\":\"ambiance\"},{\"identifier\":\"locally_owned_operated\",\"params\":{},\"type\":\"features\"},{\"identifier\":\"outdoor_seating_sponsored\",\"params\":{},\"type\":\"amenities\"}]',\n",
       " '[{\"identifier\":\"gift_cards_during_covid_19\",\"params\":{},\"type\":\"covid\"},{\"identifier\":\"delivery_during_covid_19\",\"params\":{},\"type\":\"covid\"},{\"identifier\":\"takeout_during_covid_19\",\"params\":{},\"type\":\"covid\"},{\"identifier\":\"happy_hour_specials\",\"params\":{},\"type\":\"dining_options\"},{\"identifier\":\"full_bar\",\"params\":{},\"type\":\"dining_options\"},{\"identifier\":\"kitchen_open_late\",\"params\":{},\"type\":\"dining_options\"}]',\n",
       " '[{\"identifier\":\"virtual_estimates_during_covid_19\",\"params\":{},\"type\":\"covid\"},{\"identifier\":\"remote_services_during_covid_19\",\"params\":{},\"type\":\"covid\"},{\"identifier\":\"free_estimates\",\"params\":{},\"type\":\"estimates\"},{\"identifier\":\"pet_friendly\",\"params\":{},\"type\":\"crowd\"},{\"identifier\":\"satisfaction_guaranteed\",\"params\":{},\"type\":\"guarantees\"},{\"identifier\":\"luxury\",\"params\":{},\"type\":\"features\"}]',\n",
       " '[{\"identifier\":\"gift_cards_during_covid_19\",\"params\":{},\"type\":\"covid\"},{\"identifier\":\"vegetarian_friendly\",\"params\":{},\"type\":\"dining_options\"},{\"identifier\":\"gluten_free_friendly\",\"params\":{},\"type\":\"dining_options\"},{\"identifier\":\"happy_hour_specials\",\"params\":{},\"type\":\"dining_options\"},{\"identifier\":\"healthy_dining\",\"params\":{},\"type\":\"dining_options\"},{\"identifier\":\"full_bar\",\"params\":{},\"type\":\"dining_options\"}]',\n",
       " '[{\"identifier\":\"virtual_estimates_during_covid_19\",\"params\":{},\"type\":\"covid\"},{\"identifier\":\"available_by_appointment\",\"params\":{},\"type\":\"availability\"},{\"identifier\":\"certified_professionals\",\"params\":{},\"type\":\"features\"},{\"identifier\":\"consultations_available\",\"params\":{},\"type\":\"estimates\"}]',\n",
       " '[{\"identifier\":\"curbside_pickup_during_covid_19\",\"params\":{},\"type\":\"covid\"},{\"identifier\":\"shipping_during_covid_19\",\"params\":{},\"type\":\"covid\"},{\"identifier\":\"free_consultations\",\"params\":{},\"type\":\"estimates\"},{\"identifier\":\"locally_owned_operated\",\"params\":{},\"type\":\"features\"},{\"identifier\":\"women_owned_operated\",\"params\":{},\"type\":\"features\"},{\"identifier\":\"boutique\",\"params\":{},\"type\":\"features\"}]',\n",
       " '[{\"identifier\":\"delivery_during_covid_19\",\"params\":{},\"type\":\"covid\"},{\"identifier\":\"takeout_during_covid_19\",\"params\":{},\"type\":\"covid\"},{\"identifier\":\"vegan_friendly\",\"params\":{},\"type\":\"dining_options\"},{\"identifier\":\"vegetarian_friendly\",\"params\":{},\"type\":\"dining_options\"},{\"identifier\":\"gluten_free_friendly\",\"params\":{},\"type\":\"dining_options\"},{\"identifier\":\"mobile_services_during_covid_19\",\"params\":{},\"type\":\"covid\"}]',\n",
       " '[{\"identifier\":\"veteran_owned_operated\",\"params\":{},\"type\":\"features\"},{\"identifier\":\"minority_owned_operated\",\"params\":{},\"type\":\"features\"},{\"identifier\":\"established_in\",\"params\":{\"year\":\"2018\"},\"type\":\"features\"},{\"identifier\":\"gift_cards_during_covid_19\",\"params\":{},\"type\":\"covid\"},{\"identifier\":\"delivery_during_covid_19\",\"params\":{},\"type\":\"covid\"},{\"identifier\":\"curbside_pickup_during_covid_19\",\"params\":{},\"type\":\"covid\"}]',\n",
       " '[{\"identifier\":\"takeout_during_covid_19\",\"params\":{},\"type\":\"covid\"},{\"identifier\":\"delivery_during_covid_19\",\"params\":{},\"type\":\"covid\"},{\"identifier\":\"curbside_pickup_during_covid_19\",\"params\":{},\"type\":\"covid\"}]',\n",
       " '[{\"identifier\":\"shipping_during_covid_19\",\"params\":{},\"type\":\"covid\"},{\"identifier\":\"satisfaction_guaranteed\",\"params\":{},\"type\":\"guarantees\"}]',\n",
       " '[{\"identifier\":\"delivery_during_covid_19\",\"params\":{},\"type\":\"covid\"},{\"identifier\":\"locally_owned_operated\",\"params\":{},\"type\":\"features\"},{\"identifier\":\"offers_customized_solutions\",\"params\":{},\"type\":\"features\"},{\"identifier\":\"discounts_available\",\"params\":{},\"type\":\"pricing\"},{\"identifier\":\"results_guaranteed\",\"params\":{},\"type\":\"guarantees\"},{\"identifier\":\"free_estimates\",\"params\":{},\"type\":\"estimates\"}]',\n",
       " '[{\"identifier\":\"delivery_during_covid_19\",\"params\":{},\"type\":\"covid\"},{\"identifier\":\"shipping_during_covid_19\",\"params\":{},\"type\":\"covid\"},{\"identifier\":\"drive_thru_during_covid_19\",\"params\":{},\"type\":\"covid\"},{\"identifier\":\"delivery_during_covid_19\",\"params\":{},\"type\":\"covid\"},{\"identifier\":\"shipping_during_covid_19\",\"params\":{},\"type\":\"covid\"},{\"identifier\":\"drive_thru_during_covid_19\",\"params\":{},\"type\":\"covid\"}]',\n",
       " '[{\"identifier\":\"locally_owned_operated\",\"params\":{},\"type\":\"features\"},{\"identifier\":\"free_estimates\",\"params\":{},\"type\":\"estimates\"},{\"identifier\":\"satisfaction_guaranteed\",\"params\":{},\"type\":\"guarantees\"},{\"identifier\":\"offers_payment_plans\",\"params\":{},\"type\":\"pricing\"},{\"identifier\":\"curbside_pickup_during_covid_19\",\"params\":{},\"type\":\"covid\"},{\"identifier\":\"delivery_during_covid_19\",\"params\":{},\"type\":\"covid\"}]',\n",
       " '[{\"identifier\":\"mobile_services_during_covid_19\",\"params\":{},\"type\":\"covid\"},{\"identifier\":\"years_in_business\",\"params\":{\"year\":\"30\"},\"type\":\"features\"},{\"identifier\":\"certified_professionals\",\"params\":{},\"type\":\"features\"},{\"identifier\":\"satisfaction_guaranteed\",\"params\":{},\"type\":\"guarantees\"},{\"identifier\":\"family_owned_operated\",\"params\":{},\"type\":\"features\"}]',\n",
       " '[{\"identifier\":\"takeout_during_covid_19\",\"params\":{},\"type\":\"covid\"},{\"identifier\":\"curbside_drop_off_during_covid_19\",\"params\":{},\"type\":\"covid\"},{\"identifier\":\"delivery_during_covid_19\",\"params\":{},\"type\":\"covid\"},{\"identifier\":\"gift_cards_during_covid_19\",\"params\":{},\"type\":\"covid\"},{\"identifier\":\"curbside_pickup_during_covid_19\",\"params\":{},\"type\":\"covid\"},{\"identifier\":\"casual_dining\",\"params\":{},\"type\":\"ambiance\"}]',\n",
       " '[{\"identifier\":\"years_in_business\",\"params\":{\"year\":\"17\"},\"type\":\"features\"},{\"identifier\":\"online_classes_during_covid_19\",\"params\":{},\"type\":\"covid\"},{\"identifier\":\"remote_services_during_covid_19\",\"params\":{},\"type\":\"covid\"}]',\n",
       " '[{\"identifier\":\"locally_owned_operated\",\"params\":{},\"type\":\"features\"},{\"identifier\":\"free_estimates\",\"params\":{},\"type\":\"estimates\"},{\"identifier\":\"certified_professionals\",\"params\":{},\"type\":\"features\"},{\"identifier\":\"virtual_estimates_during_covid_19\",\"params\":{},\"type\":\"covid\"},{\"identifier\":\"available_by_appointment\",\"params\":{},\"type\":\"availability\"}]',\n",
       " '[{\"identifier\":\"takeout_during_covid_19\",\"params\":{},\"type\":\"covid\"},{\"identifier\":\"locally_owned_operated\",\"params\":{},\"type\":\"features\"}]',\n",
       " '[{\"identifier\":\"delivery_during_covid_19\",\"params\":{},\"type\":\"covid\"},{\"identifier\":\"curbside_pickup_during_covid_19\",\"params\":{},\"type\":\"covid\"},{\"identifier\":\"healthy_dining\",\"params\":{},\"type\":\"dining_options\"},{\"identifier\":\"vegan_friendly\",\"params\":{},\"type\":\"dining_options\"},{\"identifier\":\"locally_sourced_ingredients\",\"params\":{},\"type\":\"dining_options\"},{\"identifier\":\"takeout_during_covid_19\",\"params\":{},\"type\":\"covid\"}]',\n",
       " '[{\"identifier\":\"curbside_pickup_during_covid_19\",\"params\":{},\"type\":\"covid\"},{\"identifier\":\"family_owned_operated\",\"params\":{},\"type\":\"features\"},{\"identifier\":\"years_in_business\",\"params\":{\"year\":\"80\"},\"type\":\"features\"},{\"identifier\":\"outdoor_seating_sponsored\",\"params\":{},\"type\":\"amenities\"},{\"identifier\":\"live_music_sponsored\",\"params\":{},\"type\":\"amenities\"},{\"identifier\":\"sports_on_tv\",\"params\":{},\"type\":\"amenities\"}]',\n",
       " '[{\"identifier\":\"delivery_during_covid_19\",\"params\":{},\"type\":\"covid\"},{\"identifier\":\"gluten_free_friendly\",\"params\":{},\"type\":\"dining_options\"},{\"identifier\":\"curbside_pickup_during_covid_19\",\"params\":{},\"type\":\"covid\"},{\"identifier\":\"healthy_dining\",\"params\":{},\"type\":\"dining_options\"},{\"identifier\":\"locally_owned_operated\",\"params\":{},\"type\":\"features\"},{\"identifier\":\"outdoor_seating_sponsored\",\"params\":{},\"type\":\"amenities\"}]',\n",
       " '[{\"identifier\":\"delivery_during_covid_19\",\"params\":{},\"type\":\"covid\"},{\"identifier\":\"shipping_during_covid_19\",\"params\":{},\"type\":\"covid\"},{\"identifier\":\"remote_services_during_covid_19\",\"params\":{},\"type\":\"covid\"}]',\n",
       " '[{\"identifier\":\"grab_and_go\",\"params\":{},\"type\":\"dining_options\"},{\"identifier\":\"catering_service\",\"params\":{},\"type\":\"dining_options\"},{\"identifier\":\"gift_cards_during_covid_19\",\"params\":{},\"type\":\"covid\"},{\"identifier\":\"delivery_during_covid_19\",\"params\":{},\"type\":\"covid\"},{\"identifier\":\"curbside_pickup_during_covid_19\",\"params\":{},\"type\":\"covid\"},{\"identifier\":\"takeout_during_covid_19\",\"params\":{},\"type\":\"covid\"}]',\n",
       " '[{\"identifier\":\"delivery_during_covid_19\",\"params\":{},\"type\":\"covid\"},{\"identifier\":\"discounts_available\",\"params\":{},\"type\":\"pricing\"},{\"identifier\":\"locally_owned_operated\",\"params\":{},\"type\":\"features\"},{\"identifier\":\"halal\",\"params\":{},\"type\":\"dining_options\"},{\"identifier\":\"mobile_services_during_covid_19\",\"params\":{},\"type\":\"covid\"},{\"identifier\":\"takeout_during_covid_19\",\"params\":{},\"type\":\"covid\"}]',\n",
       " '[{\"identifier\":\"online_classes_during_covid_19\",\"params\":{},\"type\":\"covid\"},{\"identifier\":\"remote_services_during_covid_19\",\"params\":{},\"type\":\"covid\"},{\"identifier\":\"established_in\",\"params\":{\"year\":\"2009\"},\"type\":\"features\"}]',\n",
       " '[{\"identifier\":\"full_bar\",\"params\":{},\"type\":\"dining_options\"},{\"identifier\":\"locally_owned_operated\",\"params\":{},\"type\":\"features\"},{\"identifier\":\"years_in_business\",\"params\":{\"year\":\"8\"},\"type\":\"features\"},{\"identifier\":\"curbside_pickup_during_covid_19\",\"params\":{},\"type\":\"covid\"},{\"identifier\":\"takeout_during_covid_19\",\"params\":{},\"type\":\"covid\"},{\"identifier\":\"catering_service\",\"params\":{},\"type\":\"dining_options\"}]',\n",
       " '[{\"identifier\":\"drive_thru_during_covid_19\",\"params\":{},\"type\":\"covid\"},{\"identifier\":\"takeout_during_covid_19\",\"params\":{},\"type\":\"covid\"},{\"identifier\":\"delivery_during_covid_19\",\"params\":{},\"type\":\"covid\"},{\"identifier\":\"grab_and_go\",\"params\":{},\"type\":\"dining_options\"},{\"identifier\":\"mobile_services_during_covid_19\",\"params\":{},\"type\":\"covid\"}]',\n",
       " '[{\"identifier\":\"delivery_during_covid_19\",\"params\":{},\"type\":\"covid\"},{\"identifier\":\"curbside_pickup_during_covid_19\",\"params\":{},\"type\":\"covid\"},{\"identifier\":\"gift_cards_during_covid_19\",\"params\":{},\"type\":\"covid\"},{\"identifier\":\"takeout_during_covid_19\",\"params\":{},\"type\":\"covid\"},{\"identifier\":\"discounts_available\",\"params\":{},\"type\":\"pricing\"},{\"identifier\":\"vegan_friendly\",\"params\":{},\"type\":\"dining_options\"}]',\n",
       " '[{\"identifier\":\"delivery_during_covid_19\",\"params\":{},\"type\":\"covid\"},{\"identifier\":\"takeout_during_covid_19\",\"params\":{},\"type\":\"covid\"},{\"identifier\":\"curbside_pickup_during_covid_19\",\"params\":{},\"type\":\"covid\"},{\"identifier\":\"drive_thru\",\"params\":{},\"type\":\"amenities\"},{\"identifier\":\"gift_cards_during_covid_19\",\"params\":{},\"type\":\"covid\"},{\"identifier\":\"grab_and_go\",\"params\":{},\"type\":\"dining_options\"}]',\n",
       " '[{\"identifier\":\"years_in_business\",\"params\":{\"year\":\"23\"},\"type\":\"features\"},{\"identifier\":\"online_classes_during_covid_19\",\"params\":{},\"type\":\"covid\"},{\"identifier\":\"remote_services_during_covid_19\",\"params\":{},\"type\":\"covid\"}]',\n",
       " '[{\"identifier\":\"years_in_business\",\"params\":{\"year\":\"22\"},\"type\":\"features\"},{\"identifier\":\"online_classes_during_covid_19\",\"params\":{},\"type\":\"covid\"},{\"identifier\":\"remote_services_during_covid_19\",\"params\":{},\"type\":\"covid\"}]',\n",
       " '[{\"identifier\":\"takeout_during_covid_19\",\"params\":{},\"type\":\"covid\"},{\"identifier\":\"vegetarian_friendly\",\"params\":{},\"type\":\"dining_options\"},{\"identifier\":\"vegan_friendly\",\"params\":{},\"type\":\"dining_options\"},{\"identifier\":\"grab_and_go\",\"params\":{},\"type\":\"dining_options\"},{\"identifier\":\"catering_service\",\"params\":{},\"type\":\"dining_options\"},{\"identifier\":\"hipster_vibe\",\"params\":{},\"type\":\"ambiance\"}]',\n",
       " '[{\"identifier\":\"delivery_during_covid_19\",\"params\":{},\"type\":\"covid\"},{\"identifier\":\"takeout_during_covid_19\",\"params\":{},\"type\":\"covid\"},{\"identifier\":\"vegetarian_friendly\",\"params\":{},\"type\":\"dining_options\"},{\"identifier\":\"happy_hour_specials\",\"params\":{},\"type\":\"dining_options\"},{\"identifier\":\"catering_service\",\"params\":{},\"type\":\"dining_options\"},{\"identifier\":\"outdoor_seating_sponsored\",\"params\":{},\"type\":\"amenities\"}]',\n",
       " '[{\"identifier\":\"takeout_during_covid_19\",\"params\":{},\"type\":\"covid\"},{\"identifier\":\"outdoor_seating_sponsored\",\"params\":{},\"type\":\"amenities\"}]',\n",
       " '[{\"identifier\":\"virtual_estimates_during_covid_19\",\"params\":{},\"type\":\"covid\"},{\"identifier\":\"locally_owned_operated\",\"params\":{},\"type\":\"features\"},{\"identifier\":\"certified_professionals\",\"params\":{},\"type\":\"features\"},{\"identifier\":\"free_estimates\",\"params\":{},\"type\":\"estimates\"},{\"identifier\":\"repairs_guaranteed\",\"params\":{},\"type\":\"guarantees\"},{\"identifier\":\"walk_ins_welcome\",\"params\":{},\"type\":\"availability\"}]',\n",
       " '[{\"identifier\":\"takeout_during_covid_19\",\"params\":{},\"type\":\"covid\"},{\"identifier\":\"curbside_pickup_during_covid_19\",\"params\":{},\"type\":\"covid\"},{\"identifier\":\"delivery_during_covid_19\",\"params\":{},\"type\":\"covid\"}]',\n",
       " '[{\"identifier\":\"years_in_business\",\"params\":{\"year\":\"15\"},\"type\":\"features\"},{\"identifier\":\"speaks_spanish\",\"params\":{},\"type\":\"features\"},{\"identifier\":\"offers_payment_plans\",\"params\":{},\"type\":\"pricing\"},{\"identifier\":\"remote_services_during_covid_19\",\"params\":{},\"type\":\"covid\"},{\"identifier\":\"offers_customized_solutions\",\"params\":{},\"type\":\"features\"},{\"identifier\":\"free_consultations\",\"params\":{},\"type\":\"estimates\"}]',\n",
       " '[{\"identifier\":\"curbside_pickup_during_covid_19\",\"params\":{},\"type\":\"covid\"},{\"identifier\":\"takeout_during_covid_19\",\"params\":{},\"type\":\"covid\"},{\"identifier\":\"kid_friendly\",\"params\":{},\"type\":\"crowd\"},{\"identifier\":\"full_bar\",\"params\":{},\"type\":\"dining_options\"},{\"identifier\":\"gift_cards_during_covid_19\",\"params\":{},\"type\":\"covid\"}]',\n",
       " '[{\"identifier\":\"remote_services_during_covid_19\",\"params\":{},\"type\":\"covid\"},{\"identifier\":\"offers_payment_plans\",\"params\":{},\"type\":\"pricing\"},{\"identifier\":\"consultations_available\",\"params\":{},\"type\":\"estimates\"}]',\n",
       " '[{\"identifier\":\"curbside_pickup_during_covid_19\",\"params\":{},\"type\":\"covid\"},{\"identifier\":\"shipping_during_covid_19\",\"params\":{},\"type\":\"covid\"},{\"identifier\":\"online_classes_during_covid_19\",\"params\":{},\"type\":\"covid\"}]',\n",
       " '[{\"identifier\":\"takeout_during_covid_19\",\"params\":{},\"type\":\"covid\"},{\"identifier\":\"delivery_during_covid_19\",\"params\":{},\"type\":\"covid\"},{\"identifier\":\"gluten_free_friendly\",\"params\":{},\"type\":\"dining_options\"},{\"identifier\":\"vegetarian_friendly\",\"params\":{},\"type\":\"dining_options\"},{\"identifier\":\"gift_cards_during_covid_19\",\"params\":{},\"type\":\"covid\"}]',\n",
       " '[{\"identifier\":\"curbside_pickup_during_covid_19\",\"params\":{},\"type\":\"covid\"},{\"identifier\":\"locally_owned_operated\",\"params\":{},\"type\":\"features\"},{\"identifier\":\"delivery_during_covid_19\",\"params\":{},\"type\":\"covid\"},{\"identifier\":\"takeout_during_covid_19\",\"params\":{},\"type\":\"covid\"},{\"identifier\":\"catering_service\",\"params\":{},\"type\":\"dining_options\"},{\"identifier\":\"kid_friendly\",\"params\":{},\"type\":\"crowd\"}]',\n",
       " '[{\"identifier\":\"certified_professionals\",\"params\":{},\"type\":\"features\"},{\"identifier\":\"online_classes_during_covid_19\",\"params\":{},\"type\":\"covid\"}]',\n",
       " '[{\"identifier\":\"takeout_during_covid_19\",\"params\":{},\"type\":\"covid\"},{\"identifier\":\"vegetarian_friendly\",\"params\":{},\"type\":\"dining_options\"},{\"identifier\":\"grab_and_go\",\"params\":{},\"type\":\"dining_options\"},{\"identifier\":\"family_owned_operated\",\"params\":{},\"type\":\"features\"},{\"identifier\":\"speaks_spanish\",\"params\":{},\"type\":\"features\"},{\"identifier\":\"outdoor_seating_sponsored\",\"params\":{},\"type\":\"amenities\"}]',\n",
       " '[{\"identifier\":\"curbside_pickup_during_covid_19\",\"params\":{},\"type\":\"covid\"},{\"identifier\":\"drive_thru_during_covid_19\",\"params\":{},\"type\":\"covid\"},{\"identifier\":\"grab_and_go\",\"params\":{},\"type\":\"dining_options\"},{\"identifier\":\"full_bar\",\"params\":{},\"type\":\"dining_options\"},{\"identifier\":\"takeout_during_covid_19\",\"params\":{},\"type\":\"covid\"},{\"identifier\":\"locally_owned_operated\",\"params\":{},\"type\":\"features\"}]',\n",
       " '[{\"identifier\":\"gift_cards_during_covid_19\",\"params\":{},\"type\":\"covid\"},{\"identifier\":\"curbside_pickup_during_covid_19\",\"params\":{},\"type\":\"covid\"},{\"identifier\":\"takeout_during_covid_19\",\"params\":{},\"type\":\"covid\"},{\"identifier\":\"vegetarian_friendly\",\"params\":{},\"type\":\"dining_options\"},{\"identifier\":\"gluten_free_friendly\",\"params\":{},\"type\":\"dining_options\"},{\"identifier\":\"family_owned_operated\",\"params\":{},\"type\":\"features\"}]',\n",
       " '[{\"identifier\":\"takeout_during_covid_19\",\"params\":{},\"type\":\"covid\"},{\"identifier\":\"delivery_during_covid_19\",\"params\":{},\"type\":\"covid\"},{\"identifier\":\"gift_cards_during_covid_19\",\"params\":{},\"type\":\"covid\"},{\"identifier\":\"discounts_available\",\"params\":{},\"type\":\"pricing\"},{\"identifier\":\"curbside_pickup_during_covid_19\",\"params\":{},\"type\":\"covid\"},{\"identifier\":\"locally_owned_operated\",\"params\":{},\"type\":\"features\"}]',\n",
       " '[{\"identifier\":\"takeout_during_covid_19\",\"params\":{},\"type\":\"covid\"},{\"identifier\":\"vegetarian_friendly\",\"params\":{},\"type\":\"dining_options\"},{\"identifier\":\"delivery_during_covid_19\",\"params\":{},\"type\":\"covid\"},{\"identifier\":\"full_bar\",\"params\":{},\"type\":\"dining_options\"},{\"identifier\":\"takes_reservations\",\"params\":{},\"type\":\"dining_options\"},{\"identifier\":\"outdoor_seating_sponsored\",\"params\":{},\"type\":\"amenities\"}]',\n",
       " '[{\"identifier\":\"curbside_pickup_during_covid_19\",\"params\":{},\"type\":\"covid\"},{\"identifier\":\"takeout_during_covid_19\",\"params\":{},\"type\":\"covid\"},{\"identifier\":\"delivery_during_covid_19\",\"params\":{},\"type\":\"covid\"},{\"identifier\":\"vegetarian_friendly\",\"params\":{},\"type\":\"dining_options\"},{\"identifier\":\"locally_sourced_ingredients\",\"params\":{},\"type\":\"dining_options\"},{\"identifier\":\"family_owned_operated\",\"params\":{},\"type\":\"features\"}]',\n",
       " '[{\"identifier\":\"gift_cards_during_covid_19\",\"params\":{},\"type\":\"covid\"},{\"identifier\":\"curbside_pickup_during_covid_19\",\"params\":{},\"type\":\"covid\"},{\"identifier\":\"virtual_estimates_during_covid_19\",\"params\":{},\"type\":\"covid\"},{\"identifier\":\"remote_services_during_covid_19\",\"params\":{},\"type\":\"covid\"},{\"identifier\":\"women_owned_operated\",\"params\":{},\"type\":\"features\"},{\"identifier\":\"free_consultations\",\"params\":{},\"type\":\"estimates\"}]',\n",
       " '[{\"identifier\":\"mobile_services_during_covid_19\",\"params\":{},\"type\":\"covid\"},{\"identifier\":\"years_in_business\",\"params\":{\"year\":\"31\"},\"type\":\"features\"},{\"identifier\":\"certified_professionals\",\"params\":{},\"type\":\"features\"},{\"identifier\":\"family_owned_operated\",\"params\":{},\"type\":\"features\"},{\"identifier\":\"free_wifi\",\"params\":{},\"type\":\"amenities\"}]',\n",
       " '[{\"identifier\":\"locally_owned_operated\",\"params\":{},\"type\":\"features\"},{\"identifier\":\"takes_reservations\",\"params\":{},\"type\":\"dining_options\"},{\"identifier\":\"delivery_during_covid_19\",\"params\":{},\"type\":\"covid\"},{\"identifier\":\"vegan_friendly\",\"params\":{},\"type\":\"dining_options\"},{\"identifier\":\"full_bar\",\"params\":{},\"type\":\"dining_options\"},{\"identifier\":\"takeout_during_covid_19\",\"params\":{},\"type\":\"covid\"}]',\n",
       " '[{\"identifier\":\"virtual_estimates_during_covid_19\",\"params\":{},\"type\":\"covid\"},{\"identifier\":\"consultations_available\",\"params\":{},\"type\":\"estimates\"},{\"identifier\":\"delivery_during_covid_19\",\"params\":{},\"type\":\"covid\"},{\"identifier\":\"shipping_during_covid_19\",\"params\":{},\"type\":\"covid\"}]',\n",
       " '[{\"identifier\":\"remote_services_during_covid_19\",\"params\":{},\"type\":\"covid\"},{\"identifier\":\"shipping_during_covid_19\",\"params\":{},\"type\":\"covid\"}]',\n",
       " '[{\"identifier\":\"virtual_estimates_during_covid_19\",\"params\":{},\"type\":\"covid\"},{\"identifier\":\"remote_services_during_covid_19\",\"params\":{},\"type\":\"covid\"},{\"identifier\":\"certified_professionals\",\"params\":{},\"type\":\"features\"},{\"identifier\":\"free_consultations\",\"params\":{},\"type\":\"estimates\"},{\"identifier\":\"family_owned_operated\",\"params\":{},\"type\":\"features\"},{\"identifier\":\"offers_customized_solutions\",\"params\":{},\"type\":\"features\"}]',\n",
       " '[{\"identifier\":\"virtual_estimates_during_covid_19\",\"params\":{},\"type\":\"covid\"},{\"identifier\":\"certified_professionals\",\"params\":{},\"type\":\"features\"},{\"identifier\":\"offers_commercial_services\",\"params\":{},\"type\":\"features\"},{\"identifier\":\"years_in_business\",\"params\":{\"year\":\"7\"},\"type\":\"features\"},{\"identifier\":\"speaks_spanish\",\"params\":{},\"type\":\"features\"},{\"identifier\":\"family_owned_operated\",\"params\":{},\"type\":\"features\"}]',\n",
       " '[{\"identifier\":\"family_owned_operated\",\"params\":{},\"type\":\"features\"},{\"identifier\":\"locally_owned_operated\",\"params\":{},\"type\":\"features\"},{\"identifier\":\"curbside_pickup_during_covid_19\",\"params\":{},\"type\":\"covid\"},{\"identifier\":\"gift_cards_during_covid_19\",\"params\":{},\"type\":\"covid\"},{\"identifier\":\"takeout_during_covid_19\",\"params\":{},\"type\":\"covid\"},{\"identifier\":\"delivery_during_covid_19\",\"params\":{},\"type\":\"covid\"}]',\n",
       " '[{\"identifier\":\"online_classes_during_covid_19\",\"params\":{},\"type\":\"covid\"},{\"identifier\":\"24_7_availability\",\"params\":{},\"type\":\"availability\"}]',\n",
       " '[{\"identifier\":\"delivery_during_covid_19\",\"params\":{},\"type\":\"covid\"},{\"identifier\":\"curbside_pickup_during_covid_19\",\"params\":{},\"type\":\"covid\"},{\"identifier\":\"gift_cards_during_covid_19\",\"params\":{},\"type\":\"covid\"},{\"identifier\":\"takes_reservations\",\"params\":{},\"type\":\"dining_options\"},{\"identifier\":\"fine_dining\",\"params\":{},\"type\":\"ambiance\"}]',\n",
       " '[{\"identifier\":\"gift_cards_during_covid_19\",\"params\":{},\"type\":\"covid\"},{\"identifier\":\"curbside_pickup_during_covid_19\",\"params\":{},\"type\":\"covid\"},{\"identifier\":\"curbside_drop_off_during_covid_19\",\"params\":{},\"type\":\"covid\"},{\"identifier\":\"takeout_during_covid_19\",\"params\":{},\"type\":\"covid\"},{\"identifier\":\"remote_services_during_covid_19\",\"params\":{},\"type\":\"covid\"},{\"identifier\":\"mobile_services_during_covid_19\",\"params\":{},\"type\":\"covid\"}]',\n",
       " '[{\"identifier\":\"delivery_during_covid_19\",\"params\":{},\"type\":\"covid\"},{\"identifier\":\"takeout_during_covid_19\",\"params\":{},\"type\":\"covid\"},{\"identifier\":\"discounts_available\",\"params\":{},\"type\":\"pricing\"},{\"identifier\":\"locally_sourced_ingredients\",\"params\":{},\"type\":\"dining_options\"}]',\n",
       " '[{\"identifier\":\"healthy_dining\",\"params\":{},\"type\":\"dining_options\"},{\"identifier\":\"grab_and_go\",\"params\":{},\"type\":\"dining_options\"},{\"identifier\":\"locally_owned_operated\",\"params\":{},\"type\":\"features\"},{\"identifier\":\"delivery_during_covid_19\",\"params\":{},\"type\":\"covid\"},{\"identifier\":\"takeout_during_covid_19\",\"params\":{},\"type\":\"covid\"}]',\n",
       " '[{\"identifier\":\"mobile_services_during_covid_19\",\"params\":{},\"type\":\"covid\"},{\"identifier\":\"free_consultations\",\"params\":{},\"type\":\"estimates\"},{\"identifier\":\"free_estimates\",\"params\":{},\"type\":\"estimates\"},{\"identifier\":\"offers_customized_solutions\",\"params\":{},\"type\":\"features\"},{\"identifier\":\"certified_professionals\",\"params\":{},\"type\":\"features\"},{\"identifier\":\"satisfaction_guaranteed\",\"params\":{},\"type\":\"guarantees\"}]',\n",
       " '[{\"identifier\":\"delivery_during_covid_19\",\"params\":{},\"type\":\"covid\"},{\"identifier\":\"curbside_pickup_during_covid_19\",\"params\":{},\"type\":\"covid\"},{\"identifier\":\"curbside_drop_off_during_covid_19\",\"params\":{},\"type\":\"covid\"}]',\n",
       " '[{\"identifier\":\"delivery_during_covid_19\",\"params\":{},\"type\":\"covid\"},{\"identifier\":\"curbside_pickup_during_covid_19\",\"params\":{},\"type\":\"covid\"},{\"identifier\":\"catering_service\",\"params\":{},\"type\":\"dining_options\"},{\"identifier\":\"established_in\",\"params\":{\"year\":\"1969\"},\"type\":\"features\"},{\"identifier\":\"kid_friendly\",\"params\":{},\"type\":\"crowd\"}]',\n",
       " '[{\"identifier\":\"curbside_pickup_during_covid_19\",\"params\":{},\"type\":\"covid\"},{\"identifier\":\"delivery_during_covid_19\",\"params\":{},\"type\":\"covid\"},{\"identifier\":\"takeout_during_covid_19\",\"params\":{},\"type\":\"covid\"},{\"identifier\":\"years_in_business\",\"params\":{\"year\":\"22\"},\"type\":\"features\"},{\"identifier\":\"family_owned_operated\",\"params\":{},\"type\":\"features\"},{\"identifier\":\"catering_service\",\"params\":{},\"type\":\"dining_options\"}]',\n",
       " '[{\"identifier\":\"takeout_during_covid_19\",\"params\":{},\"type\":\"covid\"},{\"identifier\":\"curbside_pickup_during_covid_19\",\"params\":{},\"type\":\"covid\"},{\"identifier\":\"delivery_during_covid_19\",\"params\":{},\"type\":\"covid\"},{\"identifier\":\"gift_cards_during_covid_19\",\"params\":{},\"type\":\"covid\"}]',\n",
       " '[{\"identifier\":\"curbside_drop_off_during_covid_19\",\"params\":{},\"type\":\"covid\"},{\"identifier\":\"available_by_appointment\",\"params\":{},\"type\":\"availability\"}]',\n",
       " '[{\"identifier\":\"repairs_guaranteed\",\"params\":{},\"type\":\"guarantees\"},{\"identifier\":\"certified_professionals\",\"params\":{},\"type\":\"features\"},{\"identifier\":\"locally_owned_operated\",\"params\":{},\"type\":\"features\"},{\"identifier\":\"discounts_available\",\"params\":{},\"type\":\"pricing\"},{\"identifier\":\"available_by_appointment\",\"params\":{},\"type\":\"availability\"},{\"identifier\":\"curbside_pickup_during_covid_19\",\"params\":{},\"type\":\"covid\"}]',\n",
       " '[{\"identifier\":\"takeout_during_covid_19\",\"params\":{},\"type\":\"covid\"},{\"identifier\":\"delivery_during_covid_19\",\"params\":{},\"type\":\"covid\"},{\"identifier\":\"grab_and_go\",\"params\":{},\"type\":\"dining_options\"},{\"identifier\":\"locally_sourced_ingredients\",\"params\":{},\"type\":\"dining_options\"},{\"identifier\":\"happy_hour_specials\",\"params\":{},\"type\":\"dining_options\"},{\"identifier\":\"vegetarian_friendly\",\"params\":{},\"type\":\"dining_options\"}]',\n",
       " '[{\"identifier\":\"grab_and_go\",\"params\":{},\"type\":\"dining_options\"},{\"identifier\":\"curbside_pickup_during_covid_19\",\"params\":{},\"type\":\"covid\"}]',\n",
       " '[{\"identifier\":\"takeout_during_covid_19\",\"params\":{},\"type\":\"covid\"},{\"identifier\":\"delivery_during_covid_19\",\"params\":{},\"type\":\"covid\"},{\"identifier\":\"gift_cards_during_covid_19\",\"params\":{},\"type\":\"covid\"},{\"identifier\":\"vegetarian_friendly\",\"params\":{},\"type\":\"dining_options\"},{\"identifier\":\"locally_owned_operated\",\"params\":{},\"type\":\"features\"},{\"identifier\":\"grab_and_go\",\"params\":{},\"type\":\"dining_options\"}]',\n",
       " '[{\"identifier\":\"delivery_during_covid_19\",\"params\":{},\"type\":\"covid\"},{\"identifier\":\"remote_services_during_covid_19\",\"params\":{},\"type\":\"covid\"},{\"identifier\":\"years_in_business\",\"params\":{\"year\":\"20\"},\"type\":\"features\"},{\"identifier\":\"locally_owned_operated\",\"params\":{},\"type\":\"features\"},{\"identifier\":\"veteran_owned_operated\",\"params\":{},\"type\":\"features\"},{\"identifier\":\"free_estimates\",\"params\":{},\"type\":\"estimates\"}]',\n",
       " '[{\"identifier\":\"available_by_appointment\",\"params\":{},\"type\":\"availability\"},{\"identifier\":\"virtual_estimates_during_covid_19\",\"params\":{},\"type\":\"covid\"},{\"identifier\":\"remote_services_during_covid_19\",\"params\":{},\"type\":\"covid\"}]',\n",
       " '[{\"identifier\":\"shipping_during_covid_19\",\"params\":{},\"type\":\"covid\"},{\"identifier\":\"available_by_appointment\",\"params\":{},\"type\":\"availability\"}]',\n",
       " '[{\"identifier\":\"delivery_during_covid_19\",\"params\":{},\"type\":\"covid\"},{\"identifier\":\"healthy_dining\",\"params\":{},\"type\":\"dining_options\"},{\"identifier\":\"takeout_during_covid_19\",\"params\":{},\"type\":\"covid\"},{\"identifier\":\"vegan_friendly\",\"params\":{},\"type\":\"dining_options\"},{\"identifier\":\"vegetarian_friendly\",\"params\":{},\"type\":\"dining_options\"},{\"identifier\":\"gift_cards_during_covid_19\",\"params\":{},\"type\":\"covid\"}]',\n",
       " '[{\"identifier\":\"curbside_pickup_during_covid_19\",\"params\":{},\"type\":\"covid\"},{\"identifier\":\"takeout_during_covid_19\",\"params\":{},\"type\":\"covid\"},{\"identifier\":\"gift_cards_during_covid_19\",\"params\":{},\"type\":\"covid\"},{\"identifier\":\"vegan_friendly\",\"params\":{},\"type\":\"dining_options\"},{\"identifier\":\"vegetarian_friendly\",\"params\":{},\"type\":\"dining_options\"},{\"identifier\":\"gluten_free_friendly\",\"params\":{},\"type\":\"dining_options\"}]',\n",
       " '[{\"identifier\":\"curbside_pickup_during_covid_19\",\"params\":{},\"type\":\"covid\"},{\"identifier\":\"delivery_during_covid_19\",\"params\":{},\"type\":\"covid\"},{\"identifier\":\"takeout_during_covid_19\",\"params\":{},\"type\":\"covid\"},{\"identifier\":\"vegetarian_friendly\",\"params\":{},\"type\":\"dining_options\"},{\"identifier\":\"gluten_free_friendly\",\"params\":{},\"type\":\"dining_options\"},{\"identifier\":\"grab_and_go\",\"params\":{},\"type\":\"dining_options\"}]',\n",
       " '[{\"identifier\":\"gift_cards_during_covid_19\",\"params\":{},\"type\":\"covid\"},{\"identifier\":\"vegan_friendly\",\"params\":{},\"type\":\"dining_options\"},{\"identifier\":\"kid_friendly\",\"params\":{},\"type\":\"crowd\"},{\"identifier\":\"vegetarian_friendly\",\"params\":{},\"type\":\"dining_options\"},{\"identifier\":\"gluten_free_friendly\",\"params\":{},\"type\":\"dining_options\"},{\"identifier\":\"family_owned_operated\",\"params\":{},\"type\":\"features\"}]',\n",
       " '[{\"identifier\":\"free_estimates\",\"params\":{},\"type\":\"estimates\"},{\"identifier\":\"certified_professionals\",\"params\":{},\"type\":\"features\"},{\"identifier\":\"consultations_available\",\"params\":{},\"type\":\"estimates\"},{\"identifier\":\"virtual_estimates_during_covid_19\",\"params\":{},\"type\":\"covid\"}]',\n",
       " '[{\"identifier\":\"delivery_during_covid_19\",\"params\":{},\"type\":\"covid\"},{\"identifier\":\"takeout_during_covid_19\",\"params\":{},\"type\":\"covid\"},{\"identifier\":\"locally_sourced_ingredients\",\"params\":{},\"type\":\"dining_options\"},{\"identifier\":\"locally_owned_operated\",\"params\":{},\"type\":\"features\"},{\"identifier\":\"vegetarian_friendly\",\"params\":{},\"type\":\"dining_options\"},{\"identifier\":\"full_bar\",\"params\":{},\"type\":\"dining_options\"}]',\n",
       " '[{\"identifier\":\"gift_cards_during_covid_19\",\"params\":{},\"type\":\"covid\"},{\"identifier\":\"takes_reservations\",\"params\":{},\"type\":\"dining_options\"},{\"identifier\":\"fine_dining\",\"params\":{},\"type\":\"ambiance\"},{\"identifier\":\"curbside_pickup_during_covid_19\",\"params\":{},\"type\":\"covid\"}]',\n",
       " '[{\"identifier\":\"curbside_pickup_during_covid_19\",\"params\":{},\"type\":\"covid\"},{\"identifier\":\"years_in_business\",\"params\":{\"year\":\"13\"},\"type\":\"features\"},{\"identifier\":\"locally_owned_operated\",\"params\":{},\"type\":\"features\"},{\"identifier\":\"family_owned_operated\",\"params\":{},\"type\":\"features\"},{\"identifier\":\"outdoor_seating_sponsored\",\"params\":{},\"type\":\"amenities\"},{\"identifier\":\"private_events\",\"params\":{},\"type\":\"amenities\"}]',\n",
       " '[{\"identifier\":\"family_owned_operated\",\"params\":{},\"type\":\"features\"},{\"identifier\":\"wheelchair_accessible\",\"params\":{},\"type\":\"amenities\"},{\"identifier\":\"free_parking\",\"params\":{},\"type\":\"amenities\"},{\"identifier\":\"kid_friendly\",\"params\":{},\"type\":\"crowd\"},{\"identifier\":\"curbside_pickup_during_covid_19\",\"params\":{},\"type\":\"covid\"}]',\n",
       " '[{\"identifier\":\"locally_owned_operated\",\"params\":{},\"type\":\"features\"},{\"identifier\":\"women_owned_operated\",\"params\":{},\"type\":\"features\"},{\"identifier\":\"free_wifi\",\"params\":{},\"type\":\"amenities\"},{\"identifier\":\"free_consultations\",\"params\":{},\"type\":\"estimates\"},{\"identifier\":\"virtual_estimates_during_covid_19\",\"params\":{},\"type\":\"covid\"},{\"identifier\":\"budget_friendly\",\"params\":{},\"type\":\"pricing\"}]',\n",
       " '[{\"identifier\":\"remote_services_during_covid_19\",\"params\":{},\"type\":\"covid\"},{\"identifier\":\"mobile_services_during_covid_19\",\"params\":{},\"type\":\"covid\"},{\"identifier\":\"virtual_estimates_during_covid_19\",\"params\":{},\"type\":\"covid\"}]',\n",
       " '[{\"identifier\":\"curbside_drop_off_during_covid_19\",\"params\":{},\"type\":\"covid\"},{\"identifier\":\"years_in_business\",\"params\":{\"year\":\"12\"},\"type\":\"features\"},{\"identifier\":\"walk_ins_welcome\",\"params\":{},\"type\":\"availability\"},{\"identifier\":\"family_owned_operated\",\"params\":{},\"type\":\"features\"},{\"identifier\":\"offers_customized_solutions\",\"params\":{},\"type\":\"features\"},{\"identifier\":\"lgbtq_friendly\",\"params\":{},\"type\":\"crowd\"}]',\n",
       " '[{\"identifier\":\"gift_cards_during_covid_19\",\"params\":{},\"type\":\"covid\"},{\"identifier\":\"vegan_friendly\",\"params\":{},\"type\":\"dining_options\"},{\"identifier\":\"gluten_free_friendly\",\"params\":{},\"type\":\"dining_options\"},{\"identifier\":\"kid_friendly\",\"params\":{},\"type\":\"crowd\"},{\"identifier\":\"vegetarian_friendly\",\"params\":{},\"type\":\"dining_options\"}]',\n",
       " '[{\"identifier\":\"takeout_during_covid_19\",\"params\":{},\"type\":\"covid\"},{\"identifier\":\"delivery_during_covid_19\",\"params\":{},\"type\":\"covid\"},{\"identifier\":\"curbside_pickup_during_covid_19\",\"params\":{},\"type\":\"covid\"},{\"identifier\":\"takeout_during_covid_19\",\"params\":{},\"type\":\"covid\"},{\"identifier\":\"delivery_during_covid_19\",\"params\":{},\"type\":\"covid\"},{\"identifier\":\"curbside_pickup_during_covid_19\",\"params\":{},\"type\":\"covid\"}]',\n",
       " '[{\"identifier\":\"years_in_business\",\"params\":{\"year\":\"62\"},\"type\":\"features\"},{\"identifier\":\"family_owned_operated\",\"params\":{},\"type\":\"features\"},{\"identifier\":\"catering_service\",\"params\":{},\"type\":\"dining_options\"},{\"identifier\":\"delivery_during_covid_19\",\"params\":{},\"type\":\"covid\"},{\"identifier\":\"takeout_during_covid_19\",\"params\":{},\"type\":\"covid\"},{\"identifier\":\"locally_owned_operated\",\"params\":{},\"type\":\"features\"}]',\n",
       " '[{\"identifier\":\"takeout_during_covid_19\",\"params\":{},\"type\":\"covid\"},{\"identifier\":\"delivery_during_covid_19\",\"params\":{},\"type\":\"covid\"},{\"identifier\":\"gift_cards_during_covid_19\",\"params\":{},\"type\":\"covid\"},{\"identifier\":\"curbside_pickup_during_covid_19\",\"params\":{},\"type\":\"covid\"}]',\n",
       " '[{\"identifier\":\"shipping_during_covid_19\",\"params\":{},\"type\":\"covid\"},{\"identifier\":\"remote_services_during_covid_19\",\"params\":{},\"type\":\"covid\"},{\"identifier\":\"delivery_during_covid_19\",\"params\":{},\"type\":\"covid\"}]',\n",
       " '[{\"identifier\":\"delivery_during_covid_19\",\"params\":{},\"type\":\"covid\"},{\"identifier\":\"takeout_during_covid_19\",\"params\":{},\"type\":\"covid\"},{\"identifier\":\"locally_owned_operated\",\"params\":{},\"type\":\"features\"}]',\n",
       " '[{\"identifier\":\"veteran_owned_operated\",\"params\":{},\"type\":\"features\"},{\"identifier\":\"certified_professionals\",\"params\":{},\"type\":\"features\"},{\"identifier\":\"locally_owned_operated\",\"params\":{},\"type\":\"features\"},{\"identifier\":\"free_estimates\",\"params\":{},\"type\":\"estimates\"},{\"identifier\":\"offers_commercial_services\",\"params\":{},\"type\":\"features\"},{\"identifier\":\"delivery_during_covid_19\",\"params\":{},\"type\":\"covid\"}]',\n",
       " '[{\"identifier\":\"delivery_during_covid_19\",\"params\":{},\"type\":\"covid\"},{\"identifier\":\"locally_owned_operated\",\"params\":{},\"type\":\"features\"},{\"identifier\":\"healthy_dining\",\"params\":{},\"type\":\"dining_options\"},{\"identifier\":\"curbside_pickup_during_covid_19\",\"params\":{},\"type\":\"covid\"},{\"identifier\":\"takeout_during_covid_19\",\"params\":{},\"type\":\"covid\"},{\"identifier\":\"grab_and_go\",\"params\":{},\"type\":\"dining_options\"}]',\n",
       " '[{\"identifier\":\"curbside_pickup_during_covid_19\",\"params\":{},\"type\":\"covid\"},{\"identifier\":\"gift_cards_during_covid_19\",\"params\":{},\"type\":\"covid\"},{\"identifier\":\"takeout_during_covid_19\",\"params\":{},\"type\":\"covid\"},{\"identifier\":\"delivery_during_covid_19\",\"params\":{},\"type\":\"covid\"}]',\n",
       " '[{\"identifier\":\"family_owned_operated\",\"params\":{},\"type\":\"features\"},{\"identifier\":\"years_in_business\",\"params\":{\"year\":\"20\"},\"type\":\"features\"},{\"identifier\":\"locally_owned_operated\",\"params\":{},\"type\":\"features\"},{\"identifier\":\"full_bar\",\"params\":{},\"type\":\"dining_options\"},{\"identifier\":\"takes_reservations\",\"params\":{},\"type\":\"dining_options\"},{\"identifier\":\"takeout_during_covid_19\",\"params\":{},\"type\":\"covid\"}]',\n",
       " '[{\"identifier\":\"takeout_during_covid_19\",\"params\":{},\"type\":\"covid\"},{\"identifier\":\"delivery_during_covid_19\",\"params\":{},\"type\":\"covid\"},{\"identifier\":\"vegetarian_friendly\",\"params\":{},\"type\":\"dining_options\"},{\"identifier\":\"vegan_friendly\",\"params\":{},\"type\":\"dining_options\"},{\"identifier\":\"gift_cards_during_covid_19\",\"params\":{},\"type\":\"covid\"}]',\n",
       " '[{\"identifier\":\"takeout_during_covid_19\",\"params\":{},\"type\":\"covid\"},{\"identifier\":\"gift_cards_during_covid_19\",\"params\":{},\"type\":\"covid\"},{\"identifier\":\"vegetarian_friendly\",\"params\":{},\"type\":\"dining_options\"},{\"identifier\":\"locally_sourced_ingredients\",\"params\":{},\"type\":\"dining_options\"},{\"identifier\":\"curbside_pickup_during_covid_19\",\"params\":{},\"type\":\"covid\"}]',\n",
       " '[{\"identifier\":\"drive_thru_during_covid_19\",\"params\":{},\"type\":\"covid\"},{\"identifier\":\"takeout_during_covid_19\",\"params\":{},\"type\":\"covid\"},{\"identifier\":\"locally_owned_operated\",\"params\":{},\"type\":\"features\"}]',\n",
       " '[{\"identifier\":\"gift_cards_during_covid_19\",\"params\":{},\"type\":\"covid\"},{\"identifier\":\"grab_and_go\",\"params\":{},\"type\":\"dining_options\"},{\"identifier\":\"locally_owned_operated\",\"params\":{},\"type\":\"features\"},{\"identifier\":\"takeout_during_covid_19\",\"params\":{},\"type\":\"covid\"},{\"identifier\":\"gluten_free_friendly\",\"params\":{},\"type\":\"dining_options\"},{\"identifier\":\"curbside_pickup_during_covid_19\",\"params\":{},\"type\":\"covid\"}]',\n",
       " '[{\"identifier\":\"vegan_friendly\",\"params\":{},\"type\":\"dining_options\"},{\"identifier\":\"halal\",\"params\":{},\"type\":\"dining_options\"},{\"identifier\":\"vegetarian_friendly\",\"params\":{},\"type\":\"dining_options\"},{\"identifier\":\"gluten_free_friendly\",\"params\":{},\"type\":\"dining_options\"},{\"identifier\":\"curbside_drop_off_during_covid_19\",\"params\":{},\"type\":\"covid\"},{\"identifier\":\"locally_sourced_ingredients\",\"params\":{},\"type\":\"dining_options\"}]',\n",
       " '[{\"identifier\":\"delivery_during_covid_19\",\"params\":{},\"type\":\"covid\"},{\"identifier\":\"curbside_pickup_during_covid_19\",\"params\":{},\"type\":\"covid\"},{\"identifier\":\"gift_cards_during_covid_19\",\"params\":{},\"type\":\"covid\"},{\"identifier\":\"takeout_during_covid_19\",\"params\":{},\"type\":\"covid\"}]',\n",
       " '[{\"identifier\":\"gift_cards_during_covid_19\",\"params\":{},\"type\":\"covid\"},{\"identifier\":\"family_owned_operated\",\"params\":{},\"type\":\"features\"}]',\n",
       " '[{\"identifier\":\"virtual_estimates_during_covid_19\",\"params\":{},\"type\":\"covid\"},{\"identifier\":\"remote_services_during_covid_19\",\"params\":{},\"type\":\"covid\"},{\"identifier\":\"shipping_during_covid_19\",\"params\":{},\"type\":\"covid\"}]',\n",
       " '[{\"identifier\":\"certified_professionals\",\"params\":{},\"type\":\"features\"},{\"identifier\":\"free_consultations\",\"params\":{},\"type\":\"estimates\"},{\"identifier\":\"24_7_availability\",\"params\":{},\"type\":\"availability\"},{\"identifier\":\"locally_owned_operated\",\"params\":{},\"type\":\"features\"},{\"identifier\":\"virtual_estimates_during_covid_19\",\"params\":{},\"type\":\"covid\"}]',\n",
       " '[{\"identifier\":\"free_estimates\",\"params\":{},\"type\":\"estimates\"},{\"identifier\":\"virtual_estimates_during_covid_19\",\"params\":{},\"type\":\"covid\"}]',\n",
       " '[{\"identifier\":\"delivery_during_covid_19\",\"params\":{},\"type\":\"covid\"},{\"identifier\":\"walk_ins_welcome\",\"params\":{},\"type\":\"availability\"},{\"identifier\":\"budget_friendly\",\"params\":{},\"type\":\"pricing\"},{\"identifier\":\"beat_or_match_prices\",\"params\":{},\"type\":\"pricing\"},{\"identifier\":\"offers_payment_plans\",\"params\":{},\"type\":\"pricing\"},{\"identifier\":\"years_in_business\",\"params\":{\"year\":\"18\"},\"type\":\"features\"}]',\n",
       " '[{\"identifier\":\"curbside_pickup_during_covid_19\",\"params\":{},\"type\":\"covid\"},{\"identifier\":\"happy_hour_specials\",\"params\":{},\"type\":\"dining_options\"},{\"identifier\":\"takeout_during_covid_19\",\"params\":{},\"type\":\"covid\"},{\"identifier\":\"takes_reservations\",\"params\":{},\"type\":\"dining_options\"}]',\n",
       " '[{\"identifier\":\"virtual_estimates_during_covid_19\",\"params\":{},\"type\":\"covid\"},{\"identifier\":\"family_owned_operated\",\"params\":{},\"type\":\"features\"},{\"identifier\":\"years_in_business\",\"params\":{\"year\":\"30\"},\"type\":\"features\"},{\"identifier\":\"locally_owned_operated\",\"params\":{},\"type\":\"features\"},{\"identifier\":\"24_7_availability\",\"params\":{},\"type\":\"availability\"},{\"identifier\":\"free_estimates\",\"params\":{},\"type\":\"estimates\"}]',\n",
       " '[{\"identifier\":\"virtual_estimates_during_covid_19\",\"params\":{},\"type\":\"covid\"},{\"identifier\":\"certified_professionals\",\"params\":{},\"type\":\"features\"},{\"identifier\":\"offers_customized_solutions\",\"params\":{},\"type\":\"features\"},{\"identifier\":\"years_in_business\",\"params\":{\"year\":\"18\"},\"type\":\"features\"},{\"identifier\":\"family_owned_operated\",\"params\":{},\"type\":\"features\"},{\"identifier\":\"offers_commercial_services\",\"params\":{},\"type\":\"features\"}]',\n",
       " '[{\"identifier\":\"takeout_during_covid_19\",\"params\":{},\"type\":\"covid\"},{\"identifier\":\"curbside_pickup_during_covid_19\",\"params\":{},\"type\":\"covid\"}]',\n",
       " '[{\"identifier\":\"takeout_during_covid_19\",\"params\":{},\"type\":\"covid\"},{\"identifier\":\"family_owned_operated\",\"params\":{},\"type\":\"features\"},{\"identifier\":\"vegetarian_friendly\",\"params\":{},\"type\":\"dining_options\"},{\"identifier\":\"gluten_free_friendly\",\"params\":{},\"type\":\"dining_options\"},{\"identifier\":\"locally_sourced_ingredients\",\"params\":{},\"type\":\"dining_options\"},{\"identifier\":\"catering_service\",\"params\":{},\"type\":\"dining_options\"}]',\n",
       " '[{\"identifier\":\"curbside_drop_off_during_covid_19\",\"params\":{},\"type\":\"covid\"},{\"identifier\":\"virtual_estimates_during_covid_19\",\"params\":{},\"type\":\"covid\"},{\"identifier\":\"curbside_pickup_during_covid_19\",\"params\":{},\"type\":\"covid\"},{\"identifier\":\"established_in\",\"params\":{\"year\":\"1982\"},\"type\":\"features\"},{\"identifier\":\"family_owned_operated\",\"params\":{},\"type\":\"features\"},{\"identifier\":\"free_estimates\",\"params\":{},\"type\":\"estimates\"}]',\n",
       " '[{\"identifier\":\"luxury\",\"params\":{},\"type\":\"features\"},{\"identifier\":\"curbside_pickup_during_covid_19\",\"params\":{},\"type\":\"covid\"},{\"identifier\":\"remote_services_during_covid_19\",\"params\":{},\"type\":\"covid\"}]',\n",
       " '[{\"identifier\":\"delivery_during_covid_19\",\"params\":{},\"type\":\"covid\"},{\"identifier\":\"takeout_during_covid_19\",\"params\":{},\"type\":\"covid\"},{\"identifier\":\"curbside_pickup_during_covid_19\",\"params\":{},\"type\":\"covid\"},{\"identifier\":\"grab_and_go\",\"params\":{},\"type\":\"dining_options\"},{\"identifier\":\"catering_service\",\"params\":{},\"type\":\"dining_options\"},{\"identifier\":\"locally_sourced_ingredients\",\"params\":{},\"type\":\"dining_options\"}]',\n",
       " '[{\"identifier\":\"locally_owned_operated\",\"params\":{},\"type\":\"features\"},{\"identifier\":\"takeout_during_covid_19\",\"params\":{},\"type\":\"covid\"},{\"identifier\":\"delivery_during_covid_19\",\"params\":{},\"type\":\"covid\"},{\"identifier\":\"vegan_friendly\",\"params\":{},\"type\":\"dining_options\"},{\"identifier\":\"vegetarian_friendly\",\"params\":{},\"type\":\"dining_options\"},{\"identifier\":\"gluten_free_friendly\",\"params\":{},\"type\":\"dining_options\"}]',\n",
       " '[{\"identifier\":\"delivery_during_covid_19\",\"params\":{},\"type\":\"covid\"},{\"identifier\":\"curbside_pickup_during_covid_19\",\"params\":{},\"type\":\"covid\"},{\"identifier\":\"budget_friendly\",\"params\":{},\"type\":\"pricing\"}]',\n",
       " '[{\"identifier\":\"catering_service\",\"params\":{},\"type\":\"dining_options\"},{\"identifier\":\"takeout_during_covid_19\",\"params\":{},\"type\":\"covid\"},{\"identifier\":\"delivery_during_covid_19\",\"params\":{},\"type\":\"covid\"},{\"identifier\":\"family_owned_operated\",\"params\":{},\"type\":\"features\"},{\"identifier\":\"free_wifi\",\"params\":{},\"type\":\"amenities\"},{\"identifier\":\"grab_and_go\",\"params\":{},\"type\":\"dining_options\"}]',\n",
       " '[{\"identifier\":\"curbside_pickup_during_covid_19\",\"params\":{},\"type\":\"covid\"},{\"identifier\":\"curbside_drop_off_during_covid_19\",\"params\":{},\"type\":\"covid\"},{\"identifier\":\"24_7_availability\",\"params\":{},\"type\":\"availability\"},{\"identifier\":\"satisfaction_guaranteed\",\"params\":{},\"type\":\"guarantees\"},{\"identifier\":\"budget_friendly\",\"params\":{},\"type\":\"pricing\"},{\"identifier\":\"lgbtq_friendly\",\"params\":{},\"type\":\"crowd\"}]',\n",
       " '[{\"identifier\":\"delivery_during_covid_19\",\"params\":{},\"type\":\"covid\"},{\"identifier\":\"takeout_during_covid_19\",\"params\":{},\"type\":\"covid\"},{\"identifier\":\"gift_cards_during_covid_19\",\"params\":{},\"type\":\"covid\"},{\"identifier\":\"locally_sourced_ingredients\",\"params\":{},\"type\":\"dining_options\"},{\"identifier\":\"gluten_free_friendly\",\"params\":{},\"type\":\"dining_options\"},{\"identifier\":\"catering_service\",\"params\":{},\"type\":\"dining_options\"}]',\n",
       " '[{\"identifier\":\"free_consultations\",\"params\":{},\"type\":\"estimates\"},{\"identifier\":\"24_7_availability\",\"params\":{},\"type\":\"availability\"},{\"identifier\":\"virtual_estimates_during_covid_19\",\"params\":{},\"type\":\"covid\"},{\"identifier\":\"available_by_appointment\",\"params\":{},\"type\":\"availability\"},{\"identifier\":\"offers_payment_plans\",\"params\":{},\"type\":\"pricing\"}]',\n",
       " '[{\"identifier\":\"kitchen_open_late\",\"params\":{},\"type\":\"dining_options\"},{\"identifier\":\"casual_dining\",\"params\":{},\"type\":\"ambiance\"},{\"identifier\":\"established_in\",\"params\":{\"year\":\"2018\"},\"type\":\"features\"},{\"identifier\":\"family_owned_operated\",\"params\":{},\"type\":\"features\"},{\"identifier\":\"curbside_pickup_during_covid_19\",\"params\":{},\"type\":\"covid\"},{\"identifier\":\"delivery_during_covid_19\",\"params\":{},\"type\":\"covid\"}]',\n",
       " '[{\"identifier\":\"curbside_pickup_during_covid_19\",\"params\":{},\"type\":\"covid\"},{\"identifier\":\"takeout_during_covid_19\",\"params\":{},\"type\":\"covid\"},{\"identifier\":\"vegetarian_friendly\",\"params\":{},\"type\":\"dining_options\"},{\"identifier\":\"kitchen_open_late\",\"params\":{},\"type\":\"dining_options\"},{\"identifier\":\"halal\",\"params\":{},\"type\":\"dining_options\"},{\"identifier\":\"free_parking\",\"params\":{},\"type\":\"amenities\"}]',\n",
       " '[{\"identifier\":\"family_owned_operated\",\"params\":{},\"type\":\"features\"},{\"identifier\":\"takeout_during_covid_19\",\"params\":{},\"type\":\"covid\"},{\"identifier\":\"years_in_business\",\"params\":{\"year\":\"31\"},\"type\":\"features\"},{\"identifier\":\"full_bar\",\"params\":{},\"type\":\"dining_options\"},{\"identifier\":\"catering_service\",\"params\":{},\"type\":\"dining_options\"},{\"identifier\":\"curbside_pickup_during_covid_19\",\"params\":{},\"type\":\"covid\"}]',\n",
       " '[{\"identifier\":\"shipping_during_covid_19\",\"params\":{},\"type\":\"covid\"},{\"identifier\":\"curbside_drop_off_during_covid_19\",\"params\":{},\"type\":\"covid\"},{\"identifier\":\"walk_ins_welcome\",\"params\":{},\"type\":\"availability\"},{\"identifier\":\"discounts_available\",\"params\":{},\"type\":\"pricing\"}]',\n",
       " '[{\"identifier\":\"curbside_pickup_during_covid_19\",\"params\":{},\"type\":\"covid\"},{\"identifier\":\"delivery_during_covid_19\",\"params\":{},\"type\":\"covid\"},{\"identifier\":\"takeout_during_covid_19\",\"params\":{},\"type\":\"covid\"},{\"identifier\":\"locally_owned_operated\",\"params\":{},\"type\":\"features\"},{\"identifier\":\"grab_and_go\",\"params\":{},\"type\":\"dining_options\"},{\"identifier\":\"catering_service\",\"params\":{},\"type\":\"dining_options\"}]',\n",
       " '[{\"identifier\":\"curbside_pickup_during_covid_19\",\"params\":{},\"type\":\"covid\"},{\"identifier\":\"vegan_friendly\",\"params\":{},\"type\":\"dining_options\"},{\"identifier\":\"gluten_free_friendly\",\"params\":{},\"type\":\"dining_options\"},{\"identifier\":\"takeout_during_covid_19\",\"params\":{},\"type\":\"covid\"},{\"identifier\":\"vegetarian_friendly\",\"params\":{},\"type\":\"dining_options\"},{\"identifier\":\"healthy_dining\",\"params\":{},\"type\":\"dining_options\"}]',\n",
       " '[{\"identifier\":\"years_in_business\",\"params\":{\"year\":\"10\"},\"type\":\"features\"},{\"identifier\":\"available_by_appointment\",\"params\":{},\"type\":\"availability\"},{\"identifier\":\"free_consultations\",\"params\":{},\"type\":\"estimates\"},{\"identifier\":\"offers_payment_plans\",\"params\":{},\"type\":\"pricing\"},{\"identifier\":\"mobile_services_during_covid_19\",\"params\":{},\"type\":\"covid\"},{\"identifier\":\"women_owned_operated\",\"params\":{},\"type\":\"features\"}]',\n",
       " '[{\"identifier\":\"mobile_services_during_covid_19\",\"params\":{},\"type\":\"covid\"},{\"identifier\":\"emergency_services\",\"params\":{},\"type\":\"availability\"},{\"identifier\":\"24_7_availability\",\"params\":{},\"type\":\"availability\"},{\"identifier\":\"available_by_appointment\",\"params\":{},\"type\":\"availability\"},{\"identifier\":\"offers_commercial_services\",\"params\":{},\"type\":\"features\"},{\"identifier\":\"locally_owned_operated\",\"params\":{},\"type\":\"features\"}]',\n",
       " '[{\"identifier\":\"takeout_during_covid_19\",\"params\":{},\"type\":\"covid\"},{\"identifier\":\"family_owned_operated\",\"params\":{},\"type\":\"features\"},{\"identifier\":\"delivery_during_covid_19\",\"params\":{},\"type\":\"covid\"},{\"identifier\":\"gluten_free_friendly\",\"params\":{},\"type\":\"dining_options\"},{\"identifier\":\"happy_hour_specials\",\"params\":{},\"type\":\"dining_options\"},{\"identifier\":\"full_bar\",\"params\":{},\"type\":\"dining_options\"}]',\n",
       " '[{\"identifier\":\"curbside_pickup_during_covid_19\",\"params\":{},\"type\":\"covid\"},{\"identifier\":\"healthy_dining\",\"params\":{},\"type\":\"dining_options\"},{\"identifier\":\"vegetarian_friendly\",\"params\":{},\"type\":\"dining_options\"},{\"identifier\":\"vegan_friendly\",\"params\":{},\"type\":\"dining_options\"},{\"identifier\":\"catering_service\",\"params\":{},\"type\":\"dining_options\"},{\"identifier\":\"hipster_vibe\",\"params\":{},\"type\":\"ambiance\"}]',\n",
       " '[{\"identifier\":\"happy_hour_specials\",\"params\":{},\"type\":\"dining_options\"},{\"identifier\":\"casual_dining\",\"params\":{},\"type\":\"ambiance\"},{\"identifier\":\"discounts_available\",\"params\":{},\"type\":\"pricing\"},{\"identifier\":\"gift_cards_during_covid_19\",\"params\":{},\"type\":\"covid\"},{\"identifier\":\"sports_on_tv\",\"params\":{},\"type\":\"amenities\"},{\"identifier\":\"free_wifi\",\"params\":{},\"type\":\"amenities\"}]',\n",
       " '[{\"identifier\":\"family_owned_operated\",\"params\":{},\"type\":\"features\"},{\"identifier\":\"mobile_services_during_covid_19\",\"params\":{},\"type\":\"covid\"},{\"identifier\":\"offers_commercial_services\",\"params\":{},\"type\":\"features\"},{\"identifier\":\"satisfaction_guaranteed\",\"params\":{},\"type\":\"guarantees\"},{\"identifier\":\"free_estimates\",\"params\":{},\"type\":\"estimates\"},{\"identifier\":\"emergency_services\",\"params\":{},\"type\":\"availability\"}]',\n",
       " '[{\"identifier\":\"delivery_during_covid_19\",\"params\":{},\"type\":\"covid\"},{\"identifier\":\"curbside_pickup_during_covid_19\",\"params\":{},\"type\":\"covid\"},{\"identifier\":\"takeout_during_covid_19\",\"params\":{},\"type\":\"covid\"},{\"identifier\":\"catering_service\",\"params\":{},\"type\":\"dining_options\"},{\"identifier\":\"vegan_friendly\",\"params\":{},\"type\":\"dining_options\"},{\"identifier\":\"healthy_dining\",\"params\":{},\"type\":\"dining_options\"}]',\n",
       " '[{\"identifier\":\"delivery_during_covid_19\",\"params\":{},\"type\":\"covid\"},{\"identifier\":\"curbside_pickup_during_covid_19\",\"params\":{},\"type\":\"covid\"},{\"identifier\":\"takeout_during_covid_19\",\"params\":{},\"type\":\"covid\"},{\"identifier\":\"gluten_free_friendly\",\"params\":{},\"type\":\"dining_options\"},{\"identifier\":\"family_owned_operated\",\"params\":{},\"type\":\"features\"},{\"identifier\":\"women_owned_operated\",\"params\":{},\"type\":\"features\"}]',\n",
       " '[{\"identifier\":\"takeout_during_covid_19\",\"params\":{},\"type\":\"covid\"},{\"identifier\":\"vegetarian_friendly\",\"params\":{},\"type\":\"dining_options\"}]',\n",
       " '[{\"identifier\":\"mobile_services_during_covid_19\",\"params\":{},\"type\":\"covid\"},{\"identifier\":\"24_7_availability\",\"params\":{},\"type\":\"availability\"},{\"identifier\":\"years_in_business\",\"params\":{\"year\":\"18\"},\"type\":\"features\"},{\"identifier\":\"certified_professionals\",\"params\":{},\"type\":\"features\"},{\"identifier\":\"locally_owned_operated\",\"params\":{},\"type\":\"features\"},{\"identifier\":\"parts_labor_guaranteed\",\"params\":{},\"type\":\"guarantees\"}]',\n",
       " '[{\"identifier\":\"casual_dining\",\"params\":{},\"type\":\"ambiance\"},{\"identifier\":\"full_bar\",\"params\":{},\"type\":\"dining_options\"},{\"identifier\":\"takeout_during_covid_19\",\"params\":{},\"type\":\"covid\"},{\"identifier\":\"sports_on_tv\",\"params\":{},\"type\":\"amenities\"}]',\n",
       " '[{\"identifier\":\"takeout_during_covid_19\",\"params\":{},\"type\":\"covid\"},{\"identifier\":\"gift_cards_during_covid_19\",\"params\":{},\"type\":\"covid\"},{\"identifier\":\"delivery_during_covid_19\",\"params\":{},\"type\":\"covid\"},{\"identifier\":\"curbside_pickup_during_covid_19\",\"params\":{},\"type\":\"covid\"}]',\n",
       " '[{\"identifier\":\"delivery_during_covid_19\",\"params\":{},\"type\":\"covid\"},{\"identifier\":\"locally_owned_operated\",\"params\":{},\"type\":\"features\"},{\"identifier\":\"family_owned_operated\",\"params\":{},\"type\":\"features\"},{\"identifier\":\"offers_commercial_services\",\"params\":{},\"type\":\"features\"},{\"identifier\":\"parts_labor_guaranteed\",\"params\":{},\"type\":\"guarantees\"},{\"identifier\":\"speaks_spanish\",\"params\":{},\"type\":\"features\"}]',\n",
       " '[{\"identifier\":\"delivery_during_covid_19\",\"params\":{},\"type\":\"covid\"},{\"identifier\":\"takeout_during_covid_19\",\"params\":{},\"type\":\"covid\"},{\"identifier\":\"vegetarian_friendly\",\"params\":{},\"type\":\"dining_options\"},{\"identifier\":\"locally_sourced_ingredients\",\"params\":{},\"type\":\"dining_options\"},{\"identifier\":\"discounts_available\",\"params\":{},\"type\":\"pricing\"}]',\n",
       " '[{\"identifier\":\"curbside_pickup_during_covid_19\",\"params\":{},\"type\":\"covid\"},{\"identifier\":\"delivery_during_covid_19\",\"params\":{},\"type\":\"covid\"},{\"identifier\":\"gift_cards_during_covid_19\",\"params\":{},\"type\":\"covid\"},{\"identifier\":\"catering_service\",\"params\":{},\"type\":\"dining_options\"},{\"identifier\":\"locally_owned_operated\",\"params\":{},\"type\":\"features\"},{\"identifier\":\"family_owned_operated\",\"params\":{},\"type\":\"features\"}]',\n",
       " '[{\"identifier\":\"gift_cards_during_covid_19\",\"params\":{},\"type\":\"covid\"},{\"identifier\":\"curbside_pickup_during_covid_19\",\"params\":{},\"type\":\"covid\"},{\"identifier\":\"remote_services_during_covid_19\",\"params\":{},\"type\":\"covid\"},{\"identifier\":\"locally_sourced_ingredients\",\"params\":{},\"type\":\"dining_options\"},{\"identifier\":\"romantic_vibe\",\"params\":{},\"type\":\"ambiance\"},{\"identifier\":\"fine_dining\",\"params\":{},\"type\":\"ambiance\"}]',\n",
       " '[{\"identifier\":\"drive_thru_during_covid_19\",\"params\":{},\"type\":\"covid\"},{\"identifier\":\"delivery_during_covid_19\",\"params\":{},\"type\":\"covid\"},{\"identifier\":\"takeout_during_covid_19\",\"params\":{},\"type\":\"covid\"},{\"identifier\":\"free_parking\",\"params\":{},\"type\":\"amenities\"},{\"identifier\":\"kid_friendly\",\"params\":{},\"type\":\"crowd\"},{\"identifier\":\"free_wifi\",\"params\":{},\"type\":\"amenities\"}]',\n",
       " '[{\"identifier\":\"mobile_services_during_covid_19\",\"params\":{},\"type\":\"covid\"},{\"identifier\":\"virtual_estimates_during_covid_19\",\"params\":{},\"type\":\"covid\"},{\"identifier\":\"curbside_pickup_during_covid_19\",\"params\":{},\"type\":\"covid\"},{\"identifier\":\"certified_professionals\",\"params\":{},\"type\":\"features\"},{\"identifier\":\"discounts_available\",\"params\":{},\"type\":\"pricing\"},{\"identifier\":\"locally_owned_operated\",\"params\":{},\"type\":\"features\"}]',\n",
       " '[{\"identifier\":\"remote_services_during_covid_19\",\"params\":{},\"type\":\"covid\"},{\"identifier\":\"shipping_during_covid_19\",\"params\":{},\"type\":\"covid\"},{\"identifier\":\"available_by_appointment\",\"params\":{},\"type\":\"availability\"}]',\n",
       " '[{\"identifier\":\"mobile_services_during_covid_19\",\"params\":{},\"type\":\"covid\"},{\"identifier\":\"locally_owned_operated\",\"params\":{},\"type\":\"features\"},{\"identifier\":\"luxury\",\"params\":{},\"type\":\"features\"}]',\n",
       " '[{\"identifier\":\"virtual_estimates_during_covid_19\",\"params\":{},\"type\":\"covid\"},{\"identifier\":\"remote_services_during_covid_19\",\"params\":{},\"type\":\"covid\"},{\"identifier\":\"established_in\",\"params\":{\"year\":\"1966\"},\"type\":\"features\"},{\"identifier\":\"certified_professionals\",\"params\":{},\"type\":\"features\"},{\"identifier\":\"budget_friendly\",\"params\":{},\"type\":\"pricing\"},{\"identifier\":\"locally_owned_operated\",\"params\":{},\"type\":\"features\"}]',\n",
       " '[{\"identifier\":\"shipping_during_covid_19\",\"params\":{},\"type\":\"covid\"},{\"identifier\":\"gift_cards_during_covid_19\",\"params\":{},\"type\":\"covid\"},{\"identifier\":\"discounts_available\",\"params\":{},\"type\":\"pricing\"}]',\n",
       " '[{\"identifier\":\"delivery_during_covid_19\",\"params\":{},\"type\":\"covid\"},{\"identifier\":\"takeout_during_covid_19\",\"params\":{},\"type\":\"covid\"},{\"identifier\":\"grab_and_go\",\"params\":{},\"type\":\"dining_options\"},{\"identifier\":\"discounts_available\",\"params\":{},\"type\":\"pricing\"},{\"identifier\":\"curbside_pickup_during_covid_19\",\"params\":{},\"type\":\"covid\"}]',\n",
       " '[{\"identifier\":\"takeout_during_covid_19\",\"params\":{},\"type\":\"covid\"},{\"identifier\":\"family_owned_operated\",\"params\":{},\"type\":\"features\"},{\"identifier\":\"healthy_dining\",\"params\":{},\"type\":\"dining_options\"},{\"identifier\":\"catering_service\",\"params\":{},\"type\":\"dining_options\"},{\"identifier\":\"vegetarian_friendly\",\"params\":{},\"type\":\"dining_options\"},{\"identifier\":\"halal\",\"params\":{},\"type\":\"dining_options\"}]',\n",
       " '[{\"identifier\":\"mobile_services_during_covid_19\",\"params\":{},\"type\":\"covid\"},{\"identifier\":\"24_7_availability\",\"params\":{},\"type\":\"availability\"},{\"identifier\":\"certified_professionals\",\"params\":{},\"type\":\"features\"},{\"identifier\":\"discounts_available\",\"params\":{},\"type\":\"pricing\"},{\"identifier\":\"emergency_services\",\"params\":{},\"type\":\"availability\"},{\"identifier\":\"satisfaction_guaranteed\",\"params\":{},\"type\":\"guarantees\"}]',\n",
       " '[{\"identifier\":\"curbside_pickup_during_covid_19\",\"params\":{},\"type\":\"covid\"},{\"identifier\":\"shipping_during_covid_19\",\"params\":{},\"type\":\"covid\"},{\"identifier\":\"years_in_business\",\"params\":{\"year\":\"35\"},\"type\":\"features\"},{\"identifier\":\"locally_owned_operated\",\"params\":{},\"type\":\"features\"},{\"identifier\":\"family_owned_operated\",\"params\":{},\"type\":\"features\"},{\"identifier\":\"women_owned_operated\",\"params\":{},\"type\":\"features\"}]',\n",
       " '[{\"identifier\":\"delivery_during_covid_19\",\"params\":{},\"type\":\"covid\"},{\"identifier\":\"certified_professionals\",\"params\":{},\"type\":\"features\"},{\"identifier\":\"speaks_spanish\",\"params\":{},\"type\":\"features\"},{\"identifier\":\"walk_ins_welcome\",\"params\":{},\"type\":\"availability\"},{\"identifier\":\"free_consultations\",\"params\":{},\"type\":\"estimates\"},{\"identifier\":\"beat_or_match_prices\",\"params\":{},\"type\":\"pricing\"}]',\n",
       " '[{\"identifier\":\"gift_cards_during_covid_19\",\"params\":{},\"type\":\"covid\"},{\"identifier\":\"available_by_appointment\",\"params\":{},\"type\":\"availability\"},{\"identifier\":\"years_in_business\",\"params\":{\"year\":\"25\"},\"type\":\"features\"},{\"identifier\":\"certified_professionals\",\"params\":{},\"type\":\"features\"},{\"identifier\":\"locally_owned_operated\",\"params\":{},\"type\":\"features\"},{\"identifier\":\"satisfaction_guaranteed\",\"params\":{},\"type\":\"guarantees\"}]',\n",
       " '[{\"identifier\":\"takeout_during_covid_19\",\"params\":{},\"type\":\"covid\"},{\"identifier\":\"kid_friendly\",\"params\":{},\"type\":\"crowd\"},{\"identifier\":\"catering_service\",\"params\":{},\"type\":\"dining_options\"},{\"identifier\":\"drive_thru_during_covid_19\",\"params\":{},\"type\":\"covid\"}]',\n",
       " '[{\"identifier\":\"drive_thru\",\"params\":{},\"type\":\"amenities\"},{\"identifier\":\"delivery_during_covid_19\",\"params\":{},\"type\":\"covid\"},{\"identifier\":\"takeout_during_covid_19\",\"params\":{},\"type\":\"covid\"},{\"identifier\":\"established_in\",\"params\":{\"year\":\"2011\"},\"type\":\"features\"},{\"identifier\":\"vegan_friendly\",\"params\":{},\"type\":\"dining_options\"},{\"identifier\":\"locally_owned_operated\",\"params\":{},\"type\":\"features\"}]',\n",
       " '[{\"identifier\":\"gift_cards_during_covid_19\",\"params\":{},\"type\":\"covid\"},{\"identifier\":\"consultations_available\",\"params\":{},\"type\":\"estimates\"},{\"identifier\":\"luxury\",\"params\":{},\"type\":\"features\"},{\"identifier\":\"years_in_business\",\"params\":{\"year\":\"20\"},\"type\":\"features\"},{\"identifier\":\"speaks_spanish\",\"params\":{},\"type\":\"features\"}]',\n",
       " '[{\"identifier\":\"remote_services_during_covid_19\",\"params\":{},\"type\":\"covid\"},{\"identifier\":\"certified_professionals\",\"params\":{},\"type\":\"features\"},{\"identifier\":\"walk_ins_welcome\",\"params\":{},\"type\":\"availability\"},{\"identifier\":\"consultations_available\",\"params\":{},\"type\":\"estimates\"},{\"identifier\":\"locally_owned_operated\",\"params\":{},\"type\":\"features\"},{\"identifier\":\"virtual_estimates_during_covid_19\",\"params\":{},\"type\":\"covid\"}]',\n",
       " '[{\"identifier\":\"online_classes_during_covid_19\",\"params\":{},\"type\":\"covid\"},{\"identifier\":\"established_in\",\"params\":{\"year\":\"2013\"},\"type\":\"features\"},{\"identifier\":\"locally_owned_operated\",\"params\":{},\"type\":\"features\"},{\"identifier\":\"free_consultations\",\"params\":{},\"type\":\"estimates\"},{\"identifier\":\"offers_customized_solutions\",\"params\":{},\"type\":\"features\"},{\"identifier\":\"available_by_appointment\",\"params\":{},\"type\":\"availability\"}]',\n",
       " '[{\"identifier\":\"takeout_during_covid_19\",\"params\":{},\"type\":\"covid\"},{\"identifier\":\"vegetarian_friendly\",\"params\":{},\"type\":\"dining_options\"},{\"identifier\":\"vegan_friendly\",\"params\":{},\"type\":\"dining_options\"},{\"identifier\":\"years_in_business\",\"params\":{\"year\":\"15\"},\"type\":\"features\"},{\"identifier\":\"family_owned_operated\",\"params\":{},\"type\":\"features\"},{\"identifier\":\"healthy_dining\",\"params\":{},\"type\":\"dining_options\"}]',\n",
       " '[{\"identifier\":\"curbside_pickup_during_covid_19\",\"params\":{},\"type\":\"covid\"},{\"identifier\":\"curbside_drop_off_during_covid_19\",\"params\":{},\"type\":\"covid\"},{\"identifier\":\"free_estimates\",\"params\":{},\"type\":\"estimates\"},{\"identifier\":\"established_in\",\"params\":{\"year\":\"1977\"},\"type\":\"features\"},{\"identifier\":\"beat_or_match_prices\",\"params\":{},\"type\":\"pricing\"}]',\n",
       " '[{\"identifier\":\"delivery_during_covid_19\",\"params\":{},\"type\":\"covid\"},{\"identifier\":\"takeout_during_covid_19\",\"params\":{},\"type\":\"covid\"},{\"identifier\":\"locally_owned_operated\",\"params\":{},\"type\":\"features\"},{\"identifier\":\"vegan_friendly\",\"params\":{},\"type\":\"dining_options\"},{\"identifier\":\"lgbtq_friendly\",\"params\":{},\"type\":\"crowd\"}]',\n",
       " '[{\"identifier\":\"takeout_during_covid_19\",\"params\":{},\"type\":\"covid\"},{\"identifier\":\"gift_cards_during_covid_19\",\"params\":{},\"type\":\"covid\"},{\"identifier\":\"delivery_during_covid_19\",\"params\":{},\"type\":\"covid\"}]',\n",
       " '[{\"identifier\":\"locally_owned_operated\",\"params\":{},\"type\":\"features\"},{\"identifier\":\"mobile_services_during_covid_19\",\"params\":{},\"type\":\"covid\"},{\"identifier\":\"years_in_business\",\"params\":{\"year\":\"12\"},\"type\":\"features\"},{\"identifier\":\"on_time_guaranteed\",\"params\":{},\"type\":\"guarantees\"},{\"identifier\":\"fixed_pricing\",\"params\":{},\"type\":\"pricing\"},{\"identifier\":\"free_estimates\",\"params\":{},\"type\":\"estimates\"}]',\n",
       " '[{\"identifier\":\"established_in\",\"params\":{\"year\":\"2011\"},\"type\":\"features\"},{\"identifier\":\"locally_owned_operated\",\"params\":{},\"type\":\"features\"},{\"identifier\":\"free_estimates\",\"params\":{},\"type\":\"estimates\"},{\"identifier\":\"remote_services_during_covid_19\",\"params\":{},\"type\":\"covid\"},{\"identifier\":\"budget_friendly\",\"params\":{},\"type\":\"pricing\"},{\"identifier\":\"discounts_available\",\"params\":{},\"type\":\"pricing\"}]',\n",
       " '[{\"identifier\":\"takeout_during_covid_19\",\"params\":{},\"type\":\"covid\"},{\"identifier\":\"curbside_pickup_during_covid_19\",\"params\":{},\"type\":\"covid\"},{\"identifier\":\"fine_dining\",\"params\":{},\"type\":\"ambiance\"}]',\n",
       " '[{\"identifier\":\"takeout_during_covid_19\",\"params\":{},\"type\":\"covid\"},{\"identifier\":\"fine_dining\",\"params\":{},\"type\":\"ambiance\"}]',\n",
       " '[{\"identifier\":\"remote_services_during_covid_19\",\"params\":{},\"type\":\"covid\"},{\"identifier\":\"years_in_business\",\"params\":{\"year\":\"15\"},\"type\":\"features\"},{\"identifier\":\"locally_owned_operated\",\"params\":{},\"type\":\"features\"},{\"identifier\":\"luxury\",\"params\":{},\"type\":\"features\"},{\"identifier\":\"certified_professionals\",\"params\":{},\"type\":\"features\"},{\"identifier\":\"available_by_appointment\",\"params\":{},\"type\":\"availability\"}]',\n",
       " '[{\"identifier\":\"delivery_during_covid_19\",\"params\":{},\"type\":\"covid\"},{\"identifier\":\"vegan_friendly\",\"params\":{},\"type\":\"dining_options\"},{\"identifier\":\"gluten_free_friendly\",\"params\":{},\"type\":\"dining_options\"},{\"identifier\":\"established_in\",\"params\":{\"year\":\"2009\"},\"type\":\"features\"},{\"identifier\":\"locally_owned_operated\",\"params\":{},\"type\":\"features\"},{\"identifier\":\"family_owned_operated\",\"params\":{},\"type\":\"features\"}]',\n",
       " '[{\"identifier\":\"shipping_during_covid_19\",\"params\":{},\"type\":\"covid\"},{\"identifier\":\"virtual_estimates_during_covid_19\",\"params\":{},\"type\":\"covid\"},{\"identifier\":\"shipping_during_covid_19\",\"params\":{},\"type\":\"covid\"},{\"identifier\":\"virtual_estimates_during_covid_19\",\"params\":{},\"type\":\"covid\"}]',\n",
       " '[{\"identifier\":\"takeout_during_covid_19\",\"params\":{},\"type\":\"covid\"},{\"identifier\":\"vegetarian_friendly\",\"params\":{},\"type\":\"dining_options\"},{\"identifier\":\"catering_service\",\"params\":{},\"type\":\"dining_options\"},{\"identifier\":\"family_owned_operated\",\"params\":{},\"type\":\"features\"},{\"identifier\":\"speaks_spanish\",\"params\":{},\"type\":\"features\"}]',\n",
       " '[{\"identifier\":\"remote_services_during_covid_19\",\"params\":{},\"type\":\"covid\"},{\"identifier\":\"walk_ins_welcome\",\"params\":{},\"type\":\"availability\"},{\"identifier\":\"certified_professionals\",\"params\":{},\"type\":\"features\"},{\"identifier\":\"offers_payment_plans\",\"params\":{},\"type\":\"pricing\"},{\"identifier\":\"consultations_available\",\"params\":{},\"type\":\"estimates\"}]',\n",
       " '[{\"identifier\":\"delivery_during_covid_19\",\"params\":{},\"type\":\"covid\"},{\"identifier\":\"takeout_during_covid_19\",\"params\":{},\"type\":\"covid\"},{\"identifier\":\"locally_owned_operated\",\"params\":{},\"type\":\"features\"},{\"identifier\":\"discounts_available\",\"params\":{},\"type\":\"pricing\"},{\"identifier\":\"casual_dining\",\"params\":{},\"type\":\"ambiance\"},{\"identifier\":\"remote_services_during_covid_19\",\"params\":{},\"type\":\"covid\"}]',\n",
       " '[{\"identifier\":\"delivery_during_covid_19\",\"params\":{},\"type\":\"covid\"},{\"identifier\":\"discounts_available\",\"params\":{},\"type\":\"pricing\"},{\"identifier\":\"takeout_during_covid_19\",\"params\":{},\"type\":\"covid\"},{\"identifier\":\"casual_dining\",\"params\":{},\"type\":\"ambiance\"},{\"identifier\":\"remote_services_during_covid_19\",\"params\":{},\"type\":\"covid\"},{\"identifier\":\"grab_and_go\",\"params\":{},\"type\":\"dining_options\"}]',\n",
       " '[{\"identifier\":\"curbside_pickup_during_covid_19\",\"params\":{},\"type\":\"covid\"},{\"identifier\":\"free_consultations\",\"params\":{},\"type\":\"estimates\"},{\"identifier\":\"budget_friendly\",\"params\":{},\"type\":\"pricing\"},{\"identifier\":\"eco_friendly\",\"params\":{},\"type\":\"features\"},{\"identifier\":\"family_owned_operated\",\"params\":{},\"type\":\"features\"},{\"identifier\":\"offers_commercial_services\",\"params\":{},\"type\":\"features\"}]',\n",
       " '[{\"identifier\":\"gift_cards_during_covid_19\",\"params\":{},\"type\":\"covid\"},{\"identifier\":\"takeout_during_covid_19\",\"params\":{},\"type\":\"covid\"},{\"identifier\":\"vegetarian_friendly\",\"params\":{},\"type\":\"dining_options\"},{\"identifier\":\"grab_and_go\",\"params\":{},\"type\":\"dining_options\"},{\"identifier\":\"catering_service\",\"params\":{},\"type\":\"dining_options\"},{\"identifier\":\"locally_owned_operated\",\"params\":{},\"type\":\"features\"}]',\n",
       " '[{\"identifier\":\"curbside_pickup_during_covid_19\",\"params\":{},\"type\":\"covid\"},{\"identifier\":\"remote_services_during_covid_19\",\"params\":{},\"type\":\"covid\"},{\"identifier\":\"delivery_during_covid_19\",\"params\":{},\"type\":\"covid\"},{\"identifier\":\"takeout_during_covid_19\",\"params\":{},\"type\":\"covid\"},{\"identifier\":\"vegan_friendly\",\"params\":{},\"type\":\"dining_options\"},{\"identifier\":\"gluten_free_friendly\",\"params\":{},\"type\":\"dining_options\"}]',\n",
       " '[{\"identifier\":\"drive_thru_during_covid_19\",\"params\":{},\"type\":\"covid\"},{\"identifier\":\"delivery_during_covid_19\",\"params\":{},\"type\":\"covid\"},{\"identifier\":\"certified_professionals\",\"params\":{},\"type\":\"features\"},{\"identifier\":\"eco_friendly\",\"params\":{},\"type\":\"features\"},{\"identifier\":\"established_in\",\"params\":{\"year\":\"1911\"},\"type\":\"features\"},{\"identifier\":\"locally_owned_operated\",\"params\":{},\"type\":\"features\"}]',\n",
       " '[{\"identifier\":\"curbside_pickup_during_covid_19\",\"params\":{},\"type\":\"covid\"},{\"identifier\":\"family_owned_operated\",\"params\":{},\"type\":\"features\"},{\"identifier\":\"takeout_during_covid_19\",\"params\":{},\"type\":\"covid\"},{\"identifier\":\"vegetarian_friendly\",\"params\":{},\"type\":\"dining_options\"},{\"identifier\":\"kitchen_open_late\",\"params\":{},\"type\":\"dining_options\"},{\"identifier\":\"years_in_business\",\"params\":{\"year\":\"20\"},\"type\":\"features\"}]',\n",
       " '[{\"identifier\":\"delivery_during_covid_19\",\"params\":{},\"type\":\"covid\"},{\"identifier\":\"gift_cards_during_covid_19\",\"params\":{},\"type\":\"covid\"},{\"identifier\":\"curbside_pickup_during_covid_19\",\"params\":{},\"type\":\"covid\"},{\"identifier\":\"catering_service\",\"params\":{},\"type\":\"dining_options\"},{\"identifier\":\"family_owned_operated\",\"params\":{},\"type\":\"features\"},{\"identifier\":\"takes_reservations\",\"params\":{},\"type\":\"dining_options\"}]',\n",
       " '[{\"identifier\":\"gift_cards_during_covid_19\",\"params\":{},\"type\":\"covid\"},{\"identifier\":\"remote_services_during_covid_19\",\"params\":{},\"type\":\"covid\"},{\"identifier\":\"virtual_estimates_during_covid_19\",\"params\":{},\"type\":\"covid\"},{\"identifier\":\"certified_professionals\",\"params\":{},\"type\":\"features\"},{\"identifier\":\"locally_owned_operated\",\"params\":{},\"type\":\"features\"},{\"identifier\":\"available_by_appointment\",\"params\":{},\"type\":\"availability\"}]',\n",
       " '[{\"identifier\":\"years_in_business\",\"params\":{\"year\":\"18\"},\"type\":\"features\"},{\"identifier\":\"women_owned_operated\",\"params\":{},\"type\":\"features\"},{\"identifier\":\"curbside_pickup_during_covid_19\",\"params\":{},\"type\":\"covid\"},{\"identifier\":\"delivery_during_covid_19\",\"params\":{},\"type\":\"covid\"},{\"identifier\":\"grab_and_go\",\"params\":{},\"type\":\"dining_options\"},{\"identifier\":\"catering_service\",\"params\":{},\"type\":\"dining_options\"}]',\n",
       " '[{\"identifier\":\"virtual_estimates_during_covid_19\",\"params\":{},\"type\":\"covid\"},{\"identifier\":\"certified_professionals\",\"params\":{},\"type\":\"features\"},{\"identifier\":\"free_estimates\",\"params\":{},\"type\":\"estimates\"},{\"identifier\":\"24_7_availability\",\"params\":{},\"type\":\"availability\"}]',\n",
       " '[{\"identifier\":\"available_by_appointment\",\"params\":{},\"type\":\"availability\"},{\"identifier\":\"gift_cards_during_covid_19\",\"params\":{},\"type\":\"covid\"}]',\n",
       " '[{\"identifier\":\"delivery_during_covid_19\",\"params\":{},\"type\":\"covid\"},{\"identifier\":\"takeout_during_covid_19\",\"params\":{},\"type\":\"covid\"},{\"identifier\":\"curbside_pickup_during_covid_19\",\"params\":{},\"type\":\"covid\"},{\"identifier\":\"full_bar\",\"params\":{},\"type\":\"dining_options\"},{\"identifier\":\"fine_dining\",\"params\":{},\"type\":\"ambiance\"},{\"identifier\":\"certified_professionals\",\"params\":{},\"type\":\"features\"}]',\n",
       " '[{\"identifier\":\"takeout_during_covid_19\",\"params\":{},\"type\":\"covid\"},{\"identifier\":\"delivery_during_covid_19\",\"params\":{},\"type\":\"covid\"},{\"identifier\":\"vegan_friendly\",\"params\":{},\"type\":\"dining_options\"},{\"identifier\":\"family_owned_operated\",\"params\":{},\"type\":\"features\"},{\"identifier\":\"kid_friendly\",\"params\":{},\"type\":\"crowd\"}]',\n",
       " '[{\"identifier\":\"family_owned_operated\",\"params\":{},\"type\":\"features\"},{\"identifier\":\"years_in_business\",\"params\":{\"year\":\"10\"},\"type\":\"features\"},{\"identifier\":\"curbside_pickup_during_covid_19\",\"params\":{},\"type\":\"covid\"},{\"identifier\":\"takeout_during_covid_19\",\"params\":{},\"type\":\"covid\"},{\"identifier\":\"gift_cards_during_covid_19\",\"params\":{},\"type\":\"covid\"},{\"identifier\":\"gluten_free_friendly\",\"params\":{},\"type\":\"dining_options\"}]',\n",
       " '[{\"identifier\":\"gift_cards_during_covid_19\",\"params\":{},\"type\":\"covid\"},{\"identifier\":\"vegan_friendly\",\"params\":{},\"type\":\"dining_options\"},{\"identifier\":\"gluten_free_friendly\",\"params\":{},\"type\":\"dining_options\"},{\"identifier\":\"kid_friendly\",\"params\":{},\"type\":\"crowd\"},{\"identifier\":\"family_owned_operated\",\"params\":{},\"type\":\"features\"}]',\n",
       " '[{\"identifier\":\"delivery_during_covid_19\",\"params\":{},\"type\":\"covid\"},{\"identifier\":\"drive_thru_during_covid_19\",\"params\":{},\"type\":\"covid\"},{\"identifier\":\"takeout_during_covid_19\",\"params\":{},\"type\":\"covid\"},{\"identifier\":\"delivery_during_covid_19\",\"params\":{},\"type\":\"covid\"},{\"identifier\":\"drive_thru_during_covid_19\",\"params\":{},\"type\":\"covid\"},{\"identifier\":\"takeout_during_covid_19\",\"params\":{},\"type\":\"covid\"}]',\n",
       " '[{\"identifier\":\"takeout_during_covid_19\",\"params\":{},\"type\":\"covid\"},{\"identifier\":\"curbside_pickup_during_covid_19\",\"params\":{},\"type\":\"covid\"},{\"identifier\":\"delivery_during_covid_19\",\"params\":{},\"type\":\"covid\"},{\"identifier\":\"catering_service\",\"params\":{},\"type\":\"dining_options\"},{\"identifier\":\"gift_cards_during_covid_19\",\"params\":{},\"type\":\"covid\"}]',\n",
       " '[{\"identifier\":\"locally_owned_operated\",\"params\":{},\"type\":\"features\"},{\"identifier\":\"delivery_during_covid_19\",\"params\":{},\"type\":\"covid\"},{\"identifier\":\"takeout_during_covid_19\",\"params\":{},\"type\":\"covid\"},{\"identifier\":\"curbside_pickup_during_covid_19\",\"params\":{},\"type\":\"covid\"},{\"identifier\":\"gift_cards_during_covid_19\",\"params\":{},\"type\":\"covid\"},{\"identifier\":\"full_bar\",\"params\":{},\"type\":\"dining_options\"}]',\n",
       " '[{\"identifier\":\"established_in\",\"params\":{\"year\":\"2000\"},\"type\":\"features\"},{\"identifier\":\"curbside_drop_off_during_covid_19\",\"params\":{},\"type\":\"covid\"},{\"identifier\":\"family_owned_operated\",\"params\":{},\"type\":\"features\"},{\"identifier\":\"available_by_appointment\",\"params\":{},\"type\":\"availability\"},{\"identifier\":\"walk_ins_welcome\",\"params\":{},\"type\":\"availability\"},{\"identifier\":\"lgbtq_friendly\",\"params\":{},\"type\":\"crowd\"}]',\n",
       " '[{\"identifier\":\"takeout_during_covid_19\",\"params\":{},\"type\":\"covid\"},{\"identifier\":\"delivery_during_covid_19\",\"params\":{},\"type\":\"covid\"},{\"identifier\":\"vegetarian_friendly\",\"params\":{},\"type\":\"dining_options\"},{\"identifier\":\"halal\",\"params\":{},\"type\":\"dining_options\"},{\"identifier\":\"kitchen_open_late\",\"params\":{},\"type\":\"dining_options\"},{\"identifier\":\"happy_hour_specials\",\"params\":{},\"type\":\"dining_options\"}]',\n",
       " '[{\"identifier\":\"takeout_during_covid_19\",\"params\":{},\"type\":\"covid\"},{\"identifier\":\"casual_dining\",\"params\":{},\"type\":\"ambiance\"},{\"identifier\":\"family_owned_operated\",\"params\":{},\"type\":\"features\"},{\"identifier\":\"all_you_can_eat\",\"params\":{},\"type\":\"dining_options\"},{\"identifier\":\"full_bar\",\"params\":{},\"type\":\"dining_options\"},{\"identifier\":\"large_group_friendly\",\"params\":{},\"type\":\"crowd\"}]',\n",
       " '[{\"identifier\":\"online_classes_during_covid_19\",\"params\":{},\"type\":\"covid\"},{\"identifier\":\"remote_services_during_covid_19\",\"params\":{},\"type\":\"covid\"},{\"identifier\":\"women_owned_operated\",\"params\":{},\"type\":\"features\"},{\"identifier\":\"locally_owned_operated\",\"params\":{},\"type\":\"features\"},{\"identifier\":\"offers_customized_solutions\",\"params\":{},\"type\":\"features\"},{\"identifier\":\"certified_professionals\",\"params\":{},\"type\":\"features\"}]',\n",
       " '[{\"identifier\":\"gift_cards_during_covid_19\",\"params\":{},\"type\":\"covid\"},{\"identifier\":\"takeout_during_covid_19\",\"params\":{},\"type\":\"covid\"},{\"identifier\":\"kid_friendly\",\"params\":{},\"type\":\"crowd\"},{\"identifier\":\"pet_friendly\",\"params\":{},\"type\":\"crowd\"},{\"identifier\":\"years_in_business\",\"params\":{\"year\":\"17\"},\"type\":\"features\"},{\"identifier\":\"locally_owned_operated\",\"params\":{},\"type\":\"features\"}]',\n",
       " '[{\"identifier\":\"locally_owned_operated\",\"params\":{},\"type\":\"features\"},{\"identifier\":\"romantic_vibe\",\"params\":{},\"type\":\"ambiance\"},{\"identifier\":\"takes_reservations\",\"params\":{},\"type\":\"dining_options\"},{\"identifier\":\"takeout_during_covid_19\",\"params\":{},\"type\":\"covid\"},{\"identifier\":\"free_wifi\",\"params\":{},\"type\":\"amenities\"},{\"identifier\":\"casual_dining\",\"params\":{},\"type\":\"ambiance\"}]',\n",
       " '[{\"identifier\":\"takeout_during_covid_19\",\"params\":{},\"type\":\"covid\"},{\"identifier\":\"mobile_services_during_covid_19\",\"params\":{},\"type\":\"covid\"},{\"identifier\":\"delivery_during_covid_19\",\"params\":{},\"type\":\"covid\"},{\"identifier\":\"vegetarian_friendly\",\"params\":{},\"type\":\"dining_options\"},{\"identifier\":\"vegan_friendly\",\"params\":{},\"type\":\"dining_options\"},{\"identifier\":\"discounts_available\",\"params\":{},\"type\":\"pricing\"}]',\n",
       " '[{\"identifier\":\"remote_services_during_covid_19\",\"params\":{},\"type\":\"covid\"},{\"identifier\":\"eco_friendly\",\"params\":{},\"type\":\"features\"},{\"identifier\":\"available_by_appointment\",\"params\":{},\"type\":\"availability\"}]',\n",
       " '[{\"identifier\":\"curbside_pickup_during_covid_19\",\"params\":{},\"type\":\"covid\"},{\"identifier\":\"gluten_free_friendly\",\"params\":{},\"type\":\"dining_options\"},{\"identifier\":\"women_owned_operated\",\"params\":{},\"type\":\"features\"},{\"identifier\":\"delivery_during_covid_19\",\"params\":{},\"type\":\"covid\"},{\"identifier\":\"takeout_during_covid_19\",\"params\":{},\"type\":\"covid\"},{\"identifier\":\"vegan_friendly\",\"params\":{},\"type\":\"dining_options\"}]',\n",
       " '[{\"identifier\":\"remote_services_during_covid_19\",\"params\":{},\"type\":\"covid\"},{\"identifier\":\"offers_payment_plans\",\"params\":{},\"type\":\"pricing\"},{\"identifier\":\"years_in_business\",\"params\":{\"year\":\"11\"},\"type\":\"features\"},{\"identifier\":\"certified_professionals\",\"params\":{},\"type\":\"features\"},{\"identifier\":\"free_consultations\",\"params\":{},\"type\":\"estimates\"},{\"identifier\":\"offers_customized_solutions\",\"params\":{},\"type\":\"features\"}]',\n",
       " '[{\"identifier\":\"remote_services_during_covid_19\",\"params\":{},\"type\":\"covid\"},{\"identifier\":\"certified_professionals\",\"params\":{},\"type\":\"features\"},{\"identifier\":\"virtual_estimates_during_covid_19\",\"params\":{},\"type\":\"covid\"},{\"identifier\":\"established_in\",\"params\":{\"year\":\"2012\"},\"type\":\"features\"},{\"identifier\":\"locally_owned_operated\",\"params\":{},\"type\":\"features\"},{\"identifier\":\"offers_customized_solutions\",\"params\":{},\"type\":\"features\"}]',\n",
       " '[{\"identifier\":\"delivery_during_covid_19\",\"params\":{},\"type\":\"covid\"},{\"identifier\":\"takeout_during_covid_19\",\"params\":{},\"type\":\"covid\"},{\"identifier\":\"curbside_pickup_during_covid_19\",\"params\":{},\"type\":\"covid\"},{\"identifier\":\"happy_hour_specials\",\"params\":{},\"type\":\"dining_options\"},{\"identifier\":\"locally_owned_operated\",\"params\":{},\"type\":\"features\"},{\"identifier\":\"free_wifi\",\"params\":{},\"type\":\"amenities\"}]',\n",
       " '[{\"identifier\":\"remote_services_during_covid_19\",\"params\":{},\"type\":\"covid\"},{\"identifier\":\"virtual_estimates_during_covid_19\",\"params\":{},\"type\":\"covid\"},{\"identifier\":\"shipping_during_covid_19\",\"params\":{},\"type\":\"covid\"}]',\n",
       " '[{\"identifier\":\"delivery_during_covid_19\",\"params\":{},\"type\":\"covid\"},{\"identifier\":\"curbside_pickup_during_covid_19\",\"params\":{},\"type\":\"covid\"},{\"identifier\":\"takeout_during_covid_19\",\"params\":{},\"type\":\"covid\"},{\"identifier\":\"gluten_free_friendly\",\"params\":{},\"type\":\"dining_options\"},{\"identifier\":\"kitchen_open_late\",\"params\":{},\"type\":\"dining_options\"},{\"identifier\":\"locally_owned_operated\",\"params\":{},\"type\":\"features\"}]',\n",
       " '[{\"identifier\":\"gift_cards_during_covid_19\",\"params\":{},\"type\":\"covid\"},{\"identifier\":\"curbside_pickup_during_covid_19\",\"params\":{},\"type\":\"covid\"},{\"identifier\":\"takeout_during_covid_19\",\"params\":{},\"type\":\"covid\"},{\"identifier\":\"locally_owned_operated\",\"params\":{},\"type\":\"features\"},{\"identifier\":\"family_owned_operated\",\"params\":{},\"type\":\"features\"}]',\n",
       " '[{\"identifier\":\"curbside_pickup_during_covid_19\",\"params\":{},\"type\":\"covid\"},{\"identifier\":\"years_in_business\",\"params\":{\"year\":\"37\"},\"type\":\"features\"}]',\n",
       " '[{\"identifier\":\"curbside_drop_off_during_covid_19\",\"params\":{},\"type\":\"covid\"},{\"identifier\":\"remote_services_during_covid_19\",\"params\":{},\"type\":\"covid\"}]',\n",
       " '[{\"identifier\":\"takeout_during_covid_19\",\"params\":{},\"type\":\"covid\"},{\"identifier\":\"curbside_pickup_during_covid_19\",\"params\":{},\"type\":\"covid\"},{\"identifier\":\"gift_cards_during_covid_19\",\"params\":{},\"type\":\"covid\"},{\"identifier\":\"family_owned_operated\",\"params\":{},\"type\":\"features\"},{\"identifier\":\"established_in\",\"params\":{\"year\":\"1983\"},\"type\":\"features\"},{\"identifier\":\"locally_owned_operated\",\"params\":{},\"type\":\"features\"}]',\n",
       " '[{\"identifier\":\"locally_owned_operated\",\"params\":{},\"type\":\"features\"},{\"identifier\":\"established_in\",\"params\":{\"year\":\"2006\"},\"type\":\"features\"},{\"identifier\":\"remote_services_during_covid_19\",\"params\":{},\"type\":\"covid\"},{\"identifier\":\"virtual_estimates_during_covid_19\",\"params\":{},\"type\":\"covid\"},{\"identifier\":\"offers_customized_solutions\",\"params\":{},\"type\":\"features\"},{\"identifier\":\"free_consultations\",\"params\":{},\"type\":\"estimates\"}]',\n",
       " '[{\"identifier\":\"curbside_pickup_during_covid_19\",\"params\":{},\"type\":\"covid\"},{\"identifier\":\"curbside_drop_off_during_covid_19\",\"params\":{},\"type\":\"covid\"},{\"identifier\":\"certified_professionals\",\"params\":{},\"type\":\"features\"},{\"identifier\":\"family_owned_operated\",\"params\":{},\"type\":\"features\"},{\"identifier\":\"walk_ins_welcome\",\"params\":{},\"type\":\"availability\"},{\"identifier\":\"beat_or_match_prices\",\"params\":{},\"type\":\"pricing\"}]',\n",
       " '[{\"identifier\":\"remote_services_during_covid_19\",\"params\":{},\"type\":\"covid\"},{\"identifier\":\"speaks_spanish\",\"params\":{},\"type\":\"features\"}]',\n",
       " '[{\"identifier\":\"gift_cards_during_covid_19\",\"params\":{},\"type\":\"covid\"},{\"identifier\":\"takeout_during_covid_19\",\"params\":{},\"type\":\"covid\"},{\"identifier\":\"happy_hour_specials\",\"params\":{},\"type\":\"dining_options\"},{\"identifier\":\"women_owned_operated\",\"params\":{},\"type\":\"features\"},{\"identifier\":\"locally_owned_operated\",\"params\":{},\"type\":\"features\"},{\"identifier\":\"vegetarian_friendly\",\"params\":{},\"type\":\"dining_options\"}]',\n",
       " '[{\"identifier\":\"delivery_during_covid_19\",\"params\":{},\"type\":\"covid\"},{\"identifier\":\"takeout_during_covid_19\",\"params\":{},\"type\":\"covid\"},{\"identifier\":\"halal\",\"params\":{},\"type\":\"dining_options\"},{\"identifier\":\"grab_and_go\",\"params\":{},\"type\":\"dining_options\"},{\"identifier\":\"catering_service\",\"params\":{},\"type\":\"dining_options\"},{\"identifier\":\"kitchen_open_late\",\"params\":{},\"type\":\"dining_options\"}]',\n",
       " '[{\"identifier\":\"curbside_pickup_during_covid_19\",\"params\":{},\"type\":\"covid\"},{\"identifier\":\"shipping_during_covid_19\",\"params\":{},\"type\":\"covid\"},{\"identifier\":\"satisfaction_guaranteed\",\"params\":{},\"type\":\"guarantees\"}]',\n",
       " '[{\"identifier\":\"gift_cards_during_covid_19\",\"params\":{},\"type\":\"covid\"},{\"identifier\":\"gluten_free_friendly\",\"params\":{},\"type\":\"dining_options\"},{\"identifier\":\"locally_sourced_ingredients\",\"params\":{},\"type\":\"dining_options\"},{\"identifier\":\"locally_owned_operated\",\"params\":{},\"type\":\"features\"},{\"identifier\":\"curbside_pickup_during_covid_19\",\"params\":{},\"type\":\"covid\"},{\"identifier\":\"takeout_during_covid_19\",\"params\":{},\"type\":\"covid\"}]',\n",
       " '[{\"identifier\":\"gift_cards_during_covid_19\",\"params\":{},\"type\":\"covid\"},{\"identifier\":\"curbside_pickup_during_covid_19\",\"params\":{},\"type\":\"covid\"},{\"identifier\":\"takeout_during_covid_19\",\"params\":{},\"type\":\"covid\"},{\"identifier\":\"vegetarian_friendly\",\"params\":{},\"type\":\"dining_options\"},{\"identifier\":\"gluten_free_friendly\",\"params\":{},\"type\":\"dining_options\"},{\"identifier\":\"delivery_during_covid_19\",\"params\":{},\"type\":\"covid\"}]',\n",
       " '[{\"identifier\":\"takeout_during_covid_19\",\"params\":{},\"type\":\"covid\"},{\"identifier\":\"gift_cards_during_covid_19\",\"params\":{},\"type\":\"covid\"},{\"identifier\":\"catering_service\",\"params\":{},\"type\":\"dining_options\"},{\"identifier\":\"happy_hour_specials\",\"params\":{},\"type\":\"dining_options\"},{\"identifier\":\"years_in_business\",\"params\":{\"year\":\"51\"},\"type\":\"features\"},{\"identifier\":\"family_owned_operated\",\"params\":{},\"type\":\"features\"}]',\n",
       " '[{\"identifier\":\"curbside_pickup_during_covid_19\",\"params\":{},\"type\":\"covid\"},{\"identifier\":\"family_owned_operated\",\"params\":{},\"type\":\"features\"},{\"identifier\":\"takeout_during_covid_19\",\"params\":{},\"type\":\"covid\"},{\"identifier\":\"locally_owned_operated\",\"params\":{},\"type\":\"features\"},{\"identifier\":\"outdoor_seating_sponsored\",\"params\":{},\"type\":\"amenities\"},{\"identifier\":\"full_bar\",\"params\":{},\"type\":\"dining_options\"}]',\n",
       " '[{\"identifier\":\"delivery_during_covid_19\",\"params\":{},\"type\":\"covid\"},{\"identifier\":\"takeout_during_covid_19\",\"params\":{},\"type\":\"covid\"},{\"identifier\":\"gift_cards_during_covid_19\",\"params\":{},\"type\":\"covid\"},{\"identifier\":\"family_owned_operated\",\"params\":{},\"type\":\"features\"}]',\n",
       " '[{\"identifier\":\"delivery_during_covid_19\",\"params\":{},\"type\":\"covid\"},{\"identifier\":\"takeout_during_covid_19\",\"params\":{},\"type\":\"covid\"},{\"identifier\":\"locally_owned_operated\",\"params\":{},\"type\":\"features\"},{\"identifier\":\"outdoor_seating_sponsored\",\"params\":{},\"type\":\"amenities\"},{\"identifier\":\"vegetarian_friendly\",\"params\":{},\"type\":\"dining_options\"},{\"identifier\":\"healthy_dining\",\"params\":{},\"type\":\"dining_options\"}]',\n",
       " '[{\"identifier\":\"certified_professionals\",\"params\":{},\"type\":\"features\"},{\"identifier\":\"luxury\",\"params\":{},\"type\":\"features\"},{\"identifier\":\"established_in\",\"params\":{\"year\":\"2017\"},\"type\":\"features\"},{\"identifier\":\"mobile_services_during_covid_19\",\"params\":{},\"type\":\"covid\"},{\"identifier\":\"private_events\",\"params\":{},\"type\":\"amenities\"},{\"identifier\":\"free_consultations\",\"params\":{},\"type\":\"estimates\"}]',\n",
       " '[{\"identifier\":\"established_in\",\"params\":{\"year\":\"1993\"},\"type\":\"features\"},{\"identifier\":\"curbside_pickup_during_covid_19\",\"params\":{},\"type\":\"covid\"},{\"identifier\":\"takeout_during_covid_19\",\"params\":{},\"type\":\"covid\"},{\"identifier\":\"women_owned_operated\",\"params\":{},\"type\":\"features\"},{\"identifier\":\"kid_friendly\",\"params\":{},\"type\":\"crowd\"},{\"identifier\":\"outdoor_seating_sponsored\",\"params\":{},\"type\":\"amenities\"}]',\n",
       " '[{\"identifier\":\"mobile_services_during_covid_19\",\"params\":{},\"type\":\"covid\"},{\"identifier\":\"established_in\",\"params\":{\"year\":\"2011\"},\"type\":\"features\"},{\"identifier\":\"parts_labor_guaranteed\",\"params\":{},\"type\":\"guarantees\"},{\"identifier\":\"results_guaranteed\",\"params\":{},\"type\":\"guarantees\"},{\"identifier\":\"consultations_available\",\"params\":{},\"type\":\"estimates\"},{\"identifier\":\"available_by_appointment\",\"params\":{},\"type\":\"availability\"}]',\n",
       " '[{\"identifier\":\"remote_services_during_covid_19\",\"params\":{},\"type\":\"covid\"},{\"identifier\":\"online_classes_during_covid_19\",\"params\":{},\"type\":\"covid\"},{\"identifier\":\"kid_friendly\",\"params\":{},\"type\":\"crowd\"},{\"identifier\":\"locally_owned_operated\",\"params\":{},\"type\":\"features\"},{\"identifier\":\"women_owned_operated\",\"params\":{},\"type\":\"features\"},{\"identifier\":\"available_by_appointment\",\"params\":{},\"type\":\"availability\"}]',\n",
       " '[{\"identifier\":\"years_in_business\",\"params\":{\"year\":\"25\"},\"type\":\"features\"},{\"identifier\":\"delivery_during_covid_19\",\"params\":{},\"type\":\"covid\"},{\"identifier\":\"virtual_estimates_during_covid_19\",\"params\":{},\"type\":\"covid\"},{\"identifier\":\"budget_friendly\",\"params\":{},\"type\":\"pricing\"},{\"identifier\":\"eco_friendly\",\"params\":{},\"type\":\"features\"},{\"identifier\":\"satisfaction_guaranteed\",\"params\":{},\"type\":\"guarantees\"}]',\n",
       " '[{\"identifier\":\"takeout_during_covid_19\",\"params\":{},\"type\":\"covid\"},{\"identifier\":\"delivery_during_covid_19\",\"params\":{},\"type\":\"covid\"},{\"identifier\":\"gift_cards_during_covid_19\",\"params\":{},\"type\":\"covid\"},{\"identifier\":\"locally_owned_operated\",\"params\":{},\"type\":\"features\"}]',\n",
       " '[{\"identifier\":\"mobile_services_during_covid_19\",\"params\":{},\"type\":\"covid\"},{\"identifier\":\"years_in_business\",\"params\":{\"year\":\"9\"},\"type\":\"features\"},{\"identifier\":\"locally_owned_operated\",\"params\":{},\"type\":\"features\"},{\"identifier\":\"free_estimates\",\"params\":{},\"type\":\"estimates\"},{\"identifier\":\"free_consultations\",\"params\":{},\"type\":\"estimates\"},{\"identifier\":\"discounts_available\",\"params\":{},\"type\":\"pricing\"}]',\n",
       " '[{\"identifier\":\"established_in\",\"params\":{\"year\":\"2007\"},\"type\":\"features\"},{\"identifier\":\"family_owned_operated\",\"params\":{},\"type\":\"features\"},{\"identifier\":\"free_estimates\",\"params\":{},\"type\":\"estimates\"},{\"identifier\":\"certified_professionals\",\"params\":{},\"type\":\"features\"},{\"identifier\":\"free_consultations\",\"params\":{},\"type\":\"estimates\"},{\"identifier\":\"virtual_estimates_during_covid_19\",\"params\":{},\"type\":\"covid\"}]',\n",
       " '[{\"identifier\":\"virtual_estimates_during_covid_19\",\"params\":{},\"type\":\"covid\"},{\"identifier\":\"discounts_available\",\"params\":{},\"type\":\"pricing\"},{\"identifier\":\"results_guaranteed\",\"params\":{},\"type\":\"guarantees\"},{\"identifier\":\"offers_insurance\",\"params\":{},\"type\":\"guarantees\"},{\"identifier\":\"free_estimates\",\"params\":{},\"type\":\"estimates\"},{\"identifier\":\"delivery_during_covid_19\",\"params\":{},\"type\":\"covid\"}]',\n",
       " '[{\"identifier\":\"established_in\",\"params\":{\"year\":\"2001\"},\"type\":\"features\"},{\"identifier\":\"remote_services_during_covid_19\",\"params\":{},\"type\":\"covid\"},{\"identifier\":\"offers_customized_solutions\",\"params\":{},\"type\":\"features\"},{\"identifier\":\"consultations_available\",\"params\":{},\"type\":\"estimates\"},{\"identifier\":\"available_by_appointment\",\"params\":{},\"type\":\"availability\"},{\"identifier\":\"luxury\",\"params\":{},\"type\":\"features\"}]',\n",
       " '[{\"identifier\":\"free_consultations\",\"params\":{},\"type\":\"estimates\"},{\"identifier\":\"available_by_appointment\",\"params\":{},\"type\":\"availability\"},{\"identifier\":\"locally_owned_operated\",\"params\":{},\"type\":\"features\"},{\"identifier\":\"established_in\",\"params\":{\"year\":\"1995\"},\"type\":\"features\"},{\"identifier\":\"offers_customized_solutions\",\"params\":{},\"type\":\"features\"},{\"identifier\":\"virtual_estimates_during_covid_19\",\"params\":{},\"type\":\"covid\"}]',\n",
       " '[{\"identifier\":\"delivery_during_covid_19\",\"params\":{},\"type\":\"covid\"},{\"identifier\":\"curbside_pickup_during_covid_19\",\"params\":{},\"type\":\"covid\"},{\"identifier\":\"takeout_during_covid_19\",\"params\":{},\"type\":\"covid\"},{\"identifier\":\"family_owned_operated\",\"params\":{},\"type\":\"features\"},{\"identifier\":\"gluten_free_friendly\",\"params\":{},\"type\":\"dining_options\"},{\"identifier\":\"vegan_friendly\",\"params\":{},\"type\":\"dining_options\"}]',\n",
       " '[{\"identifier\":\"delivery_during_covid_19\",\"params\":{},\"type\":\"covid\"},{\"identifier\":\"curbside_pickup_during_covid_19\",\"params\":{},\"type\":\"covid\"},{\"identifier\":\"takeout_during_covid_19\",\"params\":{},\"type\":\"covid\"},{\"identifier\":\"family_owned_operated\",\"params\":{},\"type\":\"features\"},{\"identifier\":\"vegan_friendly\",\"params\":{},\"type\":\"dining_options\"},{\"identifier\":\"vegetarian_friendly\",\"params\":{},\"type\":\"dining_options\"}]',\n",
       " '[{\"identifier\":\"family_owned_operated\",\"params\":{},\"type\":\"features\"},{\"identifier\":\"mobile_services_during_covid_19\",\"params\":{},\"type\":\"covid\"},{\"identifier\":\"offers_commercial_services\",\"params\":{},\"type\":\"features\"},{\"identifier\":\"free_estimates\",\"params\":{},\"type\":\"estimates\"},{\"identifier\":\"satisfaction_guaranteed\",\"params\":{},\"type\":\"guarantees\"},{\"identifier\":\"emergency_services\",\"params\":{},\"type\":\"availability\"}]',\n",
       " '[{\"identifier\":\"curbside_pickup_during_covid_19\",\"params\":{},\"type\":\"covid\"},{\"identifier\":\"takeout_during_covid_19\",\"params\":{},\"type\":\"covid\"},{\"identifier\":\"vegetarian_friendly\",\"params\":{},\"type\":\"dining_options\"},{\"identifier\":\"gluten_free_friendly\",\"params\":{},\"type\":\"dining_options\"},{\"identifier\":\"vegan_friendly\",\"params\":{},\"type\":\"dining_options\"},{\"identifier\":\"family_owned_operated\",\"params\":{},\"type\":\"features\"}]',\n",
       " '[{\"identifier\":\"drive_thru_during_covid_19\",\"params\":{},\"type\":\"covid\"},{\"identifier\":\"curbside_pickup_during_covid_19\",\"params\":{},\"type\":\"covid\"},{\"identifier\":\"gift_cards_during_covid_19\",\"params\":{},\"type\":\"covid\"},{\"identifier\":\"catering_service\",\"params\":{},\"type\":\"dining_options\"},{\"identifier\":\"free_wifi\",\"params\":{},\"type\":\"amenities\"},{\"identifier\":\"kid_friendly\",\"params\":{},\"type\":\"crowd\"}]',\n",
       " '[{\"identifier\":\"vegan_friendly\",\"params\":{},\"type\":\"dining_options\"},{\"identifier\":\"takeout_during_covid_19\",\"params\":{},\"type\":\"covid\"},{\"identifier\":\"delivery_during_covid_19\",\"params\":{},\"type\":\"covid\"},{\"identifier\":\"gift_cards_during_covid_19\",\"params\":{},\"type\":\"covid\"},{\"identifier\":\"curbside_pickup_during_covid_19\",\"params\":{},\"type\":\"covid\"},{\"identifier\":\"locally_sourced_ingredients\",\"params\":{},\"type\":\"dining_options\"}]',\n",
       " '[{\"identifier\":\"takeout_during_covid_19\",\"params\":{},\"type\":\"covid\"},{\"identifier\":\"curbside_pickup_during_covid_19\",\"params\":{},\"type\":\"covid\"},{\"identifier\":\"gift_cards_during_covid_19\",\"params\":{},\"type\":\"covid\"},{\"identifier\":\"catering_service\",\"params\":{},\"type\":\"dining_options\"},{\"identifier\":\"takes_reservations\",\"params\":{},\"type\":\"dining_options\"},{\"identifier\":\"family_owned_operated\",\"params\":{},\"type\":\"features\"}]',\n",
       " '[{\"identifier\":\"takeout_during_covid_19\",\"params\":{},\"type\":\"covid\"},{\"identifier\":\"delivery_during_covid_19\",\"params\":{},\"type\":\"covid\"},{\"identifier\":\"drive_thru_during_covid_19\",\"params\":{},\"type\":\"covid\"},{\"identifier\":\"takeout_during_covid_19\",\"params\":{},\"type\":\"covid\"},{\"identifier\":\"delivery_during_covid_19\",\"params\":{},\"type\":\"covid\"},{\"identifier\":\"drive_thru_during_covid_19\",\"params\":{},\"type\":\"covid\"}]',\n",
       " '[{\"identifier\":\"gift_cards_during_covid_19\",\"params\":{},\"type\":\"covid\"},{\"identifier\":\"curbside_pickup_during_covid_19\",\"params\":{},\"type\":\"covid\"},{\"identifier\":\"delivery_during_covid_19\",\"params\":{},\"type\":\"covid\"},{\"identifier\":\"shipping_during_covid_19\",\"params\":{},\"type\":\"covid\"}]',\n",
       " '[{\"identifier\":\"gift_cards_during_covid_19\",\"params\":{},\"type\":\"covid\"},{\"identifier\":\"family_owned_operated\",\"params\":{},\"type\":\"features\"},{\"identifier\":\"years_in_business\",\"params\":{\"year\":\"2009\"},\"type\":\"features\"},{\"identifier\":\"locally_owned_operated\",\"params\":{},\"type\":\"features\"},{\"identifier\":\"women_owned_operated\",\"params\":{},\"type\":\"features\"},{\"identifier\":\"luxury\",\"params\":{},\"type\":\"features\"}]',\n",
       " '[{\"identifier\":\"delivery_during_covid_19\",\"params\":{},\"type\":\"covid\"},{\"identifier\":\"takeout_during_covid_19\",\"params\":{},\"type\":\"covid\"},{\"identifier\":\"casual_dining\",\"params\":{},\"type\":\"ambiance\"},{\"identifier\":\"grab_and_go\",\"params\":{},\"type\":\"dining_options\"},{\"identifier\":\"kitchen_open_late\",\"params\":{},\"type\":\"dining_options\"},{\"identifier\":\"free_wifi\",\"params\":{},\"type\":\"amenities\"}]',\n",
       " '[{\"identifier\":\"shipping_during_covid_19\",\"params\":{},\"type\":\"covid\"},{\"identifier\":\"remote_services_during_covid_19\",\"params\":{},\"type\":\"covid\"},{\"identifier\":\"virtual_estimates_during_covid_19\",\"params\":{},\"type\":\"covid\"}]',\n",
       " '[{\"identifier\":\"delivery_during_covid_19\",\"params\":{},\"type\":\"covid\"},{\"identifier\":\"curbside_pickup_during_covid_19\",\"params\":{},\"type\":\"covid\"},{\"identifier\":\"gluten_free_friendly\",\"params\":{},\"type\":\"dining_options\"},{\"identifier\":\"locally_sourced_ingredients\",\"params\":{},\"type\":\"dining_options\"},{\"identifier\":\"locally_owned_operated\",\"params\":{},\"type\":\"features\"},{\"identifier\":\"family_owned_operated\",\"params\":{},\"type\":\"features\"}]',\n",
       " '[{\"identifier\":\"delivery_during_covid_19\",\"params\":{},\"type\":\"covid\"},{\"identifier\":\"curbside_pickup_during_covid_19\",\"params\":{},\"type\":\"covid\"},{\"identifier\":\"takeout_during_covid_19\",\"params\":{},\"type\":\"covid\"},{\"identifier\":\"vegetarian_friendly\",\"params\":{},\"type\":\"dining_options\"},{\"identifier\":\"vegan_friendly\",\"params\":{},\"type\":\"dining_options\"},{\"identifier\":\"locally_sourced_ingredients\",\"params\":{},\"type\":\"dining_options\"}]',\n",
       " '[{\"identifier\":\"remote_services_during_covid_19\",\"params\":{},\"type\":\"covid\"},{\"identifier\":\"curbside_pickup_during_covid_19\",\"params\":{},\"type\":\"covid\"}]',\n",
       " '[{\"identifier\":\"curbside_pickup_during_covid_19\",\"params\":{},\"type\":\"covid\"},{\"identifier\":\"takeout_during_covid_19\",\"params\":{},\"type\":\"covid\"},{\"identifier\":\"gift_cards_during_covid_19\",\"params\":{},\"type\":\"covid\"},{\"identifier\":\"years_in_business\",\"params\":{\"year\":\"4\"},\"type\":\"features\"},{\"identifier\":\"locally_owned_operated\",\"params\":{},\"type\":\"features\"}]',\n",
       " '[{\"identifier\":\"virtual_estimates_during_covid_19\",\"params\":{},\"type\":\"covid\"},{\"identifier\":\"years_in_business\",\"params\":{\"year\":\"5\"},\"type\":\"features\"},{\"identifier\":\"veteran_owned_operated\",\"params\":{},\"type\":\"features\"},{\"identifier\":\"certified_professionals\",\"params\":{},\"type\":\"features\"},{\"identifier\":\"locally_owned_operated\",\"params\":{},\"type\":\"features\"},{\"identifier\":\"repairs_guaranteed\",\"params\":{},\"type\":\"guarantees\"}]',\n",
       " '[{\"identifier\":\"delivery_during_covid_19\",\"params\":{},\"type\":\"covid\"},{\"identifier\":\"family_owned_operated\",\"params\":{},\"type\":\"features\"},{\"identifier\":\"consultations_available\",\"params\":{},\"type\":\"estimates\"},{\"identifier\":\"beat_or_match_prices\",\"params\":{},\"type\":\"pricing\"},{\"identifier\":\"certified_professionals\",\"params\":{},\"type\":\"features\"},{\"identifier\":\"satisfaction_guaranteed\",\"params\":{},\"type\":\"guarantees\"}]',\n",
       " '[{\"identifier\":\"takeout_during_covid_19\",\"params\":{},\"type\":\"covid\"},{\"identifier\":\"gift_cards_during_covid_19\",\"params\":{},\"type\":\"covid\"},{\"identifier\":\"curbside_pickup_during_covid_19\",\"params\":{},\"type\":\"covid\"},{\"identifier\":\"delivery_during_covid_19\",\"params\":{},\"type\":\"covid\"},{\"identifier\":\"catering_service\",\"params\":{},\"type\":\"dining_options\"}]',\n",
       " '[{\"identifier\":\"takeout_during_covid_19\",\"params\":{},\"type\":\"covid\"},{\"identifier\":\"delivery_during_covid_19\",\"params\":{},\"type\":\"covid\"},{\"identifier\":\"vegetarian_friendly\",\"params\":{},\"type\":\"dining_options\"}]',\n",
       " '[{\"identifier\":\"takeout_during_covid_19\",\"params\":{},\"type\":\"covid\"},{\"identifier\":\"delivery_during_covid_19\",\"params\":{},\"type\":\"covid\"},{\"identifier\":\"gift_cards_during_covid_19\",\"params\":{},\"type\":\"covid\"},{\"identifier\":\"locally_owned_operated\",\"params\":{},\"type\":\"features\"},{\"identifier\":\"free_wifi\",\"params\":{},\"type\":\"amenities\"}]',\n",
       " '[{\"identifier\":\"curbside_pickup_during_covid_19\",\"params\":{},\"type\":\"covid\"},{\"identifier\":\"delivery_during_covid_19\",\"params\":{},\"type\":\"covid\"},{\"identifier\":\"vegetarian_friendly\",\"params\":{},\"type\":\"dining_options\"},{\"identifier\":\"locally_owned_operated\",\"params\":{},\"type\":\"features\"},{\"identifier\":\"vegan_friendly\",\"params\":{},\"type\":\"dining_options\"},{\"identifier\":\"grab_and_go\",\"params\":{},\"type\":\"dining_options\"}]',\n",
       " '[{\"identifier\":\"takeout_during_covid_19\",\"params\":{},\"type\":\"covid\"},{\"identifier\":\"vegan_friendly\",\"params\":{},\"type\":\"dining_options\"},{\"identifier\":\"gluten_free_friendly\",\"params\":{},\"type\":\"dining_options\"},{\"identifier\":\"healthy_dining\",\"params\":{},\"type\":\"dining_options\"},{\"identifier\":\"catering_service\",\"params\":{},\"type\":\"dining_options\"}]',\n",
       " '[{\"identifier\":\"online_classes_during_covid_19\",\"params\":{},\"type\":\"covid\"},{\"identifier\":\"takeout_during_covid_19\",\"params\":{},\"type\":\"covid\"},{\"identifier\":\"locally_sourced_ingredients\",\"params\":{},\"type\":\"dining_options\"},{\"identifier\":\"grab_and_go\",\"params\":{},\"type\":\"dining_options\"},{\"identifier\":\"established_in\",\"params\":{\"year\":\"1984\"},\"type\":\"features\"},{\"identifier\":\"certified_professionals\",\"params\":{},\"type\":\"features\"}]',\n",
       " '[{\"identifier\":\"takeout_during_covid_19\",\"params\":{},\"type\":\"covid\"},{\"identifier\":\"delivery_during_covid_19\",\"params\":{},\"type\":\"covid\"},{\"identifier\":\"casual_dining\",\"params\":{},\"type\":\"ambiance\"},{\"identifier\":\"locally_owned_operated\",\"params\":{},\"type\":\"features\"},{\"identifier\":\"pet_friendly\",\"params\":{},\"type\":\"crowd\"},{\"identifier\":\"outdoor_seating_sponsored\",\"params\":{},\"type\":\"amenities\"}]',\n",
       " '[{\"identifier\":\"private_events\",\"params\":{},\"type\":\"amenities\"},{\"identifier\":\"large_group_friendly\",\"params\":{},\"type\":\"crowd\"},{\"identifier\":\"locally_owned_operated\",\"params\":{},\"type\":\"features\"},{\"identifier\":\"budget_friendly\",\"params\":{},\"type\":\"pricing\"},{\"identifier\":\"eco_friendly\",\"params\":{},\"type\":\"features\"},{\"identifier\":\"gift_cards_during_covid_19\",\"params\":{},\"type\":\"covid\"}]',\n",
       " '[{\"identifier\":\"speaks_spanish\",\"params\":{},\"type\":\"features\"},{\"identifier\":\"family_owned_operated\",\"params\":{},\"type\":\"features\"},{\"identifier\":\"mobile_services_during_covid_19\",\"params\":{},\"type\":\"covid\"},{\"identifier\":\"established_in\",\"params\":{\"year\":\"2010\"},\"type\":\"features\"},{\"identifier\":\"locally_owned_operated\",\"params\":{},\"type\":\"features\"}]',\n",
       " '[{\"identifier\":\"takeout_during_covid_19\",\"params\":{},\"type\":\"covid\"},{\"identifier\":\"delivery_during_covid_19\",\"params\":{},\"type\":\"covid\"},{\"identifier\":\"catering_service\",\"params\":{},\"type\":\"dining_options\"},{\"identifier\":\"grab_and_go\",\"params\":{},\"type\":\"dining_options\"},{\"identifier\":\"casual_dining\",\"params\":{},\"type\":\"ambiance\"},{\"identifier\":\"family_owned_operated\",\"params\":{},\"type\":\"features\"}]',\n",
       " '[{\"identifier\":\"available_by_appointment\",\"params\":{},\"type\":\"availability\"},{\"identifier\":\"walk_ins_welcome\",\"params\":{},\"type\":\"availability\"},{\"identifier\":\"delivery_during_covid_19\",\"params\":{},\"type\":\"covid\"},{\"identifier\":\"remote_services_during_covid_19\",\"params\":{},\"type\":\"covid\"},{\"identifier\":\"virtual_estimates_during_covid_19\",\"params\":{},\"type\":\"covid\"}]',\n",
       " '[{\"identifier\":\"gift_cards_during_covid_19\",\"params\":{},\"type\":\"covid\"},{\"identifier\":\"curbside_pickup_during_covid_19\",\"params\":{},\"type\":\"covid\"},{\"identifier\":\"takeout_during_covid_19\",\"params\":{},\"type\":\"covid\"},{\"identifier\":\"family_owned_operated\",\"params\":{},\"type\":\"features\"}]',\n",
       " '[{\"identifier\":\"gift_cards_during_covid_19\",\"params\":{},\"type\":\"covid\"},{\"identifier\":\"locally_sourced_ingredients\",\"params\":{},\"type\":\"dining_options\"},{\"identifier\":\"locally_owned_operated\",\"params\":{},\"type\":\"features\"},{\"identifier\":\"available_by_appointment\",\"params\":{},\"type\":\"availability\"},{\"identifier\":\"free_consultations\",\"params\":{},\"type\":\"estimates\"}]',\n",
       " '[{\"identifier\":\"takeout_during_covid_19\",\"params\":{},\"type\":\"covid\"},{\"identifier\":\"pet_friendly\",\"params\":{},\"type\":\"crowd\"},{\"identifier\":\"free_wifi\",\"params\":{},\"type\":\"amenities\"},{\"identifier\":\"outdoor_seating_sponsored\",\"params\":{},\"type\":\"amenities\"},{\"identifier\":\"kitchen_open_late\",\"params\":{},\"type\":\"dining_options\"},{\"identifier\":\"women_owned_operated\",\"params\":{},\"type\":\"features\"}]',\n",
       " '[{\"identifier\":\"curbside_drop_off_during_covid_19\",\"params\":{},\"type\":\"covid\"},{\"identifier\":\"delivery_during_covid_19\",\"params\":{},\"type\":\"covid\"},{\"identifier\":\"takeout_during_covid_19\",\"params\":{},\"type\":\"covid\"},{\"identifier\":\"free_wifi\",\"params\":{},\"type\":\"amenities\"},{\"identifier\":\"years_in_business\",\"params\":{\"year\":\"15\"},\"type\":\"features\"},{\"identifier\":\"free_parking\",\"params\":{},\"type\":\"amenities\"}]',\n",
       " '[{\"identifier\":\"delivery_during_covid_19\",\"params\":{},\"type\":\"covid\"},{\"identifier\":\"takeout_during_covid_19\",\"params\":{},\"type\":\"covid\"},{\"identifier\":\"mobile_services_during_covid_19\",\"params\":{},\"type\":\"covid\"},{\"identifier\":\"catering_service\",\"params\":{},\"type\":\"dining_options\"},{\"identifier\":\"curbside_pickup_during_covid_19\",\"params\":{},\"type\":\"covid\"},{\"identifier\":\"gluten_free_friendly\",\"params\":{},\"type\":\"dining_options\"}]',\n",
       " '[{\"identifier\":\"curbside_pickup_during_covid_19\",\"params\":{},\"type\":\"covid\"},{\"identifier\":\"established_in\",\"params\":{\"year\":\"2006\"},\"type\":\"features\"},{\"identifier\":\"women_owned_operated\",\"params\":{},\"type\":\"features\"},{\"identifier\":\"free_parking\",\"params\":{},\"type\":\"amenities\"},{\"identifier\":\"walk_ins_welcome\",\"params\":{},\"type\":\"availability\"},{\"identifier\":\"discounts_available\",\"params\":{},\"type\":\"pricing\"}]',\n",
       " '[{\"identifier\":\"curbside_pickup_during_covid_19\",\"params\":{},\"type\":\"covid\"},{\"identifier\":\"family_owned_operated\",\"params\":{},\"type\":\"features\"}]',\n",
       " '[{\"identifier\":\"delivery_during_covid_19\",\"params\":{},\"type\":\"covid\"},{\"identifier\":\"curbside_pickup_during_covid_19\",\"params\":{},\"type\":\"covid\"},{\"identifier\":\"takeout_during_covid_19\",\"params\":{},\"type\":\"covid\"},{\"identifier\":\"vegetarian_friendly\",\"params\":{},\"type\":\"dining_options\"},{\"identifier\":\"vegan_friendly\",\"params\":{},\"type\":\"dining_options\"},{\"identifier\":\"gluten_free_friendly\",\"params\":{},\"type\":\"dining_options\"}]',\n",
       " '[{\"identifier\":\"curbside_pickup_during_covid_19\",\"params\":{},\"type\":\"covid\"},{\"identifier\":\"delivery_during_covid_19\",\"params\":{},\"type\":\"covid\"},{\"identifier\":\"healthy_dining\",\"params\":{},\"type\":\"dining_options\"},{\"identifier\":\"vegan_friendly\",\"params\":{},\"type\":\"dining_options\"},{\"identifier\":\"takeout_during_covid_19\",\"params\":{},\"type\":\"covid\"},{\"identifier\":\"gluten_free_friendly\",\"params\":{},\"type\":\"dining_options\"}]',\n",
       " '[{\"identifier\":\"available_by_appointment\",\"params\":{},\"type\":\"availability\"},{\"identifier\":\"curbside_pickup_during_covid_19\",\"params\":{},\"type\":\"covid\"}]',\n",
       " '[{\"identifier\":\"results_guaranteed\",\"params\":{},\"type\":\"guarantees\"},{\"identifier\":\"luxury\",\"params\":{},\"type\":\"features\"},{\"identifier\":\"years_in_business\",\"params\":{\"year\":\"8\"},\"type\":\"features\"},{\"identifier\":\"free_consultations\",\"params\":{},\"type\":\"estimates\"},{\"identifier\":\"locally_owned_operated\",\"params\":{},\"type\":\"features\"},{\"identifier\":\"remote_services_during_covid_19\",\"params\":{},\"type\":\"covid\"}]',\n",
       " '[{\"identifier\":\"vegan_friendly\",\"params\":{},\"type\":\"dining_options\"},{\"identifier\":\"healthy_dining\",\"params\":{},\"type\":\"dining_options\"},{\"identifier\":\"eco_friendly\",\"params\":{},\"type\":\"features\"},{\"identifier\":\"delivery_during_covid_19\",\"params\":{},\"type\":\"covid\"},{\"identifier\":\"takeout_during_covid_19\",\"params\":{},\"type\":\"covid\"}]',\n",
       " '[{\"identifier\":\"online_classes_during_covid_19\",\"params\":{},\"type\":\"covid\"},{\"identifier\":\"locally_owned_operated\",\"params\":{},\"type\":\"features\"},{\"identifier\":\"women_owned_operated\",\"params\":{},\"type\":\"features\"},{\"identifier\":\"kid_friendly\",\"params\":{},\"type\":\"crowd\"},{\"identifier\":\"free_parking\",\"params\":{},\"type\":\"amenities\"},{\"identifier\":\"years_in_business\",\"params\":{\"year\":\"5\"},\"type\":\"features\"}]',\n",
       " '[{\"identifier\":\"gluten_free_friendly\",\"params\":{},\"type\":\"dining_options\"},{\"identifier\":\"vegan_friendly\",\"params\":{},\"type\":\"dining_options\"},{\"identifier\":\"delivery_during_covid_19\",\"params\":{},\"type\":\"covid\"},{\"identifier\":\"locally_owned_operated\",\"params\":{},\"type\":\"features\"},{\"identifier\":\"locally_sourced_ingredients\",\"params\":{},\"type\":\"dining_options\"},{\"identifier\":\"healthy_dining\",\"params\":{},\"type\":\"dining_options\"}]',\n",
       " '[{\"identifier\":\"delivery_during_covid_19\",\"params\":{},\"type\":\"covid\"},{\"identifier\":\"curbside_pickup_during_covid_19\",\"params\":{},\"type\":\"covid\"},{\"identifier\":\"takeout_during_covid_19\",\"params\":{},\"type\":\"covid\"},{\"identifier\":\"grab_and_go\",\"params\":{},\"type\":\"dining_options\"},{\"identifier\":\"locally_sourced_ingredients\",\"params\":{},\"type\":\"dining_options\"},{\"identifier\":\"locally_owned_operated\",\"params\":{},\"type\":\"features\"}]',\n",
       " '[{\"identifier\":\"takes_reservations\",\"params\":{},\"type\":\"dining_options\"},{\"identifier\":\"delivery_during_covid_19\",\"params\":{},\"type\":\"covid\"},{\"identifier\":\"locally_owned_operated\",\"params\":{},\"type\":\"features\"},{\"identifier\":\"takeout_during_covid_19\",\"params\":{},\"type\":\"covid\"},{\"identifier\":\"casual_dining\",\"params\":{},\"type\":\"ambiance\"},{\"identifier\":\"full_bar\",\"params\":{},\"type\":\"dining_options\"}]',\n",
       " '[{\"identifier\":\"family_owned_operated\",\"params\":{},\"type\":\"features\"},{\"identifier\":\"virtual_estimates_during_covid_19\",\"params\":{},\"type\":\"covid\"}]',\n",
       " '[{\"identifier\":\"remote_services_during_covid_19\",\"params\":{},\"type\":\"covid\"},{\"identifier\":\"years_in_business\",\"params\":{\"year\":\"42\"},\"type\":\"features\"},{\"identifier\":\"certified_professionals\",\"params\":{},\"type\":\"features\"},{\"identifier\":\"available_by_appointment\",\"params\":{},\"type\":\"availability\"},{\"identifier\":\"hourly_pricing\",\"params\":{},\"type\":\"pricing\"},{\"identifier\":\"lgbtq_friendly\",\"params\":{},\"type\":\"crowd\"}]',\n",
       " '[{\"identifier\":\"curbside_pickup_during_covid_19\",\"params\":{},\"type\":\"covid\"},{\"identifier\":\"veteran_owned_operated\",\"params\":{},\"type\":\"features\"},{\"identifier\":\"certified_professionals\",\"params\":{},\"type\":\"features\"},{\"identifier\":\"walk_ins_welcome\",\"params\":{},\"type\":\"availability\"},{\"identifier\":\"free_estimates\",\"params\":{},\"type\":\"estimates\"},{\"identifier\":\"repairs_guaranteed\",\"params\":{},\"type\":\"guarantees\"}]',\n",
       " '[{\"identifier\":\"veteran_owned_operated\",\"params\":{},\"type\":\"features\"},{\"identifier\":\"parts_labor_guaranteed\",\"params\":{},\"type\":\"guarantees\"},{\"identifier\":\"years_in_business\",\"params\":{\"year\":\"10\"},\"type\":\"features\"},{\"identifier\":\"lgbtq_friendly\",\"params\":{},\"type\":\"crowd\"},{\"identifier\":\"drive_thru_during_covid_19\",\"params\":{},\"type\":\"covid\"},{\"identifier\":\"offers_payment_plans\",\"params\":{},\"type\":\"pricing\"}]',\n",
       " '[{\"identifier\":\"years_in_business\",\"params\":{\"year\":\"21\"},\"type\":\"features\"},{\"identifier\":\"family_owned_operated\",\"params\":{},\"type\":\"features\"},{\"identifier\":\"curbside_pickup_during_covid_19\",\"params\":{},\"type\":\"covid\"},{\"identifier\":\"curbside_drop_off_during_covid_19\",\"params\":{},\"type\":\"covid\"},{\"identifier\":\"shipping_during_covid_19\",\"params\":{},\"type\":\"covid\"},{\"identifier\":\"x_employees\",\"params\":{\"number\":\"35\"},\"type\":\"features\"}]',\n",
       " '[{\"identifier\":\"years_in_business\",\"params\":{\"year\":\"20\"},\"type\":\"features\"},{\"identifier\":\"free_estimates\",\"params\":{},\"type\":\"estimates\"},{\"identifier\":\"emergency_services\",\"params\":{},\"type\":\"availability\"},{\"identifier\":\"mobile_services_during_covid_19\",\"params\":{},\"type\":\"covid\"},{\"identifier\":\"veteran_owned_operated\",\"params\":{},\"type\":\"features\"},{\"identifier\":\"parts_labor_guaranteed\",\"params\":{},\"type\":\"guarantees\"}]',\n",
       " '[{\"identifier\":\"virtual_estimates_during_covid_19\",\"params\":{},\"type\":\"covid\"},{\"identifier\":\"years_in_business\",\"params\":{\"year\":\"16\"},\"type\":\"features\"},{\"identifier\":\"certified_professionals\",\"params\":{},\"type\":\"features\"},{\"identifier\":\"free_estimates\",\"params\":{},\"type\":\"estimates\"},{\"identifier\":\"satisfaction_guaranteed\",\"params\":{},\"type\":\"guarantees\"},{\"identifier\":\"lgbtq_friendly\",\"params\":{},\"type\":\"crowd\"}]',\n",
       " '[{\"identifier\":\"gift_cards_during_covid_19\",\"params\":{},\"type\":\"covid\"},{\"identifier\":\"takeout_during_covid_19\",\"params\":{},\"type\":\"covid\"},{\"identifier\":\"wheelchair_accessible\",\"params\":{},\"type\":\"amenities\"}]',\n",
       " '[{\"identifier\":\"locally_owned_operated\",\"params\":{},\"type\":\"features\"},{\"identifier\":\"takeout_during_covid_19\",\"params\":{},\"type\":\"covid\"}]',\n",
       " '[{\"identifier\":\"takeout_during_covid_19\",\"params\":{},\"type\":\"covid\"},{\"identifier\":\"vegan_friendly\",\"params\":{},\"type\":\"dining_options\"},{\"identifier\":\"gift_cards_during_covid_19\",\"params\":{},\"type\":\"covid\"},{\"identifier\":\"women_owned_operated\",\"params\":{},\"type\":\"features\"},{\"identifier\":\"casual_dining\",\"params\":{},\"type\":\"ambiance\"},{\"identifier\":\"grab_and_go\",\"params\":{},\"type\":\"dining_options\"}]',\n",
       " '[{\"identifier\":\"delivery_during_covid_19\",\"params\":{},\"type\":\"covid\"},{\"identifier\":\"takeout_during_covid_19\",\"params\":{},\"type\":\"covid\"},{\"identifier\":\"vegetarian_friendly\",\"params\":{},\"type\":\"dining_options\"},{\"identifier\":\"halal\",\"params\":{},\"type\":\"dining_options\"}]',\n",
       " '[{\"identifier\":\"certified_professionals\",\"params\":{},\"type\":\"features\"},{\"identifier\":\"locally_owned_operated\",\"params\":{},\"type\":\"features\"},{\"identifier\":\"offers_commercial_services\",\"params\":{},\"type\":\"features\"},{\"identifier\":\"family_owned_operated\",\"params\":{},\"type\":\"features\"},{\"identifier\":\"virtual_estimates_during_covid_19\",\"params\":{},\"type\":\"covid\"},{\"identifier\":\"mobile_services_during_covid_19\",\"params\":{},\"type\":\"covid\"}]',\n",
       " '[{\"identifier\":\"takeout_during_covid_19\",\"params\":{},\"type\":\"covid\"},{\"identifier\":\"delivery_during_covid_19\",\"params\":{},\"type\":\"covid\"},{\"identifier\":\"vegan_friendly\",\"params\":{},\"type\":\"dining_options\"},{\"identifier\":\"gluten_free_friendly\",\"params\":{},\"type\":\"dining_options\"},{\"identifier\":\"locally_owned_operated\",\"params\":{},\"type\":\"features\"},{\"identifier\":\"gift_cards_during_covid_19\",\"params\":{},\"type\":\"covid\"}]',\n",
       " '[{\"identifier\":\"vegetarian_friendly\",\"params\":{},\"type\":\"dining_options\"},{\"identifier\":\"full_bar\",\"params\":{},\"type\":\"dining_options\"},{\"identifier\":\"delivery_during_covid_19\",\"params\":{},\"type\":\"covid\"},{\"identifier\":\"takeout_during_covid_19\",\"params\":{},\"type\":\"covid\"},{\"identifier\":\"outdoor_seating_sponsored\",\"params\":{},\"type\":\"amenities\"},{\"identifier\":\"family_owned_operated\",\"params\":{},\"type\":\"features\"}]',\n",
       " '[{\"identifier\":\"locally_owned_operated\",\"params\":{},\"type\":\"features\"},{\"identifier\":\"takeout_during_covid_19\",\"params\":{},\"type\":\"covid\"},{\"identifier\":\"delivery_during_covid_19\",\"params\":{},\"type\":\"covid\"}]',\n",
       " '[{\"identifier\":\"delivery_during_covid_19\",\"params\":{},\"type\":\"covid\"},{\"identifier\":\"curbside_pickup_during_covid_19\",\"params\":{},\"type\":\"covid\"},{\"identifier\":\"takeout_during_covid_19\",\"params\":{},\"type\":\"covid\"},{\"identifier\":\"kitchen_open_late\",\"params\":{},\"type\":\"dining_options\"},{\"identifier\":\"halal\",\"params\":{},\"type\":\"dining_options\"},{\"identifier\":\"healthy_dining\",\"params\":{},\"type\":\"dining_options\"}]',\n",
       " '[{\"identifier\":\"delivery_during_covid_19\",\"params\":{},\"type\":\"covid\"},{\"identifier\":\"takeout_during_covid_19\",\"params\":{},\"type\":\"covid\"},{\"identifier\":\"locally_owned_operated\",\"params\":{},\"type\":\"features\"},{\"identifier\":\"grab_and_go\",\"params\":{},\"type\":\"dining_options\"},{\"identifier\":\"full_bar\",\"params\":{},\"type\":\"dining_options\"},{\"identifier\":\"free_wifi\",\"params\":{},\"type\":\"amenities\"}]',\n",
       " '[{\"identifier\":\"remote_services_during_covid_19\",\"params\":{},\"type\":\"covid\"},{\"identifier\":\"consultations_available\",\"params\":{},\"type\":\"estimates\"},{\"identifier\":\"locally_owned_operated\",\"params\":{},\"type\":\"features\"},{\"identifier\":\"certified_professionals\",\"params\":{},\"type\":\"features\"},{\"identifier\":\"offers_customized_solutions\",\"params\":{},\"type\":\"features\"},{\"identifier\":\"established_in\",\"params\":{\"year\":\"1995\"},\"type\":\"features\"}]',\n",
       " '[{\"identifier\":\"takeout_during_covid_19\",\"params\":{},\"type\":\"covid\"},{\"identifier\":\"delivery_during_covid_19\",\"params\":{},\"type\":\"covid\"},{\"identifier\":\"vegetarian_friendly\",\"params\":{},\"type\":\"dining_options\"},{\"identifier\":\"catering_service\",\"params\":{},\"type\":\"dining_options\"},{\"identifier\":\"free_parking\",\"params\":{},\"type\":\"amenities\"},{\"identifier\":\"kid_friendly\",\"params\":{},\"type\":\"crowd\"}]',\n",
       " '[{\"identifier\":\"virtual_estimates_during_covid_19\",\"params\":{},\"type\":\"covid\"},{\"identifier\":\"certified_professionals\",\"params\":{},\"type\":\"features\"},{\"identifier\":\"free_consultations\",\"params\":{},\"type\":\"estimates\"},{\"identifier\":\"satisfaction_guaranteed\",\"params\":{},\"type\":\"guarantees\"},{\"identifier\":\"women_owned_operated\",\"params\":{},\"type\":\"features\"},{\"identifier\":\"years_in_business\",\"params\":{\"year\":\"18\"},\"type\":\"features\"}]',\n",
       " '[{\"identifier\":\"virtual_estimates_during_covid_19\",\"params\":{},\"type\":\"covid\"},{\"identifier\":\"mobile_services_during_covid_19\",\"params\":{},\"type\":\"covid\"},{\"identifier\":\"pet_friendly\",\"params\":{},\"type\":\"crowd\"},{\"identifier\":\"free_estimates\",\"params\":{},\"type\":\"estimates\"}]',\n",
       " '[{\"identifier\":\"drive_thru_during_covid_19\",\"params\":{},\"type\":\"covid\"},{\"identifier\":\"family_owned_operated\",\"params\":{},\"type\":\"features\"},{\"identifier\":\"takeout_during_covid_19\",\"params\":{},\"type\":\"covid\"},{\"identifier\":\"grab_and_go\",\"params\":{},\"type\":\"dining_options\"},{\"identifier\":\"eco_friendly\",\"params\":{},\"type\":\"features\"},{\"identifier\":\"drive_thru\",\"params\":{},\"type\":\"amenities\"}]',\n",
       " '[{\"identifier\":\"takeout_during_covid_19\",\"params\":{},\"type\":\"covid\"},{\"identifier\":\"kid_friendly\",\"params\":{},\"type\":\"crowd\"},{\"identifier\":\"catering_service\",\"params\":{},\"type\":\"dining_options\"},{\"identifier\":\"drive_thru_during_covid_19\",\"params\":{},\"type\":\"covid\"},{\"identifier\":\"delivery_during_covid_19\",\"params\":{},\"type\":\"covid\"}]',\n",
       " '[{\"identifier\":\"curbside_pickup_during_covid_19\",\"params\":{},\"type\":\"covid\"},{\"identifier\":\"takeout_during_covid_19\",\"params\":{},\"type\":\"covid\"},{\"identifier\":\"healthy_dining\",\"params\":{},\"type\":\"dining_options\"},{\"identifier\":\"grab_and_go\",\"params\":{},\"type\":\"dining_options\"},{\"identifier\":\"free_parking\",\"params\":{},\"type\":\"amenities\"},{\"identifier\":\"speaks_mandarin\",\"params\":{},\"type\":\"features\"}]',\n",
       " '[{\"identifier\":\"delivery_during_covid_19\",\"params\":{},\"type\":\"covid\"},{\"identifier\":\"takeout_during_covid_19\",\"params\":{},\"type\":\"covid\"},{\"identifier\":\"vegetarian_friendly\",\"params\":{},\"type\":\"dining_options\"},{\"identifier\":\"grab_and_go\",\"params\":{},\"type\":\"dining_options\"},{\"identifier\":\"discounts_available\",\"params\":{},\"type\":\"pricing\"},{\"identifier\":\"gift_cards_during_covid_19\",\"params\":{},\"type\":\"covid\"}]',\n",
       " '[{\"identifier\":\"takeout_during_covid_19\",\"params\":{},\"type\":\"covid\"},{\"identifier\":\"gift_cards_during_covid_19\",\"params\":{},\"type\":\"covid\"},{\"identifier\":\"catering_service\",\"params\":{},\"type\":\"dining_options\"},{\"identifier\":\"casual_dining\",\"params\":{},\"type\":\"ambiance\"},{\"identifier\":\"family_owned_operated\",\"params\":{},\"type\":\"features\"},{\"identifier\":\"outdoor_seating_sponsored\",\"params\":{},\"type\":\"amenities\"}]',\n",
       " '[{\"identifier\":\"curbside_pickup_during_covid_19\",\"params\":{},\"type\":\"covid\"},{\"identifier\":\"curbside_drop_off_during_covid_19\",\"params\":{},\"type\":\"covid\"},{\"identifier\":\"delivery_during_covid_19\",\"params\":{},\"type\":\"covid\"},{\"identifier\":\"shipping_during_covid_19\",\"params\":{},\"type\":\"covid\"}]',\n",
       " '[{\"identifier\":\"delivery_during_covid_19\",\"params\":{},\"type\":\"covid\"},{\"identifier\":\"discounts_available\",\"params\":{},\"type\":\"pricing\"},{\"identifier\":\"takeout_during_covid_19\",\"params\":{},\"type\":\"covid\"},{\"identifier\":\"gift_cards_during_covid_19\",\"params\":{},\"type\":\"covid\"},{\"identifier\":\"vegetarian_friendly\",\"params\":{},\"type\":\"dining_options\"},{\"identifier\":\"vegan_friendly\",\"params\":{},\"type\":\"dining_options\"}]',\n",
       " '[{\"identifier\":\"curbside_pickup_during_covid_19\",\"params\":{},\"type\":\"covid\"},{\"identifier\":\"free_estimates\",\"params\":{},\"type\":\"estimates\"},{\"identifier\":\"locally_owned_operated\",\"params\":{},\"type\":\"features\"},{\"identifier\":\"established_in\",\"params\":{\"year\":\"2005\"},\"type\":\"features\"},{\"identifier\":\"available_by_appointment\",\"params\":{},\"type\":\"availability\"},{\"identifier\":\"offers_insurance\",\"params\":{},\"type\":\"guarantees\"}]',\n",
       " '[{\"identifier\":\"delivery_during_covid_19\",\"params\":{},\"type\":\"covid\"},{\"identifier\":\"takeout_during_covid_19\",\"params\":{},\"type\":\"covid\"},{\"identifier\":\"family_owned_operated\",\"params\":{},\"type\":\"features\"},{\"identifier\":\"established_in\",\"params\":{\"year\":\"1993\"},\"type\":\"features\"}]',\n",
       " '[{\"identifier\":\"delivery_during_covid_19\",\"params\":{},\"type\":\"covid\"},{\"identifier\":\"takeout_during_covid_19\",\"params\":{},\"type\":\"covid\"},{\"identifier\":\"takes_reservations\",\"params\":{},\"type\":\"dining_options\"},{\"identifier\":\"curbside_pickup_during_covid_19\",\"params\":{},\"type\":\"covid\"}]',\n",
       " '[{\"identifier\":\"mobile_services_during_covid_19\",\"params\":{},\"type\":\"covid\"},{\"identifier\":\"gift_cards_during_covid_19\",\"params\":{},\"type\":\"covid\"},{\"identifier\":\"casual_dining\",\"params\":{},\"type\":\"ambiance\"},{\"identifier\":\"sports_on_tv\",\"params\":{},\"type\":\"amenities\"},{\"identifier\":\"large_group_friendly\",\"params\":{},\"type\":\"crowd\"},{\"identifier\":\"free_wifi\",\"params\":{},\"type\":\"amenities\"}]',\n",
       " '[{\"identifier\":\"drive_thru_during_covid_19\",\"params\":{},\"type\":\"covid\"},{\"identifier\":\"delivery_during_covid_19\",\"params\":{},\"type\":\"covid\"},{\"identifier\":\"takeout_during_covid_19\",\"params\":{},\"type\":\"covid\"},{\"identifier\":\"vegan_friendly\",\"params\":{},\"type\":\"dining_options\"},{\"identifier\":\"drive_thru\",\"params\":{},\"type\":\"amenities\"},{\"identifier\":\"shipping_during_covid_19\",\"params\":{},\"type\":\"covid\"}]',\n",
       " '[{\"identifier\":\"curbside_pickup_during_covid_19\",\"params\":{},\"type\":\"covid\"},{\"identifier\":\"delivery_during_covid_19\",\"params\":{},\"type\":\"covid\"},{\"identifier\":\"takeout_during_covid_19\",\"params\":{},\"type\":\"covid\"},{\"identifier\":\"years_in_business\",\"params\":{\"year\":\"40\"},\"type\":\"features\"},{\"identifier\":\"locally_owned_operated\",\"params\":{},\"type\":\"features\"},{\"identifier\":\"discounts_available\",\"params\":{},\"type\":\"pricing\"}]',\n",
       " '[{\"identifier\":\"online_classes_during_covid_19\",\"params\":{},\"type\":\"covid\"},{\"identifier\":\"certified_professionals\",\"params\":{},\"type\":\"features\"},{\"identifier\":\"consultations_available\",\"params\":{},\"type\":\"estimates\"},{\"identifier\":\"offers_customized_solutions\",\"params\":{},\"type\":\"features\"},{\"identifier\":\"remote_services_during_covid_19\",\"params\":{},\"type\":\"covid\"},{\"identifier\":\"gift_cards_during_covid_19\",\"params\":{},\"type\":\"covid\"}]',\n",
       " '[{\"identifier\":\"delivery_during_covid_19\",\"params\":{},\"type\":\"covid\"},{\"identifier\":\"takeout_during_covid_19\",\"params\":{},\"type\":\"covid\"},{\"identifier\":\"curbside_pickup_during_covid_19\",\"params\":{},\"type\":\"covid\"},{\"identifier\":\"gift_cards_during_covid_19\",\"params\":{},\"type\":\"covid\"},{\"identifier\":\"grab_and_go\",\"params\":{},\"type\":\"dining_options\"},{\"identifier\":\"healthy_dining\",\"params\":{},\"type\":\"dining_options\"}]',\n",
       " '[{\"identifier\":\"delivery_during_covid_19\",\"params\":{},\"type\":\"covid\"},{\"identifier\":\"mobile_services_during_covid_19\",\"params\":{},\"type\":\"covid\"},{\"identifier\":\"curbside_drop_off_during_covid_19\",\"params\":{},\"type\":\"covid\"}]',\n",
       " '[{\"identifier\":\"delivery_during_covid_19\",\"params\":{},\"type\":\"covid\"},{\"identifier\":\"curbside_pickup_during_covid_19\",\"params\":{},\"type\":\"covid\"},{\"identifier\":\"takeout_during_covid_19\",\"params\":{},\"type\":\"covid\"},{\"identifier\":\"vegan_friendly\",\"params\":{},\"type\":\"dining_options\"},{\"identifier\":\"gluten_free_friendly\",\"params\":{},\"type\":\"dining_options\"},{\"identifier\":\"family_owned_operated\",\"params\":{},\"type\":\"features\"}]',\n",
       " '[{\"identifier\":\"curbside_pickup_during_covid_19\",\"params\":{},\"type\":\"covid\"},{\"identifier\":\"remote_services_during_covid_19\",\"params\":{},\"type\":\"covid\"},{\"identifier\":\"shipping_during_covid_19\",\"params\":{},\"type\":\"covid\"}]',\n",
       " '[{\"identifier\":\"takeout_during_covid_19\",\"params\":{},\"type\":\"covid\"},{\"identifier\":\"happy_hour_specials\",\"params\":{},\"type\":\"dining_options\"}]',\n",
       " '[{\"identifier\":\"virtual_estimates_during_covid_19\",\"params\":{},\"type\":\"covid\"},{\"identifier\":\"years_in_business\",\"params\":{\"year\":\"10\"},\"type\":\"features\"},{\"identifier\":\"locally_owned_operated\",\"params\":{},\"type\":\"features\"}]',\n",
       " '[{\"identifier\":\"delivery_during_covid_19\",\"params\":{},\"type\":\"covid\"},{\"identifier\":\"family_owned_operated\",\"params\":{},\"type\":\"features\"},{\"identifier\":\"remote_services_during_covid_19\",\"params\":{},\"type\":\"covid\"},{\"identifier\":\"shipping_during_covid_19\",\"params\":{},\"type\":\"covid\"},{\"identifier\":\"years_in_business\",\"params\":{\"year\":\"20\"},\"type\":\"features\"},{\"identifier\":\"certified_professionals\",\"params\":{},\"type\":\"features\"}]',\n",
       " '[{\"identifier\":\"curbside_pickup_during_covid_19\",\"params\":{},\"type\":\"covid\"},{\"identifier\":\"takeout_during_covid_19\",\"params\":{},\"type\":\"covid\"},{\"identifier\":\"delivery_during_covid_19\",\"params\":{},\"type\":\"covid\"},{\"identifier\":\"kid_friendly\",\"params\":{},\"type\":\"crowd\"},{\"identifier\":\"free_wifi\",\"params\":{},\"type\":\"amenities\"},{\"identifier\":\"locally_owned_operated\",\"params\":{},\"type\":\"features\"}]',\n",
       " '[{\"identifier\":\"curbside_pickup_during_covid_19\",\"params\":{},\"type\":\"covid\"},{\"identifier\":\"family_owned_operated\",\"params\":{},\"type\":\"features\"},{\"identifier\":\"kid_friendly\",\"params\":{},\"type\":\"crowd\"},{\"identifier\":\"vegetarian_friendly\",\"params\":{},\"type\":\"dining_options\"},{\"identifier\":\"vegan_friendly\",\"params\":{},\"type\":\"dining_options\"},{\"identifier\":\"gluten_free_friendly\",\"params\":{},\"type\":\"dining_options\"}]',\n",
       " '[{\"identifier\":\"curbside_pickup_during_covid_19\",\"params\":{},\"type\":\"covid\"},{\"identifier\":\"takeout_during_covid_19\",\"params\":{},\"type\":\"covid\"},{\"identifier\":\"healthy_dining\",\"params\":{},\"type\":\"dining_options\"},{\"identifier\":\"locally_sourced_ingredients\",\"params\":{},\"type\":\"dining_options\"},{\"identifier\":\"vegetarian_friendly\",\"params\":{},\"type\":\"dining_options\"},{\"identifier\":\"catering_service\",\"params\":{},\"type\":\"dining_options\"}]',\n",
       " '[{\"identifier\":\"delivery_during_covid_19\",\"params\":{},\"type\":\"covid\"},{\"identifier\":\"curbside_pickup_during_covid_19\",\"params\":{},\"type\":\"covid\"},{\"identifier\":\"takeout_during_covid_19\",\"params\":{},\"type\":\"covid\"},{\"identifier\":\"years_in_business\",\"params\":{\"year\":\"50\"},\"type\":\"features\"},{\"identifier\":\"outdoor_seating_sponsored\",\"params\":{},\"type\":\"amenities\"},{\"identifier\":\"free_wifi\",\"params\":{},\"type\":\"amenities\"}]',\n",
       " '[{\"identifier\":\"delivery_during_covid_19\",\"params\":{},\"type\":\"covid\"},{\"identifier\":\"locally_owned_operated\",\"params\":{},\"type\":\"features\"},{\"identifier\":\"curbside_pickup_during_covid_19\",\"params\":{},\"type\":\"covid\"},{\"identifier\":\"takeout_during_covid_19\",\"params\":{},\"type\":\"covid\"},{\"identifier\":\"catering_service\",\"params\":{},\"type\":\"dining_options\"},{\"identifier\":\"kid_friendly\",\"params\":{},\"type\":\"crowd\"}]',\n",
       " '[{\"identifier\":\"mobile_services_during_covid_19\",\"params\":{},\"type\":\"covid\"},{\"identifier\":\"certified_professionals\",\"params\":{},\"type\":\"features\"},{\"identifier\":\"emergency_services\",\"params\":{},\"type\":\"availability\"},{\"identifier\":\"free_estimates\",\"params\":{},\"type\":\"estimates\"},{\"identifier\":\"beat_or_match_prices\",\"params\":{},\"type\":\"pricing\"},{\"identifier\":\"satisfaction_guaranteed\",\"params\":{},\"type\":\"guarantees\"}]',\n",
       " '[{\"identifier\":\"takeout_during_covid_19\",\"params\":{},\"type\":\"covid\"},{\"identifier\":\"delivery_during_covid_19\",\"params\":{},\"type\":\"covid\"},{\"identifier\":\"vegetarian_friendly\",\"params\":{},\"type\":\"dining_options\"},{\"identifier\":\"discounts_available\",\"params\":{},\"type\":\"pricing\"},{\"identifier\":\"locally_sourced_ingredients\",\"params\":{},\"type\":\"dining_options\"}]',\n",
       " '[{\"identifier\":\"mobile_services_during_covid_19\",\"params\":{},\"type\":\"covid\"},{\"identifier\":\"24_7_availability\",\"params\":{},\"type\":\"availability\"},{\"identifier\":\"virtual_estimates_during_covid_19\",\"params\":{},\"type\":\"covid\"},{\"identifier\":\"discounts_available\",\"params\":{},\"type\":\"pricing\"},{\"identifier\":\"offers_commercial_services\",\"params\":{},\"type\":\"features\"},{\"identifier\":\"women_owned_operated\",\"params\":{},\"type\":\"features\"}]',\n",
       " '[{\"identifier\":\"curbside_drop_off_during_covid_19\",\"params\":{},\"type\":\"covid\"},{\"identifier\":\"curbside_pickup_during_covid_19\",\"params\":{},\"type\":\"covid\"},{\"identifier\":\"years_in_business\",\"params\":{\"year\":\"6\"},\"type\":\"features\"},{\"identifier\":\"family_owned_operated\",\"params\":{},\"type\":\"features\"},{\"identifier\":\"locally_owned_operated\",\"params\":{},\"type\":\"features\"}]',\n",
       " '[{\"identifier\":\"curbside_pickup_during_covid_19\",\"params\":{},\"type\":\"covid\"},{\"identifier\":\"takeout_during_covid_19\",\"params\":{},\"type\":\"covid\"},{\"identifier\":\"happy_hour_specials\",\"params\":{},\"type\":\"dining_options\"},{\"identifier\":\"grab_and_go\",\"params\":{},\"type\":\"dining_options\"},{\"identifier\":\"full_bar\",\"params\":{},\"type\":\"dining_options\"},{\"identifier\":\"locally_owned_operated\",\"params\":{},\"type\":\"features\"}]',\n",
       " '[{\"identifier\":\"curbside_pickup_during_covid_19\",\"params\":{},\"type\":\"covid\"},{\"identifier\":\"takeout_during_covid_19\",\"params\":{},\"type\":\"covid\"},{\"identifier\":\"grab_and_go\",\"params\":{},\"type\":\"dining_options\"},{\"identifier\":\"locally_owned_operated\",\"params\":{},\"type\":\"features\"},{\"identifier\":\"women_owned_operated\",\"params\":{},\"type\":\"features\"},{\"identifier\":\"private_events\",\"params\":{},\"type\":\"amenities\"}]',\n",
       " '[{\"identifier\":\"years_in_business\",\"params\":{\"year\":\"15\"},\"type\":\"features\"},{\"identifier\":\"results_guaranteed\",\"params\":{},\"type\":\"guarantees\"},{\"identifier\":\"certified_professionals\",\"params\":{},\"type\":\"features\"},{\"identifier\":\"references_available\",\"params\":{},\"type\":\"guarantees\"},{\"identifier\":\"luxury\",\"params\":{},\"type\":\"features\"},{\"identifier\":\"remote_services_during_covid_19\",\"params\":{},\"type\":\"covid\"}]',\n",
       " '[{\"identifier\":\"offers_commercial_services\",\"params\":{},\"type\":\"features\"},{\"identifier\":\"years_in_business\",\"params\":{\"year\":\"33\"},\"type\":\"features\"},{\"identifier\":\"offers_customized_solutions\",\"params\":{},\"type\":\"features\"},{\"identifier\":\"free_consultations\",\"params\":{},\"type\":\"estimates\"},{\"identifier\":\"references_available\",\"params\":{},\"type\":\"guarantees\"},{\"identifier\":\"online_classes_during_covid_19\",\"params\":{},\"type\":\"covid\"}]',\n",
       " '[{\"identifier\":\"remote_services_during_covid_19\",\"params\":{},\"type\":\"covid\"},{\"identifier\":\"years_in_business\",\"params\":{\"year\":\"10\"},\"type\":\"features\"},{\"identifier\":\"certified_professionals\",\"params\":{},\"type\":\"features\"},{\"identifier\":\"offers_customized_solutions\",\"params\":{},\"type\":\"features\"},{\"identifier\":\"available_by_appointment\",\"params\":{},\"type\":\"availability\"},{\"identifier\":\"lgbtq_friendly\",\"params\":{},\"type\":\"crowd\"}]',\n",
       " '[{\"identifier\":\"family_owned_operated\",\"params\":{},\"type\":\"features\"},{\"identifier\":\"mobile_services_during_covid_19\",\"params\":{},\"type\":\"covid\"},{\"identifier\":\"workmanship_guaranteed\",\"params\":{},\"type\":\"guarantees\"},{\"identifier\":\"certified_professionals\",\"params\":{},\"type\":\"features\"},{\"identifier\":\"available_by_appointment\",\"params\":{},\"type\":\"availability\"},{\"identifier\":\"locally_owned_operated\",\"params\":{},\"type\":\"features\"}]',\n",
       " '[{\"identifier\":\"delivery_during_covid_19\",\"params\":{},\"type\":\"covid\"},{\"identifier\":\"eco_friendly\",\"params\":{},\"type\":\"features\"},{\"identifier\":\"family_owned_operated\",\"params\":{},\"type\":\"features\"},{\"identifier\":\"established_in\",\"params\":{\"year\":\"1999\"},\"type\":\"features\"},{\"identifier\":\"certified_professionals\",\"params\":{},\"type\":\"features\"}]',\n",
       " '[{\"identifier\":\"takeout_during_covid_19\",\"params\":{},\"type\":\"covid\"},{\"identifier\":\"women_owned_operated\",\"params\":{},\"type\":\"features\"},{\"identifier\":\"lgbtq_friendly\",\"params\":{},\"type\":\"crowd\"},{\"identifier\":\"happy_hour_specials\",\"params\":{},\"type\":\"dining_options\"},{\"identifier\":\"locally_owned_operated\",\"params\":{},\"type\":\"features\"},{\"identifier\":\"casual_dining\",\"params\":{},\"type\":\"ambiance\"}]',\n",
       " '[{\"identifier\":\"delivery_during_covid_19\",\"params\":{},\"type\":\"covid\"},{\"identifier\":\"takeout_during_covid_19\",\"params\":{},\"type\":\"covid\"},{\"identifier\":\"catering_service\",\"params\":{},\"type\":\"dining_options\"},{\"identifier\":\"grab_and_go\",\"params\":{},\"type\":\"dining_options\"},{\"identifier\":\"locally_owned_operated\",\"params\":{},\"type\":\"features\"},{\"identifier\":\"discounts_available\",\"params\":{},\"type\":\"pricing\"}]',\n",
       " '[{\"identifier\":\"mobile_services_during_covid_19\",\"params\":{},\"type\":\"covid\"},{\"identifier\":\"virtual_estimates_during_covid_19\",\"params\":{},\"type\":\"covid\"},{\"identifier\":\"curbside_pickup_during_covid_19\",\"params\":{},\"type\":\"covid\"}]',\n",
       " '[{\"identifier\":\"delivery_during_covid_19\",\"params\":{},\"type\":\"covid\"},{\"identifier\":\"curbside_pickup_during_covid_19\",\"params\":{},\"type\":\"covid\"},{\"identifier\":\"takeout_during_covid_19\",\"params\":{},\"type\":\"covid\"},{\"identifier\":\"vegetarian_friendly\",\"params\":{},\"type\":\"dining_options\"},{\"identifier\":\"free_wifi\",\"params\":{},\"type\":\"amenities\"}]',\n",
       " '[{\"identifier\":\"takeout_during_covid_19\",\"params\":{},\"type\":\"covid\"},{\"identifier\":\"gift_cards_during_covid_19\",\"params\":{},\"type\":\"covid\"},{\"identifier\":\"happy_hour_specials\",\"params\":{},\"type\":\"dining_options\"},{\"identifier\":\"family_owned_operated\",\"params\":{},\"type\":\"features\"},{\"identifier\":\"catering_service\",\"params\":{},\"type\":\"dining_options\"},{\"identifier\":\"healthy_dining\",\"params\":{},\"type\":\"dining_options\"}]',\n",
       " '[{\"identifier\":\"locally_owned_operated\",\"params\":{},\"type\":\"features\"},{\"identifier\":\"minority_owned_operated\",\"params\":{},\"type\":\"features\"},{\"identifier\":\"speaks_spanish\",\"params\":{},\"type\":\"features\"},{\"identifier\":\"discounts_available\",\"params\":{},\"type\":\"pricing\"},{\"identifier\":\"delivery_during_covid_19\",\"params\":{},\"type\":\"covid\"},{\"identifier\":\"lgbtq_friendly\",\"params\":{},\"type\":\"crowd\"}]',\n",
       " '[{\"identifier\":\"vegetarian_friendly\",\"params\":{},\"type\":\"dining_options\"},{\"identifier\":\"gluten_free_friendly\",\"params\":{},\"type\":\"dining_options\"},{\"identifier\":\"healthy_dining\",\"params\":{},\"type\":\"dining_options\"},{\"identifier\":\"locally_owned_operated\",\"params\":{},\"type\":\"features\"},{\"identifier\":\"curbside_pickup_during_covid_19\",\"params\":{},\"type\":\"covid\"},{\"identifier\":\"gift_cards_during_covid_19\",\"params\":{},\"type\":\"covid\"}]',\n",
       " '[{\"identifier\":\"takeout_during_covid_19\",\"params\":{},\"type\":\"covid\"},{\"identifier\":\"delivery_during_covid_19\",\"params\":{},\"type\":\"covid\"},{\"identifier\":\"locally_owned_operated\",\"params\":{},\"type\":\"features\"},{\"identifier\":\"curbside_pickup_during_covid_19\",\"params\":{},\"type\":\"covid\"},{\"identifier\":\"remote_services_during_covid_19\",\"params\":{},\"type\":\"covid\"},{\"identifier\":\"vegetarian_friendly\",\"params\":{},\"type\":\"dining_options\"}]',\n",
       " '[{\"identifier\":\"delivery_during_covid_19\",\"params\":{},\"type\":\"covid\"},{\"identifier\":\"takeout_during_covid_19\",\"params\":{},\"type\":\"covid\"},{\"identifier\":\"family_owned_operated\",\"params\":{},\"type\":\"features\"},{\"identifier\":\"discounts_available\",\"params\":{},\"type\":\"pricing\"}]',\n",
       " '[{\"identifier\":\"virtual_estimates_during_covid_19\",\"params\":{},\"type\":\"covid\"},{\"identifier\":\"available_by_appointment\",\"params\":{},\"type\":\"availability\"},{\"identifier\":\"offers_customized_solutions\",\"params\":{},\"type\":\"features\"},{\"identifier\":\"satisfaction_guaranteed\",\"params\":{},\"type\":\"guarantees\"},{\"identifier\":\"family_owned_operated\",\"params\":{},\"type\":\"features\"},{\"identifier\":\"budget_friendly\",\"params\":{},\"type\":\"pricing\"}]',\n",
       " '[{\"identifier\":\"vegetarian_friendly\",\"params\":{},\"type\":\"dining_options\"},{\"identifier\":\"grab_and_go\",\"params\":{},\"type\":\"dining_options\"},{\"identifier\":\"casual_dining\",\"params\":{},\"type\":\"ambiance\"},{\"identifier\":\"outdoor_seating_sponsored\",\"params\":{},\"type\":\"amenities\"},{\"identifier\":\"lgbtq_friendly\",\"params\":{},\"type\":\"crowd\"},{\"identifier\":\"takeout_during_covid_19\",\"params\":{},\"type\":\"covid\"}]',\n",
       " '[{\"identifier\":\"locally_owned_operated\",\"params\":{},\"type\":\"features\"},{\"identifier\":\"speaks_spanish\",\"params\":{},\"type\":\"features\"},{\"identifier\":\"veteran_owned_operated\",\"params\":{},\"type\":\"features\"},{\"identifier\":\"shipping_during_covid_19\",\"params\":{},\"type\":\"covid\"},{\"identifier\":\"satisfaction_guaranteed\",\"params\":{},\"type\":\"guarantees\"},{\"identifier\":\"established_in\",\"params\":{\"year\":\"2012\"},\"type\":\"features\"}]',\n",
       " '[{\"identifier\":\"delivery_during_covid_19\",\"params\":{},\"type\":\"covid\"},{\"identifier\":\"curbside_pickup_during_covid_19\",\"params\":{},\"type\":\"covid\"},{\"identifier\":\"takeout_during_covid_19\",\"params\":{},\"type\":\"covid\"},{\"identifier\":\"gluten_free_friendly\",\"params\":{},\"type\":\"dining_options\"},{\"identifier\":\"family_owned_operated\",\"params\":{},\"type\":\"features\"},{\"identifier\":\"catering_service\",\"params\":{},\"type\":\"dining_options\"}]',\n",
       " '[{\"identifier\":\"mobile_services_during_covid_19\",\"params\":{},\"type\":\"covid\"},{\"identifier\":\"locally_owned_operated\",\"params\":{},\"type\":\"features\"},{\"identifier\":\"free_estimates\",\"params\":{},\"type\":\"estimates\"},{\"identifier\":\"emergency_services\",\"params\":{},\"type\":\"availability\"},{\"identifier\":\"fixed_pricing\",\"params\":{},\"type\":\"pricing\"},{\"identifier\":\"workmanship_guaranteed\",\"params\":{},\"type\":\"guarantees\"}]',\n",
       " '[{\"identifier\":\"available_by_appointment\",\"params\":{},\"type\":\"availability\"},{\"identifier\":\"discounts_available\",\"params\":{},\"type\":\"pricing\"},{\"identifier\":\"mobile_services_during_covid_19\",\"params\":{},\"type\":\"covid\"},{\"identifier\":\"large_group_friendly\",\"params\":{},\"type\":\"crowd\"},{\"identifier\":\"satisfaction_guaranteed\",\"params\":{},\"type\":\"guarantees\"},{\"identifier\":\"lgbtq_friendly\",\"params\":{},\"type\":\"crowd\"}]',\n",
       " '[{\"identifier\":\"takeout_during_covid_19\",\"params\":{},\"type\":\"covid\"},{\"identifier\":\"delivery_during_covid_19\",\"params\":{},\"type\":\"covid\"},{\"identifier\":\"vegetarian_friendly\",\"params\":{},\"type\":\"dining_options\"},{\"identifier\":\"discounts_available\",\"params\":{},\"type\":\"pricing\"}]',\n",
       " '[{\"identifier\":\"catering_service\",\"params\":{},\"type\":\"dining_options\"},{\"identifier\":\"casual_dining\",\"params\":{},\"type\":\"ambiance\"},{\"identifier\":\"curbside_pickup_during_covid_19\",\"params\":{},\"type\":\"covid\"},{\"identifier\":\"takeout_during_covid_19\",\"params\":{},\"type\":\"covid\"},{\"identifier\":\"family_owned_operated\",\"params\":{},\"type\":\"features\"},{\"identifier\":\"delivery_during_covid_19\",\"params\":{},\"type\":\"covid\"}]',\n",
       " '[{\"identifier\":\"virtual_estimates_during_covid_19\",\"params\":{},\"type\":\"covid\"},{\"identifier\":\"satisfaction_guaranteed\",\"params\":{},\"type\":\"guarantees\"},{\"identifier\":\"offers_commercial_services\",\"params\":{},\"type\":\"features\"},{\"identifier\":\"family_owned_operated\",\"params\":{},\"type\":\"features\"},{\"identifier\":\"certified_professionals\",\"params\":{},\"type\":\"features\"},{\"identifier\":\"hourly_pricing\",\"params\":{},\"type\":\"pricing\"}]',\n",
       " '[{\"identifier\":\"delivery_during_covid_19\",\"params\":{},\"type\":\"covid\"},{\"identifier\":\"curbside_pickup_during_covid_19\",\"params\":{},\"type\":\"covid\"},{\"identifier\":\"takeout_during_covid_19\",\"params\":{},\"type\":\"covid\"},{\"identifier\":\"years_in_business\",\"params\":{\"year\":\"1\"},\"type\":\"features\"},{\"identifier\":\"locally_owned_operated\",\"params\":{},\"type\":\"features\"},{\"identifier\":\"family_owned_operated\",\"params\":{},\"type\":\"features\"}]',\n",
       " '[{\"identifier\":\"remote_services_during_covid_19\",\"params\":{},\"type\":\"covid\"},{\"identifier\":\"women_owned_operated\",\"params\":{},\"type\":\"features\"},{\"identifier\":\"certified_professionals\",\"params\":{},\"type\":\"features\"},{\"identifier\":\"available_by_appointment\",\"params\":{},\"type\":\"availability\"},{\"identifier\":\"lgbtq_friendly\",\"params\":{},\"type\":\"crowd\"},{\"identifier\":\"eco_friendly\",\"params\":{},\"type\":\"features\"}]',\n",
       " '[{\"identifier\":\"certified_professionals\",\"params\":{},\"type\":\"features\"},{\"identifier\":\"offers_customized_solutions\",\"params\":{},\"type\":\"features\"},{\"identifier\":\"results_guaranteed\",\"params\":{},\"type\":\"guarantees\"},{\"identifier\":\"years_in_business\",\"params\":{\"year\":\"20\"},\"type\":\"features\"},{\"identifier\":\"remote_services_during_covid_19\",\"params\":{},\"type\":\"covid\"},{\"identifier\":\"locally_owned_operated\",\"params\":{},\"type\":\"features\"}]',\n",
       " '[{\"identifier\":\"certified_professionals\",\"params\":{},\"type\":\"features\"},{\"identifier\":\"fixed_pricing\",\"params\":{},\"type\":\"pricing\"},{\"identifier\":\"eco_friendly\",\"params\":{},\"type\":\"features\"},{\"identifier\":\"family_owned_operated\",\"params\":{},\"type\":\"features\"},{\"identifier\":\"workmanship_guaranteed\",\"params\":{},\"type\":\"guarantees\"},{\"identifier\":\"mobile_services_during_covid_19\",\"params\":{},\"type\":\"covid\"}]',\n",
       " '[{\"identifier\":\"locally_owned_operated\",\"params\":{},\"type\":\"features\"},{\"identifier\":\"eco_friendly\",\"params\":{},\"type\":\"features\"},{\"identifier\":\"virtual_estimates_during_covid_19\",\"params\":{},\"type\":\"covid\"},{\"identifier\":\"results_guaranteed\",\"params\":{},\"type\":\"guarantees\"},{\"identifier\":\"certified_professionals\",\"params\":{},\"type\":\"features\"},{\"identifier\":\"family_owned_operated\",\"params\":{},\"type\":\"features\"}]',\n",
       " '[{\"identifier\":\"curbside_pickup_during_covid_19\",\"params\":{},\"type\":\"covid\"},{\"identifier\":\"takeout_during_covid_19\",\"params\":{},\"type\":\"covid\"},{\"identifier\":\"delivery_during_covid_19\",\"params\":{},\"type\":\"covid\"},{\"identifier\":\"vegetarian_friendly\",\"params\":{},\"type\":\"dining_options\"},{\"identifier\":\"halal\",\"params\":{},\"type\":\"dining_options\"},{\"identifier\":\"casual_dining\",\"params\":{},\"type\":\"ambiance\"}]',\n",
       " '[{\"identifier\":\"takeout_during_covid_19\",\"params\":{},\"type\":\"covid\"},{\"identifier\":\"delivery_during_covid_19\",\"params\":{},\"type\":\"covid\"},{\"identifier\":\"gift_cards_during_covid_19\",\"params\":{},\"type\":\"covid\"},{\"identifier\":\"curbside_pickup_during_covid_19\",\"params\":{},\"type\":\"covid\"},{\"identifier\":\"family_owned_operated\",\"params\":{},\"type\":\"features\"},{\"identifier\":\"years_in_business\",\"params\":{\"year\":\"15\"},\"type\":\"features\"}]',\n",
       " '[{\"identifier\":\"delivery_during_covid_19\",\"params\":{},\"type\":\"covid\"},{\"identifier\":\"family_owned_operated\",\"params\":{},\"type\":\"features\"},{\"identifier\":\"luxury\",\"params\":{},\"type\":\"features\"},{\"identifier\":\"locally_owned_operated\",\"params\":{},\"type\":\"features\"},{\"identifier\":\"grab_and_go\",\"params\":{},\"type\":\"dining_options\"},{\"identifier\":\"catering_service\",\"params\":{},\"type\":\"dining_options\"}]',\n",
       " '[{\"identifier\":\"offers_insurance\",\"params\":{},\"type\":\"guarantees\"},{\"identifier\":\"discounts_available\",\"params\":{},\"type\":\"pricing\"},{\"identifier\":\"24_7_availability\",\"params\":{},\"type\":\"availability\"},{\"identifier\":\"shipping_during_covid_19\",\"params\":{},\"type\":\"covid\"},{\"identifier\":\"years_in_business\",\"params\":{\"year\":\"15\"},\"type\":\"features\"},{\"identifier\":\"delivery_during_covid_19\",\"params\":{},\"type\":\"covid\"}]',\n",
       " '[{\"identifier\":\"curbside_pickup_during_covid_19\",\"params\":{},\"type\":\"covid\"},{\"identifier\":\"takeout_during_covid_19\",\"params\":{},\"type\":\"covid\"},{\"identifier\":\"vegetarian_friendly\",\"params\":{},\"type\":\"dining_options\"},{\"identifier\":\"vegan_friendly\",\"params\":{},\"type\":\"dining_options\"},{\"identifier\":\"free_parking\",\"params\":{},\"type\":\"amenities\"},{\"identifier\":\"kid_friendly\",\"params\":{},\"type\":\"crowd\"}]',\n",
       " '[{\"identifier\":\"gift_cards_during_covid_19\",\"params\":{},\"type\":\"covid\"},{\"identifier\":\"delivery_during_covid_19\",\"params\":{},\"type\":\"covid\"},{\"identifier\":\"curbside_pickup_during_covid_19\",\"params\":{},\"type\":\"covid\"},{\"identifier\":\"takeout_during_covid_19\",\"params\":{},\"type\":\"covid\"},{\"identifier\":\"vegetarian_friendly\",\"params\":{},\"type\":\"dining_options\"},{\"identifier\":\"locally_owned_operated\",\"params\":{},\"type\":\"features\"}]',\n",
       " '[{\"identifier\":\"curbside_pickup_during_covid_19\",\"params\":{},\"type\":\"covid\"},{\"identifier\":\"takeout_during_covid_19\",\"params\":{},\"type\":\"covid\"},{\"identifier\":\"gift_cards_during_covid_19\",\"params\":{},\"type\":\"covid\"},{\"identifier\":\"delivery_during_covid_19\",\"params\":{},\"type\":\"covid\"},{\"identifier\":\"happy_hour_specials\",\"params\":{},\"type\":\"dining_options\"},{\"identifier\":\"grab_and_go\",\"params\":{},\"type\":\"dining_options\"}]',\n",
       " '[{\"identifier\":\"delivery_during_covid_19\",\"params\":{},\"type\":\"covid\"},{\"identifier\":\"free_estimates\",\"params\":{},\"type\":\"estimates\"},{\"identifier\":\"budget_friendly\",\"params\":{},\"type\":\"pricing\"},{\"identifier\":\"available_by_appointment\",\"params\":{},\"type\":\"availability\"}]',\n",
       " '[{\"identifier\":\"virtual_estimates_during_covid_19\",\"params\":{},\"type\":\"covid\"},{\"identifier\":\"free_consultations\",\"params\":{},\"type\":\"estimates\"},{\"identifier\":\"years_in_business\",\"params\":{\"year\":\"34\"},\"type\":\"features\"},{\"identifier\":\"romantic_vibe\",\"params\":{},\"type\":\"ambiance\"},{\"identifier\":\"lgbtq_friendly\",\"params\":{},\"type\":\"crowd\"},{\"identifier\":\"full_bar\",\"params\":{},\"type\":\"dining_options\"}]',\n",
       " '[{\"identifier\":\"drive_thru\",\"params\":{},\"type\":\"amenities\"},{\"identifier\":\"takeout_during_covid_19\",\"params\":{},\"type\":\"covid\"},{\"identifier\":\"locally_owned_operated\",\"params\":{},\"type\":\"features\"},{\"identifier\":\"kid_friendly\",\"params\":{},\"type\":\"crowd\"},{\"identifier\":\"kitchen_open_late\",\"params\":{},\"type\":\"dining_options\"},{\"identifier\":\"wheelchair_accessible\",\"params\":{},\"type\":\"amenities\"}]',\n",
       " '[{\"identifier\":\"gift_cards_during_covid_19\",\"params\":{},\"type\":\"covid\"},{\"identifier\":\"certified_professionals\",\"params\":{},\"type\":\"features\"},{\"identifier\":\"luxury\",\"params\":{},\"type\":\"features\"},{\"identifier\":\"free_wifi\",\"params\":{},\"type\":\"amenities\"},{\"identifier\":\"walk_ins_welcome\",\"params\":{},\"type\":\"availability\"},{\"identifier\":\"satisfaction_guaranteed\",\"params\":{},\"type\":\"guarantees\"}]',\n",
       " '[{\"identifier\":\"takeout_during_covid_19\",\"params\":{},\"type\":\"covid\"},{\"identifier\":\"curbside_pickup_during_covid_19\",\"params\":{},\"type\":\"covid\"},{\"identifier\":\"locally_owned_operated\",\"params\":{},\"type\":\"features\"},{\"identifier\":\"vegan_friendly\",\"params\":{},\"type\":\"dining_options\"},{\"identifier\":\"gluten_free_friendly\",\"params\":{},\"type\":\"dining_options\"}]',\n",
       " '[{\"identifier\":\"curbside_pickup_during_covid_19\",\"params\":{},\"type\":\"covid\"},{\"identifier\":\"takeout_during_covid_19\",\"params\":{},\"type\":\"covid\"},{\"identifier\":\"vegetarian_friendly\",\"params\":{},\"type\":\"dining_options\"},{\"identifier\":\"vegan_friendly\",\"params\":{},\"type\":\"dining_options\"},{\"identifier\":\"gluten_free_friendly\",\"params\":{},\"type\":\"dining_options\"},{\"identifier\":\"locally_sourced_ingredients\",\"params\":{},\"type\":\"dining_options\"}]',\n",
       " '[{\"identifier\":\"delivery_during_covid_19\",\"params\":{},\"type\":\"covid\"},{\"identifier\":\"takeout_during_covid_19\",\"params\":{},\"type\":\"covid\"},{\"identifier\":\"vegetarian_friendly\",\"params\":{},\"type\":\"dining_options\"}]',\n",
       " '[{\"identifier\":\"delivery_during_covid_19\",\"params\":{},\"type\":\"covid\"},{\"identifier\":\"kitchen_open_late\",\"params\":{},\"type\":\"dining_options\"},{\"identifier\":\"takeout_during_covid_19\",\"params\":{},\"type\":\"covid\"}]',\n",
       " '[{\"identifier\":\"delivery_during_covid_19\",\"params\":{},\"type\":\"covid\"},{\"identifier\":\"curbside_pickup_during_covid_19\",\"params\":{},\"type\":\"covid\"},{\"identifier\":\"takeout_during_covid_19\",\"params\":{},\"type\":\"covid\"},{\"identifier\":\"locally_owned_operated\",\"params\":{},\"type\":\"features\"},{\"identifier\":\"gift_cards_during_covid_19\",\"params\":{},\"type\":\"covid\"}]',\n",
       " '[{\"identifier\":\"casual_dining\",\"params\":{},\"type\":\"ambiance\"},{\"identifier\":\"family_owned_operated\",\"params\":{},\"type\":\"features\"},{\"identifier\":\"takeout_during_covid_19\",\"params\":{},\"type\":\"covid\"}]',\n",
       " '[{\"identifier\":\"gift_cards_during_covid_19\",\"params\":{},\"type\":\"covid\"},{\"identifier\":\"delivery_during_covid_19\",\"params\":{},\"type\":\"covid\"},{\"identifier\":\"curbside_pickup_during_covid_19\",\"params\":{},\"type\":\"covid\"},{\"identifier\":\"takeout_during_covid_19\",\"params\":{},\"type\":\"covid\"},{\"identifier\":\"locally_owned_operated\",\"params\":{},\"type\":\"features\"}]',\n",
       " '[{\"identifier\":\"mobile_services_during_covid_19\",\"params\":{},\"type\":\"covid\"},{\"identifier\":\"satisfaction_guaranteed\",\"params\":{},\"type\":\"guarantees\"},{\"identifier\":\"certified_professionals\",\"params\":{},\"type\":\"features\"}]',\n",
       " '[{\"identifier\":\"years_in_business\",\"params\":{\"year\":\"16\"},\"type\":\"features\"},{\"identifier\":\"consultations_available\",\"params\":{},\"type\":\"estimates\"},{\"identifier\":\"family_owned_operated\",\"params\":{},\"type\":\"features\"},{\"identifier\":\"virtual_estimates_during_covid_19\",\"params\":{},\"type\":\"covid\"},{\"identifier\":\"references_available\",\"params\":{},\"type\":\"guarantees\"}]',\n",
       " '[{\"identifier\":\"delivery_during_covid_19\",\"params\":{},\"type\":\"covid\"},{\"identifier\":\"takeout_during_covid_19\",\"params\":{},\"type\":\"covid\"},{\"identifier\":\"curbside_pickup_during_covid_19\",\"params\":{},\"type\":\"covid\"},{\"identifier\":\"gift_cards_during_covid_19\",\"params\":{},\"type\":\"covid\"},{\"identifier\":\"vegetarian_friendly\",\"params\":{},\"type\":\"dining_options\"},{\"identifier\":\"catering_service\",\"params\":{},\"type\":\"dining_options\"}]',\n",
       " '[{\"identifier\":\"delivery_during_covid_19\",\"params\":{},\"type\":\"covid\"},{\"identifier\":\"takeout_during_covid_19\",\"params\":{},\"type\":\"covid\"},{\"identifier\":\"vegetarian_friendly\",\"params\":{},\"type\":\"dining_options\"},{\"identifier\":\"grab_and_go\",\"params\":{},\"type\":\"dining_options\"},{\"identifier\":\"casual_dining\",\"params\":{},\"type\":\"ambiance\"}]',\n",
       " '[{\"identifier\":\"delivery_during_covid_19\",\"params\":{},\"type\":\"covid\"},{\"identifier\":\"takeout_during_covid_19\",\"params\":{},\"type\":\"covid\"},{\"identifier\":\"curbside_pickup_during_covid_19\",\"params\":{},\"type\":\"covid\"},{\"identifier\":\"grab_and_go\",\"params\":{},\"type\":\"dining_options\"},{\"identifier\":\"casual_dining\",\"params\":{},\"type\":\"ambiance\"}]',\n",
       " '[{\"identifier\":\"virtual_estimates_during_covid_19\",\"params\":{},\"type\":\"covid\"},{\"identifier\":\"mobile_services_during_covid_19\",\"params\":{},\"type\":\"covid\"},{\"identifier\":\"luxury\",\"params\":{},\"type\":\"features\"},{\"identifier\":\"satisfaction_guaranteed\",\"params\":{},\"type\":\"guarantees\"},{\"identifier\":\"years_in_business\",\"params\":{\"year\":\"16\"},\"type\":\"features\"},{\"identifier\":\"locally_owned_operated\",\"params\":{},\"type\":\"features\"}]',\n",
       " '[{\"identifier\":\"takeout_during_covid_19\",\"params\":{},\"type\":\"covid\"},{\"identifier\":\"gift_cards_during_covid_19\",\"params\":{},\"type\":\"covid\"},{\"identifier\":\"delivery_during_covid_19\",\"params\":{},\"type\":\"covid\"},{\"identifier\":\"curbside_pickup_during_covid_19\",\"params\":{},\"type\":\"covid\"},{\"identifier\":\"locally_owned_operated\",\"params\":{},\"type\":\"features\"},{\"identifier\":\"curbside_drop_off_during_covid_19\",\"params\":{},\"type\":\"covid\"}]',\n",
       " '[{\"identifier\":\"curbside_pickup_during_covid_19\",\"params\":{},\"type\":\"covid\"},{\"identifier\":\"takeout_during_covid_19\",\"params\":{},\"type\":\"covid\"},{\"identifier\":\"vegan_friendly\",\"params\":{},\"type\":\"dining_options\"},{\"identifier\":\"locally_sourced_ingredients\",\"params\":{},\"type\":\"dining_options\"},{\"identifier\":\"family_owned_operated\",\"params\":{},\"type\":\"features\"},{\"identifier\":\"gluten_free_friendly\",\"params\":{},\"type\":\"dining_options\"}]',\n",
       " '[{\"identifier\":\"mobile_services_during_covid_19\",\"params\":{},\"type\":\"covid\"},{\"identifier\":\"free_consultations\",\"params\":{},\"type\":\"estimates\"},{\"identifier\":\"certified_professionals\",\"params\":{},\"type\":\"features\"},{\"identifier\":\"available_by_appointment\",\"params\":{},\"type\":\"availability\"},{\"identifier\":\"offers_customized_solutions\",\"params\":{},\"type\":\"features\"},{\"identifier\":\"beat_or_match_prices\",\"params\":{},\"type\":\"pricing\"}]',\n",
       " '[{\"identifier\":\"delivery_during_covid_19\",\"params\":{},\"type\":\"covid\"},{\"identifier\":\"takeout_during_covid_19\",\"params\":{},\"type\":\"covid\"},{\"identifier\":\"vegetarian_friendly\",\"params\":{},\"type\":\"dining_options\"},{\"identifier\":\"vegan_friendly\",\"params\":{},\"type\":\"dining_options\"},{\"identifier\":\"gluten_free_friendly\",\"params\":{},\"type\":\"dining_options\"},{\"identifier\":\"lgbtq_friendly\",\"params\":{},\"type\":\"crowd\"}]',\n",
       " '[{\"identifier\":\"curbside_pickup_during_covid_19\",\"params\":{},\"type\":\"covid\"},{\"identifier\":\"takeout_during_covid_19\",\"params\":{},\"type\":\"covid\"},{\"identifier\":\"gluten_free_friendly\",\"params\":{},\"type\":\"dining_options\"},{\"identifier\":\"grab_and_go\",\"params\":{},\"type\":\"dining_options\"},{\"identifier\":\"catering_service\",\"params\":{},\"type\":\"dining_options\"},{\"identifier\":\"casual_dining\",\"params\":{},\"type\":\"ambiance\"}]',\n",
       " '[{\"identifier\":\"vegan_friendly\",\"params\":{},\"type\":\"dining_options\"},{\"identifier\":\"fine_dining\",\"params\":{},\"type\":\"ambiance\"},{\"identifier\":\"delivery_during_covid_19\",\"params\":{},\"type\":\"covid\"},{\"identifier\":\"curbside_pickup_during_covid_19\",\"params\":{},\"type\":\"covid\"},{\"identifier\":\"takeout_during_covid_19\",\"params\":{},\"type\":\"covid\"}]',\n",
       " '[{\"identifier\":\"takeout_during_covid_19\",\"params\":{},\"type\":\"covid\"},{\"identifier\":\"locally_owned_operated\",\"params\":{},\"type\":\"features\"},{\"identifier\":\"vegan_friendly\",\"params\":{},\"type\":\"dining_options\"},{\"identifier\":\"lgbtq_friendly\",\"params\":{},\"type\":\"crowd\"}]',\n",
       " '[{\"identifier\":\"mobile_services_during_covid_19\",\"params\":{},\"type\":\"covid\"},{\"identifier\":\"family_owned_operated\",\"params\":{},\"type\":\"features\"},{\"identifier\":\"established_in\",\"params\":{\"year\":\"1991\"},\"type\":\"features\"},{\"identifier\":\"available_by_appointment\",\"params\":{},\"type\":\"availability\"},{\"identifier\":\"free_estimates\",\"params\":{},\"type\":\"estimates\"},{\"identifier\":\"references_available\",\"params\":{},\"type\":\"guarantees\"}]',\n",
       " '[{\"identifier\":\"remote_services_during_covid_19\",\"params\":{},\"type\":\"covid\"},{\"identifier\":\"available_by_appointment\",\"params\":{},\"type\":\"availability\"},{\"identifier\":\"luxury\",\"params\":{},\"type\":\"features\"}]',\n",
       " '[{\"identifier\":\"remote_services_during_covid_19\",\"params\":{},\"type\":\"covid\"},{\"identifier\":\"virtual_estimates_during_covid_19\",\"params\":{},\"type\":\"covid\"},{\"identifier\":\"available_by_appointment\",\"params\":{},\"type\":\"availability\"}]',\n",
       " '[{\"identifier\":\"curbside_pickup_during_covid_19\",\"params\":{},\"type\":\"covid\"},{\"identifier\":\"takeout_during_covid_19\",\"params\":{},\"type\":\"covid\"},{\"identifier\":\"happy_hour_specials\",\"params\":{},\"type\":\"dining_options\"},{\"identifier\":\"healthy_dining\",\"params\":{},\"type\":\"dining_options\"},{\"identifier\":\"catering_service\",\"params\":{},\"type\":\"dining_options\"},{\"identifier\":\"established_in\",\"params\":{\"year\":\"1994\"},\"type\":\"features\"}]',\n",
       " '[{\"identifier\":\"takeout_during_covid_19\",\"params\":{},\"type\":\"covid\"},{\"identifier\":\"delivery_during_covid_19\",\"params\":{},\"type\":\"covid\"},{\"identifier\":\"curbside_pickup_during_covid_19\",\"params\":{},\"type\":\"covid\"},{\"identifier\":\"gift_cards_during_covid_19\",\"params\":{},\"type\":\"covid\"},{\"identifier\":\"gluten_free_friendly\",\"params\":{},\"type\":\"dining_options\"}]',\n",
       " '[{\"identifier\":\"delivery_during_covid_19\",\"params\":{},\"type\":\"covid\"},{\"identifier\":\"takeout_during_covid_19\",\"params\":{},\"type\":\"covid\"},{\"identifier\":\"gluten_free_friendly\",\"params\":{},\"type\":\"dining_options\"},{\"identifier\":\"vegetarian_friendly\",\"params\":{},\"type\":\"dining_options\"},{\"identifier\":\"vegan_friendly\",\"params\":{},\"type\":\"dining_options\"},{\"identifier\":\"large_group_friendly\",\"params\":{},\"type\":\"crowd\"}]',\n",
       " '[{\"identifier\":\"halal\",\"params\":{},\"type\":\"dining_options\"},{\"identifier\":\"delivery_during_covid_19\",\"params\":{},\"type\":\"covid\"},{\"identifier\":\"takeout_during_covid_19\",\"params\":{},\"type\":\"covid\"},{\"identifier\":\"grab_and_go\",\"params\":{},\"type\":\"dining_options\"},{\"identifier\":\"family_owned_operated\",\"params\":{},\"type\":\"features\"},{\"identifier\":\"vegetarian_friendly\",\"params\":{},\"type\":\"dining_options\"}]',\n",
       " '[{\"identifier\":\"takeout_during_covid_19\",\"params\":{},\"type\":\"covid\"},{\"identifier\":\"curbside_pickup_during_covid_19\",\"params\":{},\"type\":\"covid\"},{\"identifier\":\"delivery_during_covid_19\",\"params\":{},\"type\":\"covid\"},{\"identifier\":\"gluten_free_friendly\",\"params\":{},\"type\":\"dining_options\"},{\"identifier\":\"vegetarian_friendly\",\"params\":{},\"type\":\"dining_options\"},{\"identifier\":\"family_owned_operated\",\"params\":{},\"type\":\"features\"}]',\n",
       " '[{\"identifier\":\"online_classes_during_covid_19\",\"params\":{},\"type\":\"covid\"},{\"identifier\":\"remote_services_during_covid_19\",\"params\":{},\"type\":\"covid\"},{\"identifier\":\"locally_owned_operated\",\"params\":{},\"type\":\"features\"},{\"identifier\":\"not_for_profit\",\"params\":{},\"type\":\"features\"},{\"identifier\":\"eco_friendly\",\"params\":{},\"type\":\"features\"},{\"identifier\":\"available_by_appointment\",\"params\":{},\"type\":\"availability\"}]',\n",
       " '[{\"identifier\":\"remote_services_during_covid_19\",\"params\":{},\"type\":\"covid\"},{\"identifier\":\"curbside_drop_off_during_covid_19\",\"params\":{},\"type\":\"covid\"},{\"identifier\":\"curbside_pickup_during_covid_19\",\"params\":{},\"type\":\"covid\"}]',\n",
       " '[{\"identifier\":\"remote_services_during_covid_19\",\"params\":{},\"type\":\"covid\"},{\"identifier\":\"free_estimates\",\"params\":{},\"type\":\"estimates\"},{\"identifier\":\"certified_professionals\",\"params\":{},\"type\":\"features\"},{\"identifier\":\"repairs_guaranteed\",\"params\":{},\"type\":\"guarantees\"},{\"identifier\":\"walk_ins_welcome\",\"params\":{},\"type\":\"availability\"},{\"identifier\":\"speaks_spanish\",\"params\":{},\"type\":\"features\"}]',\n",
       " '[{\"identifier\":\"delivery_during_covid_19\",\"params\":{},\"type\":\"covid\"},{\"identifier\":\"vegetarian_friendly\",\"params\":{},\"type\":\"dining_options\"},{\"identifier\":\"gluten_free_friendly\",\"params\":{},\"type\":\"dining_options\"},{\"identifier\":\"vegan_friendly\",\"params\":{},\"type\":\"dining_options\"},{\"identifier\":\"catering_service\",\"params\":{},\"type\":\"dining_options\"},{\"identifier\":\"halal\",\"params\":{},\"type\":\"dining_options\"}]',\n",
       " '[{\"identifier\":\"certified_professionals\",\"params\":{},\"type\":\"features\"},{\"identifier\":\"family_owned_operated\",\"params\":{},\"type\":\"features\"},{\"identifier\":\"mobile_services_during_covid_19\",\"params\":{},\"type\":\"covid\"},{\"identifier\":\"locally_owned_operated\",\"params\":{},\"type\":\"features\"},{\"identifier\":\"available_by_appointment\",\"params\":{},\"type\":\"availability\"},{\"identifier\":\"workmanship_guaranteed\",\"params\":{},\"type\":\"guarantees\"}]',\n",
       " '[{\"identifier\":\"gift_cards_during_covid_19\",\"params\":{},\"type\":\"covid\"},{\"identifier\":\"curbside_pickup_during_covid_19\",\"params\":{},\"type\":\"covid\"},{\"identifier\":\"takeout_during_covid_19\",\"params\":{},\"type\":\"covid\"},{\"identifier\":\"delivery_during_covid_19\",\"params\":{},\"type\":\"covid\"},{\"identifier\":\"locally_owned_operated\",\"params\":{},\"type\":\"features\"},{\"identifier\":\"discounts_available\",\"params\":{},\"type\":\"pricing\"}]',\n",
       " '[{\"identifier\":\"curbside_pickup_during_covid_19\",\"params\":{},\"type\":\"covid\"},{\"identifier\":\"delivery_during_covid_19\",\"params\":{},\"type\":\"covid\"},{\"identifier\":\"takeout_during_covid_19\",\"params\":{},\"type\":\"covid\"},{\"identifier\":\"healthy_dining\",\"params\":{},\"type\":\"dining_options\"},{\"identifier\":\"vegan_friendly\",\"params\":{},\"type\":\"dining_options\"},{\"identifier\":\"gluten_free_friendly\",\"params\":{},\"type\":\"dining_options\"}]',\n",
       " '[{\"identifier\":\"delivery_during_covid_19\",\"params\":{},\"type\":\"covid\"},{\"identifier\":\"curbside_pickup_during_covid_19\",\"params\":{},\"type\":\"covid\"},{\"identifier\":\"grab_and_go\",\"params\":{},\"type\":\"dining_options\"},{\"identifier\":\"free_parking\",\"params\":{},\"type\":\"amenities\"},{\"identifier\":\"outdoor_seating_sponsored\",\"params\":{},\"type\":\"amenities\"},{\"identifier\":\"large_group_friendly\",\"params\":{},\"type\":\"crowd\"}]',\n",
       " '[{\"identifier\":\"gift_cards_during_covid_19\",\"params\":{},\"type\":\"covid\"},{\"identifier\":\"curbside_pickup_during_covid_19\",\"params\":{},\"type\":\"covid\"},{\"identifier\":\"vegetarian_friendly\",\"params\":{},\"type\":\"dining_options\"},{\"identifier\":\"full_bar\",\"params\":{},\"type\":\"dining_options\"},{\"identifier\":\"locally_owned_operated\",\"params\":{},\"type\":\"features\"},{\"identifier\":\"free_parking\",\"params\":{},\"type\":\"amenities\"}]',\n",
       " '[{\"identifier\":\"years_in_business\",\"params\":{\"year\":\"52\"},\"type\":\"features\"},{\"identifier\":\"family_owned_operated\",\"params\":{},\"type\":\"features\"},{\"identifier\":\"certified_professionals\",\"params\":{},\"type\":\"features\"},{\"identifier\":\"free_estimates\",\"params\":{},\"type\":\"estimates\"},{\"identifier\":\"virtual_estimates_during_covid_19\",\"params\":{},\"type\":\"covid\"},{\"identifier\":\"offers_customized_solutions\",\"params\":{},\"type\":\"features\"}]',\n",
       " '[{\"identifier\":\"delivery_during_covid_19\",\"params\":{},\"type\":\"covid\"},{\"identifier\":\"takeout_during_covid_19\",\"params\":{},\"type\":\"covid\"},{\"identifier\":\"curbside_pickup_during_covid_19\",\"params\":{},\"type\":\"covid\"},{\"identifier\":\"vegan_friendly\",\"params\":{},\"type\":\"dining_options\"},{\"identifier\":\"happy_hour_specials\",\"params\":{},\"type\":\"dining_options\"},{\"identifier\":\"vegetarian_friendly\",\"params\":{},\"type\":\"dining_options\"}]',\n",
       " '[{\"identifier\":\"family_owned_operated\",\"params\":{},\"type\":\"features\"},{\"identifier\":\"years_in_business\",\"params\":{\"year\":\"7\"},\"type\":\"features\"},{\"identifier\":\"workmanship_guaranteed\",\"params\":{},\"type\":\"guarantees\"},{\"identifier\":\"speaks_spanish\",\"params\":{},\"type\":\"features\"},{\"identifier\":\"free_estimates\",\"params\":{},\"type\":\"estimates\"},{\"identifier\":\"virtual_estimates_during_covid_19\",\"params\":{},\"type\":\"covid\"}]',\n",
       " '[{\"identifier\":\"mobile_services_during_covid_19\",\"params\":{},\"type\":\"covid\"},{\"identifier\":\"years_in_business\",\"params\":{\"year\":\"27\"},\"type\":\"features\"},{\"identifier\":\"speaks_mandarin\",\"params\":{},\"type\":\"features\"},{\"identifier\":\"speaks_spanish\",\"params\":{},\"type\":\"features\"},{\"identifier\":\"free_parking\",\"params\":{},\"type\":\"amenities\"},{\"identifier\":\"curbside_pickup_during_covid_19\",\"params\":{},\"type\":\"covid\"}]',\n",
       " '[{\"identifier\":\"delivery_during_covid_19\",\"params\":{},\"type\":\"covid\"},{\"identifier\":\"curbside_drop_off_during_covid_19\",\"params\":{},\"type\":\"covid\"},{\"identifier\":\"takeout_during_covid_19\",\"params\":{},\"type\":\"covid\"},{\"identifier\":\"remote_services_during_covid_19\",\"params\":{},\"type\":\"covid\"},{\"identifier\":\"kitchen_open_late\",\"params\":{},\"type\":\"dining_options\"},{\"identifier\":\"catering_service\",\"params\":{},\"type\":\"dining_options\"}]',\n",
       " '[{\"identifier\":\"drive_thru_during_covid_19\",\"params\":{},\"type\":\"covid\"},{\"identifier\":\"budget_friendly\",\"params\":{},\"type\":\"pricing\"},{\"identifier\":\"locally_owned_operated\",\"params\":{},\"type\":\"features\"},{\"identifier\":\"eco_friendly\",\"params\":{},\"type\":\"features\"},{\"identifier\":\"fixed_pricing\",\"params\":{},\"type\":\"pricing\"},{\"identifier\":\"wheelchair_accessible\",\"params\":{},\"type\":\"amenities\"}]',\n",
       " '[{\"identifier\":\"mobile_services_during_covid_19\",\"params\":{},\"type\":\"covid\"},{\"identifier\":\"available_by_appointment\",\"params\":{},\"type\":\"availability\"},{\"identifier\":\"free_estimates\",\"params\":{},\"type\":\"estimates\"},{\"identifier\":\"fixed_pricing\",\"params\":{},\"type\":\"pricing\"},{\"identifier\":\"years_in_business\",\"params\":{\"year\":\"12\"},\"type\":\"features\"},{\"identifier\":\"references_available\",\"params\":{},\"type\":\"guarantees\"}]',\n",
       " '[{\"identifier\":\"family_owned_operated\",\"params\":{},\"type\":\"features\"},{\"identifier\":\"years_in_business\",\"params\":{\"year\":\"63\"},\"type\":\"features\"},{\"identifier\":\"delivery_during_covid_19\",\"params\":{},\"type\":\"covid\"},{\"identifier\":\"satisfaction_guaranteed\",\"params\":{},\"type\":\"guarantees\"},{\"identifier\":\"beat_or_match_prices\",\"params\":{},\"type\":\"pricing\"},{\"identifier\":\"walk_ins_welcome\",\"params\":{},\"type\":\"availability\"}]',\n",
       " '[{\"identifier\":\"vegetarian_friendly\",\"params\":{},\"type\":\"dining_options\"},{\"identifier\":\"casual_dining\",\"params\":{},\"type\":\"ambiance\"},{\"identifier\":\"family_owned_operated\",\"params\":{},\"type\":\"features\"},{\"identifier\":\"delivery_during_covid_19\",\"params\":{},\"type\":\"covid\"},{\"identifier\":\"takeout_during_covid_19\",\"params\":{},\"type\":\"covid\"},{\"identifier\":\"curbside_pickup_during_covid_19\",\"params\":{},\"type\":\"covid\"}]',\n",
       " '[{\"identifier\":\"takeout_during_covid_19\",\"params\":{},\"type\":\"covid\"},{\"identifier\":\"delivery_during_covid_19\",\"params\":{},\"type\":\"covid\"},{\"identifier\":\"gluten_free_friendly\",\"params\":{},\"type\":\"dining_options\"},{\"identifier\":\"vegetarian_friendly\",\"params\":{},\"type\":\"dining_options\"},{\"identifier\":\"locally_owned_operated\",\"params\":{},\"type\":\"features\"},{\"identifier\":\"halal\",\"params\":{},\"type\":\"dining_options\"}]',\n",
       " '[{\"identifier\":\"takeout_during_covid_19\",\"params\":{},\"type\":\"covid\"},{\"identifier\":\"gift_cards_during_covid_19\",\"params\":{},\"type\":\"covid\"},{\"identifier\":\"catering_service\",\"params\":{},\"type\":\"dining_options\"},{\"identifier\":\"family_owned_operated\",\"params\":{},\"type\":\"features\"},{\"identifier\":\"locally_owned_operated\",\"params\":{},\"type\":\"features\"},{\"identifier\":\"women_owned_operated\",\"params\":{},\"type\":\"features\"}]',\n",
       " '[{\"identifier\":\"takeout_during_covid_19\",\"params\":{},\"type\":\"covid\"},{\"identifier\":\"delivery_during_covid_19\",\"params\":{},\"type\":\"covid\"},{\"identifier\":\"curbside_pickup_during_covid_19\",\"params\":{},\"type\":\"covid\"},{\"identifier\":\"locally_owned_operated\",\"params\":{},\"type\":\"features\"},{\"identifier\":\"locally_sourced_ingredients\",\"params\":{},\"type\":\"dining_options\"},{\"identifier\":\"vegetarian_friendly\",\"params\":{},\"type\":\"dining_options\"}]',\n",
       " '[{\"identifier\":\"remote_services_during_covid_19\",\"params\":{},\"type\":\"covid\"},{\"identifier\":\"years_in_business\",\"params\":{\"year\":\"20\"},\"type\":\"features\"},{\"identifier\":\"women_owned_operated\",\"params\":{},\"type\":\"features\"},{\"identifier\":\"locally_owned_operated\",\"params\":{},\"type\":\"features\"},{\"identifier\":\"available_by_appointment\",\"params\":{},\"type\":\"availability\"},{\"identifier\":\"certified_professionals\",\"params\":{},\"type\":\"features\"}]',\n",
       " '[{\"identifier\":\"years_in_business\",\"params\":{\"year\":\"24\"},\"type\":\"features\"},{\"identifier\":\"delivery_during_covid_19\",\"params\":{},\"type\":\"covid\"},{\"identifier\":\"takeout_during_covid_19\",\"params\":{},\"type\":\"covid\"},{\"identifier\":\"discounts_available\",\"params\":{},\"type\":\"pricing\"},{\"identifier\":\"healthy_dining\",\"params\":{},\"type\":\"dining_options\"},{\"identifier\":\"catering_service\",\"params\":{},\"type\":\"dining_options\"}]',\n",
       " '[{\"identifier\":\"delivery_during_covid_19\",\"params\":{},\"type\":\"covid\"},{\"identifier\":\"curbside_pickup_during_covid_19\",\"params\":{},\"type\":\"covid\"},{\"identifier\":\"gift_cards_during_covid_19\",\"params\":{},\"type\":\"covid\"},{\"identifier\":\"happy_hour_specials\",\"params\":{},\"type\":\"dining_options\"},{\"identifier\":\"speaks_spanish\",\"params\":{},\"type\":\"features\"},{\"identifier\":\"catering_service\",\"params\":{},\"type\":\"dining_options\"}]',\n",
       " '[{\"identifier\":\"curbside_pickup_during_covid_19\",\"params\":{},\"type\":\"covid\"},{\"identifier\":\"discounts_available\",\"params\":{},\"type\":\"pricing\"},{\"identifier\":\"offers_payment_plans\",\"params\":{},\"type\":\"pricing\"},{\"identifier\":\"beat_or_match_prices\",\"params\":{},\"type\":\"pricing\"}]',\n",
       " '[{\"identifier\":\"curbside_pickup_during_covid_19\",\"params\":{},\"type\":\"covid\"},{\"identifier\":\"takeout_during_covid_19\",\"params\":{},\"type\":\"covid\"},{\"identifier\":\"family_owned_operated\",\"params\":{},\"type\":\"features\"}]',\n",
       " '[{\"identifier\":\"mobile_services_during_covid_19\",\"params\":{},\"type\":\"covid\"},{\"identifier\":\"family_owned_operated\",\"params\":{},\"type\":\"features\"},{\"identifier\":\"workmanship_guaranteed\",\"params\":{},\"type\":\"guarantees\"},{\"identifier\":\"kid_friendly\",\"params\":{},\"type\":\"crowd\"},{\"identifier\":\"parts_labor_guaranteed\",\"params\":{},\"type\":\"guarantees\"},{\"identifier\":\"discounts_available\",\"params\":{},\"type\":\"pricing\"}]',\n",
       " '[{\"identifier\":\"virtual_estimates_during_covid_19\",\"params\":{},\"type\":\"covid\"},{\"identifier\":\"remote_services_during_covid_19\",\"params\":{},\"type\":\"covid\"},{\"identifier\":\"curbside_pickup_during_covid_19\",\"params\":{},\"type\":\"covid\"},{\"identifier\":\"women_owned_operated\",\"params\":{},\"type\":\"features\"},{\"identifier\":\"boutique\",\"params\":{},\"type\":\"features\"},{\"identifier\":\"available_by_appointment\",\"params\":{},\"type\":\"availability\"}]',\n",
       " '[{\"identifier\":\"curbside_pickup_during_covid_19\",\"params\":{},\"type\":\"covid\"},{\"identifier\":\"takeout_during_covid_19\",\"params\":{},\"type\":\"covid\"},{\"identifier\":\"delivery_during_covid_19\",\"params\":{},\"type\":\"covid\"},{\"identifier\":\"grab_and_go\",\"params\":{},\"type\":\"dining_options\"},{\"identifier\":\"catering_service\",\"params\":{},\"type\":\"dining_options\"},{\"identifier\":\"full_bar\",\"params\":{},\"type\":\"dining_options\"}]',\n",
       " '[{\"identifier\":\"virtual_estimates_during_covid_19\",\"params\":{},\"type\":\"covid\"},{\"identifier\":\"family_owned_operated\",\"params\":{},\"type\":\"features\"},{\"identifier\":\"certified_professionals\",\"params\":{},\"type\":\"features\"},{\"identifier\":\"emergency_services\",\"params\":{},\"type\":\"availability\"},{\"identifier\":\"free_estimates\",\"params\":{},\"type\":\"estimates\"},{\"identifier\":\"discounts_available\",\"params\":{},\"type\":\"pricing\"}]',\n",
       " '[{\"identifier\":\"curbside_pickup_during_covid_19\",\"params\":{},\"type\":\"covid\"},{\"identifier\":\"gift_cards_during_covid_19\",\"params\":{},\"type\":\"covid\"},{\"identifier\":\"locally_owned_operated\",\"params\":{},\"type\":\"features\"},{\"identifier\":\"free_consultations\",\"params\":{},\"type\":\"estimates\"},{\"identifier\":\"discounts_available\",\"params\":{},\"type\":\"pricing\"}]',\n",
       " '[{\"identifier\":\"delivery_during_covid_19\",\"params\":{},\"type\":\"covid\"},{\"identifier\":\"takeout_during_covid_19\",\"params\":{},\"type\":\"covid\"},{\"identifier\":\"full_bar\",\"params\":{},\"type\":\"dining_options\"},{\"identifier\":\"kitchen_open_late\",\"params\":{},\"type\":\"dining_options\"},{\"identifier\":\"family_owned_operated\",\"params\":{},\"type\":\"features\"},{\"identifier\":\"locally_owned_operated\",\"params\":{},\"type\":\"features\"}]',\n",
       " '[{\"identifier\":\"delivery_during_covid_19\",\"params\":{},\"type\":\"covid\"},{\"identifier\":\"locally_owned_operated\",\"params\":{},\"type\":\"features\"},{\"identifier\":\"grab_and_go\",\"params\":{},\"type\":\"dining_options\"},{\"identifier\":\"gift_cards_during_covid_19\",\"params\":{},\"type\":\"covid\"},{\"identifier\":\"vegetarian_friendly\",\"params\":{},\"type\":\"dining_options\"},{\"identifier\":\"healthy_dining\",\"params\":{},\"type\":\"dining_options\"}]',\n",
       " '[{\"identifier\":\"gift_cards_during_covid_19\",\"params\":{},\"type\":\"covid\"},{\"identifier\":\"takeout_during_covid_19\",\"params\":{},\"type\":\"covid\"},{\"identifier\":\"vegetarian_friendly\",\"params\":{},\"type\":\"dining_options\"},{\"identifier\":\"gluten_free_friendly\",\"params\":{},\"type\":\"dining_options\"},{\"identifier\":\"catering_service\",\"params\":{},\"type\":\"dining_options\"}]',\n",
       " '[{\"identifier\":\"casual_dining\",\"params\":{},\"type\":\"ambiance\"},{\"identifier\":\"catering_service\",\"params\":{},\"type\":\"dining_options\"},{\"identifier\":\"vegan_friendly\",\"params\":{},\"type\":\"dining_options\"},{\"identifier\":\"curbside_pickup_during_covid_19\",\"params\":{},\"type\":\"covid\"},{\"identifier\":\"takeout_during_covid_19\",\"params\":{},\"type\":\"covid\"},{\"identifier\":\"gluten_free_friendly\",\"params\":{},\"type\":\"dining_options\"}]',\n",
       " '[{\"identifier\":\"gluten_free_friendly\",\"params\":{},\"type\":\"dining_options\"},{\"identifier\":\"halal\",\"params\":{},\"type\":\"dining_options\"},{\"identifier\":\"free_wifi\",\"params\":{},\"type\":\"amenities\"},{\"identifier\":\"live_music_sponsored\",\"params\":{},\"type\":\"amenities\"},{\"identifier\":\"takeout_during_covid_19\",\"params\":{},\"type\":\"covid\"},{\"identifier\":\"delivery_during_covid_19\",\"params\":{},\"type\":\"covid\"}]',\n",
       " '[{\"identifier\":\"virtual_estimates_during_covid_19\",\"params\":{},\"type\":\"covid\"},{\"identifier\":\"locally_owned_operated\",\"params\":{},\"type\":\"features\"},{\"identifier\":\"certified_professionals\",\"params\":{},\"type\":\"features\"},{\"identifier\":\"family_owned_operated\",\"params\":{},\"type\":\"features\"},{\"identifier\":\"satisfaction_guaranteed\",\"params\":{},\"type\":\"guarantees\"}]',\n",
       " '[{\"identifier\":\"free_estimates\",\"params\":{},\"type\":\"estimates\"},{\"identifier\":\"fixed_pricing\",\"params\":{},\"type\":\"pricing\"},{\"identifier\":\"locally_owned_operated\",\"params\":{},\"type\":\"features\"},{\"identifier\":\"repairs_guaranteed\",\"params\":{},\"type\":\"guarantees\"},{\"identifier\":\"available_by_appointment\",\"params\":{},\"type\":\"availability\"},{\"identifier\":\"remote_services_during_covid_19\",\"params\":{},\"type\":\"covid\"}]',\n",
       " '[{\"identifier\":\"remote_services_during_covid_19\",\"params\":{},\"type\":\"covid\"},{\"identifier\":\"offers_payment_plans\",\"params\":{},\"type\":\"pricing\"},{\"identifier\":\"years_in_business\",\"params\":{\"year\":\"12\"},\"type\":\"features\"},{\"identifier\":\"free_consultations\",\"params\":{},\"type\":\"estimates\"},{\"identifier\":\"beat_or_match_prices\",\"params\":{},\"type\":\"pricing\"},{\"identifier\":\"kid_friendly\",\"params\":{},\"type\":\"crowd\"}]',\n",
       " '[{\"identifier\":\"gift_cards_during_covid_19\",\"params\":{},\"type\":\"covid\"},{\"identifier\":\"curbside_pickup_during_covid_19\",\"params\":{},\"type\":\"covid\"},{\"identifier\":\"vegetarian_friendly\",\"params\":{},\"type\":\"dining_options\"},{\"identifier\":\"takeout_during_covid_19\",\"params\":{},\"type\":\"covid\"},{\"identifier\":\"family_owned_operated\",\"params\":{},\"type\":\"features\"},{\"identifier\":\"catering_service\",\"params\":{},\"type\":\"dining_options\"}]',\n",
       " '[{\"identifier\":\"online_classes_during_covid_19\",\"params\":{},\"type\":\"covid\"},{\"identifier\":\"remote_services_during_covid_19\",\"params\":{},\"type\":\"covid\"},{\"identifier\":\"locally_owned_operated\",\"params\":{},\"type\":\"features\"},{\"identifier\":\"certified_professionals\",\"params\":{},\"type\":\"features\"},{\"identifier\":\"free_wifi\",\"params\":{},\"type\":\"amenities\"},{\"identifier\":\"free_parking\",\"params\":{},\"type\":\"amenities\"}]',\n",
       " '[{\"identifier\":\"curbside_pickup_during_covid_19\",\"params\":{},\"type\":\"covid\"},{\"identifier\":\"delivery_during_covid_19\",\"params\":{},\"type\":\"covid\"},{\"identifier\":\"shipping_during_covid_19\",\"params\":{},\"type\":\"covid\"},{\"identifier\":\"years_in_business\",\"params\":{\"year\":\"14\"},\"type\":\"features\"},{\"identifier\":\"free_parking\",\"params\":{},\"type\":\"amenities\"},{\"identifier\":\"discounts_available\",\"params\":{},\"type\":\"pricing\"}]',\n",
       " '[{\"identifier\":\"locally_owned_operated\",\"params\":{},\"type\":\"features\"},{\"identifier\":\"takeout_during_covid_19\",\"params\":{},\"type\":\"covid\"},{\"identifier\":\"years_in_business\",\"params\":{\"year\":\"32\"},\"type\":\"features\"}]',\n",
       " '[{\"identifier\":\"delivery_during_covid_19\",\"params\":{},\"type\":\"covid\"},{\"identifier\":\"curbside_pickup_during_covid_19\",\"params\":{},\"type\":\"covid\"},{\"identifier\":\"takeout_during_covid_19\",\"params\":{},\"type\":\"covid\"}]',\n",
       " '[{\"identifier\":\"takeout_during_covid_19\",\"params\":{},\"type\":\"covid\"},{\"identifier\":\"gluten_free_friendly\",\"params\":{},\"type\":\"dining_options\"},{\"identifier\":\"delivery_during_covid_19\",\"params\":{},\"type\":\"covid\"},{\"identifier\":\"gift_cards_during_covid_19\",\"params\":{},\"type\":\"covid\"},{\"identifier\":\"vegan_friendly\",\"params\":{},\"type\":\"dining_options\"},{\"identifier\":\"discounts_available\",\"params\":{},\"type\":\"pricing\"}]',\n",
       " '[{\"identifier\":\"family_owned_operated\",\"params\":{},\"type\":\"features\"},{\"identifier\":\"free_parking\",\"params\":{},\"type\":\"amenities\"},{\"identifier\":\"takeout_during_covid_19\",\"params\":{},\"type\":\"covid\"},{\"identifier\":\"curbside_pickup_during_covid_19\",\"params\":{},\"type\":\"covid\"},{\"identifier\":\"grab_and_go\",\"params\":{},\"type\":\"dining_options\"},{\"identifier\":\"delivery_during_covid_19\",\"params\":{},\"type\":\"covid\"}]',\n",
       " '[{\"identifier\":\"gift_cards_during_covid_19\",\"params\":{},\"type\":\"covid\"},{\"identifier\":\"delivery_during_covid_19\",\"params\":{},\"type\":\"covid\"},{\"identifier\":\"takeout_during_covid_19\",\"params\":{},\"type\":\"covid\"},{\"identifier\":\"curbside_pickup_during_covid_19\",\"params\":{},\"type\":\"covid\"},{\"identifier\":\"vegan_friendly\",\"params\":{},\"type\":\"dining_options\"},{\"identifier\":\"women_owned_operated\",\"params\":{},\"type\":\"features\"}]',\n",
       " '[{\"identifier\":\"takeout_during_covid_19\",\"params\":{},\"type\":\"covid\"},{\"identifier\":\"vegetarian_friendly\",\"params\":{},\"type\":\"dining_options\"},{\"identifier\":\"vegan_friendly\",\"params\":{},\"type\":\"dining_options\"},{\"identifier\":\"gluten_free_friendly\",\"params\":{},\"type\":\"dining_options\"},{\"identifier\":\"healthy_dining\",\"params\":{},\"type\":\"dining_options\"},{\"identifier\":\"women_owned_operated\",\"params\":{},\"type\":\"features\"}]',\n",
       " '[{\"identifier\":\"takeout_during_covid_19\",\"params\":{},\"type\":\"covid\"},{\"identifier\":\"curbside_pickup_during_covid_19\",\"params\":{},\"type\":\"covid\"},{\"identifier\":\"curbside_drop_off_during_covid_19\",\"params\":{},\"type\":\"covid\"},{\"identifier\":\"grab_and_go\",\"params\":{},\"type\":\"dining_options\"},{\"identifier\":\"happy_hour_specials\",\"params\":{},\"type\":\"dining_options\"},{\"identifier\":\"catering_service\",\"params\":{},\"type\":\"dining_options\"}]',\n",
       " '[{\"identifier\":\"delivery_during_covid_19\",\"params\":{},\"type\":\"covid\"},{\"identifier\":\"curbside_pickup_during_covid_19\",\"params\":{},\"type\":\"covid\"},{\"identifier\":\"grab_and_go\",\"params\":{},\"type\":\"dining_options\"},{\"identifier\":\"hipster_vibe\",\"params\":{},\"type\":\"ambiance\"},{\"identifier\":\"casual_dining\",\"params\":{},\"type\":\"ambiance\"},{\"identifier\":\"locally_owned_operated\",\"params\":{},\"type\":\"features\"}]',\n",
       " '[{\"identifier\":\"walk_ins_welcome\",\"params\":{},\"type\":\"availability\"},{\"identifier\":\"available_by_appointment\",\"params\":{},\"type\":\"availability\"},{\"identifier\":\"satisfaction_guaranteed\",\"params\":{},\"type\":\"guarantees\"},{\"identifier\":\"large_group_friendly\",\"params\":{},\"type\":\"crowd\"},{\"identifier\":\"gift_cards_during_covid_19\",\"params\":{},\"type\":\"covid\"},{\"identifier\":\"budget_friendly\",\"params\":{},\"type\":\"pricing\"}]',\n",
       " '[{\"identifier\":\"virtual_estimates_during_covid_19\",\"params\":{},\"type\":\"covid\"},{\"identifier\":\"gift_cards_during_covid_19\",\"params\":{},\"type\":\"covid\"}]',\n",
       " '[{\"identifier\":\"years_in_business\",\"params\":{\"year\":\"10\"},\"type\":\"features\"},{\"identifier\":\"parts_labor_guaranteed\",\"params\":{},\"type\":\"guarantees\"},{\"identifier\":\"locally_owned_operated\",\"params\":{},\"type\":\"features\"},{\"identifier\":\"free_consultations\",\"params\":{},\"type\":\"estimates\"},{\"identifier\":\"workmanship_guaranteed\",\"params\":{},\"type\":\"guarantees\"},{\"identifier\":\"virtual_estimates_during_covid_19\",\"params\":{},\"type\":\"covid\"}]',\n",
       " '[{\"identifier\":\"veteran_owned_operated\",\"params\":{},\"type\":\"features\"},{\"identifier\":\"locally_owned_operated\",\"params\":{},\"type\":\"features\"},{\"identifier\":\"online_classes_during_covid_19\",\"params\":{},\"type\":\"covid\"},{\"identifier\":\"established_in\",\"params\":{\"year\":\"2008\"},\"type\":\"features\"},{\"identifier\":\"available_by_appointment\",\"params\":{},\"type\":\"availability\"},{\"identifier\":\"walk_ins_welcome\",\"params\":{},\"type\":\"availability\"}]',\n",
       " '[{\"identifier\":\"curbside_pickup_during_covid_19\",\"params\":{},\"type\":\"covid\"},{\"identifier\":\"delivery_during_covid_19\",\"params\":{},\"type\":\"covid\"},{\"identifier\":\"vegetarian_friendly\",\"params\":{},\"type\":\"dining_options\"},{\"identifier\":\"vegan_friendly\",\"params\":{},\"type\":\"dining_options\"},{\"identifier\":\"gluten_free_friendly\",\"params\":{},\"type\":\"dining_options\"},{\"identifier\":\"grab_and_go\",\"params\":{},\"type\":\"dining_options\"}]',\n",
       " '[{\"identifier\":\"delivery_during_covid_19\",\"params\":{},\"type\":\"covid\"},{\"identifier\":\"takeout_during_covid_19\",\"params\":{},\"type\":\"covid\"},{\"identifier\":\"vegetarian_friendly\",\"params\":{},\"type\":\"dining_options\"},{\"identifier\":\"gluten_free_friendly\",\"params\":{},\"type\":\"dining_options\"},{\"identifier\":\"healthy_dining\",\"params\":{},\"type\":\"dining_options\"},{\"identifier\":\"discounts_available\",\"params\":{},\"type\":\"pricing\"}]',\n",
       " '[{\"identifier\":\"takeout_during_covid_19\",\"params\":{},\"type\":\"covid\"},{\"identifier\":\"delivery_during_covid_19\",\"params\":{},\"type\":\"covid\"},{\"identifier\":\"gluten_free_friendly\",\"params\":{},\"type\":\"dining_options\"},{\"identifier\":\"vegan_friendly\",\"params\":{},\"type\":\"dining_options\"},{\"identifier\":\"catering_service\",\"params\":{},\"type\":\"dining_options\"},{\"identifier\":\"grab_and_go\",\"params\":{},\"type\":\"dining_options\"}]',\n",
       " '[{\"identifier\":\"curbside_pickup_during_covid_19\",\"params\":{},\"type\":\"covid\"},{\"identifier\":\"vegetarian_friendly\",\"params\":{},\"type\":\"dining_options\"},{\"identifier\":\"vegan_friendly\",\"params\":{},\"type\":\"dining_options\"},{\"identifier\":\"gluten_free_friendly\",\"params\":{},\"type\":\"dining_options\"},{\"identifier\":\"healthy_dining\",\"params\":{},\"type\":\"dining_options\"},{\"identifier\":\"locally_owned_operated\",\"params\":{},\"type\":\"features\"}]',\n",
       " '[{\"identifier\":\"happy_hour_specials\",\"params\":{},\"type\":\"dining_options\"},{\"identifier\":\"takes_reservations\",\"params\":{},\"type\":\"dining_options\"},{\"identifier\":\"free_wifi\",\"params\":{},\"type\":\"amenities\"},{\"identifier\":\"kitchen_open_late\",\"params\":{},\"type\":\"dining_options\"},{\"identifier\":\"curbside_pickup_during_covid_19\",\"params\":{},\"type\":\"covid\"},{\"identifier\":\"takeout_during_covid_19\",\"params\":{},\"type\":\"covid\"}]',\n",
       " '[{\"identifier\":\"virtual_estimates_during_covid_19\",\"params\":{},\"type\":\"covid\"},{\"identifier\":\"emergency_services\",\"params\":{},\"type\":\"availability\"},{\"identifier\":\"years_in_business\",\"params\":{\"year\":\"31\"},\"type\":\"features\"},{\"identifier\":\"locally_owned_operated\",\"params\":{},\"type\":\"features\"},{\"identifier\":\"veteran_owned_operated\",\"params\":{},\"type\":\"features\"},{\"identifier\":\"satisfaction_guaranteed\",\"params\":{},\"type\":\"guarantees\"}]',\n",
       " '[{\"identifier\":\"pet_friendly\",\"params\":{},\"type\":\"crowd\"},{\"identifier\":\"luxury\",\"params\":{},\"type\":\"features\"},{\"identifier\":\"locally_owned_operated\",\"params\":{},\"type\":\"features\"},{\"identifier\":\"remote_services_during_covid_19\",\"params\":{},\"type\":\"covid\"}]',\n",
       " '[{\"identifier\":\"drive_thru_during_covid_19\",\"params\":{},\"type\":\"covid\"},{\"identifier\":\"takeout_during_covid_19\",\"params\":{},\"type\":\"covid\"},{\"identifier\":\"gift_cards_during_covid_19\",\"params\":{},\"type\":\"covid\"}]',\n",
       " '[{\"identifier\":\"takeout_during_covid_19\",\"params\":{},\"type\":\"covid\"},{\"identifier\":\"gift_cards_during_covid_19\",\"params\":{},\"type\":\"covid\"},{\"identifier\":\"delivery_during_covid_19\",\"params\":{},\"type\":\"covid\"},{\"identifier\":\"curbside_pickup_during_covid_19\",\"params\":{},\"type\":\"covid\"},{\"identifier\":\"curbside_drop_off_during_covid_19\",\"params\":{},\"type\":\"covid\"},{\"identifier\":\"vegetarian_friendly\",\"params\":{},\"type\":\"dining_options\"}]',\n",
       " '[{\"identifier\":\"takeout_during_covid_19\",\"params\":{},\"type\":\"covid\"},{\"identifier\":\"locally_owned_operated\",\"params\":{},\"type\":\"features\"},{\"identifier\":\"free_parking\",\"params\":{},\"type\":\"amenities\"},{\"identifier\":\"sports_on_tv\",\"params\":{},\"type\":\"amenities\"},{\"identifier\":\"happy_hour_specials\",\"params\":{},\"type\":\"dining_options\"},{\"identifier\":\"catering_service\",\"params\":{},\"type\":\"dining_options\"}]',\n",
       " '[{\"identifier\":\"gift_cards_during_covid_19\",\"params\":{},\"type\":\"covid\"},{\"identifier\":\"delivery_during_covid_19\",\"params\":{},\"type\":\"covid\"},{\"identifier\":\"curbside_pickup_during_covid_19\",\"params\":{},\"type\":\"covid\"},{\"identifier\":\"takeout_during_covid_19\",\"params\":{},\"type\":\"covid\"},{\"identifier\":\"vegetarian_friendly\",\"params\":{},\"type\":\"dining_options\"},{\"identifier\":\"romantic_vibe\",\"params\":{},\"type\":\"ambiance\"}]',\n",
       " '[{\"identifier\":\"gift_cards_during_covid_19\",\"params\":{},\"type\":\"covid\"},{\"identifier\":\"curbside_pickup_during_covid_19\",\"params\":{},\"type\":\"covid\"},{\"identifier\":\"online_classes_during_covid_19\",\"params\":{},\"type\":\"covid\"},{\"identifier\":\"remote_services_during_covid_19\",\"params\":{},\"type\":\"covid\"},{\"identifier\":\"years_in_business\",\"params\":{\"year\":\"7\"},\"type\":\"features\"},{\"identifier\":\"family_owned_operated\",\"params\":{},\"type\":\"features\"}]',\n",
       " '[{\"identifier\":\"gift_cards_during_covid_19\",\"params\":{},\"type\":\"covid\"},{\"identifier\":\"curbside_pickup_during_covid_19\",\"params\":{},\"type\":\"covid\"},{\"identifier\":\"takeout_during_covid_19\",\"params\":{},\"type\":\"covid\"},{\"identifier\":\"shipping_during_covid_19\",\"params\":{},\"type\":\"covid\"},{\"identifier\":\"delivery_during_covid_19\",\"params\":{},\"type\":\"covid\"}]',\n",
       " '[{\"identifier\":\"takeout_during_covid_19\",\"params\":{},\"type\":\"covid\"},{\"identifier\":\"vegetarian_friendly\",\"params\":{},\"type\":\"dining_options\"},{\"identifier\":\"halal\",\"params\":{},\"type\":\"dining_options\"},{\"identifier\":\"healthy_dining\",\"params\":{},\"type\":\"dining_options\"},{\"identifier\":\"years_in_business\",\"params\":{\"year\":\"18\"},\"type\":\"features\"},{\"identifier\":\"outdoor_seating_sponsored\",\"params\":{},\"type\":\"amenities\"}]',\n",
       " '[{\"identifier\":\"delivery_during_covid_19\",\"params\":{},\"type\":\"covid\"},{\"identifier\":\"curbside_pickup_during_covid_19\",\"params\":{},\"type\":\"covid\"},{\"identifier\":\"family_owned_operated\",\"params\":{},\"type\":\"features\"},{\"identifier\":\"speaks_spanish\",\"params\":{},\"type\":\"features\"},{\"identifier\":\"gift_cards_during_covid_19\",\"params\":{},\"type\":\"covid\"},{\"identifier\":\"catering_service\",\"params\":{},\"type\":\"dining_options\"}]',\n",
       " '[{\"identifier\":\"remote_services_during_covid_19\",\"params\":{},\"type\":\"covid\"},{\"identifier\":\"certified_professionals\",\"params\":{},\"type\":\"features\"},{\"identifier\":\"free_consultations\",\"params\":{},\"type\":\"estimates\"},{\"identifier\":\"offers_payment_plans\",\"params\":{},\"type\":\"pricing\"},{\"identifier\":\"speaks_spanish\",\"params\":{},\"type\":\"features\"},{\"identifier\":\"speaks_mandarin\",\"params\":{},\"type\":\"features\"}]',\n",
       " '[{\"identifier\":\"years_in_business\",\"params\":{\"year\":\"30\"},\"type\":\"features\"},{\"identifier\":\"curbside_pickup_during_covid_19\",\"params\":{},\"type\":\"covid\"},{\"identifier\":\"available_by_appointment\",\"params\":{},\"type\":\"availability\"},{\"identifier\":\"satisfaction_guaranteed\",\"params\":{},\"type\":\"guarantees\"},{\"identifier\":\"locally_owned_operated\",\"params\":{},\"type\":\"features\"},{\"identifier\":\"women_owned_operated\",\"params\":{},\"type\":\"features\"}]',\n",
       " '[{\"identifier\":\"remote_services_during_covid_19\",\"params\":{},\"type\":\"covid\"},{\"identifier\":\"drive_thru_during_covid_19\",\"params\":{},\"type\":\"covid\"},{\"identifier\":\"curbside_pickup_during_covid_19\",\"params\":{},\"type\":\"covid\"},{\"identifier\":\"years_in_business\",\"params\":{\"year\":\"45\"},\"type\":\"features\"},{\"identifier\":\"online_classes_during_covid_19\",\"params\":{},\"type\":\"covid\"},{\"identifier\":\"certified_professionals\",\"params\":{},\"type\":\"features\"}]',\n",
       " '[{\"identifier\":\"curbside_pickup_during_covid_19\",\"params\":{},\"type\":\"covid\"},{\"identifier\":\"delivery_during_covid_19\",\"params\":{},\"type\":\"covid\"},{\"identifier\":\"takeout_during_covid_19\",\"params\":{},\"type\":\"covid\"},{\"identifier\":\"gift_cards_during_covid_19\",\"params\":{},\"type\":\"covid\"},{\"identifier\":\"vegetarian_friendly\",\"params\":{},\"type\":\"dining_options\"},{\"identifier\":\"healthy_dining\",\"params\":{},\"type\":\"dining_options\"}]',\n",
       " '[{\"identifier\":\"locally_owned_operated\",\"params\":{},\"type\":\"features\"},{\"identifier\":\"discounts_available\",\"params\":{},\"type\":\"pricing\"},{\"identifier\":\"mobile_services_during_covid_19\",\"params\":{},\"type\":\"covid\"},{\"identifier\":\"kid_friendly\",\"params\":{},\"type\":\"crowd\"},{\"identifier\":\"pet_friendly\",\"params\":{},\"type\":\"crowd\"},{\"identifier\":\"available_by_appointment\",\"params\":{},\"type\":\"availability\"}]',\n",
       " '[{\"identifier\":\"online_classes_during_covid_19\",\"params\":{},\"type\":\"covid\"},{\"identifier\":\"speaks_spanish\",\"params\":{},\"type\":\"features\"},{\"identifier\":\"free_wifi\",\"params\":{},\"type\":\"amenities\"},{\"identifier\":\"free_consultations\",\"params\":{},\"type\":\"estimates\"},{\"identifier\":\"lgbtq_friendly\",\"params\":{},\"type\":\"crowd\"},{\"identifier\":\"wheelchair_accessible\",\"params\":{},\"type\":\"amenities\"}]',\n",
       " '[{\"identifier\":\"curbside_pickup_during_covid_19\",\"params\":{},\"type\":\"covid\"},{\"identifier\":\"delivery_during_covid_19\",\"params\":{},\"type\":\"covid\"},{\"identifier\":\"locally_owned_operated\",\"params\":{},\"type\":\"features\"},{\"identifier\":\"women_owned_operated\",\"params\":{},\"type\":\"features\"},{\"identifier\":\"wheelchair_accessible\",\"params\":{},\"type\":\"amenities\"}]',\n",
       " '[{\"identifier\":\"gift_cards_during_covid_19\",\"params\":{},\"type\":\"covid\"},{\"identifier\":\"curbside_pickup_during_covid_19\",\"params\":{},\"type\":\"covid\"},{\"identifier\":\"delivery_during_covid_19\",\"params\":{},\"type\":\"covid\"},{\"identifier\":\"takeout_during_covid_19\",\"params\":{},\"type\":\"covid\"}]',\n",
       " '[{\"identifier\":\"takeout_during_covid_19\",\"params\":{},\"type\":\"covid\"},{\"identifier\":\"curbside_pickup_during_covid_19\",\"params\":{},\"type\":\"covid\"},{\"identifier\":\"free_parking\",\"params\":{},\"type\":\"amenities\"},{\"identifier\":\"catering_service\",\"params\":{},\"type\":\"dining_options\"},{\"identifier\":\"gift_cards_during_covid_19\",\"params\":{},\"type\":\"covid\"},{\"identifier\":\"established_in\",\"params\":{\"year\":\"2002\"},\"type\":\"features\"}]',\n",
       " '[{\"identifier\":\"mobile_services_during_covid_19\",\"params\":{},\"type\":\"covid\"},{\"identifier\":\"locally_owned_operated\",\"params\":{},\"type\":\"features\"},{\"identifier\":\"emergency_services\",\"params\":{},\"type\":\"availability\"},{\"identifier\":\"budget_friendly\",\"params\":{},\"type\":\"pricing\"},{\"identifier\":\"parts_labor_guaranteed\",\"params\":{},\"type\":\"guarantees\"},{\"identifier\":\"offers_commercial_services\",\"params\":{},\"type\":\"features\"}]',\n",
       " '[{\"identifier\":\"virtual_estimates_during_covid_19\",\"params\":{},\"type\":\"covid\"},{\"identifier\":\"certified_professionals\",\"params\":{},\"type\":\"features\"}]',\n",
       " '[{\"identifier\":\"delivery_during_covid_19\",\"params\":{},\"type\":\"covid\"},{\"identifier\":\"takeout_during_covid_19\",\"params\":{},\"type\":\"covid\"},{\"identifier\":\"free_parking\",\"params\":{},\"type\":\"amenities\"},{\"identifier\":\"established_in\",\"params\":{\"year\":\"2016\"},\"type\":\"features\"},{\"identifier\":\"takes_reservations\",\"params\":{},\"type\":\"dining_options\"},{\"identifier\":\"casual_dining\",\"params\":{},\"type\":\"ambiance\"}]',\n",
       " '[{\"identifier\":\"certified_professionals\",\"params\":{},\"type\":\"features\"},{\"identifier\":\"established_in\",\"params\":{\"year\":\"1987\"},\"type\":\"features\"},{\"identifier\":\"shipping_during_covid_19\",\"params\":{},\"type\":\"covid\"},{\"identifier\":\"walk_ins_welcome\",\"params\":{},\"type\":\"availability\"},{\"identifier\":\"consultations_available\",\"params\":{},\"type\":\"estimates\"},{\"identifier\":\"free_wifi\",\"params\":{},\"type\":\"amenities\"}]',\n",
       " '[{\"identifier\":\"delivery_during_covid_19\",\"params\":{},\"type\":\"covid\"},{\"identifier\":\"virtual_estimates_during_covid_19\",\"params\":{},\"type\":\"covid\"},{\"identifier\":\"certified_professionals\",\"params\":{},\"type\":\"features\"},{\"identifier\":\"locally_owned_operated\",\"params\":{},\"type\":\"features\"},{\"identifier\":\"offers_commercial_services\",\"params\":{},\"type\":\"features\"},{\"identifier\":\"offers_payment_plans\",\"params\":{},\"type\":\"pricing\"}]',\n",
       " '[{\"identifier\":\"mobile_services_during_covid_19\",\"params\":{},\"type\":\"covid\"},{\"identifier\":\"years_in_business\",\"params\":{\"year\":\"12\"},\"type\":\"features\"},{\"identifier\":\"certified_professionals\",\"params\":{},\"type\":\"features\"},{\"identifier\":\"locally_owned_operated\",\"params\":{},\"type\":\"features\"},{\"identifier\":\"family_owned_operated\",\"params\":{},\"type\":\"features\"},{\"identifier\":\"eco_friendly\",\"params\":{},\"type\":\"features\"}]',\n",
       " '[{\"identifier\":\"full_bar\",\"params\":{},\"type\":\"dining_options\"},{\"identifier\":\"delivery_during_covid_19\",\"params\":{},\"type\":\"covid\"},{\"identifier\":\"takeout_during_covid_19\",\"params\":{},\"type\":\"covid\"},{\"identifier\":\"gift_cards_during_covid_19\",\"params\":{},\"type\":\"covid\"},{\"identifier\":\"free_parking\",\"params\":{},\"type\":\"amenities\"},{\"identifier\":\"outdoor_seating_sponsored\",\"params\":{},\"type\":\"amenities\"}]',\n",
       " '[{\"identifier\":\"takeout_during_covid_19\",\"params\":{},\"type\":\"covid\"},{\"identifier\":\"curbside_pickup_during_covid_19\",\"params\":{},\"type\":\"covid\"},{\"identifier\":\"takes_reservations\",\"params\":{},\"type\":\"dining_options\"},{\"identifier\":\"casual_dining\",\"params\":{},\"type\":\"ambiance\"},{\"identifier\":\"healthy_dining\",\"params\":{},\"type\":\"dining_options\"},{\"identifier\":\"locally_owned_operated\",\"params\":{},\"type\":\"features\"}]',\n",
       " '[{\"identifier\":\"delivery_during_covid_19\",\"params\":{},\"type\":\"covid\"},{\"identifier\":\"takeout_during_covid_19\",\"params\":{},\"type\":\"covid\"},{\"identifier\":\"grab_and_go\",\"params\":{},\"type\":\"dining_options\"},{\"identifier\":\"casual_dining\",\"params\":{},\"type\":\"ambiance\"},{\"identifier\":\"kitchen_open_late\",\"params\":{},\"type\":\"dining_options\"}]',\n",
       " '[{\"identifier\":\"virtual_estimates_during_covid_19\",\"params\":{},\"type\":\"covid\"},{\"identifier\":\"boutique\",\"params\":{},\"type\":\"features\"},{\"identifier\":\"women_owned_operated\",\"params\":{},\"type\":\"features\"},{\"identifier\":\"available_by_appointment\",\"params\":{},\"type\":\"availability\"},{\"identifier\":\"lgbtq_friendly\",\"params\":{},\"type\":\"crowd\"},{\"identifier\":\"free_consultations\",\"params\":{},\"type\":\"estimates\"}]',\n",
       " '[{\"identifier\":\"delivery_during_covid_19\",\"params\":{},\"type\":\"covid\"},{\"identifier\":\"shipping_during_covid_19\",\"params\":{},\"type\":\"covid\"},{\"identifier\":\"remote_services_during_covid_19\",\"params\":{},\"type\":\"covid\"},{\"identifier\":\"family_owned_operated\",\"params\":{},\"type\":\"features\"},{\"identifier\":\"years_in_business\",\"params\":{\"year\":\"30\"},\"type\":\"features\"},{\"identifier\":\"certified_professionals\",\"params\":{},\"type\":\"features\"}]',\n",
       " '[{\"identifier\":\"established_in\",\"params\":{\"year\":\"2001\"},\"type\":\"features\"},{\"identifier\":\"certified_professionals\",\"params\":{},\"type\":\"features\"},{\"identifier\":\"locally_owned_operated\",\"params\":{},\"type\":\"features\"},{\"identifier\":\"free_consultations\",\"params\":{},\"type\":\"estimates\"},{\"identifier\":\"remote_services_during_covid_19\",\"params\":{},\"type\":\"covid\"},{\"identifier\":\"available_by_appointment\",\"params\":{},\"type\":\"availability\"}]',\n",
       " '[{\"identifier\":\"established_in\",\"params\":{\"year\":\"1975\"},\"type\":\"features\"},{\"identifier\":\"offers_commercial_services\",\"params\":{},\"type\":\"features\"},{\"identifier\":\"satisfaction_guaranteed\",\"params\":{},\"type\":\"guarantees\"},{\"identifier\":\"free_estimates\",\"params\":{},\"type\":\"estimates\"},{\"identifier\":\"virtual_estimates_during_covid_19\",\"params\":{},\"type\":\"covid\"},{\"identifier\":\"remote_services_during_covid_19\",\"params\":{},\"type\":\"covid\"}]',\n",
       " '[{\"identifier\":\"mobile_services_during_covid_19\",\"params\":{},\"type\":\"covid\"},{\"identifier\":\"family_owned_operated\",\"params\":{},\"type\":\"features\"},{\"identifier\":\"locally_owned_operated\",\"params\":{},\"type\":\"features\"},{\"identifier\":\"available_by_appointment\",\"params\":{},\"type\":\"availability\"},{\"identifier\":\"free_estimates\",\"params\":{},\"type\":\"estimates\"},{\"identifier\":\"satisfaction_guaranteed\",\"params\":{},\"type\":\"guarantees\"}]',\n",
       " '[{\"identifier\":\"curbside_pickup_during_covid_19\",\"params\":{},\"type\":\"covid\"},{\"identifier\":\"takeout_during_covid_19\",\"params\":{},\"type\":\"covid\"},{\"identifier\":\"grab_and_go\",\"params\":{},\"type\":\"dining_options\"},{\"identifier\":\"mobile_services_during_covid_19\",\"params\":{},\"type\":\"covid\"}]',\n",
       " '[{\"identifier\":\"locally_owned_operated\",\"params\":{},\"type\":\"features\"},{\"identifier\":\"takeout_during_covid_19\",\"params\":{},\"type\":\"covid\"},{\"identifier\":\"delivery_during_covid_19\",\"params\":{},\"type\":\"covid\"},{\"identifier\":\"gift_cards_during_covid_19\",\"params\":{},\"type\":\"covid\"},{\"identifier\":\"full_bar\",\"params\":{},\"type\":\"dining_options\"}]',\n",
       " '[{\"identifier\":\"takeout_during_covid_19\",\"params\":{},\"type\":\"covid\"},{\"identifier\":\"all_you_can_eat\",\"params\":{},\"type\":\"dining_options\"},{\"identifier\":\"discounts_available\",\"params\":{},\"type\":\"pricing\"},{\"identifier\":\"healthy_dining\",\"params\":{},\"type\":\"dining_options\"},{\"identifier\":\"vegetarian_friendly\",\"params\":{},\"type\":\"dining_options\"},{\"identifier\":\"casual_dining\",\"params\":{},\"type\":\"ambiance\"}]',\n",
       " '[{\"identifier\":\"takeout_during_covid_19\",\"params\":{},\"type\":\"covid\"},{\"identifier\":\"grab_and_go\",\"params\":{},\"type\":\"dining_options\"},{\"identifier\":\"casual_dining\",\"params\":{},\"type\":\"ambiance\"},{\"identifier\":\"free_wifi\",\"params\":{},\"type\":\"amenities\"},{\"identifier\":\"free_parking\",\"params\":{},\"type\":\"amenities\"}]',\n",
       " '[{\"identifier\":\"drive_thru_during_covid_19\",\"params\":{},\"type\":\"covid\"},{\"identifier\":\"curbside_pickup_during_covid_19\",\"params\":{},\"type\":\"covid\"},{\"identifier\":\"delivery_during_covid_19\",\"params\":{},\"type\":\"covid\"},{\"identifier\":\"takeout_during_covid_19\",\"params\":{},\"type\":\"covid\"},{\"identifier\":\"vegetarian_friendly\",\"params\":{},\"type\":\"dining_options\"},{\"identifier\":\"locally_sourced_ingredients\",\"params\":{},\"type\":\"dining_options\"}]',\n",
       " '[{\"identifier\":\"family_owned_operated\",\"params\":{},\"type\":\"features\"},{\"identifier\":\"kitchen_open_late\",\"params\":{},\"type\":\"dining_options\"},{\"identifier\":\"delivery_during_covid_19\",\"params\":{},\"type\":\"covid\"},{\"identifier\":\"vegetarian_friendly\",\"params\":{},\"type\":\"dining_options\"},{\"identifier\":\"happy_hour_specials\",\"params\":{},\"type\":\"dining_options\"},{\"identifier\":\"full_bar\",\"params\":{},\"type\":\"dining_options\"}]',\n",
       " '[{\"identifier\":\"takeout_during_covid_19\",\"params\":{},\"type\":\"covid\"},{\"identifier\":\"gift_cards_during_covid_19\",\"params\":{},\"type\":\"covid\"}]',\n",
       " '[{\"identifier\":\"takeout_during_covid_19\",\"params\":{},\"type\":\"covid\"},{\"identifier\":\"delivery_during_covid_19\",\"params\":{},\"type\":\"covid\"},{\"identifier\":\"vegan_friendly\",\"params\":{},\"type\":\"dining_options\"},{\"identifier\":\"vegetarian_friendly\",\"params\":{},\"type\":\"dining_options\"},{\"identifier\":\"gluten_free_friendly\",\"params\":{},\"type\":\"dining_options\"},{\"identifier\":\"grab_and_go\",\"params\":{},\"type\":\"dining_options\"}]',\n",
       " '[{\"identifier\":\"locally_owned_operated\",\"params\":{},\"type\":\"features\"},{\"identifier\":\"shipping_during_covid_19\",\"params\":{},\"type\":\"covid\"},{\"identifier\":\"veteran_owned_operated\",\"params\":{},\"type\":\"features\"},{\"identifier\":\"family_owned_operated\",\"params\":{},\"type\":\"features\"},{\"identifier\":\"pet_friendly\",\"params\":{},\"type\":\"crowd\"},{\"identifier\":\"satisfaction_guaranteed\",\"params\":{},\"type\":\"guarantees\"}]',\n",
       " '[{\"identifier\":\"gift_cards_during_covid_19\",\"params\":{},\"type\":\"covid\"},{\"identifier\":\"mobile_services_during_covid_19\",\"params\":{},\"type\":\"covid\"},{\"identifier\":\"takeout_during_covid_19\",\"params\":{},\"type\":\"covid\"},{\"identifier\":\"vegetarian_friendly\",\"params\":{},\"type\":\"dining_options\"},{\"identifier\":\"gluten_free_friendly\",\"params\":{},\"type\":\"dining_options\"},{\"identifier\":\"happy_hour_specials\",\"params\":{},\"type\":\"dining_options\"}]',\n",
       " '[{\"identifier\":\"curbside_pickup_during_covid_19\",\"params\":{},\"type\":\"covid\"},{\"identifier\":\"delivery_during_covid_19\",\"params\":{},\"type\":\"covid\"},{\"identifier\":\"gift_cards_during_covid_19\",\"params\":{},\"type\":\"covid\"},{\"identifier\":\"gluten_free_friendly\",\"params\":{},\"type\":\"dining_options\"},{\"identifier\":\"healthy_dining\",\"params\":{},\"type\":\"dining_options\"},{\"identifier\":\"locally_owned_operated\",\"params\":{},\"type\":\"features\"}]',\n",
       " '[{\"identifier\":\"results_guaranteed\",\"params\":{},\"type\":\"guarantees\"},{\"identifier\":\"women_owned_operated\",\"params\":{},\"type\":\"features\"},{\"identifier\":\"certified_professionals\",\"params\":{},\"type\":\"features\"},{\"identifier\":\"free_consultations\",\"params\":{},\"type\":\"estimates\"},{\"identifier\":\"discounts_available\",\"params\":{},\"type\":\"pricing\"},{\"identifier\":\"virtual_estimates_during_covid_19\",\"params\":{},\"type\":\"covid\"}]',\n",
       " '[{\"identifier\":\"luxury\",\"params\":{},\"type\":\"features\"},{\"identifier\":\"delivery_during_covid_19\",\"params\":{},\"type\":\"covid\"},{\"identifier\":\"online_classes_during_covid_19\",\"params\":{},\"type\":\"covid\"},{\"identifier\":\"gift_cards_during_covid_19\",\"params\":{},\"type\":\"covid\"},{\"identifier\":\"certified_professionals\",\"params\":{},\"type\":\"features\"},{\"identifier\":\"locally_sourced_ingredients\",\"params\":{},\"type\":\"dining_options\"}]',\n",
       " '[{\"identifier\":\"women_owned_operated\",\"params\":{},\"type\":\"features\"},{\"identifier\":\"delivery_during_covid_19\",\"params\":{},\"type\":\"covid\"},{\"identifier\":\"available_by_appointment\",\"params\":{},\"type\":\"availability\"},{\"identifier\":\"curbside_pickup_during_covid_19\",\"params\":{},\"type\":\"covid\"},{\"identifier\":\"lgbtq_friendly\",\"params\":{},\"type\":\"crowd\"},{\"identifier\":\"satisfaction_guaranteed\",\"params\":{},\"type\":\"guarantees\"}]',\n",
       " '[{\"identifier\":\"delivery_during_covid_19\",\"params\":{},\"type\":\"covid\"},{\"identifier\":\"curbside_pickup_during_covid_19\",\"params\":{},\"type\":\"covid\"},{\"identifier\":\"takeout_during_covid_19\",\"params\":{},\"type\":\"covid\"},{\"identifier\":\"vegetarian_friendly\",\"params\":{},\"type\":\"dining_options\"},{\"identifier\":\"gift_cards_during_covid_19\",\"params\":{},\"type\":\"covid\"}]',\n",
       " '[{\"identifier\":\"certified_professionals\",\"params\":{},\"type\":\"features\"},{\"identifier\":\"remote_services_during_covid_19\",\"params\":{},\"type\":\"covid\"},{\"identifier\":\"locally_owned_operated\",\"params\":{},\"type\":\"features\"},{\"identifier\":\"free_wifi\",\"params\":{},\"type\":\"amenities\"},{\"identifier\":\"consultations_available\",\"params\":{},\"type\":\"estimates\"},{\"identifier\":\"offers_payment_plans\",\"params\":{},\"type\":\"pricing\"}]',\n",
       " '[{\"identifier\":\"years_in_business\",\"params\":{\"year\":\"16\"},\"type\":\"features\"},{\"identifier\":\"family_owned_operated\",\"params\":{},\"type\":\"features\"},{\"identifier\":\"free_parking\",\"params\":{},\"type\":\"amenities\"},{\"identifier\":\"gift_cards_during_covid_19\",\"params\":{},\"type\":\"covid\"},{\"identifier\":\"curbside_pickup_during_covid_19\",\"params\":{},\"type\":\"covid\"},{\"identifier\":\"locally_owned_operated\",\"params\":{},\"type\":\"features\"}]',\n",
       " '[{\"identifier\":\"remote_services_during_covid_19\",\"params\":{},\"type\":\"covid\"},{\"identifier\":\"emergency_services\",\"params\":{},\"type\":\"availability\"},{\"identifier\":\"discounts_available\",\"params\":{},\"type\":\"pricing\"},{\"identifier\":\"offers_payment_plans\",\"params\":{},\"type\":\"pricing\"},{\"identifier\":\"beat_or_match_prices\",\"params\":{},\"type\":\"pricing\"},{\"identifier\":\"workmanship_guaranteed\",\"params\":{},\"type\":\"guarantees\"}]',\n",
       " '[{\"identifier\":\"curbside_pickup_during_covid_19\",\"params\":{},\"type\":\"covid\"},{\"identifier\":\"takeout_during_covid_19\",\"params\":{},\"type\":\"covid\"},{\"identifier\":\"vegan_friendly\",\"params\":{},\"type\":\"dining_options\"},{\"identifier\":\"discounts_available\",\"params\":{},\"type\":\"pricing\"},{\"identifier\":\"gluten_free_friendly\",\"params\":{},\"type\":\"dining_options\"},{\"identifier\":\"mobile_services_during_covid_19\",\"params\":{},\"type\":\"covid\"}]',\n",
       " '[{\"identifier\":\"curbside_pickup_during_covid_19\",\"params\":{},\"type\":\"covid\"},{\"identifier\":\"delivery_during_covid_19\",\"params\":{},\"type\":\"covid\"},{\"identifier\":\"takeout_during_covid_19\",\"params\":{},\"type\":\"covid\"},{\"identifier\":\"vegan_friendly\",\"params\":{},\"type\":\"dining_options\"},{\"identifier\":\"grab_and_go\",\"params\":{},\"type\":\"dining_options\"},{\"identifier\":\"family_owned_operated\",\"params\":{},\"type\":\"features\"}]',\n",
       " '[{\"identifier\":\"halal\",\"params\":{},\"type\":\"dining_options\"},{\"identifier\":\"delivery_during_covid_19\",\"params\":{},\"type\":\"covid\"},{\"identifier\":\"locally_owned_operated\",\"params\":{},\"type\":\"features\"},{\"identifier\":\"large_group_friendly\",\"params\":{},\"type\":\"crowd\"},{\"identifier\":\"casual_dining\",\"params\":{},\"type\":\"ambiance\"},{\"identifier\":\"free_parking\",\"params\":{},\"type\":\"amenities\"}]',\n",
       " '[{\"identifier\":\"gift_cards_during_covid_19\",\"params\":{},\"type\":\"covid\"},{\"identifier\":\"delivery_during_covid_19\",\"params\":{},\"type\":\"covid\"},{\"identifier\":\"curbside_pickup_during_covid_19\",\"params\":{},\"type\":\"covid\"},{\"identifier\":\"takeout_during_covid_19\",\"params\":{},\"type\":\"covid\"},{\"identifier\":\"family_owned_operated\",\"params\":{},\"type\":\"features\"},{\"identifier\":\"years_in_business\",\"params\":{\"year\":\"20\"},\"type\":\"features\"}]',\n",
       " '[{\"identifier\":\"virtual_estimates_during_covid_19\",\"params\":{},\"type\":\"covid\"},{\"identifier\":\"women_owned_operated\",\"params\":{},\"type\":\"features\"},{\"identifier\":\"satisfaction_guaranteed\",\"params\":{},\"type\":\"guarantees\"},{\"identifier\":\"locally_owned_operated\",\"params\":{},\"type\":\"features\"},{\"identifier\":\"offers_insurance\",\"params\":{},\"type\":\"guarantees\"},{\"identifier\":\"fixed_pricing\",\"params\":{},\"type\":\"pricing\"}]',\n",
       " '[{\"identifier\":\"delivery_during_covid_19\",\"params\":{},\"type\":\"covid\"},{\"identifier\":\"takeout_during_covid_19\",\"params\":{},\"type\":\"covid\"},{\"identifier\":\"family_owned_operated\",\"params\":{},\"type\":\"features\"},{\"identifier\":\"locally_owned_operated\",\"params\":{},\"type\":\"features\"},{\"identifier\":\"speaks_spanish\",\"params\":{},\"type\":\"features\"}]',\n",
       " '[{\"identifier\":\"takeout_during_covid_19\",\"params\":{},\"type\":\"covid\"},{\"identifier\":\"casual_dining\",\"params\":{},\"type\":\"ambiance\"},{\"identifier\":\"locally_owned_operated\",\"params\":{},\"type\":\"features\"}]',\n",
       " '[{\"identifier\":\"gift_cards_during_covid_19\",\"params\":{},\"type\":\"covid\"},{\"identifier\":\"established_in\",\"params\":{\"year\":\"1971\"},\"type\":\"features\"}]',\n",
       " '[{\"identifier\":\"delivery_during_covid_19\",\"params\":{},\"type\":\"covid\"},{\"identifier\":\"takeout_during_covid_19\",\"params\":{},\"type\":\"covid\"},{\"identifier\":\"casual_dining\",\"params\":{},\"type\":\"ambiance\"},{\"identifier\":\"locally_owned_operated\",\"params\":{},\"type\":\"features\"}]',\n",
       " '[{\"identifier\":\"gift_cards_during_covid_19\",\"params\":{},\"type\":\"covid\"},{\"identifier\":\"takeout_during_covid_19\",\"params\":{},\"type\":\"covid\"},{\"identifier\":\"vegan_friendly\",\"params\":{},\"type\":\"dining_options\"},{\"identifier\":\"gluten_free_friendly\",\"params\":{},\"type\":\"dining_options\"},{\"identifier\":\"curbside_pickup_during_covid_19\",\"params\":{},\"type\":\"covid\"},{\"identifier\":\"healthy_dining\",\"params\":{},\"type\":\"dining_options\"}]',\n",
       " '[{\"identifier\":\"kitchen_open_late\",\"params\":{},\"type\":\"dining_options\"},{\"identifier\":\"years_in_business\",\"params\":{\"year\":\"10\"},\"type\":\"features\"},{\"identifier\":\"free_wifi\",\"params\":{},\"type\":\"amenities\"},{\"identifier\":\"takes_reservations\",\"params\":{},\"type\":\"dining_options\"},{\"identifier\":\"happy_hour_specials\",\"params\":{},\"type\":\"dining_options\"},{\"identifier\":\"remote_services_during_covid_19\",\"params\":{},\"type\":\"covid\"}]',\n",
       " '[{\"identifier\":\"delivery_during_covid_19\",\"params\":{},\"type\":\"covid\"},{\"identifier\":\"curbside_pickup_during_covid_19\",\"params\":{},\"type\":\"covid\"},{\"identifier\":\"family_owned_operated\",\"params\":{},\"type\":\"features\"},{\"identifier\":\"outdoor_seating_sponsored\",\"params\":{},\"type\":\"amenities\"},{\"identifier\":\"happy_hour_specials\",\"params\":{},\"type\":\"dining_options\"},{\"identifier\":\"takes_reservations\",\"params\":{},\"type\":\"dining_options\"}]',\n",
       " '[{\"identifier\":\"family_owned_operated\",\"params\":{},\"type\":\"features\"},{\"identifier\":\"delivery_during_covid_19\",\"params\":{},\"type\":\"covid\"},{\"identifier\":\"remote_services_during_covid_19\",\"params\":{},\"type\":\"covid\"},{\"identifier\":\"mobile_services_during_covid_19\",\"params\":{},\"type\":\"covid\"}]',\n",
       " '[{\"identifier\":\"delivery_during_covid_19\",\"params\":{},\"type\":\"covid\"},{\"identifier\":\"takeout_during_covid_19\",\"params\":{},\"type\":\"covid\"},{\"identifier\":\"curbside_pickup_during_covid_19\",\"params\":{},\"type\":\"covid\"},{\"identifier\":\"vegetarian_friendly\",\"params\":{},\"type\":\"dining_options\"},{\"identifier\":\"grab_and_go\",\"params\":{},\"type\":\"dining_options\"},{\"identifier\":\"years_in_business\",\"params\":{\"year\":\"16\"},\"type\":\"features\"}]',\n",
       " '[{\"identifier\":\"gift_cards_during_covid_19\",\"params\":{},\"type\":\"covid\"},{\"identifier\":\"curbside_pickup_during_covid_19\",\"params\":{},\"type\":\"covid\"},{\"identifier\":\"takeout_during_covid_19\",\"params\":{},\"type\":\"covid\"},{\"identifier\":\"gluten_free_friendly\",\"params\":{},\"type\":\"dining_options\"},{\"identifier\":\"vegan_friendly\",\"params\":{},\"type\":\"dining_options\"},{\"identifier\":\"healthy_dining\",\"params\":{},\"type\":\"dining_options\"}]',\n",
       " '[{\"identifier\":\"delivery_during_covid_19\",\"params\":{},\"type\":\"covid\"},{\"identifier\":\"curbside_pickup_during_covid_19\",\"params\":{},\"type\":\"covid\"},{\"identifier\":\"takeout_during_covid_19\",\"params\":{},\"type\":\"covid\"},{\"identifier\":\"locally_owned_operated\",\"params\":{},\"type\":\"features\"},{\"identifier\":\"full_bar\",\"params\":{},\"type\":\"dining_options\"},{\"identifier\":\"kitchen_open_late\",\"params\":{},\"type\":\"dining_options\"}]',\n",
       " '[{\"identifier\":\"takeout_during_covid_19\",\"params\":{},\"type\":\"covid\"},{\"identifier\":\"vegetarian_friendly\",\"params\":{},\"type\":\"dining_options\"},{\"identifier\":\"vegan_friendly\",\"params\":{},\"type\":\"dining_options\"},{\"identifier\":\"catering_service\",\"params\":{},\"type\":\"dining_options\"},{\"identifier\":\"family_owned_operated\",\"params\":{},\"type\":\"features\"},{\"identifier\":\"kid_friendly\",\"params\":{},\"type\":\"crowd\"}]',\n",
       " '[{\"identifier\":\"certified_professionals\",\"params\":{},\"type\":\"features\"},{\"identifier\":\"locally_owned_operated\",\"params\":{},\"type\":\"features\"},{\"identifier\":\"delivery_during_covid_19\",\"params\":{},\"type\":\"covid\"},{\"identifier\":\"offers_commercial_services\",\"params\":{},\"type\":\"features\"},{\"identifier\":\"24_7_availability\",\"params\":{},\"type\":\"availability\"},{\"identifier\":\"satisfaction_guaranteed\",\"params\":{},\"type\":\"guarantees\"}]',\n",
       " '[{\"identifier\":\"years_in_business\",\"params\":{\"year\":\"18\"},\"type\":\"features\"},{\"identifier\":\"offers_commercial_services\",\"params\":{},\"type\":\"features\"},{\"identifier\":\"locally_owned_operated\",\"params\":{},\"type\":\"features\"},{\"identifier\":\"free_estimates\",\"params\":{},\"type\":\"estimates\"},{\"identifier\":\"budget_friendly\",\"params\":{},\"type\":\"pricing\"},{\"identifier\":\"virtual_estimates_during_covid_19\",\"params\":{},\"type\":\"covid\"}]',\n",
       " '[{\"identifier\":\"family_owned_operated\",\"params\":{},\"type\":\"features\"},{\"identifier\":\"gift_cards_during_covid_19\",\"params\":{},\"type\":\"covid\"},{\"identifier\":\"delivery_during_covid_19\",\"params\":{},\"type\":\"covid\"},{\"identifier\":\"takeout_during_covid_19\",\"params\":{},\"type\":\"covid\"},{\"identifier\":\"healthy_dining\",\"params\":{},\"type\":\"dining_options\"},{\"identifier\":\"vegetarian_friendly\",\"params\":{},\"type\":\"dining_options\"}]',\n",
       " '[{\"identifier\":\"free_consultations\",\"params\":{},\"type\":\"estimates\"},{\"identifier\":\"offers_customized_solutions\",\"params\":{},\"type\":\"features\"},{\"identifier\":\"certified_professionals\",\"params\":{},\"type\":\"features\"},{\"identifier\":\"women_owned_operated\",\"params\":{},\"type\":\"features\"},{\"identifier\":\"remote_services_during_covid_19\",\"params\":{},\"type\":\"covid\"},{\"identifier\":\"virtual_estimates_during_covid_19\",\"params\":{},\"type\":\"covid\"}]',\n",
       " '[{\"identifier\":\"delivery_during_covid_19\",\"params\":{},\"type\":\"covid\"},{\"identifier\":\"takeout_during_covid_19\",\"params\":{},\"type\":\"covid\"},{\"identifier\":\"vegetarian_friendly\",\"params\":{},\"type\":\"dining_options\"},{\"identifier\":\"grab_and_go\",\"params\":{},\"type\":\"dining_options\"},{\"identifier\":\"gluten_free_friendly\",\"params\":{},\"type\":\"dining_options\"},{\"identifier\":\"family_owned_operated\",\"params\":{},\"type\":\"features\"}]',\n",
       " '[{\"identifier\":\"delivery_during_covid_19\",\"params\":{},\"type\":\"covid\"},{\"identifier\":\"takeout_during_covid_19\",\"params\":{},\"type\":\"covid\"},{\"identifier\":\"gluten_free_friendly\",\"params\":{},\"type\":\"dining_options\"},{\"identifier\":\"vegan_friendly\",\"params\":{},\"type\":\"dining_options\"},{\"identifier\":\"vegetarian_friendly\",\"params\":{},\"type\":\"dining_options\"},{\"identifier\":\"free_parking\",\"params\":{},\"type\":\"amenities\"}]',\n",
       " '[{\"identifier\":\"family_owned_operated\",\"params\":{},\"type\":\"features\"},{\"identifier\":\"vegan_friendly\",\"params\":{},\"type\":\"dining_options\"},{\"identifier\":\"catering_service\",\"params\":{},\"type\":\"dining_options\"},{\"identifier\":\"gift_cards_during_covid_19\",\"params\":{},\"type\":\"covid\"},{\"identifier\":\"curbside_pickup_during_covid_19\",\"params\":{},\"type\":\"covid\"},{\"identifier\":\"delivery_during_covid_19\",\"params\":{},\"type\":\"covid\"}]',\n",
       " '[{\"identifier\":\"beat_or_match_prices\",\"params\":{},\"type\":\"pricing\"},{\"identifier\":\"kid_friendly\",\"params\":{},\"type\":\"crowd\"},{\"identifier\":\"family_owned_operated\",\"params\":{},\"type\":\"features\"},{\"identifier\":\"mobile_services_during_covid_19\",\"params\":{},\"type\":\"covid\"},{\"identifier\":\"free_consultations\",\"params\":{},\"type\":\"estimates\"}]',\n",
       " '[{\"identifier\":\"takeout_during_covid_19\",\"params\":{},\"type\":\"covid\"},{\"identifier\":\"curbside_drop_off_during_covid_19\",\"params\":{},\"type\":\"covid\"},{\"identifier\":\"delivery_during_covid_19\",\"params\":{},\"type\":\"covid\"},{\"identifier\":\"vegan_friendly\",\"params\":{},\"type\":\"dining_options\"},{\"identifier\":\"locally_sourced_ingredients\",\"params\":{},\"type\":\"dining_options\"},{\"identifier\":\"minority_owned_operated\",\"params\":{},\"type\":\"features\"}]',\n",
       " '[{\"identifier\":\"years_in_business\",\"params\":{\"year\":\"42\"},\"type\":\"features\"},{\"identifier\":\"family_owned_operated\",\"params\":{},\"type\":\"features\"},{\"identifier\":\"free_estimates\",\"params\":{},\"type\":\"estimates\"},{\"identifier\":\"locally_owned_operated\",\"params\":{},\"type\":\"features\"},{\"identifier\":\"beat_or_match_prices\",\"params\":{},\"type\":\"pricing\"},{\"identifier\":\"mobile_services_during_covid_19\",\"params\":{},\"type\":\"covid\"}]',\n",
       " '[{\"identifier\":\"delivery_during_covid_19\",\"params\":{},\"type\":\"covid\"},{\"identifier\":\"virtual_estimates_during_covid_19\",\"params\":{},\"type\":\"covid\"}]',\n",
       " '[{\"identifier\":\"remote_services_during_covid_19\",\"params\":{},\"type\":\"covid\"},{\"identifier\":\"online_classes_during_covid_19\",\"params\":{},\"type\":\"covid\"},{\"identifier\":\"certified_professionals\",\"params\":{},\"type\":\"features\"},{\"identifier\":\"emergency_services\",\"params\":{},\"type\":\"availability\"},{\"identifier\":\"free_consultations\",\"params\":{},\"type\":\"estimates\"},{\"identifier\":\"women_owned_operated\",\"params\":{},\"type\":\"features\"}]',\n",
       " '[{\"identifier\":\"delivery_during_covid_19\",\"params\":{},\"type\":\"covid\"},{\"identifier\":\"curbside_pickup_during_covid_19\",\"params\":{},\"type\":\"covid\"},{\"identifier\":\"takeout_during_covid_19\",\"params\":{},\"type\":\"covid\"},{\"identifier\":\"vegetarian_friendly\",\"params\":{},\"type\":\"dining_options\"},{\"identifier\":\"casual_dining\",\"params\":{},\"type\":\"ambiance\"},{\"identifier\":\"discounts_available\",\"params\":{},\"type\":\"pricing\"}]',\n",
       " '[{\"identifier\":\"locally_owned_operated\",\"params\":{},\"type\":\"features\"},{\"identifier\":\"delivery_during_covid_19\",\"params\":{},\"type\":\"covid\"},{\"identifier\":\"gift_cards_during_covid_19\",\"params\":{},\"type\":\"covid\"},{\"identifier\":\"curbside_pickup_during_covid_19\",\"params\":{},\"type\":\"covid\"},{\"identifier\":\"takes_reservations\",\"params\":{},\"type\":\"dining_options\"}]',\n",
       " '[{\"identifier\":\"takeout_during_covid_19\",\"params\":{},\"type\":\"covid\"},{\"identifier\":\"casual_dining\",\"params\":{},\"type\":\"ambiance\"},{\"identifier\":\"locally_owned_operated\",\"params\":{},\"type\":\"features\"},{\"identifier\":\"healthy_dining\",\"params\":{},\"type\":\"dining_options\"},{\"identifier\":\"free_wifi\",\"params\":{},\"type\":\"amenities\"},{\"identifier\":\"kid_friendly\",\"params\":{},\"type\":\"crowd\"}]',\n",
       " '[{\"identifier\":\"gift_cards_during_covid_19\",\"params\":{},\"type\":\"covid\"},{\"identifier\":\"curbside_pickup_during_covid_19\",\"params\":{},\"type\":\"covid\"},{\"identifier\":\"remote_services_during_covid_19\",\"params\":{},\"type\":\"covid\"},{\"identifier\":\"mobile_services_during_covid_19\",\"params\":{},\"type\":\"covid\"},{\"identifier\":\"delivery_during_covid_19\",\"params\":{},\"type\":\"covid\"},{\"identifier\":\"shipping_during_covid_19\",\"params\":{},\"type\":\"covid\"},{\"identifier\":\"gift_cards_during_covid_19\",\"params\":{},\"type\":\"covid\"},{\"identifier\":\"curbside_pickup_during_covid_19\",\"params\":{},\"type\":\"covid\"},{\"identifier\":\"remote_services_during_covid_19\",\"params\":{},\"type\":\"covid\"},{\"identifier\":\"mobile_services_during_covid_19\",\"params\":{},\"type\":\"covid\"},{\"identifier\":\"delivery_during_covid_19\",\"params\":{},\"type\":\"covid\"},{\"identifier\":\"shipping_during_covid_19\",\"params\":{},\"type\":\"covid\"}]',\n",
       " '[{\"identifier\":\"curbside_drop_off_during_covid_19\",\"params\":{},\"type\":\"covid\"},{\"identifier\":\"years_in_business\",\"params\":{\"year\":\"94\"},\"type\":\"features\"},{\"identifier\":\"available_by_appointment\",\"params\":{},\"type\":\"availability\"},{\"identifier\":\"workmanship_guaranteed\",\"params\":{},\"type\":\"guarantees\"}]',\n",
       " '[{\"identifier\":\"takeout_during_covid_19\",\"params\":{},\"type\":\"covid\"},{\"identifier\":\"curbside_pickup_during_covid_19\",\"params\":{},\"type\":\"covid\"},{\"identifier\":\"gift_cards_during_covid_19\",\"params\":{},\"type\":\"covid\"},{\"identifier\":\"gluten_free_friendly\",\"params\":{},\"type\":\"dining_options\"},{\"identifier\":\"fine_dining\",\"params\":{},\"type\":\"ambiance\"}]',\n",
       " '[{\"identifier\":\"curbside_pickup_during_covid_19\",\"params\":{},\"type\":\"covid\"},{\"identifier\":\"vegetarian_friendly\",\"params\":{},\"type\":\"dining_options\"},{\"identifier\":\"healthy_dining\",\"params\":{},\"type\":\"dining_options\"},{\"identifier\":\"established_in\",\"params\":{\"year\":\"2010\"},\"type\":\"features\"},{\"identifier\":\"family_owned_operated\",\"params\":{},\"type\":\"features\"},{\"identifier\":\"catering_service\",\"params\":{},\"type\":\"dining_options\"}]',\n",
       " '[{\"identifier\":\"years_in_business\",\"params\":{\"year\":\"14\"},\"type\":\"features\"},{\"identifier\":\"virtual_estimates_during_covid_19\",\"params\":{},\"type\":\"covid\"},{\"identifier\":\"certified_professionals\",\"params\":{},\"type\":\"features\"},{\"identifier\":\"locally_owned_operated\",\"params\":{},\"type\":\"features\"},{\"identifier\":\"available_by_appointment\",\"params\":{},\"type\":\"availability\"},{\"identifier\":\"satisfaction_guaranteed\",\"params\":{},\"type\":\"guarantees\"}]',\n",
       " '[{\"identifier\":\"kitchen_open_late\",\"params\":{},\"type\":\"dining_options\"},{\"identifier\":\"delivery_during_covid_19\",\"params\":{},\"type\":\"covid\"},{\"identifier\":\"takeout_during_covid_19\",\"params\":{},\"type\":\"covid\"},{\"identifier\":\"grab_and_go\",\"params\":{},\"type\":\"dining_options\"},{\"identifier\":\"family_owned_operated\",\"params\":{},\"type\":\"features\"},{\"identifier\":\"discounts_available\",\"params\":{},\"type\":\"pricing\"}]',\n",
       " '[{\"identifier\":\"curbside_pickup_during_covid_19\",\"params\":{},\"type\":\"covid\"},{\"identifier\":\"takeout_during_covid_19\",\"params\":{},\"type\":\"covid\"},{\"identifier\":\"full_bar\",\"params\":{},\"type\":\"dining_options\"},{\"identifier\":\"years_in_business\",\"params\":{\"year\":\"23\"},\"type\":\"features\"},{\"identifier\":\"locally_owned_operated\",\"params\":{},\"type\":\"features\"},{\"identifier\":\"catering_service\",\"params\":{},\"type\":\"dining_options\"}]',\n",
       " '[{\"identifier\":\"delivery_during_covid_19\",\"params\":{},\"type\":\"covid\"},{\"identifier\":\"gift_cards_during_covid_19\",\"params\":{},\"type\":\"covid\"},{\"identifier\":\"vegetarian_friendly\",\"params\":{},\"type\":\"dining_options\"},{\"identifier\":\"gluten_free_friendly\",\"params\":{},\"type\":\"dining_options\"},{\"identifier\":\"takeout_during_covid_19\",\"params\":{},\"type\":\"covid\"},{\"identifier\":\"vegan_friendly\",\"params\":{},\"type\":\"dining_options\"}]',\n",
       " '[{\"identifier\":\"virtual_estimates_during_covid_19\",\"params\":{},\"type\":\"covid\"},{\"identifier\":\"eco_friendly\",\"params\":{},\"type\":\"features\"},{\"identifier\":\"family_owned_operated\",\"params\":{},\"type\":\"features\"},{\"identifier\":\"free_estimates\",\"params\":{},\"type\":\"estimates\"},{\"identifier\":\"on_time_guaranteed\",\"params\":{},\"type\":\"guarantees\"},{\"identifier\":\"workmanship_guaranteed\",\"params\":{},\"type\":\"guarantees\"}]',\n",
       " '[{\"identifier\":\"curbside_drop_off_during_covid_19\",\"params\":{},\"type\":\"covid\"},{\"identifier\":\"delivery_during_covid_19\",\"params\":{},\"type\":\"covid\"},{\"identifier\":\"outdoor_seating_sponsored\",\"params\":{},\"type\":\"amenities\"},{\"identifier\":\"casual_dining\",\"params\":{},\"type\":\"ambiance\"},{\"identifier\":\"years_in_business\",\"params\":{\"year\":\"9\"},\"type\":\"features\"},{\"identifier\":\"locally_owned_operated\",\"params\":{},\"type\":\"features\"}]',\n",
       " '[{\"identifier\":\"vegetarian_friendly\",\"params\":{},\"type\":\"dining_options\"},{\"identifier\":\"gluten_free_friendly\",\"params\":{},\"type\":\"dining_options\"},{\"identifier\":\"halal\",\"params\":{},\"type\":\"dining_options\"},{\"identifier\":\"family_owned_operated\",\"params\":{},\"type\":\"features\"},{\"identifier\":\"delivery_during_covid_19\",\"params\":{},\"type\":\"covid\"},{\"identifier\":\"kitchen_open_late\",\"params\":{},\"type\":\"dining_options\"}]',\n",
       " '[{\"identifier\":\"takeout_during_covid_19\",\"params\":{},\"type\":\"covid\"},{\"identifier\":\"curbside_pickup_during_covid_19\",\"params\":{},\"type\":\"covid\"},{\"identifier\":\"grab_and_go\",\"params\":{},\"type\":\"dining_options\"},{\"identifier\":\"takes_reservations\",\"params\":{},\"type\":\"dining_options\"},{\"identifier\":\"free_parking\",\"params\":{},\"type\":\"amenities\"},{\"identifier\":\"all_you_can_eat\",\"params\":{},\"type\":\"dining_options\"}]',\n",
       " '[{\"identifier\":\"curbside_pickup_during_covid_19\",\"params\":{},\"type\":\"covid\"},{\"identifier\":\"takeout_during_covid_19\",\"params\":{},\"type\":\"covid\"},{\"identifier\":\"delivery_during_covid_19\",\"params\":{},\"type\":\"covid\"},{\"identifier\":\"gift_cards_during_covid_19\",\"params\":{},\"type\":\"covid\"},{\"identifier\":\"grab_and_go\",\"params\":{},\"type\":\"dining_options\"},{\"identifier\":\"healthy_dining\",\"params\":{},\"type\":\"dining_options\"}]',\n",
       " '[{\"identifier\":\"takeout_during_covid_19\",\"params\":{},\"type\":\"covid\"},{\"identifier\":\"delivery_during_covid_19\",\"params\":{},\"type\":\"covid\"},{\"identifier\":\"grab_and_go\",\"params\":{},\"type\":\"dining_options\"},{\"identifier\":\"halal\",\"params\":{},\"type\":\"dining_options\"},{\"identifier\":\"kosher\",\"params\":{},\"type\":\"dining_options\"},{\"identifier\":\"years_in_business\",\"params\":{\"year\":\"20\"},\"type\":\"features\"}]',\n",
       " '[{\"identifier\":\"delivery_during_covid_19\",\"params\":{},\"type\":\"covid\"},{\"identifier\":\"grab_and_go\",\"params\":{},\"type\":\"dining_options\"},{\"identifier\":\"catering_service\",\"params\":{},\"type\":\"dining_options\"},{\"identifier\":\"takeout_during_covid_19\",\"params\":{},\"type\":\"covid\"},{\"identifier\":\"established_in\",\"params\":{\"year\":\"1975\"},\"type\":\"features\"},{\"identifier\":\"fine_dining\",\"params\":{},\"type\":\"ambiance\"},{\"identifier\":\"delivery_during_covid_19\",\"params\":{},\"type\":\"covid\"},{\"identifier\":\"grab_and_go\",\"params\":{},\"type\":\"dining_options\"},{\"identifier\":\"catering_service\",\"params\":{},\"type\":\"dining_options\"},{\"identifier\":\"takeout_during_covid_19\",\"params\":{},\"type\":\"covid\"},{\"identifier\":\"established_in\",\"params\":{\"year\":\"1975\"},\"type\":\"features\"},{\"identifier\":\"fine_dining\",\"params\":{},\"type\":\"ambiance\"},{\"identifier\":\"delivery_during_covid_19\",\"params\":{},\"type\":\"covid\"},{\"identifier\":\"grab_and_go\",\"params\":{},\"type\":\"dining_options\"},{\"identifier\":\"catering_service\",\"params\":{},\"type\":\"dining_options\"},{\"identifier\":\"takeout_during_covid_19\",\"params\":{},\"type\":\"covid\"},{\"identifier\":\"established_in\",\"params\":{\"year\":\"1975\"},\"type\":\"features\"},{\"identifier\":\"fine_dining\",\"params\":{},\"type\":\"ambiance\"}]',\n",
       " '[{\"identifier\":\"delivery_during_covid_19\",\"params\":{},\"type\":\"covid\"},{\"identifier\":\"takeout_during_covid_19\",\"params\":{},\"type\":\"covid\"},{\"identifier\":\"casual_dining\",\"params\":{},\"type\":\"ambiance\"},{\"identifier\":\"locally_owned_operated\",\"params\":{},\"type\":\"features\"},{\"identifier\":\"discounts_available\",\"params\":{},\"type\":\"pricing\"},{\"identifier\":\"vegetarian_friendly\",\"params\":{},\"type\":\"dining_options\"}]',\n",
       " '[{\"identifier\":\"grab_and_go\",\"params\":{},\"type\":\"dining_options\"},{\"identifier\":\"takeout_during_covid_19\",\"params\":{},\"type\":\"covid\"},{\"identifier\":\"casual_dining\",\"params\":{},\"type\":\"ambiance\"},{\"identifier\":\"family_owned_operated\",\"params\":{},\"type\":\"features\"},{\"identifier\":\"speaks_spanish\",\"params\":{},\"type\":\"features\"}]',\n",
       " '[{\"identifier\":\"curbside_pickup_during_covid_19\",\"params\":{},\"type\":\"covid\"},{\"identifier\":\"delivery_during_covid_19\",\"params\":{},\"type\":\"covid\"},{\"identifier\":\"takeout_during_covid_19\",\"params\":{},\"type\":\"covid\"},{\"identifier\":\"curbside_drop_off_during_covid_19\",\"params\":{},\"type\":\"covid\"},{\"identifier\":\"vegetarian_friendly\",\"params\":{},\"type\":\"dining_options\"},{\"identifier\":\"healthy_dining\",\"params\":{},\"type\":\"dining_options\"}]',\n",
       " '[{\"identifier\":\"remote_services_during_covid_19\",\"params\":{},\"type\":\"covid\"},{\"identifier\":\"years_in_business\",\"params\":{\"year\":\"10\"},\"type\":\"features\"},{\"identifier\":\"available_by_appointment\",\"params\":{},\"type\":\"availability\"}]',\n",
       " '[{\"identifier\":\"curbside_pickup_during_covid_19\",\"params\":{},\"type\":\"covid\"},{\"identifier\":\"shipping_during_covid_19\",\"params\":{},\"type\":\"covid\"},{\"identifier\":\"delivery_during_covid_19\",\"params\":{},\"type\":\"covid\"},{\"identifier\":\"locally_owned_operated\",\"params\":{},\"type\":\"features\"},{\"identifier\":\"free_estimates\",\"params\":{},\"type\":\"estimates\"},{\"identifier\":\"discounts_available\",\"params\":{},\"type\":\"pricing\"}]',\n",
       " '[{\"identifier\":\"gift_cards_during_covid_19\",\"params\":{},\"type\":\"covid\"},{\"identifier\":\"curbside_pickup_during_covid_19\",\"params\":{},\"type\":\"covid\"},{\"identifier\":\"takeout_during_covid_19\",\"params\":{},\"type\":\"covid\"},{\"identifier\":\"family_owned_operated\",\"params\":{},\"type\":\"features\"},{\"identifier\":\"locally_owned_operated\",\"params\":{},\"type\":\"features\"}]',\n",
       " '[{\"identifier\":\"established_in\",\"params\":{\"year\":\"2012\"},\"type\":\"features\"},{\"identifier\":\"offers_commercial_services\",\"params\":{},\"type\":\"features\"},{\"identifier\":\"free_estimates\",\"params\":{},\"type\":\"estimates\"},{\"identifier\":\"virtual_estimates_during_covid_19\",\"params\":{},\"type\":\"covid\"},{\"identifier\":\"family_owned_operated\",\"params\":{},\"type\":\"features\"},{\"identifier\":\"satisfaction_guaranteed\",\"params\":{},\"type\":\"guarantees\"}]',\n",
       " '[{\"identifier\":\"veteran_owned_operated\",\"params\":{},\"type\":\"features\"},{\"identifier\":\"women_owned_operated\",\"params\":{},\"type\":\"features\"},{\"identifier\":\"curbside_pickup_during_covid_19\",\"params\":{},\"type\":\"covid\"},{\"identifier\":\"family_owned_operated\",\"params\":{},\"type\":\"features\"},{\"identifier\":\"curbside_drop_off_during_covid_19\",\"params\":{},\"type\":\"covid\"},{\"identifier\":\"years_in_business\",\"params\":{\"year\":\"13\"},\"type\":\"features\"}]',\n",
       " '[{\"identifier\":\"gift_cards_during_covid_19\",\"params\":{},\"type\":\"covid\"},{\"identifier\":\"remote_services_during_covid_19\",\"params\":{},\"type\":\"covid\"}]',\n",
       " '[{\"identifier\":\"remote_services_during_covid_19\",\"params\":{},\"type\":\"covid\"},{\"identifier\":\"consultations_available\",\"params\":{},\"type\":\"estimates\"},{\"identifier\":\"women_owned_operated\",\"params\":{},\"type\":\"features\"},{\"identifier\":\"walk_ins_welcome\",\"params\":{},\"type\":\"availability\"},{\"identifier\":\"free_parking\",\"params\":{},\"type\":\"amenities\"},{\"identifier\":\"certified_professionals\",\"params\":{},\"type\":\"features\"}]',\n",
       " '[{\"identifier\":\"established_in\",\"params\":{\"year\":\"1988\"},\"type\":\"features\"},{\"identifier\":\"locally_owned_operated\",\"params\":{},\"type\":\"features\"},{\"identifier\":\"delivery_during_covid_19\",\"params\":{},\"type\":\"covid\"},{\"identifier\":\"curbside_pickup_during_covid_19\",\"params\":{},\"type\":\"covid\"},{\"identifier\":\"gluten_free_friendly\",\"params\":{},\"type\":\"dining_options\"},{\"identifier\":\"casual_dining\",\"params\":{},\"type\":\"ambiance\"}]',\n",
       " '[{\"identifier\":\"certified_professionals\",\"params\":{},\"type\":\"features\"},{\"identifier\":\"remote_services_during_covid_19\",\"params\":{},\"type\":\"covid\"}]',\n",
       " '[{\"identifier\":\"virtual_estimates_during_covid_19\",\"params\":{},\"type\":\"covid\"},{\"identifier\":\"mobile_services_during_covid_19\",\"params\":{},\"type\":\"covid\"},{\"identifier\":\"certified_professionals\",\"params\":{},\"type\":\"features\"},{\"identifier\":\"locally_owned_operated\",\"params\":{},\"type\":\"features\"},{\"identifier\":\"24_7_availability\",\"params\":{},\"type\":\"availability\"},{\"identifier\":\"emergency_services\",\"params\":{},\"type\":\"availability\"}]',\n",
       " '[{\"identifier\":\"delivery_during_covid_19\",\"params\":{},\"type\":\"covid\"},{\"identifier\":\"curbside_pickup_during_covid_19\",\"params\":{},\"type\":\"covid\"},{\"identifier\":\"takeout_during_covid_19\",\"params\":{},\"type\":\"covid\"},{\"identifier\":\"family_owned_operated\",\"params\":{},\"type\":\"features\"},{\"identifier\":\"vegetarian_friendly\",\"params\":{},\"type\":\"dining_options\"},{\"identifier\":\"vegan_friendly\",\"params\":{},\"type\":\"dining_options\"}]',\n",
       " '[{\"identifier\":\"remote_services_during_covid_19\",\"params\":{},\"type\":\"covid\"},{\"identifier\":\"locally_owned_operated\",\"params\":{},\"type\":\"features\"},{\"identifier\":\"available_by_appointment\",\"params\":{},\"type\":\"availability\"},{\"identifier\":\"satisfaction_guaranteed\",\"params\":{},\"type\":\"guarantees\"},{\"identifier\":\"consultations_available\",\"params\":{},\"type\":\"estimates\"}]',\n",
       " '[{\"identifier\":\"takeout_during_covid_19\",\"params\":{},\"type\":\"covid\"},{\"identifier\":\"family_owned_operated\",\"params\":{},\"type\":\"features\"},{\"identifier\":\"full_bar\",\"params\":{},\"type\":\"dining_options\"},{\"identifier\":\"sports_on_tv\",\"params\":{},\"type\":\"amenities\"}]',\n",
       " '[{\"identifier\":\"delivery_during_covid_19\",\"params\":{},\"type\":\"covid\"},{\"identifier\":\"locally_owned_operated\",\"params\":{},\"type\":\"features\"},{\"identifier\":\"established_in\",\"params\":{\"year\":\"2018\"},\"type\":\"features\"},{\"identifier\":\"family_owned_operated\",\"params\":{},\"type\":\"features\"},{\"identifier\":\"speaks_spanish\",\"params\":{},\"type\":\"features\"},{\"identifier\":\"discounts_available\",\"params\":{},\"type\":\"pricing\"}]',\n",
       " '[{\"identifier\":\"delivery_during_covid_19\",\"params\":{},\"type\":\"covid\"},{\"identifier\":\"curbside_pickup_during_covid_19\",\"params\":{},\"type\":\"covid\"},{\"identifier\":\"locally_owned_operated\",\"params\":{},\"type\":\"features\"}]',\n",
       " '[{\"identifier\":\"family_owned_operated\",\"params\":{},\"type\":\"features\"},{\"identifier\":\"mobile_services_during_covid_19\",\"params\":{},\"type\":\"covid\"},{\"identifier\":\"offers_commercial_services\",\"params\":{},\"type\":\"features\"},{\"identifier\":\"emergency_services\",\"params\":{},\"type\":\"availability\"},{\"identifier\":\"satisfaction_guaranteed\",\"params\":{},\"type\":\"guarantees\"},{\"identifier\":\"free_estimates\",\"params\":{},\"type\":\"estimates\"}]',\n",
       " '[{\"identifier\":\"takes_reservations\",\"params\":{},\"type\":\"dining_options\"},{\"identifier\":\"vegan_friendly\",\"params\":{},\"type\":\"dining_options\"},{\"identifier\":\"delivery_during_covid_19\",\"params\":{},\"type\":\"covid\"},{\"identifier\":\"curbside_pickup_during_covid_19\",\"params\":{},\"type\":\"covid\"},{\"identifier\":\"casual_dining\",\"params\":{},\"type\":\"ambiance\"},{\"identifier\":\"takeout_during_covid_19\",\"params\":{},\"type\":\"covid\"}]',\n",
       " '[{\"identifier\":\"gift_cards_during_covid_19\",\"params\":{},\"type\":\"covid\"},{\"identifier\":\"delivery_during_covid_19\",\"params\":{},\"type\":\"covid\"},{\"identifier\":\"takeout_during_covid_19\",\"params\":{},\"type\":\"covid\"},{\"identifier\":\"vegetarian_friendly\",\"params\":{},\"type\":\"dining_options\"},{\"identifier\":\"vegan_friendly\",\"params\":{},\"type\":\"dining_options\"},{\"identifier\":\"locally_owned_operated\",\"params\":{},\"type\":\"features\"}]',\n",
       " '[{\"identifier\":\"delivery_during_covid_19\",\"params\":{},\"type\":\"covid\"},{\"identifier\":\"curbside_drop_off_during_covid_19\",\"params\":{},\"type\":\"covid\"},{\"identifier\":\"family_owned_operated\",\"params\":{},\"type\":\"features\"},{\"identifier\":\"takeout_during_covid_19\",\"params\":{},\"type\":\"covid\"}]',\n",
       " '[{\"identifier\":\"delivery_during_covid_19\",\"params\":{},\"type\":\"covid\"},{\"identifier\":\"curbside_pickup_during_covid_19\",\"params\":{},\"type\":\"covid\"},{\"identifier\":\"takeout_during_covid_19\",\"params\":{},\"type\":\"covid\"},{\"identifier\":\"catering_service\",\"params\":{},\"type\":\"dining_options\"},{\"identifier\":\"casual_dining\",\"params\":{},\"type\":\"ambiance\"},{\"identifier\":\"locally_owned_operated\",\"params\":{},\"type\":\"features\"}]',\n",
       " '[{\"identifier\":\"delivery_during_covid_19\",\"params\":{},\"type\":\"covid\"},{\"identifier\":\"curbside_pickup_during_covid_19\",\"params\":{},\"type\":\"covid\"},{\"identifier\":\"curbside_drop_off_during_covid_19\",\"params\":{},\"type\":\"covid\"},{\"identifier\":\"takeout_during_covid_19\",\"params\":{},\"type\":\"covid\"},{\"identifier\":\"vegetarian_friendly\",\"params\":{},\"type\":\"dining_options\"},{\"identifier\":\"vegan_friendly\",\"params\":{},\"type\":\"dining_options\"}]',\n",
       " '[{\"identifier\":\"remote_services_during_covid_19\",\"params\":{},\"type\":\"covid\"},{\"identifier\":\"years_in_business\",\"params\":{\"year\":\"23\"},\"type\":\"features\"},{\"identifier\":\"locally_owned_operated\",\"params\":{},\"type\":\"features\"},{\"identifier\":\"offers_commercial_services\",\"params\":{},\"type\":\"features\"},{\"identifier\":\"speaks_spanish\",\"params\":{},\"type\":\"features\"},{\"identifier\":\"eco_friendly\",\"params\":{},\"type\":\"features\"}]',\n",
       " '[{\"identifier\":\"takeout_during_covid_19\",\"params\":{},\"type\":\"covid\"},{\"identifier\":\"casual_dining\",\"params\":{},\"type\":\"ambiance\"},{\"identifier\":\"established_in\",\"params\":{\"year\":\"2012\"},\"type\":\"features\"},{\"identifier\":\"family_owned_operated\",\"params\":{},\"type\":\"features\"},{\"identifier\":\"locally_owned_operated\",\"params\":{},\"type\":\"features\"},{\"identifier\":\"free_wifi\",\"params\":{},\"type\":\"amenities\"}]',\n",
       " '[{\"identifier\":\"takeout_during_covid_19\",\"params\":{},\"type\":\"covid\"},{\"identifier\":\"family_owned_operated\",\"params\":{},\"type\":\"features\"},{\"identifier\":\"years_in_business\",\"params\":{\"year\":\"23\"},\"type\":\"features\"}]',\n",
       " '[{\"identifier\":\"takeout_during_covid_19\",\"params\":{},\"type\":\"covid\"},{\"identifier\":\"family_owned_operated\",\"params\":{},\"type\":\"features\"},{\"identifier\":\"delivery_during_covid_19\",\"params\":{},\"type\":\"covid\"},{\"identifier\":\"curbside_pickup_during_covid_19\",\"params\":{},\"type\":\"covid\"},{\"identifier\":\"gift_cards_during_covid_19\",\"params\":{},\"type\":\"covid\"},{\"identifier\":\"years_in_business\",\"params\":{\"year\":\"31\"},\"type\":\"features\"}]',\n",
       " '[{\"identifier\":\"veteran_owned_operated\",\"params\":{},\"type\":\"features\"},{\"identifier\":\"curbside_pickup_during_covid_19\",\"params\":{},\"type\":\"covid\"},{\"identifier\":\"certified_professionals\",\"params\":{},\"type\":\"features\"},{\"identifier\":\"repairs_guaranteed\",\"params\":{},\"type\":\"guarantees\"}]',\n",
       " '[{\"identifier\":\"delivery_during_covid_19\",\"params\":{},\"type\":\"covid\"},{\"identifier\":\"gift_cards_during_covid_19\",\"params\":{},\"type\":\"covid\"}]',\n",
       " '[{\"identifier\":\"takeout_during_covid_19\",\"params\":{},\"type\":\"covid\"},{\"identifier\":\"delivery_during_covid_19\",\"params\":{},\"type\":\"covid\"},{\"identifier\":\"locally_owned_operated\",\"params\":{},\"type\":\"features\"},{\"identifier\":\"casual_dining\",\"params\":{},\"type\":\"ambiance\"},{\"identifier\":\"vegan_friendly\",\"params\":{},\"type\":\"dining_options\"}]',\n",
       " '[{\"identifier\":\"locally_owned_operated\",\"params\":{},\"type\":\"features\"},{\"identifier\":\"mobile_services_during_covid_19\",\"params\":{},\"type\":\"covid\"},{\"identifier\":\"available_by_appointment\",\"params\":{},\"type\":\"availability\"},{\"identifier\":\"free_estimates\",\"params\":{},\"type\":\"estimates\"},{\"identifier\":\"parts_labor_guaranteed\",\"params\":{},\"type\":\"guarantees\"},{\"identifier\":\"satisfaction_guaranteed\",\"params\":{},\"type\":\"guarantees\"}]',\n",
       " '[{\"identifier\":\"curbside_pickup_during_covid_19\",\"params\":{},\"type\":\"covid\"},{\"identifier\":\"delivery_during_covid_19\",\"params\":{},\"type\":\"covid\"},{\"identifier\":\"family_owned_operated\",\"params\":{},\"type\":\"features\"},{\"identifier\":\"available_by_appointment\",\"params\":{},\"type\":\"availability\"},{\"identifier\":\"established_in\",\"params\":{\"year\":\"2012\"},\"type\":\"features\"}]',\n",
       " '[{\"identifier\":\"curbside_pickup_during_covid_19\",\"params\":{},\"type\":\"covid\"},{\"identifier\":\"delivery_during_covid_19\",\"params\":{},\"type\":\"covid\"},{\"identifier\":\"takeout_during_covid_19\",\"params\":{},\"type\":\"covid\"},{\"identifier\":\"vegetarian_friendly\",\"params\":{},\"type\":\"dining_options\"},{\"identifier\":\"vegan_friendly\",\"params\":{},\"type\":\"dining_options\"},{\"identifier\":\"locally_owned_operated\",\"params\":{},\"type\":\"features\"}]',\n",
       " '[{\"identifier\":\"curbside_pickup_during_covid_19\",\"params\":{},\"type\":\"covid\"},{\"identifier\":\"delivery_during_covid_19\",\"params\":{},\"type\":\"covid\"},{\"identifier\":\"healthy_dining\",\"params\":{},\"type\":\"dining_options\"},{\"identifier\":\"years_in_business\",\"params\":{\"year\":\"11\"},\"type\":\"features\"},{\"identifier\":\"vegetarian_friendly\",\"params\":{},\"type\":\"dining_options\"},{\"identifier\":\"vegan_friendly\",\"params\":{},\"type\":\"dining_options\"}]',\n",
       " '[{\"identifier\":\"available_by_appointment\",\"params\":{},\"type\":\"availability\"},{\"identifier\":\"luxury\",\"params\":{},\"type\":\"features\"},{\"identifier\":\"certified_professionals\",\"params\":{},\"type\":\"features\"},{\"identifier\":\"gift_cards_during_covid_19\",\"params\":{},\"type\":\"covid\"},{\"identifier\":\"locally_owned_operated\",\"params\":{},\"type\":\"features\"}]',\n",
       " '[{\"identifier\":\"takeout_during_covid_19\",\"params\":{},\"type\":\"covid\"},{\"identifier\":\"shipping_during_covid_19\",\"params\":{},\"type\":\"covid\"},{\"identifier\":\"years_in_business\",\"params\":{\"year\":\"29\"},\"type\":\"features\"},{\"identifier\":\"locally_owned_operated\",\"params\":{},\"type\":\"features\"},{\"identifier\":\"family_owned_operated\",\"params\":{},\"type\":\"features\"},{\"identifier\":\"women_owned_operated\",\"params\":{},\"type\":\"features\"}]',\n",
       " '[{\"identifier\":\"remote_services_during_covid_19\",\"params\":{},\"type\":\"covid\"},{\"identifier\":\"walk_ins_welcome\",\"params\":{},\"type\":\"availability\"}]',\n",
       " '[{\"identifier\":\"gift_cards_during_covid_19\",\"params\":{},\"type\":\"covid\"},{\"identifier\":\"takeout_during_covid_19\",\"params\":{},\"type\":\"covid\"},{\"identifier\":\"full_bar\",\"params\":{},\"type\":\"dining_options\"},{\"identifier\":\"vegetarian_friendly\",\"params\":{},\"type\":\"dining_options\"},{\"identifier\":\"fine_dining\",\"params\":{},\"type\":\"ambiance\"},{\"identifier\":\"locally_owned_operated\",\"params\":{},\"type\":\"features\"}]',\n",
       " '[{\"identifier\":\"takeout_during_covid_19\",\"params\":{},\"type\":\"covid\"},{\"identifier\":\"all_you_can_eat\",\"params\":{},\"type\":\"dining_options\"},{\"identifier\":\"large_group_friendly\",\"params\":{},\"type\":\"crowd\"},{\"identifier\":\"casual_dining\",\"params\":{},\"type\":\"ambiance\"},{\"identifier\":\"free_wifi\",\"params\":{},\"type\":\"amenities\"},{\"identifier\":\"free_parking\",\"params\":{},\"type\":\"amenities\"}]',\n",
       " '[{\"identifier\":\"curbside_pickup_during_covid_19\",\"params\":{},\"type\":\"covid\"},{\"identifier\":\"vegan_friendly\",\"params\":{},\"type\":\"dining_options\"},{\"identifier\":\"delivery_during_covid_19\",\"params\":{},\"type\":\"covid\"},{\"identifier\":\"locally_owned_operated\",\"params\":{},\"type\":\"features\"},{\"identifier\":\"women_owned_operated\",\"params\":{},\"type\":\"features\"},{\"identifier\":\"discounts_available\",\"params\":{},\"type\":\"pricing\"}]',\n",
       " '[{\"identifier\":\"takeout_during_covid_19\",\"params\":{},\"type\":\"covid\"},{\"identifier\":\"delivery_during_covid_19\",\"params\":{},\"type\":\"covid\"},{\"identifier\":\"curbside_pickup_during_covid_19\",\"params\":{},\"type\":\"covid\"},{\"identifier\":\"vegetarian_friendly\",\"params\":{},\"type\":\"dining_options\"},{\"identifier\":\"gluten_free_friendly\",\"params\":{},\"type\":\"dining_options\"}]',\n",
       " '[{\"identifier\":\"delivery_during_covid_19\",\"params\":{},\"type\":\"covid\"},{\"identifier\":\"discounts_available\",\"params\":{},\"type\":\"pricing\"}]',\n",
       " '[{\"identifier\":\"takeout_during_covid_19\",\"params\":{},\"type\":\"covid\"},{\"identifier\":\"grab_and_go\",\"params\":{},\"type\":\"dining_options\"},{\"identifier\":\"gift_cards_during_covid_19\",\"params\":{},\"type\":\"covid\"},{\"identifier\":\"curbside_pickup_during_covid_19\",\"params\":{},\"type\":\"covid\"}]',\n",
       " '[{\"identifier\":\"delivery_during_covid_19\",\"params\":{},\"type\":\"covid\"},{\"identifier\":\"family_owned_operated\",\"params\":{},\"type\":\"features\"},{\"identifier\":\"satisfaction_guaranteed\",\"params\":{},\"type\":\"guarantees\"},{\"identifier\":\"curbside_pickup_during_covid_19\",\"params\":{},\"type\":\"covid\"},{\"identifier\":\"curbside_drop_off_during_covid_19\",\"params\":{},\"type\":\"covid\"},{\"identifier\":\"minority_owned_operated\",\"params\":{},\"type\":\"features\"}]',\n",
       " '[{\"identifier\":\"delivery_during_covid_19\",\"params\":{},\"type\":\"covid\"},{\"identifier\":\"established_in\",\"params\":{\"year\":\"1975\"},\"type\":\"features\"},{\"identifier\":\"takeout_during_covid_19\",\"params\":{},\"type\":\"covid\"},{\"identifier\":\"grab_and_go\",\"params\":{},\"type\":\"dining_options\"},{\"identifier\":\"curbside_pickup_during_covid_19\",\"params\":{},\"type\":\"covid\"},{\"identifier\":\"family_owned_operated\",\"params\":{},\"type\":\"features\"}]',\n",
       " '[{\"identifier\":\"gift_cards_during_covid_19\",\"params\":{},\"type\":\"covid\"},{\"identifier\":\"curbside_pickup_during_covid_19\",\"params\":{},\"type\":\"covid\"},{\"identifier\":\"takeout_during_covid_19\",\"params\":{},\"type\":\"covid\"},{\"identifier\":\"shipping_during_covid_19\",\"params\":{},\"type\":\"covid\"}]',\n",
       " '[{\"identifier\":\"takeout_during_covid_19\",\"params\":{},\"type\":\"covid\"},{\"identifier\":\"locally_owned_operated\",\"params\":{},\"type\":\"features\"},{\"identifier\":\"grab_and_go\",\"params\":{},\"type\":\"dining_options\"}]',\n",
       " '[{\"identifier\":\"delivery_during_covid_19\",\"params\":{},\"type\":\"covid\"},{\"identifier\":\"takeout_during_covid_19\",\"params\":{},\"type\":\"covid\"},{\"identifier\":\"takes_reservations\",\"params\":{},\"type\":\"dining_options\"},{\"identifier\":\"years_in_business\",\"params\":{\"year\":\"20\"},\"type\":\"features\"},{\"identifier\":\"locally_owned_operated\",\"params\":{},\"type\":\"features\"},{\"identifier\":\"speaks_mandarin\",\"params\":{},\"type\":\"features\"}]',\n",
       " '[{\"identifier\":\"online_classes_during_covid_19\",\"params\":{},\"type\":\"covid\"},{\"identifier\":\"years_in_business\",\"params\":{\"year\":\"7\"},\"type\":\"features\"},{\"identifier\":\"locally_owned_operated\",\"params\":{},\"type\":\"features\"},{\"identifier\":\"certified_professionals\",\"params\":{},\"type\":\"features\"},{\"identifier\":\"free_consultations\",\"params\":{},\"type\":\"estimates\"},{\"identifier\":\"budget_friendly\",\"params\":{},\"type\":\"pricing\"}]',\n",
       " '[{\"identifier\":\"24_7_availability\",\"params\":{},\"type\":\"availability\"},{\"identifier\":\"delivery_during_covid_19\",\"params\":{},\"type\":\"covid\"}]',\n",
       " '[{\"identifier\":\"delivery_during_covid_19\",\"params\":{},\"type\":\"covid\"},{\"identifier\":\"takeout_during_covid_19\",\"params\":{},\"type\":\"covid\"},{\"identifier\":\"vegetarian_friendly\",\"params\":{},\"type\":\"dining_options\"},{\"identifier\":\"grab_and_go\",\"params\":{},\"type\":\"dining_options\"},{\"identifier\":\"family_owned_operated\",\"params\":{},\"type\":\"features\"},{\"identifier\":\"established_in\",\"params\":{\"year\":\"2019\"},\"type\":\"features\"}]',\n",
       " '[{\"identifier\":\"vegetarian_friendly\",\"params\":{},\"type\":\"dining_options\"},{\"identifier\":\"gluten_free_friendly\",\"params\":{},\"type\":\"dining_options\"},{\"identifier\":\"healthy_dining\",\"params\":{},\"type\":\"dining_options\"},{\"identifier\":\"locally_owned_operated\",\"params\":{},\"type\":\"features\"},{\"identifier\":\"gift_cards_during_covid_19\",\"params\":{},\"type\":\"covid\"},{\"identifier\":\"curbside_pickup_during_covid_19\",\"params\":{},\"type\":\"covid\"}]',\n",
       " '[{\"identifier\":\"takeout_during_covid_19\",\"params\":{},\"type\":\"covid\"},{\"identifier\":\"vegetarian_friendly\",\"params\":{},\"type\":\"dining_options\"},{\"identifier\":\"wheelchair_accessible\",\"params\":{},\"type\":\"amenities\"},{\"identifier\":\"locally_owned_operated\",\"params\":{},\"type\":\"features\"},{\"identifier\":\"minority_owned_operated\",\"params\":{},\"type\":\"features\"},{\"identifier\":\"women_owned_operated\",\"params\":{},\"type\":\"features\"}]',\n",
       " '[{\"identifier\":\"luxury\",\"params\":{},\"type\":\"features\"},{\"identifier\":\"delivery_during_covid_19\",\"params\":{},\"type\":\"covid\"},{\"identifier\":\"locally_sourced_ingredients\",\"params\":{},\"type\":\"dining_options\"},{\"identifier\":\"women_owned_operated\",\"params\":{},\"type\":\"features\"},{\"identifier\":\"free_consultations\",\"params\":{},\"type\":\"estimates\"},{\"identifier\":\"healthy_dining\",\"params\":{},\"type\":\"dining_options\"}]',\n",
       " '[{\"identifier\":\"delivery_during_covid_19\",\"params\":{},\"type\":\"covid\"},{\"identifier\":\"takeout_during_covid_19\",\"params\":{},\"type\":\"covid\"},{\"identifier\":\"grab_and_go\",\"params\":{},\"type\":\"dining_options\"},{\"identifier\":\"family_owned_operated\",\"params\":{},\"type\":\"features\"},{\"identifier\":\"gift_cards_during_covid_19\",\"params\":{},\"type\":\"covid\"}]',\n",
       " '[{\"identifier\":\"delivery_during_covid_19\",\"params\":{},\"type\":\"covid\"},{\"identifier\":\"takeout_during_covid_19\",\"params\":{},\"type\":\"covid\"},{\"identifier\":\"gift_cards_during_covid_19\",\"params\":{},\"type\":\"covid\"},{\"identifier\":\"curbside_pickup_during_covid_19\",\"params\":{},\"type\":\"covid\"},{\"identifier\":\"vegetarian_friendly\",\"params\":{},\"type\":\"dining_options\"},{\"identifier\":\"halal\",\"params\":{},\"type\":\"dining_options\"}]',\n",
       " '[{\"identifier\":\"years_in_business\",\"params\":{\"year\":\"53\"},\"type\":\"features\"},{\"identifier\":\"shipping_during_covid_19\",\"params\":{},\"type\":\"covid\"},{\"identifier\":\"family_owned_operated\",\"params\":{},\"type\":\"features\"},{\"identifier\":\"minority_owned_operated\",\"params\":{},\"type\":\"features\"},{\"identifier\":\"discounts_available\",\"params\":{},\"type\":\"pricing\"},{\"identifier\":\"delivery_during_covid_19\",\"params\":{},\"type\":\"covid\"}]',\n",
       " '[{\"identifier\":\"curbside_pickup_during_covid_19\",\"params\":{},\"type\":\"covid\"},{\"identifier\":\"delivery_during_covid_19\",\"params\":{},\"type\":\"covid\"},{\"identifier\":\"curbside_drop_off_during_covid_19\",\"params\":{},\"type\":\"covid\"},{\"identifier\":\"takeout_during_covid_19\",\"params\":{},\"type\":\"covid\"},{\"identifier\":\"vegan_friendly\",\"params\":{},\"type\":\"dining_options\"},{\"identifier\":\"vegetarian_friendly\",\"params\":{},\"type\":\"dining_options\"}]',\n",
       " '[{\"identifier\":\"delivery_during_covid_19\",\"params\":{},\"type\":\"covid\"},{\"identifier\":\"takeout_during_covid_19\",\"params\":{},\"type\":\"covid\"},{\"identifier\":\"curbside_pickup_during_covid_19\",\"params\":{},\"type\":\"covid\"},{\"identifier\":\"curbside_drop_off_during_covid_19\",\"params\":{},\"type\":\"covid\"},{\"identifier\":\"vegetarian_friendly\",\"params\":{},\"type\":\"dining_options\"},{\"identifier\":\"locally_sourced_ingredients\",\"params\":{},\"type\":\"dining_options\"}]',\n",
       " '[{\"identifier\":\"takeout_during_covid_19\",\"params\":{},\"type\":\"covid\"},{\"identifier\":\"years_in_business\",\"params\":{\"year\":\"35\"},\"type\":\"features\"},{\"identifier\":\"family_owned_operated\",\"params\":{},\"type\":\"features\"}]',\n",
       " '[{\"identifier\":\"curbside_pickup_during_covid_19\",\"params\":{},\"type\":\"covid\"},{\"identifier\":\"remote_services_during_covid_19\",\"params\":{},\"type\":\"covid\"},{\"identifier\":\"available_by_appointment\",\"params\":{},\"type\":\"availability\"},{\"identifier\":\"luxury\",\"params\":{},\"type\":\"features\"}]',\n",
       " '[{\"identifier\":\"takeout_during_covid_19\",\"params\":{},\"type\":\"covid\"},{\"identifier\":\"delivery_during_covid_19\",\"params\":{},\"type\":\"covid\"},{\"identifier\":\"vegetarian_friendly\",\"params\":{},\"type\":\"dining_options\"},{\"identifier\":\"casual_dining\",\"params\":{},\"type\":\"ambiance\"},{\"identifier\":\"free_parking\",\"params\":{},\"type\":\"amenities\"}]',\n",
       " '[{\"identifier\":\"delivery_during_covid_19\",\"params\":{},\"type\":\"covid\"},{\"identifier\":\"takeout_during_covid_19\",\"params\":{},\"type\":\"covid\"},{\"identifier\":\"online_classes_during_covid_19\",\"params\":{},\"type\":\"covid\"}]',\n",
       " '[{\"identifier\":\"curbside_pickup_during_covid_19\",\"params\":{},\"type\":\"covid\"},{\"identifier\":\"delivery_during_covid_19\",\"params\":{},\"type\":\"covid\"},{\"identifier\":\"gift_cards_during_covid_19\",\"params\":{},\"type\":\"covid\"},{\"identifier\":\"years_in_business\",\"params\":{\"year\":\"14\"},\"type\":\"features\"},{\"identifier\":\"discounts_available\",\"params\":{},\"type\":\"pricing\"},{\"identifier\":\"full_bar\",\"params\":{},\"type\":\"dining_options\"}]',\n",
       " '[{\"identifier\":\"locally_owned_operated\",\"params\":{},\"type\":\"features\"},{\"identifier\":\"virtual_estimates_during_covid_19\",\"params\":{},\"type\":\"covid\"},{\"identifier\":\"eco_friendly\",\"params\":{},\"type\":\"features\"},{\"identifier\":\"certified_professionals\",\"params\":{},\"type\":\"features\"},{\"identifier\":\"free_estimates\",\"params\":{},\"type\":\"estimates\"},{\"identifier\":\"workmanship_guaranteed\",\"params\":{},\"type\":\"guarantees\"}]',\n",
       " '[{\"identifier\":\"curbside_pickup_during_covid_19\",\"params\":{},\"type\":\"covid\"},{\"identifier\":\"takes_reservations\",\"params\":{},\"type\":\"dining_options\"},{\"identifier\":\"full_bar\",\"params\":{},\"type\":\"dining_options\"},{\"identifier\":\"romantic_vibe\",\"params\":{},\"type\":\"ambiance\"},{\"identifier\":\"years_in_business\",\"params\":{\"year\":\"18\"},\"type\":\"features\"},{\"identifier\":\"locally_owned_operated\",\"params\":{},\"type\":\"features\"}]',\n",
       " '[{\"identifier\":\"curbside_pickup_during_covid_19\",\"params\":{},\"type\":\"covid\"},{\"identifier\":\"delivery_during_covid_19\",\"params\":{},\"type\":\"covid\"},{\"identifier\":\"vegan_friendly\",\"params\":{},\"type\":\"dining_options\"},{\"identifier\":\"catering_service\",\"params\":{},\"type\":\"dining_options\"},{\"identifier\":\"full_bar\",\"params\":{},\"type\":\"dining_options\"},{\"identifier\":\"locally_owned_operated\",\"params\":{},\"type\":\"features\"}]',\n",
       " '[{\"identifier\":\"curbside_pickup_during_covid_19\",\"params\":{},\"type\":\"covid\"},{\"identifier\":\"delivery_during_covid_19\",\"params\":{},\"type\":\"covid\"},{\"identifier\":\"gift_cards_during_covid_19\",\"params\":{},\"type\":\"covid\"},{\"identifier\":\"takeout_during_covid_19\",\"params\":{},\"type\":\"covid\"},{\"identifier\":\"vegan_friendly\",\"params\":{},\"type\":\"dining_options\"},{\"identifier\":\"gluten_free_friendly\",\"params\":{},\"type\":\"dining_options\"}]',\n",
       " '[{\"identifier\":\"curbside_pickup_during_covid_19\",\"params\":{},\"type\":\"covid\"},{\"identifier\":\"delivery_during_covid_19\",\"params\":{},\"type\":\"covid\"},{\"identifier\":\"takeout_during_covid_19\",\"params\":{},\"type\":\"covid\"},{\"identifier\":\"vegetarian_friendly\",\"params\":{},\"type\":\"dining_options\"},{\"identifier\":\"family_owned_operated\",\"params\":{},\"type\":\"features\"},{\"identifier\":\"gift_cards_during_covid_19\",\"params\":{},\"type\":\"covid\"}]',\n",
       " '[{\"identifier\":\"delivery_during_covid_19\",\"params\":{},\"type\":\"covid\"},{\"identifier\":\"takeout_during_covid_19\",\"params\":{},\"type\":\"covid\"},{\"identifier\":\"locally_owned_operated\",\"params\":{},\"type\":\"features\"},{\"identifier\":\"gift_cards_during_covid_19\",\"params\":{},\"type\":\"covid\"},{\"identifier\":\"vegetarian_friendly\",\"params\":{},\"type\":\"dining_options\"},{\"identifier\":\"gluten_free_friendly\",\"params\":{},\"type\":\"dining_options\"}]',\n",
       " '[{\"identifier\":\"takeout_during_covid_19\",\"params\":{},\"type\":\"covid\"},{\"identifier\":\"vegetarian_friendly\",\"params\":{},\"type\":\"dining_options\"},{\"identifier\":\"full_bar\",\"params\":{},\"type\":\"dining_options\"},{\"identifier\":\"takes_reservations\",\"params\":{},\"type\":\"dining_options\"},{\"identifier\":\"romantic_vibe\",\"params\":{},\"type\":\"ambiance\"},{\"identifier\":\"private_events\",\"params\":{},\"type\":\"amenities\"}]',\n",
       " '[{\"identifier\":\"available_by_appointment\",\"params\":{},\"type\":\"availability\"},{\"identifier\":\"remote_services_during_covid_19\",\"params\":{},\"type\":\"covid\"},{\"identifier\":\"curbside_pickup_during_covid_19\",\"params\":{},\"type\":\"covid\"},{\"identifier\":\"locally_owned_operated\",\"params\":{},\"type\":\"features\"},{\"identifier\":\"gift_cards_during_covid_19\",\"params\":{},\"type\":\"covid\"},{\"identifier\":\"luxury\",\"params\":{},\"type\":\"features\"}]',\n",
       " '[{\"identifier\":\"curbside_pickup_during_covid_19\",\"params\":{},\"type\":\"covid\"},{\"identifier\":\"takeout_during_covid_19\",\"params\":{},\"type\":\"covid\"},{\"identifier\":\"gift_cards_during_covid_19\",\"params\":{},\"type\":\"covid\"},{\"identifier\":\"happy_hour_specials\",\"params\":{},\"type\":\"dining_options\"},{\"identifier\":\"gluten_free_friendly\",\"params\":{},\"type\":\"dining_options\"},{\"identifier\":\"vegetarian_friendly\",\"params\":{},\"type\":\"dining_options\"}]',\n",
       " '[{\"identifier\":\"virtual_estimates_during_covid_19\",\"params\":{},\"type\":\"covid\"},{\"identifier\":\"certified_professionals\",\"params\":{},\"type\":\"features\"},{\"identifier\":\"locally_owned_operated\",\"params\":{},\"type\":\"features\"},{\"identifier\":\"available_by_appointment\",\"params\":{},\"type\":\"availability\"},{\"identifier\":\"free_estimates\",\"params\":{},\"type\":\"estimates\"},{\"identifier\":\"satisfaction_guaranteed\",\"params\":{},\"type\":\"guarantees\"}]',\n",
       " '[{\"identifier\":\"drive_thru_during_covid_19\",\"params\":{},\"type\":\"covid\"},{\"identifier\":\"boutique\",\"params\":{},\"type\":\"features\"},{\"identifier\":\"kid_friendly\",\"params\":{},\"type\":\"crowd\"},{\"identifier\":\"budget_friendly\",\"params\":{},\"type\":\"pricing\"},{\"identifier\":\"free_wifi\",\"params\":{},\"type\":\"amenities\"}]',\n",
       " '[{\"identifier\":\"takeout_during_covid_19\",\"params\":{},\"type\":\"covid\"},{\"identifier\":\"delivery_during_covid_19\",\"params\":{},\"type\":\"covid\"},{\"identifier\":\"grab_and_go\",\"params\":{},\"type\":\"dining_options\"},{\"identifier\":\"catering_service\",\"params\":{},\"type\":\"dining_options\"},{\"identifier\":\"vegan_friendly\",\"params\":{},\"type\":\"dining_options\"},{\"identifier\":\"gluten_free_friendly\",\"params\":{},\"type\":\"dining_options\"}]',\n",
       " '[{\"identifier\":\"mobile_services_during_covid_19\",\"params\":{},\"type\":\"covid\"},{\"identifier\":\"family_owned_operated\",\"params\":{},\"type\":\"features\"},{\"identifier\":\"emergency_services\",\"params\":{},\"type\":\"availability\"},{\"identifier\":\"free_estimates\",\"params\":{},\"type\":\"estimates\"},{\"identifier\":\"fixed_pricing\",\"params\":{},\"type\":\"pricing\"},{\"identifier\":\"satisfaction_guaranteed\",\"params\":{},\"type\":\"guarantees\"}]',\n",
       " '[{\"identifier\":\"virtual_estimates_during_covid_19\",\"params\":{},\"type\":\"covid\"},{\"identifier\":\"years_in_business\",\"params\":{\"year\":\"15\"},\"type\":\"features\"},{\"identifier\":\"certified_professionals\",\"params\":{},\"type\":\"features\"},{\"identifier\":\"family_owned_operated\",\"params\":{},\"type\":\"features\"},{\"identifier\":\"speaks_spanish\",\"params\":{},\"type\":\"features\"},{\"identifier\":\"luxury\",\"params\":{},\"type\":\"features\"}]',\n",
       " '[{\"identifier\":\"years_in_business\",\"params\":{\"year\":\"4\"},\"type\":\"features\"},{\"identifier\":\"takes_reservations\",\"params\":{},\"type\":\"dining_options\"},{\"identifier\":\"family_owned_operated\",\"params\":{},\"type\":\"features\"},{\"identifier\":\"vegan_friendly\",\"params\":{},\"type\":\"dining_options\"},{\"identifier\":\"gluten_free_friendly\",\"params\":{},\"type\":\"dining_options\"},{\"identifier\":\"delivery_during_covid_19\",\"params\":{},\"type\":\"covid\"}]',\n",
       " '[{\"identifier\":\"takeout_during_covid_19\",\"params\":{},\"type\":\"covid\"},{\"identifier\":\"delivery_during_covid_19\",\"params\":{},\"type\":\"covid\"},{\"identifier\":\"curbside_pickup_during_covid_19\",\"params\":{},\"type\":\"covid\"},{\"identifier\":\"family_owned_operated\",\"params\":{},\"type\":\"features\"},{\"identifier\":\"catering_service\",\"params\":{},\"type\":\"dining_options\"},{\"identifier\":\"certified_professionals\",\"params\":{},\"type\":\"features\"}]',\n",
       " '[{\"identifier\":\"years_in_business\",\"params\":{\"year\":\"15\"},\"type\":\"features\"},{\"identifier\":\"offers_commercial_services\",\"params\":{},\"type\":\"features\"},{\"identifier\":\"eco_friendly\",\"params\":{},\"type\":\"features\"},{\"identifier\":\"free_estimates\",\"params\":{},\"type\":\"estimates\"},{\"identifier\":\"virtual_estimates_during_covid_19\",\"params\":{},\"type\":\"covid\"},{\"identifier\":\"family_owned_operated\",\"params\":{},\"type\":\"features\"}]',\n",
       " '[{\"identifier\":\"discounts_available\",\"params\":{},\"type\":\"pricing\"},{\"identifier\":\"takeout_during_covid_19\",\"params\":{},\"type\":\"covid\"},{\"identifier\":\"delivery_during_covid_19\",\"params\":{},\"type\":\"covid\"},{\"identifier\":\"vegetarian_friendly\",\"params\":{},\"type\":\"dining_options\"},{\"identifier\":\"locally_owned_operated\",\"params\":{},\"type\":\"features\"},{\"identifier\":\"established_in\",\"params\":{\"year\":\"2019\"},\"type\":\"features\"}]',\n",
       " '[{\"identifier\":\"remote_services_during_covid_19\",\"params\":{},\"type\":\"covid\"},{\"identifier\":\"years_in_business\",\"params\":{\"year\":\"15\"},\"type\":\"features\"},{\"identifier\":\"free_consultations\",\"params\":{},\"type\":\"estimates\"},{\"identifier\":\"available_by_appointment\",\"params\":{},\"type\":\"availability\"},{\"identifier\":\"certified_professionals\",\"params\":{},\"type\":\"features\"},{\"identifier\":\"references_available\",\"params\":{},\"type\":\"guarantees\"}]',\n",
       " '[{\"identifier\":\"healthy_dining\",\"params\":{},\"type\":\"dining_options\"},{\"identifier\":\"family_owned_operated\",\"params\":{},\"type\":\"features\"},{\"identifier\":\"vegetarian_friendly\",\"params\":{},\"type\":\"dining_options\"},{\"identifier\":\"delivery_during_covid_19\",\"params\":{},\"type\":\"covid\"},{\"identifier\":\"takeout_during_covid_19\",\"params\":{},\"type\":\"covid\"},{\"identifier\":\"casual_dining\",\"params\":{},\"type\":\"ambiance\"}]',\n",
       " '[{\"identifier\":\"takeout_during_covid_19\",\"params\":{},\"type\":\"covid\"},{\"identifier\":\"gift_cards_during_covid_19\",\"params\":{},\"type\":\"covid\"},{\"identifier\":\"delivery_during_covid_19\",\"params\":{},\"type\":\"covid\"},{\"identifier\":\"vegetarian_friendly\",\"params\":{},\"type\":\"dining_options\"},{\"identifier\":\"family_owned_operated\",\"params\":{},\"type\":\"features\"},{\"identifier\":\"locally_owned_operated\",\"params\":{},\"type\":\"features\"}]',\n",
       " '[{\"identifier\":\"gift_cards_during_covid_19\",\"params\":{},\"type\":\"covid\"},{\"identifier\":\"takeout_during_covid_19\",\"params\":{},\"type\":\"covid\"},{\"identifier\":\"curbside_pickup_during_covid_19\",\"params\":{},\"type\":\"covid\"},{\"identifier\":\"delivery_during_covid_19\",\"params\":{},\"type\":\"covid\"},{\"identifier\":\"locally_owned_operated\",\"params\":{},\"type\":\"features\"}]',\n",
       " '[{\"identifier\":\"takeout_during_covid_19\",\"params\":{},\"type\":\"covid\"},{\"identifier\":\"delivery_during_covid_19\",\"params\":{},\"type\":\"covid\"},{\"identifier\":\"years_in_business\",\"params\":{\"year\":\"8\"},\"type\":\"features\"},{\"identifier\":\"women_owned_operated\",\"params\":{},\"type\":\"features\"},{\"identifier\":\"outdoor_seating_sponsored\",\"params\":{},\"type\":\"amenities\"},{\"identifier\":\"kid_friendly\",\"params\":{},\"type\":\"crowd\"}]',\n",
       " '[{\"identifier\":\"delivery_during_covid_19\",\"params\":{},\"type\":\"covid\"},{\"identifier\":\"takeout_during_covid_19\",\"params\":{},\"type\":\"covid\"},{\"identifier\":\"halal\",\"params\":{},\"type\":\"dining_options\"},{\"identifier\":\"locally_owned_operated\",\"params\":{},\"type\":\"features\"},{\"identifier\":\"grab_and_go\",\"params\":{},\"type\":\"dining_options\"},{\"identifier\":\"catering_service\",\"params\":{},\"type\":\"dining_options\"}]',\n",
       " '[{\"identifier\":\"delivery_during_covid_19\",\"params\":{},\"type\":\"covid\"},{\"identifier\":\"curbside_pickup_during_covid_19\",\"params\":{},\"type\":\"covid\"},{\"identifier\":\"takeout_during_covid_19\",\"params\":{},\"type\":\"covid\"},{\"identifier\":\"vegan_friendly\",\"params\":{},\"type\":\"dining_options\"},{\"identifier\":\"gluten_free_friendly\",\"params\":{},\"type\":\"dining_options\"},{\"identifier\":\"healthy_dining\",\"params\":{},\"type\":\"dining_options\"}]',\n",
       " '[{\"identifier\":\"years_in_business\",\"params\":{\"year\":\"15\"},\"type\":\"features\"},{\"identifier\":\"remote_services_during_covid_19\",\"params\":{},\"type\":\"covid\"},{\"identifier\":\"satisfaction_guaranteed\",\"params\":{},\"type\":\"guarantees\"}]',\n",
       " '[{\"identifier\":\"delivery_during_covid_19\",\"params\":{},\"type\":\"covid\"},{\"identifier\":\"established_in\",\"params\":{\"year\":\"2014\"},\"type\":\"features\"},{\"identifier\":\"locally_owned_operated\",\"params\":{},\"type\":\"features\"},{\"identifier\":\"lgbtq_friendly\",\"params\":{},\"type\":\"crowd\"},{\"identifier\":\"shipping_during_covid_19\",\"params\":{},\"type\":\"covid\"},{\"identifier\":\"discounts_available\",\"params\":{},\"type\":\"pricing\"}]',\n",
       " '[{\"identifier\":\"delivery_during_covid_19\",\"params\":{},\"type\":\"covid\"},{\"identifier\":\"takeout_during_covid_19\",\"params\":{},\"type\":\"covid\"},{\"identifier\":\"discounts_available\",\"params\":{},\"type\":\"pricing\"},{\"identifier\":\"family_owned_operated\",\"params\":{},\"type\":\"features\"},{\"identifier\":\"locally_owned_operated\",\"params\":{},\"type\":\"features\"},{\"identifier\":\"free_parking\",\"params\":{},\"type\":\"amenities\"}]',\n",
       " '[{\"identifier\":\"family_owned_operated\",\"params\":{},\"type\":\"features\"},{\"identifier\":\"grab_and_go\",\"params\":{},\"type\":\"dining_options\"},{\"identifier\":\"delivery_during_covid_19\",\"params\":{},\"type\":\"covid\"},{\"identifier\":\"curbside_pickup_during_covid_19\",\"params\":{},\"type\":\"covid\"},{\"identifier\":\"gift_cards_during_covid_19\",\"params\":{},\"type\":\"covid\"},{\"identifier\":\"takeout_during_covid_19\",\"params\":{},\"type\":\"covid\"}]',\n",
       " '[{\"identifier\":\"delivery_during_covid_19\",\"params\":{},\"type\":\"covid\"},{\"identifier\":\"takeout_during_covid_19\",\"params\":{},\"type\":\"covid\"},{\"identifier\":\"grab_and_go\",\"params\":{},\"type\":\"dining_options\"},{\"identifier\":\"casual_dining\",\"params\":{},\"type\":\"ambiance\"},{\"identifier\":\"catering_service\",\"params\":{},\"type\":\"dining_options\"},{\"identifier\":\"vegetarian_friendly\",\"params\":{},\"type\":\"dining_options\"}]',\n",
       " '[{\"identifier\":\"delivery_during_covid_19\",\"params\":{},\"type\":\"covid\"},{\"identifier\":\"takeout_during_covid_19\",\"params\":{},\"type\":\"covid\"},{\"identifier\":\"catering_service\",\"params\":{},\"type\":\"dining_options\"},{\"identifier\":\"vegan_friendly\",\"params\":{},\"type\":\"dining_options\"},{\"identifier\":\"gift_cards_during_covid_19\",\"params\":{},\"type\":\"covid\"},{\"identifier\":\"family_owned_operated\",\"params\":{},\"type\":\"features\"}]',\n",
       " '[{\"identifier\":\"vegan_friendly\",\"params\":{},\"type\":\"dining_options\"},{\"identifier\":\"gift_cards_during_covid_19\",\"params\":{},\"type\":\"covid\"},{\"identifier\":\"curbside_pickup_during_covid_19\",\"params\":{},\"type\":\"covid\"},{\"identifier\":\"delivery_during_covid_19\",\"params\":{},\"type\":\"covid\"},{\"identifier\":\"vegetarian_friendly\",\"params\":{},\"type\":\"dining_options\"},{\"identifier\":\"family_owned_operated\",\"params\":{},\"type\":\"features\"}]',\n",
       " '[{\"identifier\":\"takeout_during_covid_19\",\"params\":{},\"type\":\"covid\"},{\"identifier\":\"curbside_pickup_during_covid_19\",\"params\":{},\"type\":\"covid\"},{\"identifier\":\"vegetarian_friendly\",\"params\":{},\"type\":\"dining_options\"},{\"identifier\":\"gluten_free_friendly\",\"params\":{},\"type\":\"dining_options\"},{\"identifier\":\"vegan_friendly\",\"params\":{},\"type\":\"dining_options\"},{\"identifier\":\"women_owned_operated\",\"params\":{},\"type\":\"features\"}]',\n",
       " '[{\"identifier\":\"delivery_during_covid_19\",\"params\":{},\"type\":\"covid\"},{\"identifier\":\"curbside_pickup_during_covid_19\",\"params\":{},\"type\":\"covid\"},{\"identifier\":\"vegetarian_friendly\",\"params\":{},\"type\":\"dining_options\"},{\"identifier\":\"vegan_friendly\",\"params\":{},\"type\":\"dining_options\"},{\"identifier\":\"gluten_free_friendly\",\"params\":{},\"type\":\"dining_options\"},{\"identifier\":\"healthy_dining\",\"params\":{},\"type\":\"dining_options\"}]',\n",
       " '[{\"identifier\":\"24_7_availability\",\"params\":{},\"type\":\"availability\"},{\"identifier\":\"mobile_services_during_covid_19\",\"params\":{},\"type\":\"covid\"},{\"identifier\":\"virtual_estimates_during_covid_19\",\"params\":{},\"type\":\"covid\"},{\"identifier\":\"family_owned_operated\",\"params\":{},\"type\":\"features\"},{\"identifier\":\"established_in\",\"params\":{\"year\":\"2011\"},\"type\":\"features\"},{\"identifier\":\"locally_owned_operated\",\"params\":{},\"type\":\"features\"}]',\n",
       " '[{\"identifier\":\"gift_cards_during_covid_19\",\"params\":{},\"type\":\"covid\"},{\"identifier\":\"free_wifi\",\"params\":{},\"type\":\"amenities\"},{\"identifier\":\"established_in\",\"params\":{\"year\":\"1992\"},\"type\":\"features\"}]',\n",
       " '[{\"identifier\":\"family_owned_operated\",\"params\":{},\"type\":\"features\"},{\"identifier\":\"years_in_business\",\"params\":{\"year\":\"11\"},\"type\":\"features\"},{\"identifier\":\"casual_dining\",\"params\":{},\"type\":\"ambiance\"},{\"identifier\":\"full_bar\",\"params\":{},\"type\":\"dining_options\"},{\"identifier\":\"curbside_pickup_during_covid_19\",\"params\":{},\"type\":\"covid\"},{\"identifier\":\"takeout_during_covid_19\",\"params\":{},\"type\":\"covid\"}]',\n",
       " '[{\"identifier\":\"takeout_during_covid_19\",\"params\":{},\"type\":\"covid\"},{\"identifier\":\"locally_owned_operated\",\"params\":{},\"type\":\"features\"},{\"identifier\":\"vegetarian_friendly\",\"params\":{},\"type\":\"dining_options\"},{\"identifier\":\"healthy_dining\",\"params\":{},\"type\":\"dining_options\"},{\"identifier\":\"casual_dining\",\"params\":{},\"type\":\"ambiance\"},{\"identifier\":\"family_owned_operated\",\"params\":{},\"type\":\"features\"}]',\n",
       " '[{\"identifier\":\"delivery_during_covid_19\",\"params\":{},\"type\":\"covid\"},{\"identifier\":\"takeout_during_covid_19\",\"params\":{},\"type\":\"covid\"},{\"identifier\":\"gift_cards_during_covid_19\",\"params\":{},\"type\":\"covid\"},{\"identifier\":\"vegetarian_friendly\",\"params\":{},\"type\":\"dining_options\"},{\"identifier\":\"vegan_friendly\",\"params\":{},\"type\":\"dining_options\"},{\"identifier\":\"gluten_free_friendly\",\"params\":{},\"type\":\"dining_options\"}]',\n",
       " '[{\"identifier\":\"vegetarian_friendly\",\"params\":{},\"type\":\"dining_options\"},{\"identifier\":\"delivery_during_covid_19\",\"params\":{},\"type\":\"covid\"},{\"identifier\":\"gluten_free_friendly\",\"params\":{},\"type\":\"dining_options\"},{\"identifier\":\"locally_owned_operated\",\"params\":{},\"type\":\"features\"},{\"identifier\":\"family_owned_operated\",\"params\":{},\"type\":\"features\"},{\"identifier\":\"takeout_during_covid_19\",\"params\":{},\"type\":\"covid\"},{\"identifier\":\"vegetarian_friendly\",\"params\":{},\"type\":\"dining_options\"},{\"identifier\":\"delivery_during_covid_19\",\"params\":{},\"type\":\"covid\"},{\"identifier\":\"gluten_free_friendly\",\"params\":{},\"type\":\"dining_options\"},{\"identifier\":\"locally_owned_operated\",\"params\":{},\"type\":\"features\"},{\"identifier\":\"family_owned_operated\",\"params\":{},\"type\":\"features\"},{\"identifier\":\"takeout_during_covid_19\",\"params\":{},\"type\":\"covid\"}]',\n",
       " '[{\"identifier\":\"curbside_pickup_during_covid_19\",\"params\":{},\"type\":\"covid\"},{\"identifier\":\"remote_services_during_covid_19\",\"params\":{},\"type\":\"covid\"},{\"identifier\":\"online_classes_during_covid_19\",\"params\":{},\"type\":\"covid\"},{\"identifier\":\"curbside_drop_off_during_covid_19\",\"params\":{},\"type\":\"covid\"},{\"identifier\":\"shipping_during_covid_19\",\"params\":{},\"type\":\"covid\"},{\"identifier\":\"virtual_estimates_during_covid_19\",\"params\":{},\"type\":\"covid\"}]',\n",
       " '[{\"identifier\":\"gift_cards_during_covid_19\",\"params\":{},\"type\":\"covid\"},{\"identifier\":\"takeout_during_covid_19\",\"params\":{},\"type\":\"covid\"},{\"identifier\":\"happy_hour_specials\",\"params\":{},\"type\":\"dining_options\"},{\"identifier\":\"grab_and_go\",\"params\":{},\"type\":\"dining_options\"},{\"identifier\":\"full_bar\",\"params\":{},\"type\":\"dining_options\"},{\"identifier\":\"locally_owned_operated\",\"params\":{},\"type\":\"features\"}]',\n",
       " '[{\"identifier\":\"delivery_during_covid_19\",\"params\":{},\"type\":\"covid\"},{\"identifier\":\"curbside_drop_off_during_covid_19\",\"params\":{},\"type\":\"covid\"},{\"identifier\":\"casual_dining\",\"params\":{},\"type\":\"ambiance\"},{\"identifier\":\"vegetarian_friendly\",\"params\":{},\"type\":\"dining_options\"},{\"identifier\":\"family_owned_operated\",\"params\":{},\"type\":\"features\"},{\"identifier\":\"takeout_during_covid_19\",\"params\":{},\"type\":\"covid\"}]',\n",
       " '[{\"identifier\":\"takeout_during_covid_19\",\"params\":{},\"type\":\"covid\"},{\"identifier\":\"curbside_drop_off_during_covid_19\",\"params\":{},\"type\":\"covid\"},{\"identifier\":\"curbside_pickup_during_covid_19\",\"params\":{},\"type\":\"covid\"},{\"identifier\":\"delivery_during_covid_19\",\"params\":{},\"type\":\"covid\"},{\"identifier\":\"vegetarian_friendly\",\"params\":{},\"type\":\"dining_options\"},{\"identifier\":\"kitchen_open_late\",\"params\":{},\"type\":\"dining_options\"}]',\n",
       " '[{\"identifier\":\"takeout_during_covid_19\",\"params\":{},\"type\":\"covid\"},{\"identifier\":\"catering_service\",\"params\":{},\"type\":\"dining_options\"},{\"identifier\":\"free_parking\",\"params\":{},\"type\":\"amenities\"},{\"identifier\":\"gift_cards_during_covid_19\",\"params\":{},\"type\":\"covid\"},{\"identifier\":\"delivery_during_covid_19\",\"params\":{},\"type\":\"covid\"},{\"identifier\":\"locally_owned_operated\",\"params\":{},\"type\":\"features\"}]',\n",
       " '[{\"identifier\":\"delivery_during_covid_19\",\"params\":{},\"type\":\"covid\"},{\"identifier\":\"takeout_during_covid_19\",\"params\":{},\"type\":\"covid\"},{\"identifier\":\"vegan_friendly\",\"params\":{},\"type\":\"dining_options\"},{\"identifier\":\"gluten_free_friendly\",\"params\":{},\"type\":\"dining_options\"},{\"identifier\":\"vegetarian_friendly\",\"params\":{},\"type\":\"dining_options\"},{\"identifier\":\"halal\",\"params\":{},\"type\":\"dining_options\"}]',\n",
       " '[{\"identifier\":\"24_7_availability\",\"params\":{},\"type\":\"availability\"},{\"identifier\":\"established_in\",\"params\":{\"year\":\"1996\"},\"type\":\"features\"},{\"identifier\":\"family_owned_operated\",\"params\":{},\"type\":\"features\"},{\"identifier\":\"remote_services_during_covid_19\",\"params\":{},\"type\":\"covid\"},{\"identifier\":\"virtual_estimates_during_covid_19\",\"params\":{},\"type\":\"covid\"},{\"identifier\":\"free_consultations\",\"params\":{},\"type\":\"estimates\"}]',\n",
       " '[{\"identifier\":\"delivery_during_covid_19\",\"params\":{},\"type\":\"covid\"},{\"identifier\":\"takeout_during_covid_19\",\"params\":{},\"type\":\"covid\"},{\"identifier\":\"halal\",\"params\":{},\"type\":\"dining_options\"},{\"identifier\":\"kitchen_open_late\",\"params\":{},\"type\":\"dining_options\"},{\"identifier\":\"catering_service\",\"params\":{},\"type\":\"dining_options\"},{\"identifier\":\"grab_and_go\",\"params\":{},\"type\":\"dining_options\"}]',\n",
       " '[{\"identifier\":\"delivery_during_covid_19\",\"params\":{},\"type\":\"covid\"},{\"identifier\":\"luxury\",\"params\":{},\"type\":\"features\"},{\"identifier\":\"established_in\",\"params\":{\"year\":\"2013\"},\"type\":\"features\"},{\"identifier\":\"locally_owned_operated\",\"params\":{},\"type\":\"features\"},{\"identifier\":\"free_parking\",\"params\":{},\"type\":\"amenities\"},{\"identifier\":\"satisfaction_guaranteed\",\"params\":{},\"type\":\"guarantees\"}]',\n",
       " '[{\"identifier\":\"delivery_during_covid_19\",\"params\":{},\"type\":\"covid\"},{\"identifier\":\"takeout_during_covid_19\",\"params\":{},\"type\":\"covid\"},{\"identifier\":\"vegan_friendly\",\"params\":{},\"type\":\"dining_options\"},{\"identifier\":\"vegetarian_friendly\",\"params\":{},\"type\":\"dining_options\"},{\"identifier\":\"halal\",\"params\":{},\"type\":\"dining_options\"},{\"identifier\":\"grab_and_go\",\"params\":{},\"type\":\"dining_options\"}]',\n",
       " '[{\"identifier\":\"takeout_during_covid_19\",\"params\":{},\"type\":\"covid\"},{\"identifier\":\"delivery_during_covid_19\",\"params\":{},\"type\":\"covid\"},{\"identifier\":\"locally_owned_operated\",\"params\":{},\"type\":\"features\"},{\"identifier\":\"free_parking\",\"params\":{},\"type\":\"amenities\"},{\"identifier\":\"kitchen_open_late\",\"params\":{},\"type\":\"dining_options\"},{\"identifier\":\"curbside_drop_off_during_covid_19\",\"params\":{},\"type\":\"covid\"}]',\n",
       " '[{\"identifier\":\"gift_cards_during_covid_19\",\"params\":{},\"type\":\"covid\"},{\"identifier\":\"curbside_pickup_during_covid_19\",\"params\":{},\"type\":\"covid\"},{\"identifier\":\"mobile_services_during_covid_19\",\"params\":{},\"type\":\"covid\"},{\"identifier\":\"takeout_during_covid_19\",\"params\":{},\"type\":\"covid\"},{\"identifier\":\"kid_friendly\",\"params\":{},\"type\":\"crowd\"},{\"identifier\":\"pet_friendly\",\"params\":{},\"type\":\"crowd\"}]',\n",
       " '[{\"identifier\":\"curbside_pickup_during_covid_19\",\"params\":{},\"type\":\"covid\"},{\"identifier\":\"curbside_drop_off_during_covid_19\",\"params\":{},\"type\":\"covid\"},{\"identifier\":\"takeout_during_covid_19\",\"params\":{},\"type\":\"covid\"},{\"identifier\":\"locally_owned_operated\",\"params\":{},\"type\":\"features\"},{\"identifier\":\"women_owned_operated\",\"params\":{},\"type\":\"features\"},{\"identifier\":\"kid_friendly\",\"params\":{},\"type\":\"crowd\"}]',\n",
       " '[{\"identifier\":\"delivery_during_covid_19\",\"params\":{},\"type\":\"covid\"},{\"identifier\":\"curbside_drop_off_during_covid_19\",\"params\":{},\"type\":\"covid\"},{\"identifier\":\"takeout_during_covid_19\",\"params\":{},\"type\":\"covid\"},{\"identifier\":\"grab_and_go\",\"params\":{},\"type\":\"dining_options\"},{\"identifier\":\"fine_dining\",\"params\":{},\"type\":\"ambiance\"},{\"identifier\":\"locally_owned_operated\",\"params\":{},\"type\":\"features\"}]',\n",
       " '[{\"identifier\":\"pet_friendly\",\"params\":{},\"type\":\"crowd\"},{\"identifier\":\"years_in_business\",\"params\":{\"year\":\"9\"},\"type\":\"features\"},{\"identifier\":\"family_owned_operated\",\"params\":{},\"type\":\"features\"},{\"identifier\":\"remote_services_during_covid_19\",\"params\":{},\"type\":\"covid\"},{\"identifier\":\"free_estimates\",\"params\":{},\"type\":\"estimates\"},{\"identifier\":\"references_available\",\"params\":{},\"type\":\"guarantees\"}]',\n",
       " '[{\"identifier\":\"takeout_during_covid_19\",\"params\":{},\"type\":\"covid\"},{\"identifier\":\"curbside_pickup_during_covid_19\",\"params\":{},\"type\":\"covid\"},{\"identifier\":\"healthy_dining\",\"params\":{},\"type\":\"dining_options\"}]',\n",
       " '[{\"identifier\":\"delivery_during_covid_19\",\"params\":{},\"type\":\"covid\"},{\"identifier\":\"takeout_during_covid_19\",\"params\":{},\"type\":\"covid\"},{\"identifier\":\"casual_dining\",\"params\":{},\"type\":\"ambiance\"},{\"identifier\":\"wheelchair_accessible\",\"params\":{},\"type\":\"amenities\"},{\"identifier\":\"gluten_free_friendly\",\"params\":{},\"type\":\"dining_options\"}]',\n",
       " '[{\"identifier\":\"mobile_services_during_covid_19\",\"params\":{},\"type\":\"covid\"},{\"identifier\":\"years_in_business\",\"params\":{\"year\":\"17\"},\"type\":\"features\"},{\"identifier\":\"available_by_appointment\",\"params\":{},\"type\":\"availability\"},{\"identifier\":\"certified_professionals\",\"params\":{},\"type\":\"features\"},{\"identifier\":\"women_owned_operated\",\"params\":{},\"type\":\"features\"},{\"identifier\":\"speaks_spanish\",\"params\":{},\"type\":\"features\"}]',\n",
       " '[{\"identifier\":\"curbside_pickup_during_covid_19\",\"params\":{},\"type\":\"covid\"},{\"identifier\":\"family_owned_operated\",\"params\":{},\"type\":\"features\"},{\"identifier\":\"speaks_spanish\",\"params\":{},\"type\":\"features\"},{\"identifier\":\"locally_owned_operated\",\"params\":{},\"type\":\"features\"},{\"identifier\":\"delivery_during_covid_19\",\"params\":{},\"type\":\"covid\"},{\"identifier\":\"walk_ins_welcome\",\"params\":{},\"type\":\"availability\"}]',\n",
       " '[{\"identifier\":\"locally_owned_operated\",\"params\":{},\"type\":\"features\"},{\"identifier\":\"casual_dining\",\"params\":{},\"type\":\"ambiance\"},{\"identifier\":\"kid_friendly\",\"params\":{},\"type\":\"crowd\"},{\"identifier\":\"wheelchair_accessible\",\"params\":{},\"type\":\"amenities\"},{\"identifier\":\"family_owned_operated\",\"params\":{},\"type\":\"features\"},{\"identifier\":\"delivery_during_covid_19\",\"params\":{},\"type\":\"covid\"}]',\n",
       " '[{\"identifier\":\"gift_cards_during_covid_19\",\"params\":{},\"type\":\"covid\"},{\"identifier\":\"curbside_pickup_during_covid_19\",\"params\":{},\"type\":\"covid\"},{\"identifier\":\"takeout_during_covid_19\",\"params\":{},\"type\":\"covid\"},{\"identifier\":\"locally_owned_operated\",\"params\":{},\"type\":\"features\"}]',\n",
       " '[{\"identifier\":\"gift_cards_during_covid_19\",\"params\":{},\"type\":\"covid\"},{\"identifier\":\"delivery_during_covid_19\",\"params\":{},\"type\":\"covid\"},{\"identifier\":\"curbside_pickup_during_covid_19\",\"params\":{},\"type\":\"covid\"},{\"identifier\":\"curbside_drop_off_during_covid_19\",\"params\":{},\"type\":\"covid\"},{\"identifier\":\"takeout_during_covid_19\",\"params\":{},\"type\":\"covid\"},{\"identifier\":\"years_in_business\",\"params\":{\"year\":\"23\"},\"type\":\"features\"}]',\n",
       " '[{\"identifier\":\"virtual_estimates_during_covid_19\",\"params\":{},\"type\":\"covid\"},{\"identifier\":\"free_estimates\",\"params\":{},\"type\":\"estimates\"}]',\n",
       " '[{\"identifier\":\"delivery_during_covid_19\",\"params\":{},\"type\":\"covid\"},{\"identifier\":\"takeout_during_covid_19\",\"params\":{},\"type\":\"covid\"},{\"identifier\":\"curbside_pickup_during_covid_19\",\"params\":{},\"type\":\"covid\"},{\"identifier\":\"gift_cards_during_covid_19\",\"params\":{},\"type\":\"covid\"},{\"identifier\":\"vegetarian_friendly\",\"params\":{},\"type\":\"dining_options\"},{\"identifier\":\"vegan_friendly\",\"params\":{},\"type\":\"dining_options\"}]',\n",
       " '[{\"identifier\":\"delivery_during_covid_19\",\"params\":{},\"type\":\"covid\"},{\"identifier\":\"takeout_during_covid_19\",\"params\":{},\"type\":\"covid\"},{\"identifier\":\"vegetarian_friendly\",\"params\":{},\"type\":\"dining_options\"},{\"identifier\":\"grab_and_go\",\"params\":{},\"type\":\"dining_options\"},{\"identifier\":\"catering_service\",\"params\":{},\"type\":\"dining_options\"},{\"identifier\":\"healthy_dining\",\"params\":{},\"type\":\"dining_options\"}]',\n",
       " '[{\"identifier\":\"delivery_during_covid_19\",\"params\":{},\"type\":\"covid\"},{\"identifier\":\"takeout_during_covid_19\",\"params\":{},\"type\":\"covid\"},{\"identifier\":\"delivery_during_covid_19\",\"params\":{},\"type\":\"covid\"},{\"identifier\":\"takeout_during_covid_19\",\"params\":{},\"type\":\"covid\"},{\"identifier\":\"delivery_during_covid_19\",\"params\":{},\"type\":\"covid\"},{\"identifier\":\"takeout_during_covid_19\",\"params\":{},\"type\":\"covid\"}]',\n",
       " '[{\"identifier\":\"walk_ins_welcome\",\"params\":{},\"type\":\"availability\"},{\"identifier\":\"kid_friendly\",\"params\":{},\"type\":\"crowd\"},{\"identifier\":\"available_by_appointment\",\"params\":{},\"type\":\"availability\"},{\"identifier\":\"satisfaction_guaranteed\",\"params\":{},\"type\":\"guarantees\"},{\"identifier\":\"discounts_available\",\"params\":{},\"type\":\"pricing\"},{\"identifier\":\"gift_cards_during_covid_19\",\"params\":{},\"type\":\"covid\"}]',\n",
       " '[{\"identifier\":\"takeout_during_covid_19\",\"params\":{},\"type\":\"covid\"},{\"identifier\":\"curbside_pickup_during_covid_19\",\"params\":{},\"type\":\"covid\"},{\"identifier\":\"gift_cards_during_covid_19\",\"params\":{},\"type\":\"covid\"},{\"identifier\":\"vegetarian_friendly\",\"params\":{},\"type\":\"dining_options\"},{\"identifier\":\"grab_and_go\",\"params\":{},\"type\":\"dining_options\"},{\"identifier\":\"catering_service\",\"params\":{},\"type\":\"dining_options\"}]',\n",
       " '[{\"identifier\":\"remote_services_during_covid_19\",\"params\":{},\"type\":\"covid\"},{\"identifier\":\"years_in_business\",\"params\":{\"year\":\"17\"},\"type\":\"features\"},{\"identifier\":\"offers_customized_solutions\",\"params\":{},\"type\":\"features\"},{\"identifier\":\"24_7_availability\",\"params\":{},\"type\":\"availability\"},{\"identifier\":\"free_consultations\",\"params\":{},\"type\":\"estimates\"},{\"identifier\":\"results_guaranteed\",\"params\":{},\"type\":\"guarantees\"}]',\n",
       " '[{\"identifier\":\"takeout_during_covid_19\",\"params\":{},\"type\":\"covid\"},{\"identifier\":\"healthy_dining\",\"params\":{},\"type\":\"dining_options\"},{\"identifier\":\"years_in_business\",\"params\":{\"year\":\"35\"},\"type\":\"features\"},{\"identifier\":\"family_owned_operated\",\"params\":{},\"type\":\"features\"},{\"identifier\":\"women_owned_operated\",\"params\":{},\"type\":\"features\"}]',\n",
       " '[{\"identifier\":\"locally_owned_operated\",\"params\":{},\"type\":\"features\"},{\"identifier\":\"delivery_during_covid_19\",\"params\":{},\"type\":\"covid\"},{\"identifier\":\"full_bar\",\"params\":{},\"type\":\"dining_options\"},{\"identifier\":\"vegan_friendly\",\"params\":{},\"type\":\"dining_options\"},{\"identifier\":\"happy_hour_specials\",\"params\":{},\"type\":\"dining_options\"},{\"identifier\":\"outdoor_seating_sponsored\",\"params\":{},\"type\":\"amenities\"}]',\n",
       " '[{\"identifier\":\"curbside_pickup_during_covid_19\",\"params\":{},\"type\":\"covid\"},{\"identifier\":\"takeout_during_covid_19\",\"params\":{},\"type\":\"covid\"},{\"identifier\":\"vegetarian_friendly\",\"params\":{},\"type\":\"dining_options\"},{\"identifier\":\"grab_and_go\",\"params\":{},\"type\":\"dining_options\"},{\"identifier\":\"family_owned_operated\",\"params\":{},\"type\":\"features\"},{\"identifier\":\"kid_friendly\",\"params\":{},\"type\":\"crowd\"}]',\n",
       " '[{\"identifier\":\"delivery_during_covid_19\",\"params\":{},\"type\":\"covid\"},{\"identifier\":\"takeout_during_covid_19\",\"params\":{},\"type\":\"covid\"},{\"identifier\":\"healthy_dining\",\"params\":{},\"type\":\"dining_options\"},{\"identifier\":\"grab_and_go\",\"params\":{},\"type\":\"dining_options\"},{\"identifier\":\"vegetarian_friendly\",\"params\":{},\"type\":\"dining_options\"}]',\n",
       " '[{\"identifier\":\"remote_services_during_covid_19\",\"params\":{},\"type\":\"covid\"},{\"identifier\":\"years_in_business\",\"params\":{\"year\":\"20\"},\"type\":\"features\"},{\"identifier\":\"family_owned_operated\",\"params\":{},\"type\":\"features\"},{\"identifier\":\"locally_owned_operated\",\"params\":{},\"type\":\"features\"},{\"identifier\":\"wheelchair_accessible\",\"params\":{},\"type\":\"amenities\"},{\"identifier\":\"available_by_appointment\",\"params\":{},\"type\":\"availability\"}]',\n",
       " '[{\"identifier\":\"curbside_pickup_during_covid_19\",\"params\":{},\"type\":\"covid\"},{\"identifier\":\"delivery_during_covid_19\",\"params\":{},\"type\":\"covid\"},{\"identifier\":\"takeout_during_covid_19\",\"params\":{},\"type\":\"covid\"},{\"identifier\":\"years_in_business\",\"params\":{\"year\":\"45\"},\"type\":\"features\"},{\"identifier\":\"family_owned_operated\",\"params\":{},\"type\":\"features\"},{\"identifier\":\"locally_sourced_ingredients\",\"params\":{},\"type\":\"dining_options\"}]',\n",
       " '[{\"identifier\":\"years_in_business\",\"params\":{\"year\":\"24\"},\"type\":\"features\"},{\"identifier\":\"online_classes_during_covid_19\",\"params\":{},\"type\":\"covid\"},{\"identifier\":\"remote_services_during_covid_19\",\"params\":{},\"type\":\"covid\"}]',\n",
       " '[{\"identifier\":\"gift_cards_during_covid_19\",\"params\":{},\"type\":\"covid\"},{\"identifier\":\"available_by_appointment\",\"params\":{},\"type\":\"availability\"},{\"identifier\":\"discounts_available\",\"params\":{},\"type\":\"pricing\"},{\"identifier\":\"years_in_business\",\"params\":{\"year\":\"5\"},\"type\":\"features\"},{\"identifier\":\"kid_friendly\",\"params\":{},\"type\":\"crowd\"},{\"identifier\":\"free_parking\",\"params\":{},\"type\":\"amenities\"}]',\n",
       " '[{\"identifier\":\"free_estimates\",\"params\":{},\"type\":\"estimates\"},{\"identifier\":\"virtual_estimates_during_covid_19\",\"params\":{},\"type\":\"covid\"},{\"identifier\":\"locally_owned_operated\",\"params\":{},\"type\":\"features\"},{\"identifier\":\"walk_ins_welcome\",\"params\":{},\"type\":\"availability\"},{\"identifier\":\"available_by_appointment\",\"params\":{},\"type\":\"availability\"},{\"identifier\":\"offers_payment_plans\",\"params\":{},\"type\":\"pricing\"}]',\n",
       " '[{\"identifier\":\"drive_thru_during_covid_19\",\"params\":{},\"type\":\"covid\"},{\"identifier\":\"speaks_spanish\",\"params\":{},\"type\":\"features\"},{\"identifier\":\"mobile_services_during_covid_19\",\"params\":{},\"type\":\"covid\"}]',\n",
       " '[{\"identifier\":\"gift_cards_during_covid_19\",\"params\":{},\"type\":\"covid\"},{\"identifier\":\"takeout_during_covid_19\",\"params\":{},\"type\":\"covid\"},{\"identifier\":\"locally_sourced_ingredients\",\"params\":{},\"type\":\"dining_options\"},{\"identifier\":\"grab_and_go\",\"params\":{},\"type\":\"dining_options\"},{\"identifier\":\"casual_dining\",\"params\":{},\"type\":\"ambiance\"},{\"identifier\":\"not_for_profit\",\"params\":{},\"type\":\"features\"}]',\n",
       " '[{\"identifier\":\"virtual_estimates_during_covid_19\",\"params\":{},\"type\":\"covid\"},{\"identifier\":\"available_by_appointment\",\"params\":{},\"type\":\"availability\"}]',\n",
       " '[{\"identifier\":\"halal\",\"params\":{},\"type\":\"dining_options\"},{\"identifier\":\"full_bar\",\"params\":{},\"type\":\"dining_options\"},{\"identifier\":\"takeout_during_covid_19\",\"params\":{},\"type\":\"covid\"},{\"identifier\":\"delivery_during_covid_19\",\"params\":{},\"type\":\"covid\"},{\"identifier\":\"locally_sourced_ingredients\",\"params\":{},\"type\":\"dining_options\"},{\"identifier\":\"vegetarian_friendly\",\"params\":{},\"type\":\"dining_options\"}]',\n",
       " '[{\"identifier\":\"delivery_during_covid_19\",\"params\":{},\"type\":\"covid\"},{\"identifier\":\"locally_owned_operated\",\"params\":{},\"type\":\"features\"},{\"identifier\":\"full_bar\",\"params\":{},\"type\":\"dining_options\"},{\"identifier\":\"lgbtq_friendly\",\"params\":{},\"type\":\"crowd\"},{\"identifier\":\"hipster_vibe\",\"params\":{},\"type\":\"ambiance\"},{\"identifier\":\"x_employees\",\"params\":{\"number\":\"7\"},\"type\":\"features\"}]',\n",
       " '[{\"identifier\":\"takeout_during_covid_19\",\"params\":{},\"type\":\"covid\"},{\"identifier\":\"curbside_pickup_during_covid_19\",\"params\":{},\"type\":\"covid\"},{\"identifier\":\"delivery_during_covid_19\",\"params\":{},\"type\":\"covid\"},{\"identifier\":\"family_owned_operated\",\"params\":{},\"type\":\"features\"},{\"identifier\":\"years_in_business\",\"params\":{\"year\":\"17\"},\"type\":\"features\"},{\"identifier\":\"full_bar\",\"params\":{},\"type\":\"dining_options\"}]',\n",
       " '[{\"identifier\":\"remote_services_during_covid_19\",\"params\":{},\"type\":\"covid\"},{\"identifier\":\"beat_or_match_prices\",\"params\":{},\"type\":\"pricing\"},{\"identifier\":\"certified_professionals\",\"params\":{},\"type\":\"features\"},{\"identifier\":\"offers_payment_plans\",\"params\":{},\"type\":\"pricing\"},{\"identifier\":\"walk_ins_welcome\",\"params\":{},\"type\":\"availability\"},{\"identifier\":\"boutique\",\"params\":{},\"type\":\"features\"}]',\n",
       " '[{\"identifier\":\"delivery_during_covid_19\",\"params\":{},\"type\":\"covid\"},{\"identifier\":\"takeout_during_covid_19\",\"params\":{},\"type\":\"covid\"},{\"identifier\":\"curbside_drop_off_during_covid_19\",\"params\":{},\"type\":\"covid\"},{\"identifier\":\"gift_cards_during_covid_19\",\"params\":{},\"type\":\"covid\"},{\"identifier\":\"locally_owned_operated\",\"params\":{},\"type\":\"features\"}]',\n",
       " '[{\"identifier\":\"online_classes_during_covid_19\",\"params\":{},\"type\":\"covid\"},{\"identifier\":\"free_consultations\",\"params\":{},\"type\":\"estimates\"}]',\n",
       " '[{\"identifier\":\"gift_cards_during_covid_19\",\"params\":{},\"type\":\"covid\"},{\"identifier\":\"curbside_pickup_during_covid_19\",\"params\":{},\"type\":\"covid\"},{\"identifier\":\"vegetarian_friendly\",\"params\":{},\"type\":\"dining_options\"},{\"identifier\":\"catering_service\",\"params\":{},\"type\":\"dining_options\"},{\"identifier\":\"full_bar\",\"params\":{},\"type\":\"dining_options\"},{\"identifier\":\"family_owned_operated\",\"params\":{},\"type\":\"features\"}]',\n",
       " '[{\"identifier\":\"delivery_during_covid_19\",\"params\":{},\"type\":\"covid\"},{\"identifier\":\"takeout_during_covid_19\",\"params\":{},\"type\":\"covid\"},{\"identifier\":\"vegetarian_friendly\",\"params\":{},\"type\":\"dining_options\"},{\"identifier\":\"happy_hour_specials\",\"params\":{},\"type\":\"dining_options\"},{\"identifier\":\"discounts_available\",\"params\":{},\"type\":\"pricing\"},{\"identifier\":\"gluten_free_friendly\",\"params\":{},\"type\":\"dining_options\"}]',\n",
       " '[{\"identifier\":\"gift_cards_during_covid_19\",\"params\":{},\"type\":\"covid\"},{\"identifier\":\"delivery_during_covid_19\",\"params\":{},\"type\":\"covid\"},{\"identifier\":\"curbside_pickup_during_covid_19\",\"params\":{},\"type\":\"covid\"},{\"identifier\":\"takeout_during_covid_19\",\"params\":{},\"type\":\"covid\"},{\"identifier\":\"mobile_services_during_covid_19\",\"params\":{},\"type\":\"covid\"},{\"identifier\":\"virtual_estimates_during_covid_19\",\"params\":{},\"type\":\"covid\"}]',\n",
       " '[{\"identifier\":\"gift_cards_during_covid_19\",\"params\":{},\"type\":\"covid\"},{\"identifier\":\"remote_services_during_covid_19\",\"params\":{},\"type\":\"covid\"},{\"identifier\":\"online_classes_during_covid_19\",\"params\":{},\"type\":\"covid\"},{\"identifier\":\"years_in_business\",\"params\":{\"year\":\"6\"},\"type\":\"features\"},{\"identifier\":\"locally_owned_operated\",\"params\":{},\"type\":\"features\"},{\"identifier\":\"boutique\",\"params\":{},\"type\":\"features\"}]',\n",
       " '[{\"identifier\":\"24_7_availability\",\"params\":{},\"type\":\"availability\"},{\"identifier\":\"remote_services_during_covid_19\",\"params\":{},\"type\":\"covid\"},{\"identifier\":\"24_7_availability\",\"params\":{},\"type\":\"availability\"},{\"identifier\":\"remote_services_during_covid_19\",\"params\":{},\"type\":\"covid\"}]',\n",
       " '[{\"identifier\":\"virtual_estimates_during_covid_19\",\"params\":{},\"type\":\"covid\"},{\"identifier\":\"family_owned_operated\",\"params\":{},\"type\":\"features\"},{\"identifier\":\"workmanship_guaranteed\",\"params\":{},\"type\":\"guarantees\"},{\"identifier\":\"free_estimates\",\"params\":{},\"type\":\"estimates\"},{\"identifier\":\"luxury\",\"params\":{},\"type\":\"features\"},{\"identifier\":\"offers_commercial_services\",\"params\":{},\"type\":\"features\"}]',\n",
       " '[{\"identifier\":\"family_owned_operated\",\"params\":{},\"type\":\"features\"},{\"identifier\":\"certified_professionals\",\"params\":{},\"type\":\"features\"},{\"identifier\":\"offers_payment_plans\",\"params\":{},\"type\":\"pricing\"},{\"identifier\":\"offers_commercial_services\",\"params\":{},\"type\":\"features\"},{\"identifier\":\"satisfaction_guaranteed\",\"params\":{},\"type\":\"guarantees\"},{\"identifier\":\"remote_services_during_covid_19\",\"params\":{},\"type\":\"covid\"}]',\n",
       " '[{\"identifier\":\"gift_cards_during_covid_19\",\"params\":{},\"type\":\"covid\"},{\"identifier\":\"curbside_pickup_during_covid_19\",\"params\":{},\"type\":\"covid\"},{\"identifier\":\"delivery_during_covid_19\",\"params\":{},\"type\":\"covid\"},{\"identifier\":\"locally_sourced_ingredients\",\"params\":{},\"type\":\"dining_options\"},{\"identifier\":\"speaks_spanish\",\"params\":{},\"type\":\"features\"},{\"identifier\":\"lgbtq_friendly\",\"params\":{},\"type\":\"crowd\"}]',\n",
       " '[{\"identifier\":\"curbside_pickup_during_covid_19\",\"params\":{},\"type\":\"covid\"},{\"identifier\":\"takes_reservations\",\"params\":{},\"type\":\"dining_options\"},{\"identifier\":\"locally_owned_operated\",\"params\":{},\"type\":\"features\"},{\"identifier\":\"outdoor_seating_sponsored\",\"params\":{},\"type\":\"amenities\"}]',\n",
       " '[{\"identifier\":\"halal\",\"params\":{},\"type\":\"dining_options\"},{\"identifier\":\"vegetarian_friendly\",\"params\":{},\"type\":\"dining_options\"},{\"identifier\":\"vegan_friendly\",\"params\":{},\"type\":\"dining_options\"},{\"identifier\":\"fine_dining\",\"params\":{},\"type\":\"ambiance\"},{\"identifier\":\"gluten_free_friendly\",\"params\":{},\"type\":\"dining_options\"},{\"identifier\":\"takeout_during_covid_19\",\"params\":{},\"type\":\"covid\"}]',\n",
       " '[{\"identifier\":\"delivery_during_covid_19\",\"params\":{},\"type\":\"covid\"},{\"identifier\":\"takeout_during_covid_19\",\"params\":{},\"type\":\"covid\"},{\"identifier\":\"gluten_free_friendly\",\"params\":{},\"type\":\"dining_options\"},{\"identifier\":\"vegetarian_friendly\",\"params\":{},\"type\":\"dining_options\"},{\"identifier\":\"healthy_dining\",\"params\":{},\"type\":\"dining_options\"},{\"identifier\":\"locally_owned_operated\",\"params\":{},\"type\":\"features\"}]',\n",
       " '[{\"identifier\":\"shipping_during_covid_19\",\"params\":{},\"type\":\"covid\"},{\"identifier\":\"years_in_business\",\"params\":{\"year\":\"31\"},\"type\":\"features\"},{\"identifier\":\"offers_customized_solutions\",\"params\":{},\"type\":\"features\"},{\"identifier\":\"locally_owned_operated\",\"params\":{},\"type\":\"features\"},{\"identifier\":\"free_parking\",\"params\":{},\"type\":\"amenities\"},{\"identifier\":\"walk_ins_welcome\",\"params\":{},\"type\":\"availability\"}]',\n",
       " '[{\"identifier\":\"delivery_during_covid_19\",\"params\":{},\"type\":\"covid\"},{\"identifier\":\"takeout_during_covid_19\",\"params\":{},\"type\":\"covid\"},{\"identifier\":\"vegetarian_friendly\",\"params\":{},\"type\":\"dining_options\"},{\"identifier\":\"locally_owned_operated\",\"params\":{},\"type\":\"features\"}]',\n",
       " '[{\"identifier\":\"takeout_during_covid_19\",\"params\":{},\"type\":\"covid\"},{\"identifier\":\"delivery_during_covid_19\",\"params\":{},\"type\":\"covid\"},{\"identifier\":\"locally_owned_operated\",\"params\":{},\"type\":\"features\"},{\"identifier\":\"catering_service\",\"params\":{},\"type\":\"dining_options\"},{\"identifier\":\"vegan_friendly\",\"params\":{},\"type\":\"dining_options\"},{\"identifier\":\"gluten_free_friendly\",\"params\":{},\"type\":\"dining_options\"}]',\n",
       " '[{\"identifier\":\"takeout_during_covid_19\",\"params\":{},\"type\":\"covid\"},{\"identifier\":\"casual_dining\",\"params\":{},\"type\":\"ambiance\"},{\"identifier\":\"years_in_business\",\"params\":{\"year\":\"6\"},\"type\":\"features\"},{\"identifier\":\"family_owned_operated\",\"params\":{},\"type\":\"features\"},{\"identifier\":\"free_parking\",\"params\":{},\"type\":\"amenities\"},{\"identifier\":\"kid_friendly\",\"params\":{},\"type\":\"crowd\"}]',\n",
       " '[{\"identifier\":\"curbside_drop_off_during_covid_19\",\"params\":{},\"type\":\"covid\"},{\"identifier\":\"locally_owned_operated\",\"params\":{},\"type\":\"features\"},{\"identifier\":\"offers_payment_plans\",\"params\":{},\"type\":\"pricing\"},{\"identifier\":\"satisfaction_guaranteed\",\"params\":{},\"type\":\"guarantees\"},{\"identifier\":\"years_in_business\",\"params\":{\"year\":\"10\"},\"type\":\"features\"}]',\n",
       " '[{\"identifier\":\"curbside_pickup_during_covid_19\",\"params\":{},\"type\":\"covid\"},{\"identifier\":\"drive_thru_during_covid_19\",\"params\":{},\"type\":\"covid\"}]',\n",
       " '[{\"identifier\":\"takeout_during_covid_19\",\"params\":{},\"type\":\"covid\"},{\"identifier\":\"gift_cards_during_covid_19\",\"params\":{},\"type\":\"covid\"},{\"identifier\":\"curbside_pickup_during_covid_19\",\"params\":{},\"type\":\"covid\"},{\"identifier\":\"locally_owned_operated\",\"params\":{},\"type\":\"features\"}]',\n",
       " '[{\"identifier\":\"remote_services_during_covid_19\",\"params\":{},\"type\":\"covid\"},{\"identifier\":\"free_wifi\",\"params\":{},\"type\":\"amenities\"},{\"identifier\":\"free_parking\",\"params\":{},\"type\":\"amenities\"},{\"identifier\":\"wheelchair_accessible\",\"params\":{},\"type\":\"amenities\"},{\"identifier\":\"kid_friendly\",\"params\":{},\"type\":\"crowd\"},{\"identifier\":\"discounts_available\",\"params\":{},\"type\":\"pricing\"}]',\n",
       " '[{\"identifier\":\"shipping_during_covid_19\",\"params\":{},\"type\":\"covid\"},{\"identifier\":\"family_owned_operated\",\"params\":{},\"type\":\"features\"},{\"identifier\":\"established_in\",\"params\":{\"year\":\"1991\"},\"type\":\"features\"},{\"identifier\":\"locally_owned_operated\",\"params\":{},\"type\":\"features\"}]',\n",
       " '[{\"identifier\":\"family_owned_operated\",\"params\":{},\"type\":\"features\"},{\"identifier\":\"certified_professionals\",\"params\":{},\"type\":\"features\"},{\"identifier\":\"curbside_drop_off_during_covid_19\",\"params\":{},\"type\":\"covid\"},{\"identifier\":\"veteran_owned_operated\",\"params\":{},\"type\":\"features\"},{\"identifier\":\"women_owned_operated\",\"params\":{},\"type\":\"features\"},{\"identifier\":\"parts_labor_guaranteed\",\"params\":{},\"type\":\"guarantees\"}]',\n",
       " '[{\"identifier\":\"takeout_during_covid_19\",\"params\":{},\"type\":\"covid\"},{\"identifier\":\"delivery_during_covid_19\",\"params\":{},\"type\":\"covid\"},{\"identifier\":\"curbside_pickup_during_covid_19\",\"params\":{},\"type\":\"covid\"},{\"identifier\":\"grab_and_go\",\"params\":{},\"type\":\"dining_options\"},{\"identifier\":\"kitchen_open_late\",\"params\":{},\"type\":\"dining_options\"},{\"identifier\":\"free_wifi\",\"params\":{},\"type\":\"amenities\"}]',\n",
       " '[{\"identifier\":\"family_owned_operated\",\"params\":{},\"type\":\"features\"},{\"identifier\":\"on_time_guaranteed\",\"params\":{},\"type\":\"guarantees\"},{\"identifier\":\"free_estimates\",\"params\":{},\"type\":\"estimates\"},{\"identifier\":\"years_in_business\",\"params\":{\"year\":\"3\"},\"type\":\"features\"},{\"identifier\":\"eco_friendly\",\"params\":{},\"type\":\"features\"},{\"identifier\":\"virtual_estimates_during_covid_19\",\"params\":{},\"type\":\"covid\"}]',\n",
       " '[{\"identifier\":\"remote_services_during_covid_19\",\"params\":{},\"type\":\"covid\"},{\"identifier\":\"locally_owned_operated\",\"params\":{},\"type\":\"features\"},{\"identifier\":\"offers_customized_solutions\",\"params\":{},\"type\":\"features\"},{\"identifier\":\"available_by_appointment\",\"params\":{},\"type\":\"availability\"},{\"identifier\":\"certified_professionals\",\"params\":{},\"type\":\"features\"},{\"identifier\":\"consultations_available\",\"params\":{},\"type\":\"estimates\"}]',\n",
       " '[{\"identifier\":\"healthy_dining\",\"params\":{},\"type\":\"dining_options\"},{\"identifier\":\"family_owned_operated\",\"params\":{},\"type\":\"features\"},{\"identifier\":\"takeout_during_covid_19\",\"params\":{},\"type\":\"covid\"},{\"identifier\":\"curbside_drop_off_during_covid_19\",\"params\":{},\"type\":\"covid\"},{\"identifier\":\"vegetarian_friendly\",\"params\":{},\"type\":\"dining_options\"}]',\n",
       " '[{\"identifier\":\"curbside_pickup_during_covid_19\",\"params\":{},\"type\":\"covid\"},{\"identifier\":\"takeout_during_covid_19\",\"params\":{},\"type\":\"covid\"},{\"identifier\":\"gift_cards_during_covid_19\",\"params\":{},\"type\":\"covid\"},{\"identifier\":\"years_in_business\",\"params\":{\"year\":\"14\"},\"type\":\"features\"},{\"identifier\":\"family_owned_operated\",\"params\":{},\"type\":\"features\"},{\"identifier\":\"free_wifi\",\"params\":{},\"type\":\"amenities\"}]',\n",
       " '[{\"identifier\":\"mobile_services_during_covid_19\",\"params\":{},\"type\":\"covid\"},{\"identifier\":\"certified_professionals\",\"params\":{},\"type\":\"features\"},{\"identifier\":\"offers_insurance\",\"params\":{},\"type\":\"guarantees\"},{\"identifier\":\"family_owned_operated\",\"params\":{},\"type\":\"features\"},{\"identifier\":\"available_by_appointment\",\"params\":{},\"type\":\"availability\"},{\"identifier\":\"on_time_guaranteed\",\"params\":{},\"type\":\"guarantees\"}]',\n",
       " '[{\"identifier\":\"catering_service\",\"params\":{},\"type\":\"dining_options\"},{\"identifier\":\"vegan_friendly\",\"params\":{},\"type\":\"dining_options\"},{\"identifier\":\"vegetarian_friendly\",\"params\":{},\"type\":\"dining_options\"},{\"identifier\":\"free_wifi\",\"params\":{},\"type\":\"amenities\"},{\"identifier\":\"family_owned_operated\",\"params\":{},\"type\":\"features\"},{\"identifier\":\"takeout_during_covid_19\",\"params\":{},\"type\":\"covid\"}]',\n",
       " '[{\"identifier\":\"takeout_during_covid_19\",\"params\":{},\"type\":\"covid\"},{\"identifier\":\"family_owned_operated\",\"params\":{},\"type\":\"features\"},{\"identifier\":\"vegetarian_friendly\",\"params\":{},\"type\":\"dining_options\"},{\"identifier\":\"kitchen_open_late\",\"params\":{},\"type\":\"dining_options\"},{\"identifier\":\"vegan_friendly\",\"params\":{},\"type\":\"dining_options\"},{\"identifier\":\"catering_service\",\"params\":{},\"type\":\"dining_options\"}]',\n",
       " '[{\"identifier\":\"drive_thru\",\"params\":{},\"type\":\"amenities\"},{\"identifier\":\"family_owned_operated\",\"params\":{},\"type\":\"features\"},{\"identifier\":\"grab_and_go\",\"params\":{},\"type\":\"dining_options\"},{\"identifier\":\"drive_thru_during_covid_19\",\"params\":{},\"type\":\"covid\"},{\"identifier\":\"takeout_during_covid_19\",\"params\":{},\"type\":\"covid\"},{\"identifier\":\"delivery_during_covid_19\",\"params\":{},\"type\":\"covid\"}]',\n",
       " '[{\"identifier\":\"delivery_during_covid_19\",\"params\":{},\"type\":\"covid\"},{\"identifier\":\"takeout_during_covid_19\",\"params\":{},\"type\":\"covid\"},{\"identifier\":\"grab_and_go\",\"params\":{},\"type\":\"dining_options\"},{\"identifier\":\"locally_sourced_ingredients\",\"params\":{},\"type\":\"dining_options\"},{\"identifier\":\"takes_reservations\",\"params\":{},\"type\":\"dining_options\"},{\"identifier\":\"healthy_dining\",\"params\":{},\"type\":\"dining_options\"}]',\n",
       " '[{\"identifier\":\"takeout_during_covid_19\",\"params\":{},\"type\":\"covid\"},{\"identifier\":\"free_parking\",\"params\":{},\"type\":\"amenities\"}]',\n",
       " '[{\"identifier\":\"family_owned_operated\",\"params\":{},\"type\":\"features\"},{\"identifier\":\"women_owned_operated\",\"params\":{},\"type\":\"features\"},{\"identifier\":\"offers_customized_solutions\",\"params\":{},\"type\":\"features\"},{\"identifier\":\"curbside_pickup_during_covid_19\",\"params\":{},\"type\":\"covid\"},{\"identifier\":\"curbside_drop_off_during_covid_19\",\"params\":{},\"type\":\"covid\"},{\"identifier\":\"available_by_appointment\",\"params\":{},\"type\":\"availability\"}]',\n",
       " '[{\"identifier\":\"years_in_business\",\"params\":{\"year\":\"40\"},\"type\":\"features\"},{\"identifier\":\"family_owned_operated\",\"params\":{},\"type\":\"features\"},{\"identifier\":\"free_estimates\",\"params\":{},\"type\":\"estimates\"},{\"identifier\":\"curbside_pickup_during_covid_19\",\"params\":{},\"type\":\"covid\"},{\"identifier\":\"luxury\",\"params\":{},\"type\":\"features\"},{\"identifier\":\"speaks_spanish\",\"params\":{},\"type\":\"features\"}]',\n",
       " '[{\"identifier\":\"family_owned_operated\",\"params\":{},\"type\":\"features\"},{\"identifier\":\"curbside_pickup_during_covid_19\",\"params\":{},\"type\":\"covid\"},{\"identifier\":\"gift_cards_during_covid_19\",\"params\":{},\"type\":\"covid\"},{\"identifier\":\"takeout_during_covid_19\",\"params\":{},\"type\":\"covid\"},{\"identifier\":\"shipping_during_covid_19\",\"params\":{},\"type\":\"covid\"},{\"identifier\":\"outdoor_seating_sponsored\",\"params\":{},\"type\":\"amenities\"}]',\n",
       " '[{\"identifier\":\"remote_services_during_covid_19\",\"params\":{},\"type\":\"covid\"},{\"identifier\":\"virtual_estimates_during_covid_19\",\"params\":{},\"type\":\"covid\"},{\"identifier\":\"curbside_pickup_during_covid_19\",\"params\":{},\"type\":\"covid\"}]',\n",
       " '[{\"identifier\":\"gift_cards_during_covid_19\",\"params\":{},\"type\":\"covid\"},{\"identifier\":\"virtual_estimates_during_covid_19\",\"params\":{},\"type\":\"covid\"},{\"identifier\":\"certified_professionals\",\"params\":{},\"type\":\"features\"},{\"identifier\":\"available_by_appointment\",\"params\":{},\"type\":\"availability\"},{\"identifier\":\"free_consultations\",\"params\":{},\"type\":\"estimates\"},{\"identifier\":\"discounts_available\",\"params\":{},\"type\":\"pricing\"}]',\n",
       " '[{\"identifier\":\"family_owned_operated\",\"params\":{},\"type\":\"features\"},{\"identifier\":\"locally_owned_operated\",\"params\":{},\"type\":\"features\"},{\"identifier\":\"mobile_services_during_covid_19\",\"params\":{},\"type\":\"covid\"},{\"identifier\":\"certified_professionals\",\"params\":{},\"type\":\"features\"},{\"identifier\":\"speaks_spanish\",\"params\":{},\"type\":\"features\"},{\"identifier\":\"women_owned_operated\",\"params\":{},\"type\":\"features\"}]',\n",
       " '[{\"identifier\":\"years_in_business\",\"params\":{\"year\":\"22\"},\"type\":\"features\"},{\"identifier\":\"locally_owned_operated\",\"params\":{},\"type\":\"features\"},{\"identifier\":\"veteran_owned_operated\",\"params\":{},\"type\":\"features\"},{\"identifier\":\"certified_professionals\",\"params\":{},\"type\":\"features\"},{\"identifier\":\"lgbtq_friendly\",\"params\":{},\"type\":\"crowd\"},{\"identifier\":\"virtual_estimates_during_covid_19\",\"params\":{},\"type\":\"covid\"}]',\n",
       " '[{\"identifier\":\"delivery_during_covid_19\",\"params\":{},\"type\":\"covid\"},{\"identifier\":\"happy_hour_specials\",\"params\":{},\"type\":\"dining_options\"},{\"identifier\":\"full_bar\",\"params\":{},\"type\":\"dining_options\"},{\"identifier\":\"family_owned_operated\",\"params\":{},\"type\":\"features\"},{\"identifier\":\"outdoor_seating_sponsored\",\"params\":{},\"type\":\"amenities\"},{\"identifier\":\"kid_friendly\",\"params\":{},\"type\":\"crowd\"}]',\n",
       " '[{\"identifier\":\"gift_cards_during_covid_19\",\"params\":{},\"type\":\"covid\"},{\"identifier\":\"curbside_pickup_during_covid_19\",\"params\":{},\"type\":\"covid\"},{\"identifier\":\"takeout_during_covid_19\",\"params\":{},\"type\":\"covid\"},{\"identifier\":\"grab_and_go\",\"params\":{},\"type\":\"dining_options\"},{\"identifier\":\"established_in\",\"params\":{\"year\":\"1964\"},\"type\":\"features\"}]',\n",
       " '[{\"identifier\":\"family_owned_operated\",\"params\":{},\"type\":\"features\"},{\"identifier\":\"kid_friendly\",\"params\":{},\"type\":\"crowd\"},{\"identifier\":\"takeout_during_covid_19\",\"params\":{},\"type\":\"covid\"},{\"identifier\":\"delivery_during_covid_19\",\"params\":{},\"type\":\"covid\"},{\"identifier\":\"gluten_free_friendly\",\"params\":{},\"type\":\"dining_options\"},{\"identifier\":\"gift_cards_during_covid_19\",\"params\":{},\"type\":\"covid\"}]',\n",
       " '[{\"identifier\":\"takeout_during_covid_19\",\"params\":{},\"type\":\"covid\"},{\"identifier\":\"curbside_pickup_during_covid_19\",\"params\":{},\"type\":\"covid\"},{\"identifier\":\"delivery_during_covid_19\",\"params\":{},\"type\":\"covid\"},{\"identifier\":\"gift_cards_during_covid_19\",\"params\":{},\"type\":\"covid\"},{\"identifier\":\"gluten_free_friendly\",\"params\":{},\"type\":\"dining_options\"},{\"identifier\":\"curbside_drop_off_during_covid_19\",\"params\":{},\"type\":\"covid\"}]',\n",
       " '[{\"identifier\":\"takeout_during_covid_19\",\"params\":{},\"type\":\"covid\"},{\"identifier\":\"locally_sourced_ingredients\",\"params\":{},\"type\":\"dining_options\"},{\"identifier\":\"healthy_dining\",\"params\":{},\"type\":\"dining_options\"},{\"identifier\":\"vegetarian_friendly\",\"params\":{},\"type\":\"dining_options\"},{\"identifier\":\"catering_service\",\"params\":{},\"type\":\"dining_options\"},{\"identifier\":\"casual_dining\",\"params\":{},\"type\":\"ambiance\"}]',\n",
       " '[{\"identifier\":\"curbside_pickup_during_covid_19\",\"params\":{},\"type\":\"covid\"},{\"identifier\":\"delivery_during_covid_19\",\"params\":{},\"type\":\"covid\"},{\"identifier\":\"takeout_during_covid_19\",\"params\":{},\"type\":\"covid\"},{\"identifier\":\"curbside_drop_off_during_covid_19\",\"params\":{},\"type\":\"covid\"},{\"identifier\":\"catering_service\",\"params\":{},\"type\":\"dining_options\"},{\"identifier\":\"grab_and_go\",\"params\":{},\"type\":\"dining_options\"}]',\n",
       " '[{\"identifier\":\"online_classes_during_covid_19\",\"params\":{},\"type\":\"covid\"},{\"identifier\":\"remote_services_during_covid_19\",\"params\":{},\"type\":\"covid\"},{\"identifier\":\"established_in\",\"params\":{\"year\":\"2007\"},\"type\":\"features\"}]',\n",
       " '[{\"identifier\":\"delivery_during_covid_19\",\"params\":{},\"type\":\"covid\"},{\"identifier\":\"takeout_during_covid_19\",\"params\":{},\"type\":\"covid\"},{\"identifier\":\"curbside_pickup_during_covid_19\",\"params\":{},\"type\":\"covid\"},{\"identifier\":\"catering_service\",\"params\":{},\"type\":\"dining_options\"},{\"identifier\":\"years_in_business\",\"params\":{\"year\":\"33\"},\"type\":\"features\"},{\"identifier\":\"family_owned_operated\",\"params\":{},\"type\":\"features\"}]',\n",
       " '[{\"identifier\":\"delivery_during_covid_19\",\"params\":{},\"type\":\"covid\"},{\"identifier\":\"takeout_during_covid_19\",\"params\":{},\"type\":\"covid\"},{\"identifier\":\"vegetarian_friendly\",\"params\":{},\"type\":\"dining_options\"},{\"identifier\":\"healthy_dining\",\"params\":{},\"type\":\"dining_options\"},{\"identifier\":\"takes_reservations\",\"params\":{},\"type\":\"dining_options\"}]',\n",
       " '[{\"identifier\":\"delivery_during_covid_19\",\"params\":{},\"type\":\"covid\"},{\"identifier\":\"takeout_during_covid_19\",\"params\":{},\"type\":\"covid\"},{\"identifier\":\"online_classes_during_covid_19\",\"params\":{},\"type\":\"covid\"},{\"identifier\":\"vegetarian_friendly\",\"params\":{},\"type\":\"dining_options\"},{\"identifier\":\"gluten_free_friendly\",\"params\":{},\"type\":\"dining_options\"},{\"identifier\":\"family_owned_operated\",\"params\":{},\"type\":\"features\"}]',\n",
       " '[{\"identifier\":\"delivery_during_covid_19\",\"params\":{},\"type\":\"covid\"},{\"identifier\":\"locally_sourced_ingredients\",\"params\":{},\"type\":\"dining_options\"},{\"identifier\":\"vegetarian_friendly\",\"params\":{},\"type\":\"dining_options\"},{\"identifier\":\"vegan_friendly\",\"params\":{},\"type\":\"dining_options\"},{\"identifier\":\"gluten_free_friendly\",\"params\":{},\"type\":\"dining_options\"},{\"identifier\":\"family_owned_operated\",\"params\":{},\"type\":\"features\"}]',\n",
       " '[{\"identifier\":\"gift_cards_during_covid_19\",\"params\":{},\"type\":\"covid\"},{\"identifier\":\"delivery_during_covid_19\",\"params\":{},\"type\":\"covid\"},{\"identifier\":\"curbside_pickup_during_covid_19\",\"params\":{},\"type\":\"covid\"}]',\n",
       " '[{\"identifier\":\"delivery_during_covid_19\",\"params\":{},\"type\":\"covid\"},{\"identifier\":\"curbside_pickup_during_covid_19\",\"params\":{},\"type\":\"covid\"},{\"identifier\":\"takeout_during_covid_19\",\"params\":{},\"type\":\"covid\"},{\"identifier\":\"grab_and_go\",\"params\":{},\"type\":\"dining_options\"},{\"identifier\":\"casual_dining\",\"params\":{},\"type\":\"ambiance\"},{\"identifier\":\"locally_owned_operated\",\"params\":{},\"type\":\"features\"}]',\n",
       " '[{\"identifier\":\"mobile_services_during_covid_19\",\"params\":{},\"type\":\"covid\"},{\"identifier\":\"years_in_business\",\"params\":{\"year\":\"25\"},\"type\":\"features\"},{\"identifier\":\"certified_professionals\",\"params\":{},\"type\":\"features\"},{\"identifier\":\"available_by_appointment\",\"params\":{},\"type\":\"availability\"},{\"identifier\":\"free_parking\",\"params\":{},\"type\":\"amenities\"},{\"identifier\":\"fixed_pricing\",\"params\":{},\"type\":\"pricing\"}]',\n",
       " '[{\"identifier\":\"delivery_during_covid_19\",\"params\":{},\"type\":\"covid\"},{\"identifier\":\"takeout_during_covid_19\",\"params\":{},\"type\":\"covid\"},{\"identifier\":\"curbside_pickup_during_covid_19\",\"params\":{},\"type\":\"covid\"},{\"identifier\":\"healthy_dining\",\"params\":{},\"type\":\"dining_options\"},{\"identifier\":\"grab_and_go\",\"params\":{},\"type\":\"dining_options\"},{\"identifier\":\"catering_service\",\"params\":{},\"type\":\"dining_options\"}]',\n",
       " '[{\"identifier\":\"curbside_pickup_during_covid_19\",\"params\":{},\"type\":\"covid\"},{\"identifier\":\"takeout_during_covid_19\",\"params\":{},\"type\":\"covid\"},{\"identifier\":\"healthy_dining\",\"params\":{},\"type\":\"dining_options\"},{\"identifier\":\"vegetarian_friendly\",\"params\":{},\"type\":\"dining_options\"},{\"identifier\":\"years_in_business\",\"params\":{\"year\":\"15\"},\"type\":\"features\"},{\"identifier\":\"locally_owned_operated\",\"params\":{},\"type\":\"features\"}]',\n",
       " '[{\"identifier\":\"curbside_pickup_during_covid_19\",\"params\":{},\"type\":\"covid\"},{\"identifier\":\"delivery_during_covid_19\",\"params\":{},\"type\":\"covid\"},{\"identifier\":\"locally_sourced_ingredients\",\"params\":{},\"type\":\"dining_options\"},{\"identifier\":\"vegetarian_friendly\",\"params\":{},\"type\":\"dining_options\"},{\"identifier\":\"gluten_free_friendly\",\"params\":{},\"type\":\"dining_options\"},{\"identifier\":\"healthy_dining\",\"params\":{},\"type\":\"dining_options\"}]',\n",
       " '[{\"identifier\":\"curbside_pickup_during_covid_19\",\"params\":{},\"type\":\"covid\"},{\"identifier\":\"gift_cards_during_covid_19\",\"params\":{},\"type\":\"covid\"},{\"identifier\":\"takeout_during_covid_19\",\"params\":{},\"type\":\"covid\"},{\"identifier\":\"delivery_during_covid_19\",\"params\":{},\"type\":\"covid\"},{\"identifier\":\"vegetarian_friendly\",\"params\":{},\"type\":\"dining_options\"},{\"identifier\":\"gluten_free_friendly\",\"params\":{},\"type\":\"dining_options\"}]',\n",
       " '[{\"identifier\":\"curbside_pickup_during_covid_19\",\"params\":{},\"type\":\"covid\"},{\"identifier\":\"family_owned_operated\",\"params\":{},\"type\":\"features\"},{\"identifier\":\"gift_cards_during_covid_19\",\"params\":{},\"type\":\"covid\"},{\"identifier\":\"years_in_business\",\"params\":{\"year\":\"20\"},\"type\":\"features\"},{\"identifier\":\"locally_owned_operated\",\"params\":{},\"type\":\"features\"},{\"identifier\":\"walk_ins_welcome\",\"params\":{},\"type\":\"availability\"}]',\n",
       " '[{\"identifier\":\"virtual_estimates_during_covid_19\",\"params\":{},\"type\":\"covid\"},{\"identifier\":\"years_in_business\",\"params\":{\"year\":\"24\"},\"type\":\"features\"},{\"identifier\":\"family_owned_operated\",\"params\":{},\"type\":\"features\"},{\"identifier\":\"free_consultations\",\"params\":{},\"type\":\"estimates\"}]',\n",
       " '[{\"identifier\":\"curbside_pickup_during_covid_19\",\"params\":{},\"type\":\"covid\"},{\"identifier\":\"takeout_during_covid_19\",\"params\":{},\"type\":\"covid\"},{\"identifier\":\"delivery_during_covid_19\",\"params\":{},\"type\":\"covid\"},{\"identifier\":\"grab_and_go\",\"params\":{},\"type\":\"dining_options\"},{\"identifier\":\"healthy_dining\",\"params\":{},\"type\":\"dining_options\"},{\"identifier\":\"discounts_available\",\"params\":{},\"type\":\"pricing\"}]',\n",
       " '[{\"identifier\":\"years_in_business\",\"params\":{\"year\":\"16\"},\"type\":\"features\"},{\"identifier\":\"results_guaranteed\",\"params\":{},\"type\":\"guarantees\"},{\"identifier\":\"free_consultations\",\"params\":{},\"type\":\"estimates\"},{\"identifier\":\"certified_professionals\",\"params\":{},\"type\":\"features\"},{\"identifier\":\"references_available\",\"params\":{},\"type\":\"guarantees\"},{\"identifier\":\"virtual_estimates_during_covid_19\",\"params\":{},\"type\":\"covid\"}]',\n",
       " '[{\"identifier\":\"delivery_during_covid_19\",\"params\":{},\"type\":\"covid\"},{\"identifier\":\"gluten_free_friendly\",\"params\":{},\"type\":\"dining_options\"},{\"identifier\":\"healthy_dining\",\"params\":{},\"type\":\"dining_options\"},{\"identifier\":\"catering_service\",\"params\":{},\"type\":\"dining_options\"},{\"identifier\":\"minority_owned_operated\",\"params\":{},\"type\":\"features\"},{\"identifier\":\"satisfaction_guaranteed\",\"params\":{},\"type\":\"guarantees\"}]',\n",
       " '[{\"identifier\":\"curbside_pickup_during_covid_19\",\"params\":{},\"type\":\"covid\"},{\"identifier\":\"takeout_during_covid_19\",\"params\":{},\"type\":\"covid\"},{\"identifier\":\"delivery_during_covid_19\",\"params\":{},\"type\":\"covid\"},{\"identifier\":\"vegetarian_friendly\",\"params\":{},\"type\":\"dining_options\"},{\"identifier\":\"gluten_free_friendly\",\"params\":{},\"type\":\"dining_options\"},{\"identifier\":\"locally_sourced_ingredients\",\"params\":{},\"type\":\"dining_options\"}]',\n",
       " '[{\"identifier\":\"delivery_during_covid_19\",\"params\":{},\"type\":\"covid\"},{\"identifier\":\"drive_thru_during_covid_19\",\"params\":{},\"type\":\"covid\"},{\"identifier\":\"takeout_during_covid_19\",\"params\":{},\"type\":\"covid\"},{\"identifier\":\"grab_and_go\",\"params\":{},\"type\":\"dining_options\"},{\"identifier\":\"healthy_dining\",\"params\":{},\"type\":\"dining_options\"},{\"identifier\":\"drive_thru\",\"params\":{},\"type\":\"amenities\"}]',\n",
       " '[{\"identifier\":\"takeout_during_covid_19\",\"params\":{},\"type\":\"covid\"},{\"identifier\":\"curbside_pickup_during_covid_19\",\"params\":{},\"type\":\"covid\"},{\"identifier\":\"women_owned_operated\",\"params\":{},\"type\":\"features\"},{\"identifier\":\"casual_dining\",\"params\":{},\"type\":\"ambiance\"},{\"identifier\":\"catering_service\",\"params\":{},\"type\":\"dining_options\"},{\"identifier\":\"healthy_dining\",\"params\":{},\"type\":\"dining_options\"}]',\n",
       " '[{\"identifier\":\"locally_owned_operated\",\"params\":{},\"type\":\"features\"},{\"identifier\":\"happy_hour_specials\",\"params\":{},\"type\":\"dining_options\"},{\"identifier\":\"locally_sourced_ingredients\",\"params\":{},\"type\":\"dining_options\"},{\"identifier\":\"grab_and_go\",\"params\":{},\"type\":\"dining_options\"},{\"identifier\":\"takeout_during_covid_19\",\"params\":{},\"type\":\"covid\"},{\"identifier\":\"curbside_drop_off_during_covid_19\",\"params\":{},\"type\":\"covid\"},{\"identifier\":\"locally_owned_operated\",\"params\":{},\"type\":\"features\"},{\"identifier\":\"happy_hour_specials\",\"params\":{},\"type\":\"dining_options\"},{\"identifier\":\"locally_sourced_ingredients\",\"params\":{},\"type\":\"dining_options\"},{\"identifier\":\"grab_and_go\",\"params\":{},\"type\":\"dining_options\"},{\"identifier\":\"takeout_during_covid_19\",\"params\":{},\"type\":\"covid\"},{\"identifier\":\"curbside_drop_off_during_covid_19\",\"params\":{},\"type\":\"covid\"}]',\n",
       " '[{\"identifier\":\"gift_cards_during_covid_19\",\"params\":{},\"type\":\"covid\"},{\"identifier\":\"shipping_during_covid_19\",\"params\":{},\"type\":\"covid\"},{\"identifier\":\"virtual_estimates_during_covid_19\",\"params\":{},\"type\":\"covid\"},{\"identifier\":\"locally_owned_operated\",\"params\":{},\"type\":\"features\"},{\"identifier\":\"women_owned_operated\",\"params\":{},\"type\":\"features\"},{\"identifier\":\"available_by_appointment\",\"params\":{},\"type\":\"availability\"}]',\n",
       " '[{\"identifier\":\"takeout_during_covid_19\",\"params\":{},\"type\":\"covid\"},{\"identifier\":\"curbside_pickup_during_covid_19\",\"params\":{},\"type\":\"covid\"},{\"identifier\":\"full_bar\",\"params\":{},\"type\":\"dining_options\"},{\"identifier\":\"happy_hour_specials\",\"params\":{},\"type\":\"dining_options\"},{\"identifier\":\"romantic_vibe\",\"params\":{},\"type\":\"ambiance\"},{\"identifier\":\"locally_owned_operated\",\"params\":{},\"type\":\"features\"}]',\n",
       " '[{\"identifier\":\"curbside_pickup_during_covid_19\",\"params\":{},\"type\":\"covid\"},{\"identifier\":\"takeout_during_covid_19\",\"params\":{},\"type\":\"covid\"},{\"identifier\":\"catering_service\",\"params\":{},\"type\":\"dining_options\"},{\"identifier\":\"locally_owned_operated\",\"params\":{},\"type\":\"features\"},{\"identifier\":\"private_events\",\"params\":{},\"type\":\"amenities\"},{\"identifier\":\"gluten_free_friendly\",\"params\":{},\"type\":\"dining_options\"}]',\n",
       " '[{\"identifier\":\"gift_cards_during_covid_19\",\"params\":{},\"type\":\"covid\"},{\"identifier\":\"takeout_during_covid_19\",\"params\":{},\"type\":\"covid\"},{\"identifier\":\"delivery_during_covid_19\",\"params\":{},\"type\":\"covid\"},{\"identifier\":\"vegan_friendly\",\"params\":{},\"type\":\"dining_options\"},{\"identifier\":\"healthy_dining\",\"params\":{},\"type\":\"dining_options\"},{\"identifier\":\"kosher\",\"params\":{},\"type\":\"dining_options\"}]',\n",
       " '[{\"identifier\":\"catering_service\",\"params\":{},\"type\":\"dining_options\"},{\"identifier\":\"years_in_business\",\"params\":{\"year\":\"4\"},\"type\":\"features\"},{\"identifier\":\"gluten_free_friendly\",\"params\":{},\"type\":\"dining_options\"},{\"identifier\":\"gift_cards_during_covid_19\",\"params\":{},\"type\":\"covid\"},{\"identifier\":\"delivery_during_covid_19\",\"params\":{},\"type\":\"covid\"},{\"identifier\":\"shipping_during_covid_19\",\"params\":{},\"type\":\"covid\"}]',\n",
       " '[{\"identifier\":\"delivery_during_covid_19\",\"params\":{},\"type\":\"covid\"},{\"identifier\":\"takeout_during_covid_19\",\"params\":{},\"type\":\"covid\"},{\"identifier\":\"catering_service\",\"params\":{},\"type\":\"dining_options\"},{\"identifier\":\"vegetarian_friendly\",\"params\":{},\"type\":\"dining_options\"},{\"identifier\":\"vegan_friendly\",\"params\":{},\"type\":\"dining_options\"},{\"identifier\":\"gluten_free_friendly\",\"params\":{},\"type\":\"dining_options\"}]',\n",
       " '[{\"identifier\":\"gift_cards_during_covid_19\",\"params\":{},\"type\":\"covid\"},{\"identifier\":\"takeout_during_covid_19\",\"params\":{},\"type\":\"covid\"},{\"identifier\":\"vegetarian_friendly\",\"params\":{},\"type\":\"dining_options\"},{\"identifier\":\"vegan_friendly\",\"params\":{},\"type\":\"dining_options\"},{\"identifier\":\"gluten_free_friendly\",\"params\":{},\"type\":\"dining_options\"},{\"identifier\":\"full_bar\",\"params\":{},\"type\":\"dining_options\"}]',\n",
       " '[{\"identifier\":\"delivery_during_covid_19\",\"params\":{},\"type\":\"covid\"},{\"identifier\":\"locally_owned_operated\",\"params\":{},\"type\":\"features\"},{\"identifier\":\"satisfaction_guaranteed\",\"params\":{},\"type\":\"guarantees\"}]',\n",
       " '[{\"identifier\":\"pet_friendly\",\"params\":{},\"type\":\"crowd\"},{\"identifier\":\"speaks_spanish\",\"params\":{},\"type\":\"features\"},{\"identifier\":\"certified_professionals\",\"params\":{},\"type\":\"features\"},{\"identifier\":\"years_in_business\",\"params\":{\"year\":\"10\"},\"type\":\"features\"},{\"identifier\":\"virtual_estimates_during_covid_19\",\"params\":{},\"type\":\"covid\"},{\"identifier\":\"free_estimates\",\"params\":{},\"type\":\"estimates\"}]',\n",
       " '[{\"identifier\":\"virtual_estimates_during_covid_19\",\"params\":{},\"type\":\"covid\"},{\"identifier\":\"vegetarian_friendly\",\"params\":{},\"type\":\"dining_options\"},{\"identifier\":\"vegan_friendly\",\"params\":{},\"type\":\"dining_options\"},{\"identifier\":\"gluten_free_friendly\",\"params\":{},\"type\":\"dining_options\"},{\"identifier\":\"happy_hour_specials\",\"params\":{},\"type\":\"dining_options\"},{\"identifier\":\"halal\",\"params\":{},\"type\":\"dining_options\"}]',\n",
       " '[{\"identifier\":\"gift_cards_during_covid_19\",\"params\":{},\"type\":\"covid\"},{\"identifier\":\"delivery_during_covid_19\",\"params\":{},\"type\":\"covid\"},{\"identifier\":\"curbside_pickup_during_covid_19\",\"params\":{},\"type\":\"covid\"},{\"identifier\":\"takeout_during_covid_19\",\"params\":{},\"type\":\"covid\"},{\"identifier\":\"gluten_free_friendly\",\"params\":{},\"type\":\"dining_options\"},{\"identifier\":\"vegetarian_friendly\",\"params\":{},\"type\":\"dining_options\"}]',\n",
       " '[{\"identifier\":\"remote_services_during_covid_19\",\"params\":{},\"type\":\"covid\"},{\"identifier\":\"curbside_pickup_during_covid_19\",\"params\":{},\"type\":\"covid\"},{\"identifier\":\"family_owned_operated\",\"params\":{},\"type\":\"features\"},{\"identifier\":\"available_by_appointment\",\"params\":{},\"type\":\"availability\"},{\"identifier\":\"luxury\",\"params\":{},\"type\":\"features\"},{\"identifier\":\"offers_payment_plans\",\"params\":{},\"type\":\"pricing\"}]',\n",
       " '[{\"identifier\":\"curbside_pickup_during_covid_19\",\"params\":{},\"type\":\"covid\"},{\"identifier\":\"delivery_during_covid_19\",\"params\":{},\"type\":\"covid\"},{\"identifier\":\"virtual_estimates_during_covid_19\",\"params\":{},\"type\":\"covid\"},{\"identifier\":\"years_in_business\",\"params\":{\"year\":\"27\"},\"type\":\"features\"},{\"identifier\":\"locally_owned_operated\",\"params\":{},\"type\":\"features\"},{\"identifier\":\"speaks_spanish\",\"params\":{},\"type\":\"features\"}]',\n",
       " '[{\"identifier\":\"curbside_pickup_during_covid_19\",\"params\":{},\"type\":\"covid\"},{\"identifier\":\"takeout_during_covid_19\",\"params\":{},\"type\":\"covid\"},{\"identifier\":\"established_in\",\"params\":{\"year\":\"2020\"},\"type\":\"features\"},{\"identifier\":\"family_owned_operated\",\"params\":{},\"type\":\"features\"},{\"identifier\":\"speaks_mandarin\",\"params\":{},\"type\":\"features\"}]',\n",
       " '[{\"identifier\":\"virtual_estimates_during_covid_19\",\"params\":{},\"type\":\"covid\"},{\"identifier\":\"years_in_business\",\"params\":{\"year\":\"17\"},\"type\":\"features\"},{\"identifier\":\"certified_professionals\",\"params\":{},\"type\":\"features\"},{\"identifier\":\"offers_customized_solutions\",\"params\":{},\"type\":\"features\"},{\"identifier\":\"locally_owned_operated\",\"params\":{},\"type\":\"features\"},{\"identifier\":\"speaks_spanish\",\"params\":{},\"type\":\"features\"}]',\n",
       " '[{\"identifier\":\"takeout_during_covid_19\",\"params\":{},\"type\":\"covid\"},{\"identifier\":\"catering_service\",\"params\":{},\"type\":\"dining_options\"},{\"identifier\":\"free_parking\",\"params\":{},\"type\":\"amenities\"},{\"identifier\":\"wheelchair_accessible\",\"params\":{},\"type\":\"amenities\"},{\"identifier\":\"free_wifi\",\"params\":{},\"type\":\"amenities\"}]',\n",
       " '[{\"identifier\":\"takeout_during_covid_19\",\"params\":{},\"type\":\"covid\"},{\"identifier\":\"curbside_pickup_during_covid_19\",\"params\":{},\"type\":\"covid\"},{\"identifier\":\"gift_cards_during_covid_19\",\"params\":{},\"type\":\"covid\"},{\"identifier\":\"outdoor_seating_sponsored\",\"params\":{},\"type\":\"amenities\"},{\"identifier\":\"pet_friendly\",\"params\":{},\"type\":\"crowd\"},{\"identifier\":\"online_classes_during_covid_19\",\"params\":{},\"type\":\"covid\"}]',\n",
       " '[{\"identifier\":\"delivery_during_covid_19\",\"params\":{},\"type\":\"covid\"},{\"identifier\":\"curbside_pickup_during_covid_19\",\"params\":{},\"type\":\"covid\"},{\"identifier\":\"takeout_during_covid_19\",\"params\":{},\"type\":\"covid\"},{\"identifier\":\"takes_reservations\",\"params\":{},\"type\":\"dining_options\"},{\"identifier\":\"locally_owned_operated\",\"params\":{},\"type\":\"features\"},{\"identifier\":\"happy_hour_specials\",\"params\":{},\"type\":\"dining_options\"}]',\n",
       " '[{\"identifier\":\"delivery_during_covid_19\",\"params\":{},\"type\":\"covid\"},{\"identifier\":\"curbside_pickup_during_covid_19\",\"params\":{},\"type\":\"covid\"},{\"identifier\":\"takeout_during_covid_19\",\"params\":{},\"type\":\"covid\"},{\"identifier\":\"gift_cards_during_covid_19\",\"params\":{},\"type\":\"covid\"},{\"identifier\":\"vegetarian_friendly\",\"params\":{},\"type\":\"dining_options\"},{\"identifier\":\"vegan_friendly\",\"params\":{},\"type\":\"dining_options\"}]',\n",
       " '[{\"identifier\":\"curbside_pickup_during_covid_19\",\"params\":{},\"type\":\"covid\"},{\"identifier\":\"delivery_during_covid_19\",\"params\":{},\"type\":\"covid\"},{\"identifier\":\"kid_friendly\",\"params\":{},\"type\":\"crowd\"},{\"identifier\":\"grab_and_go\",\"params\":{},\"type\":\"dining_options\"},{\"identifier\":\"casual_dining\",\"params\":{},\"type\":\"ambiance\"},{\"identifier\":\"kitchen_open_late\",\"params\":{},\"type\":\"dining_options\"}]',\n",
       " '[{\"identifier\":\"certified_professionals\",\"params\":{},\"type\":\"features\"},{\"identifier\":\"free_estimates\",\"params\":{},\"type\":\"estimates\"},{\"identifier\":\"free_consultations\",\"params\":{},\"type\":\"estimates\"},{\"identifier\":\"parts_labor_guaranteed\",\"params\":{},\"type\":\"guarantees\"},{\"identifier\":\"virtual_estimates_during_covid_19\",\"params\":{},\"type\":\"covid\"},{\"identifier\":\"available_by_appointment\",\"params\":{},\"type\":\"availability\"}]',\n",
       " '[{\"identifier\":\"gift_cards_during_covid_19\",\"params\":{},\"type\":\"covid\"},{\"identifier\":\"curbside_pickup_during_covid_19\",\"params\":{},\"type\":\"covid\"},{\"identifier\":\"takeout_during_covid_19\",\"params\":{},\"type\":\"covid\"},{\"identifier\":\"grab_and_go\",\"params\":{},\"type\":\"dining_options\"},{\"identifier\":\"full_bar\",\"params\":{},\"type\":\"dining_options\"},{\"identifier\":\"family_owned_operated\",\"params\":{},\"type\":\"features\"}]',\n",
       " '[{\"identifier\":\"curbside_pickup_during_covid_19\",\"params\":{},\"type\":\"covid\"},{\"identifier\":\"delivery_during_covid_19\",\"params\":{},\"type\":\"covid\"},{\"identifier\":\"takeout_during_covid_19\",\"params\":{},\"type\":\"covid\"},{\"identifier\":\"vegetarian_friendly\",\"params\":{},\"type\":\"dining_options\"},{\"identifier\":\"casual_dining\",\"params\":{},\"type\":\"ambiance\"},{\"identifier\":\"family_owned_operated\",\"params\":{},\"type\":\"features\"}]',\n",
       " '[{\"identifier\":\"remote_services_during_covid_19\",\"params\":{},\"type\":\"covid\"},{\"identifier\":\"offers_customized_solutions\",\"params\":{},\"type\":\"features\"},{\"identifier\":\"available_by_appointment\",\"params\":{},\"type\":\"availability\"},{\"identifier\":\"years_in_business\",\"params\":{\"year\":\"11\"},\"type\":\"features\"},{\"identifier\":\"women_owned_operated\",\"params\":{},\"type\":\"features\"},{\"identifier\":\"certified_professionals\",\"params\":{},\"type\":\"features\"}]',\n",
       " '[{\"identifier\":\"free_consultations\",\"params\":{},\"type\":\"estimates\"},{\"identifier\":\"available_by_appointment\",\"params\":{},\"type\":\"availability\"},{\"identifier\":\"offers_customized_solutions\",\"params\":{},\"type\":\"features\"},{\"identifier\":\"remote_services_during_covid_19\",\"params\":{},\"type\":\"covid\"},{\"identifier\":\"virtual_estimates_during_covid_19\",\"params\":{},\"type\":\"covid\"},{\"identifier\":\"references_available\",\"params\":{},\"type\":\"guarantees\"}]',\n",
       " '[{\"identifier\":\"catering_service\",\"params\":{},\"type\":\"dining_options\"},{\"identifier\":\"gluten_free_friendly\",\"params\":{},\"type\":\"dining_options\"},{\"identifier\":\"locally_owned_operated\",\"params\":{},\"type\":\"features\"},{\"identifier\":\"certified_professionals\",\"params\":{},\"type\":\"features\"},{\"identifier\":\"curbside_pickup_during_covid_19\",\"params\":{},\"type\":\"covid\"},{\"identifier\":\"vegetarian_friendly\",\"params\":{},\"type\":\"dining_options\"}]',\n",
       " '[{\"identifier\":\"takeout_during_covid_19\",\"params\":{},\"type\":\"covid\"},{\"identifier\":\"delivery_during_covid_19\",\"params\":{},\"type\":\"covid\"},{\"identifier\":\"curbside_pickup_during_covid_19\",\"params\":{},\"type\":\"covid\"},{\"identifier\":\"gift_cards_during_covid_19\",\"params\":{},\"type\":\"covid\"},{\"identifier\":\"established_in\",\"params\":{\"year\":\"1971\"},\"type\":\"features\"}]',\n",
       " '[{\"identifier\":\"mobile_services_during_covid_19\",\"params\":{},\"type\":\"covid\"},{\"identifier\":\"satisfaction_guaranteed\",\"params\":{},\"type\":\"guarantees\"},{\"identifier\":\"established_in\",\"params\":{\"year\":\"2011\"},\"type\":\"features\"},{\"identifier\":\"locally_owned_operated\",\"params\":{},\"type\":\"features\"},{\"identifier\":\"eco_friendly\",\"params\":{},\"type\":\"features\"},{\"identifier\":\"offers_commercial_services\",\"params\":{},\"type\":\"features\"}]',\n",
       " '[{\"identifier\":\"takeout_during_covid_19\",\"params\":{},\"type\":\"covid\"},{\"identifier\":\"curbside_pickup_during_covid_19\",\"params\":{},\"type\":\"covid\"},{\"identifier\":\"gift_cards_during_covid_19\",\"params\":{},\"type\":\"covid\"},{\"identifier\":\"family_owned_operated\",\"params\":{},\"type\":\"features\"}]',\n",
       " '[{\"identifier\":\"takeout_during_covid_19\",\"params\":{},\"type\":\"covid\"},{\"identifier\":\"delivery_during_covid_19\",\"params\":{},\"type\":\"covid\"},{\"identifier\":\"curbside_pickup_during_covid_19\",\"params\":{},\"type\":\"covid\"},{\"identifier\":\"curbside_drop_off_during_covid_19\",\"params\":{},\"type\":\"covid\"},{\"identifier\":\"gift_cards_during_covid_19\",\"params\":{},\"type\":\"covid\"},{\"identifier\":\"years_in_business\",\"params\":{\"year\":\"33\"},\"type\":\"features\"}]',\n",
       " '[{\"identifier\":\"happy_hour_specials\",\"params\":{},\"type\":\"dining_options\"},{\"identifier\":\"casual_dining\",\"params\":{},\"type\":\"ambiance\"},{\"identifier\":\"years_in_business\",\"params\":{\"year\":\"12\"},\"type\":\"features\"},{\"identifier\":\"family_owned_operated\",\"params\":{},\"type\":\"features\"},{\"identifier\":\"outdoor_seating_sponsored\",\"params\":{},\"type\":\"amenities\"},{\"identifier\":\"takeout_during_covid_19\",\"params\":{},\"type\":\"covid\"}]',\n",
       " '[{\"identifier\":\"mobile_services_during_covid_19\",\"params\":{},\"type\":\"covid\"},{\"identifier\":\"luxury\",\"params\":{},\"type\":\"features\"},{\"identifier\":\"available_by_appointment\",\"params\":{},\"type\":\"availability\"},{\"identifier\":\"certified_professionals\",\"params\":{},\"type\":\"features\"},{\"identifier\":\"satisfaction_guaranteed\",\"params\":{},\"type\":\"guarantees\"},{\"identifier\":\"family_owned_operated\",\"params\":{},\"type\":\"features\"}]',\n",
       " '[{\"identifier\":\"grab_and_go\",\"params\":{},\"type\":\"dining_options\"},{\"identifier\":\"locally_sourced_ingredients\",\"params\":{},\"type\":\"dining_options\"},{\"identifier\":\"free_wifi\",\"params\":{},\"type\":\"amenities\"},{\"identifier\":\"kid_friendly\",\"params\":{},\"type\":\"crowd\"},{\"identifier\":\"takeout_during_covid_19\",\"params\":{},\"type\":\"covid\"}]',\n",
       " '[{\"identifier\":\"family_owned_operated\",\"params\":{},\"type\":\"features\"},{\"identifier\":\"delivery_during_covid_19\",\"params\":{},\"type\":\"covid\"},{\"identifier\":\"certified_professionals\",\"params\":{},\"type\":\"features\"}]',\n",
       " '[{\"identifier\":\"satisfaction_guaranteed\",\"params\":{},\"type\":\"guarantees\"},{\"identifier\":\"free_estimates\",\"params\":{},\"type\":\"estimates\"},{\"identifier\":\"virtual_estimates_during_covid_19\",\"params\":{},\"type\":\"covid\"},{\"identifier\":\"offers_insurance\",\"params\":{},\"type\":\"guarantees\"},{\"identifier\":\"locally_owned_operated\",\"params\":{},\"type\":\"features\"},{\"identifier\":\"luxury\",\"params\":{},\"type\":\"features\"}]',\n",
       " '[{\"identifier\":\"takeout_during_covid_19\",\"params\":{},\"type\":\"covid\"},{\"identifier\":\"curbside_pickup_during_covid_19\",\"params\":{},\"type\":\"covid\"},{\"identifier\":\"delivery_during_covid_19\",\"params\":{},\"type\":\"covid\"},{\"identifier\":\"gift_cards_during_covid_19\",\"params\":{},\"type\":\"covid\"},{\"identifier\":\"family_owned_operated\",\"params\":{},\"type\":\"features\"},{\"identifier\":\"sports_on_tv\",\"params\":{},\"type\":\"amenities\"}]',\n",
       " '[{\"identifier\":\"delivery_during_covid_19\",\"params\":{},\"type\":\"covid\"},{\"identifier\":\"takeout_during_covid_19\",\"params\":{},\"type\":\"covid\"},{\"identifier\":\"curbside_pickup_during_covid_19\",\"params\":{},\"type\":\"covid\"},{\"identifier\":\"happy_hour_specials\",\"params\":{},\"type\":\"dining_options\"},{\"identifier\":\"speaks_spanish\",\"params\":{},\"type\":\"features\"},{\"identifier\":\"family_owned_operated\",\"params\":{},\"type\":\"features\"}]',\n",
       " ...]"
      ]
     },
     "execution_count": 163,
     "metadata": {},
     "output_type": "execute_result"
    }
   ],
   "source": [
    "highlights"
   ]
  },
  {
   "cell_type": "code",
   "execution_count": 167,
   "metadata": {},
   "outputs": [
    {
     "name": "stderr",
     "output_type": "stream",
     "text": [
      "/Users/zhangweiyi/opt/anaconda3/lib/python3.7/site-packages/ipykernel_launcher.py:1: FutureWarning: The signature of `Series.to_csv` was aligned to that of `DataFrame.to_csv`, and argument 'header' will change its default value from False to True: please pass an explicit value to suppress this warning.\n",
      "  \"\"\"Entry point for launching an IPython kernel.\n"
     ]
    }
   ],
   "source": [
    "df_join['Covid Banner'].to_csv(\"covid_banner.csv\")"
   ]
  },
  {
   "cell_type": "code",
   "execution_count": 165,
   "metadata": {},
   "outputs": [
    {
     "ename": "ModuleNotFoundError",
     "evalue": "No module named 'wordcloud'",
     "output_type": "error",
     "traceback": [
      "\u001b[0;31m---------------------------------------------------------------------------\u001b[0m",
      "\u001b[0;31mModuleNotFoundError\u001b[0m                       Traceback (most recent call last)",
      "\u001b[0;32m<ipython-input-165-dc1828f2a80e>\u001b[0m in \u001b[0;36m<module>\u001b[0;34m\u001b[0m\n\u001b[0;32m----> 1\u001b[0;31m \u001b[0;32mimport\u001b[0m \u001b[0mwordcloud\u001b[0m\u001b[0;34m\u001b[0m\u001b[0;34m\u001b[0m\u001b[0m\n\u001b[0m",
      "\u001b[0;31mModuleNotFoundError\u001b[0m: No module named 'wordcloud'"
     ]
    }
   ],
   "source": [
    "import wordcloud"
   ]
  },
  {
   "cell_type": "code",
   "execution_count": 169,
   "metadata": {},
   "outputs": [
    {
     "data": {
      "text/plain": [
       "'FALSE'"
      ]
     },
     "execution_count": 169,
     "metadata": {},
     "output_type": "execute_result"
    }
   ],
   "source": [
    "df_join['Covid Banner'][41]"
   ]
  },
  {
   "cell_type": "code",
   "execution_count": 173,
   "metadata": {},
   "outputs": [],
   "source": [
    "df_join.to_csv(\"whole_business.csv\", index=None)"
   ]
  },
  {
   "cell_type": "code",
   "execution_count": 172,
   "metadata": {},
   "outputs": [
    {
     "data": {
      "text/plain": [
       "business_id                     0\n",
       "highlights                      0\n",
       "delivery or takeout             0\n",
       "Grubhub enabled                 0\n",
       "Call To Action enabled          0\n",
       "Request a Quote Enabled         0\n",
       "Covid Banner                    0\n",
       "Temporary Closed Until          0\n",
       "Virtual Services Offered        0\n",
       "name                            0\n",
       "address                         0\n",
       "city                            0\n",
       "state                           0\n",
       "postal_code                     0\n",
       "latitude                        0\n",
       "longitude                       0\n",
       "stars                           0\n",
       "review_count                    0\n",
       "is_open                         0\n",
       "attributes                  29045\n",
       "categories                    524\n",
       "hours                       44843\n",
       "dtype: int64"
      ]
     },
     "execution_count": 172,
     "metadata": {},
     "output_type": "execute_result"
    }
   ],
   "source": [
    "np.sum(df_join.isna())"
   ]
  },
  {
   "cell_type": "code",
   "execution_count": 175,
   "metadata": {},
   "outputs": [
    {
     "data": {
      "text/plain": [
       "business_id                                            yipHhPQlCBmQnmoe-J3rlQ\n",
       "highlights                                                              FALSE\n",
       "delivery or takeout                                                     FALSE\n",
       "Grubhub enabled                                                         FALSE\n",
       "Call To Action enabled                                                  FALSE\n",
       "Request a Quote Enabled                                                 FALSE\n",
       "Covid Banner                                                                 \n",
       "Temporary Closed Until                                                  FALSE\n",
       "Virtual Services Offered                                                FALSE\n",
       "name                                                   Tony's Cocktail Lounge\n",
       "address                                                    5930 W Greenway Rd\n",
       "city                                                                 Glendale\n",
       "state                                                                      AZ\n",
       "postal_code                                                             85306\n",
       "latitude                                                              33.6267\n",
       "longitude                                                            -112.187\n",
       "stars                                                                       4\n",
       "review_count                                                               37\n",
       "is_open                                                                     1\n",
       "attributes                  {'RestaurantsAttire': 'u'casual'', 'OutdoorSea...\n",
       "categories                  Nightlife, Lounges, Bar Crawl, Bars, Beer Bar,...\n",
       "hours                       {'Monday': '10:0-2:0', 'Tuesday': '10:0-2:0', ...\n",
       "Name: 1963, dtype: object"
      ]
     },
     "execution_count": 175,
     "metadata": {},
     "output_type": "execute_result"
    }
   ],
   "source": [
    "df_join.iloc[1963]"
   ]
  },
  {
   "cell_type": "code",
   "execution_count": null,
   "metadata": {},
   "outputs": [],
   "source": []
  }
 ],
 "metadata": {
  "kernelspec": {
   "display_name": "Python 3",
   "language": "python",
   "name": "python3"
  },
  "language_info": {
   "codemirror_mode": {
    "name": "ipython",
    "version": 3
   },
   "file_extension": ".py",
   "mimetype": "text/x-python",
   "name": "python",
   "nbconvert_exporter": "python",
   "pygments_lexer": "ipython3",
   "version": "3.7.4"
  }
 },
 "nbformat": 4,
 "nbformat_minor": 2
}
